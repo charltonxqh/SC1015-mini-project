{
 "cells": [
  {
   "cell_type": "markdown",
   "metadata": {},
   "source": [
    "# Sentiment Analysis"
   ]
  },
  {
   "cell_type": "markdown",
   "metadata": {},
   "source": [
    "Now, we have our cleaned dataset. We can start do our sentiment analysis on the comments about ```VOO``` from Subreddit ```r/ETFs```."
   ]
  },
  {
   "cell_type": "markdown",
   "metadata": {},
   "source": [
    "### Import Modules"
   ]
  },
  {
   "cell_type": "code",
   "execution_count": 156,
   "metadata": {},
   "outputs": [],
   "source": [
    "import pandas as pd\n",
    "import numpy as np\n",
    "import matplotlib.pyplot as plt\n",
    "\n",
    "import collections\n",
    "\n",
    "import torch\n",
    "import torch.nn as nn\n",
    "import torch.optim as optim\n",
    "import torchtext\n",
    "import tqdm\n",
    "import transformers"
   ]
  },
  {
   "cell_type": "code",
   "execution_count": 157,
   "metadata": {},
   "outputs": [],
   "source": [
    "seed = 8888\n",
    "\n",
    "np.random.seed(seed)\n",
    "torch.manual_seed(seed)\n",
    "torch.cuda.manual_seed(seed)\n",
    "torch.backends.cudnn.deterministic = True"
   ]
  },
  {
   "cell_type": "markdown",
   "metadata": {},
   "source": [
    "### Import the datasets"
   ]
  },
  {
   "cell_type": "code",
   "execution_count": 158,
   "metadata": {},
   "outputs": [
    {
     "data": {
      "text/html": [
       "<div>\n",
       "<style scoped>\n",
       "    .dataframe tbody tr th:only-of-type {\n",
       "        vertical-align: middle;\n",
       "    }\n",
       "\n",
       "    .dataframe tbody tr th {\n",
       "        vertical-align: top;\n",
       "    }\n",
       "\n",
       "    .dataframe thead th {\n",
       "        text-align: right;\n",
       "    }\n",
       "</style>\n",
       "<table border=\"1\" class=\"dataframe\">\n",
       "  <thead>\n",
       "    <tr style=\"text-align: right;\">\n",
       "      <th></th>\n",
       "      <th>author</th>\n",
       "      <th>id</th>\n",
       "      <th>created_utc</th>\n",
       "      <th>permalink</th>\n",
       "      <th>body</th>\n",
       "      <th>score</th>\n",
       "      <th>subreddit</th>\n",
       "    </tr>\n",
       "  </thead>\n",
       "  <tbody>\n",
       "    <tr>\n",
       "      <th>0</th>\n",
       "      <td>lotterytix</td>\n",
       "      <td>kwh3sji</td>\n",
       "      <td>2024-03-25 20:10:23</td>\n",
       "      <td>/r/ETFs/comments/1bmqbxg/new_to_investing_is_v...</td>\n",
       "      <td>Maybe consider VOO and a mid/small cap value f...</td>\n",
       "      <td>1</td>\n",
       "      <td>ETFs</td>\n",
       "    </tr>\n",
       "    <tr>\n",
       "      <th>1</th>\n",
       "      <td>AlgoTradingQuant</td>\n",
       "      <td>kwczgum</td>\n",
       "      <td>2024-03-25 00:51:21</td>\n",
       "      <td>/r/ETFs/comments/1bmoom7/diversifying_my_ira_f...</td>\n",
       "      <td>I’m retired and hold a 100% equities portfolio...</td>\n",
       "      <td>8</td>\n",
       "      <td>ETFs</td>\n",
       "    </tr>\n",
       "    <tr>\n",
       "      <th>2</th>\n",
       "      <td>foldinthechhese</td>\n",
       "      <td>kwdbk25</td>\n",
       "      <td>2024-03-25 02:02:08</td>\n",
       "      <td>/r/ETFs/comments/1bmoom7/diversifying_my_ira_f...</td>\n",
       "      <td>The more experienced investors recommend a ble...</td>\n",
       "      <td>5</td>\n",
       "      <td>ETFs</td>\n",
       "    </tr>\n",
       "    <tr>\n",
       "      <th>3</th>\n",
       "      <td>SirChetManly</td>\n",
       "      <td>kwd6nto</td>\n",
       "      <td>2024-03-25 01:33:43</td>\n",
       "      <td>/r/ETFs/comments/1bmoom7/diversifying_my_ira_f...</td>\n",
       "      <td>It isn't *risky* by any stretch. You're exclud...</td>\n",
       "      <td>2</td>\n",
       "      <td>ETFs</td>\n",
       "    </tr>\n",
       "    <tr>\n",
       "      <th>4</th>\n",
       "      <td>ZAROV8862</td>\n",
       "      <td>kwei3zo</td>\n",
       "      <td>2024-03-25 06:17:54</td>\n",
       "      <td>/r/ETFs/comments/1bmoom7/diversifying_my_ira_f...</td>\n",
       "      <td>Enough said :))</td>\n",
       "      <td>2</td>\n",
       "      <td>ETFs</td>\n",
       "    </tr>\n",
       "  </tbody>\n",
       "</table>\n",
       "</div>"
      ],
      "text/plain": [
       "             author       id          created_utc  \\\n",
       "0        lotterytix  kwh3sji  2024-03-25 20:10:23   \n",
       "1  AlgoTradingQuant  kwczgum  2024-03-25 00:51:21   \n",
       "2   foldinthechhese  kwdbk25  2024-03-25 02:02:08   \n",
       "3      SirChetManly  kwd6nto  2024-03-25 01:33:43   \n",
       "4         ZAROV8862  kwei3zo  2024-03-25 06:17:54   \n",
       "\n",
       "                                           permalink  \\\n",
       "0  /r/ETFs/comments/1bmqbxg/new_to_investing_is_v...   \n",
       "1  /r/ETFs/comments/1bmoom7/diversifying_my_ira_f...   \n",
       "2  /r/ETFs/comments/1bmoom7/diversifying_my_ira_f...   \n",
       "3  /r/ETFs/comments/1bmoom7/diversifying_my_ira_f...   \n",
       "4  /r/ETFs/comments/1bmoom7/diversifying_my_ira_f...   \n",
       "\n",
       "                                                body  score subreddit  \n",
       "0  Maybe consider VOO and a mid/small cap value f...      1      ETFs  \n",
       "1  I’m retired and hold a 100% equities portfolio...      8      ETFs  \n",
       "2  The more experienced investors recommend a ble...      5      ETFs  \n",
       "3  It isn't *risky* by any stretch. You're exclud...      2      ETFs  \n",
       "4                                    Enough said :))      2      ETFs  "
      ]
     },
     "execution_count": 158,
     "metadata": {},
     "output_type": "execute_result"
    }
   ],
   "source": [
    "cmts_voo = pd.read_csv('../datasets/cleaned_cmts_voo.csv')\n",
    "cmts_voo.head()"
   ]
  },
  {
   "cell_type": "markdown",
   "metadata": {},
   "source": [
    "### Using Transformer Model in Sentiment Analysis"
   ]
  },
  {
   "cell_type": "markdown",
   "metadata": {},
   "source": [
    "We will be using ```BERT-Base-Uncased``` model. "
   ]
  },
  {
   "cell_type": "markdown",
   "metadata": {},
   "source": [
    "```BERT```: BERT stands for Bidirectional Encoder Representations from Transformers. It's a groundbreaking model introduced by Google in 2018 that revolutionized the field of natural language processing (NLP). BERT is known for its deep understanding of language context, which it achieves through its transformer architecture."
   ]
  },
  {
   "cell_type": "markdown",
   "metadata": {},
   "source": [
    "```Base```: The \"base\" in \"bert-base-uncased\" indicates the size of the model. BERT typically comes in two sizes: base and large. The base model is smaller and faster, making it more practical for many applications, though the large model generally performs better on NLP tasks. The base model has 110 million parameters, while the large model has 340 million."
   ]
  },
  {
   "cell_type": "markdown",
   "metadata": {},
   "source": [
    "```Uncased```: This specifies that the model was trained on text that has been converted to lowercase, meaning the model does not differentiate between uppercase and lowercase letters. This is in contrast to a \"cased\" model, which is sensitive to letter casing. For instance, in a cased model, \"Hello\" and \"hello\" would be treated differently, whereas they would be treated the same in an uncased model."
   ]
  },
  {
   "cell_type": "markdown",
   "metadata": {},
   "source": [
    "The tokenizer we used here is ```AutoTokenizer``` from ```Hugging Face```. \n",
    "More detail can check at https://huggingface.co/docs/transformers/v4.39.2/en/autoclass_tutorial#autotokenizer"
   ]
  },
  {
   "cell_type": "code",
   "execution_count": 161,
   "metadata": {},
   "outputs": [
    {
     "name": "stderr",
     "output_type": "stream",
     "text": [
      "Token indices sequence length is longer than the specified maximum sequence length for this model (1224 > 512). Running this sequence through the model will result in indexing errors\n"
     ]
    },
    {
     "data": {
      "image/png": "[encoded data removed]",
      "text/plain": [
       "<Figure size 640x480 with 1 Axes>"
      ]
     },
     "metadata": {},
     "output_type": "display_data"
    }
   ],
   "source": [
    "from transformers import AutoTokenizer\n",
    "import matplotlib.pyplot as plt\n",
    "\n",
    "transformer_name = \"bert-base-uncased\"\n",
    "\n",
    "tokenizer = AutoTokenizer.from_pretrained(transformer_name)\n",
    "\n",
    "lengths = cmts['body'].apply(lambda x: len(tokenizer.tokenize(x)))\n",
    "\n",
    "plt.hist(lengths, bins=30)\n",
    "plt.xlabel('Sequence Length')\n",
    "plt.ylabel('Number of Sequences')\n",
    "plt.show()"
   ]
  },
  {
   "cell_type": "code",
   "execution_count": 162,
   "metadata": {},
   "outputs": [],
   "source": [
    "max_length = 512\n",
    "\n",
    "tokenized_input = cmts['body'].apply(lambda x: tokenizer(x, truncation=True, padding='max_length', max_length=max_length))"
   ]
  },
  {
   "cell_type": "markdown",
   "metadata": {},
   "source": [
    "Here is an example of tokenization and numericalization. "
   ]
  },
  {
   "cell_type": "code",
   "execution_count": 163,
   "metadata": {},
   "outputs": [
    {
     "data": {
      "text/plain": [
       "['we', 'are', 'doing', 'sentiment', 'analysis', '!']"
      ]
     },
     "execution_count": 163,
     "metadata": {},
     "output_type": "execute_result"
    }
   ],
   "source": [
    "tokenizer.tokenize(\"We are doing sentiment analysis!\")"
   ]
  },
  {
   "cell_type": "code",
   "execution_count": 164,
   "metadata": {},
   "outputs": [
    {
     "data": {
      "text/plain": [
       "[101, 2057, 2024, 2725, 15792, 4106, 999, 102]"
      ]
     },
     "execution_count": 164,
     "metadata": {},
     "output_type": "execute_result"
    }
   ],
   "source": [
    "tokenizer.encode(\"We are doing sentiment analysis!\")"
   ]
  },
  {
   "cell_type": "code",
   "execution_count": 165,
   "metadata": {},
   "outputs": [
    {
     "data": {
      "text/plain": [
       "['[CLS]', 'we', 'are', 'doing', 'sentiment', 'analysis', '!', '[SEP]']"
      ]
     },
     "execution_count": 165,
     "metadata": {},
     "output_type": "execute_result"
    }
   ],
   "source": [
    "tokenizer.convert_ids_to_tokens(tokenizer.encode(\"We are doing sentiment analysis!\"))"
   ]
  },
  {
   "cell_type": "code",
   "execution_count": 166,
   "metadata": {},
   "outputs": [
    {
     "data": {
      "text/plain": [
       "{'input_ids': [101, 2057, 2024, 2725, 15792, 4106, 999, 102], 'token_type_ids': [0, 0, 0, 0, 0, 0, 0, 0], 'attention_mask': [1, 1, 1, 1, 1, 1, 1, 1]}"
      ]
     },
     "execution_count": 166,
     "metadata": {},
     "output_type": "execute_result"
    }
   ],
   "source": [
    "tokenizer(\"We are doing sentiment analysis!\")"
   ]
  },
  {
   "cell_type": "code",
   "execution_count": null,
   "metadata": {},
   "outputs": [],
   "source": []
  }
 ],
 "metadata": {
  "kernelspec": {
   "display_name": "Python 3",
   "language": "python",
   "name": "python3"
  },
  "language_info": {
   "codemirror_mode": {
    "name": "ipython",
    "version": 3
   },
   "file_extension": ".py",
   "mimetype": "text/x-python",
   "name": "python",
   "nbconvert_exporter": "python",
   "pygments_lexer": "ipython3",
   "version": "3.12.2"
  }
 },
 "nbformat": 4,
 "nbformat_minor": 2
}
