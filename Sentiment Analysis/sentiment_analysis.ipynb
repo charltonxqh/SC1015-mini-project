{
 "cells": [
  {
   "cell_type": "markdown",
   "metadata": {},
   "source": [
    "# Sentiment Analysis"
   ]
  },
  {
   "cell_type": "markdown",
   "metadata": {},
   "source": [
    "Now, we have our cleaned dataset. We can start do our sentiment analysis on the comments about ```VOO``` from Subreddit ```r/ETFs```."
   ]
  },
  {
   "cell_type": "markdown",
   "metadata": {},
   "source": [
    "### Import Modules"
   ]
  },
  {
   "cell_type": "code",
   "execution_count": 72,
   "metadata": {},
   "outputs": [],
   "source": [
    "import pandas as pd\n",
    "import numpy as np\n",
    "import matplotlib.pyplot as plt\n",
    "\n",
    "import collections\n",
    "\n",
    "import torch\n",
    "import torch.nn as nn\n",
    "import torch.optim as optim\n",
    "import torchtext\n",
    "import tqdm\n",
    "import transformers"
   ]
  },
  {
   "cell_type": "code",
   "execution_count": 73,
   "metadata": {},
   "outputs": [],
   "source": [
    "seed = 8888\n",
    "\n",
    "np.random.seed(seed)\n",
    "torch.manual_seed(seed)\n",
    "torch.cuda.manual_seed(seed)\n",
    "torch.backends.cudnn.deterministic = True"
   ]
  },
  {
   "cell_type": "markdown",
   "metadata": {},
   "source": [
    "### Import the datasets"
   ]
  },
  {
   "cell_type": "code",
   "execution_count": 74,
   "metadata": {},
   "outputs": [
    {
     "data": {
      "text/html": [
       "<div>\n",
       "<style scoped>\n",
       "    .dataframe tbody tr th:only-of-type {\n",
       "        vertical-align: middle;\n",
       "    }\n",
       "\n",
       "    .dataframe tbody tr th {\n",
       "        vertical-align: top;\n",
       "    }\n",
       "\n",
       "    .dataframe thead th {\n",
       "        text-align: right;\n",
       "    }\n",
       "</style>\n",
       "<table border=\"1\" class=\"dataframe\">\n",
       "  <thead>\n",
       "    <tr style=\"text-align: right;\">\n",
       "      <th></th>\n",
       "      <th>author</th>\n",
       "      <th>id</th>\n",
       "      <th>created_utc</th>\n",
       "      <th>permalink</th>\n",
       "      <th>body</th>\n",
       "      <th>score</th>\n",
       "      <th>subreddit</th>\n",
       "    </tr>\n",
       "  </thead>\n",
       "  <tbody>\n",
       "    <tr>\n",
       "      <th>0</th>\n",
       "      <td>lotterytix</td>\n",
       "      <td>kwh3sji</td>\n",
       "      <td>2024-03-25 20:10:23</td>\n",
       "      <td>/r/ETFs/comments/1bmqbxg/new_to_investing_is_v...</td>\n",
       "      <td>Maybe consider VOO and a mid/small cap value f...</td>\n",
       "      <td>1</td>\n",
       "      <td>ETFs</td>\n",
       "    </tr>\n",
       "    <tr>\n",
       "      <th>1</th>\n",
       "      <td>AlgoTradingQuant</td>\n",
       "      <td>kwczgum</td>\n",
       "      <td>2024-03-25 00:51:21</td>\n",
       "      <td>/r/ETFs/comments/1bmoom7/diversifying_my_ira_f...</td>\n",
       "      <td>I’m retired and hold a 100% equities portfolio...</td>\n",
       "      <td>8</td>\n",
       "      <td>ETFs</td>\n",
       "    </tr>\n",
       "    <tr>\n",
       "      <th>2</th>\n",
       "      <td>foldinthechhese</td>\n",
       "      <td>kwdbk25</td>\n",
       "      <td>2024-03-25 02:02:08</td>\n",
       "      <td>/r/ETFs/comments/1bmoom7/diversifying_my_ira_f...</td>\n",
       "      <td>The more experienced investors recommend a ble...</td>\n",
       "      <td>5</td>\n",
       "      <td>ETFs</td>\n",
       "    </tr>\n",
       "    <tr>\n",
       "      <th>3</th>\n",
       "      <td>SirChetManly</td>\n",
       "      <td>kwd6nto</td>\n",
       "      <td>2024-03-25 01:33:43</td>\n",
       "      <td>/r/ETFs/comments/1bmoom7/diversifying_my_ira_f...</td>\n",
       "      <td>It isn't *risky* by any stretch. You're exclud...</td>\n",
       "      <td>2</td>\n",
       "      <td>ETFs</td>\n",
       "    </tr>\n",
       "    <tr>\n",
       "      <th>4</th>\n",
       "      <td>ZAROV8862</td>\n",
       "      <td>kwei3zo</td>\n",
       "      <td>2024-03-25 06:17:54</td>\n",
       "      <td>/r/ETFs/comments/1bmoom7/diversifying_my_ira_f...</td>\n",
       "      <td>Enough said :))</td>\n",
       "      <td>2</td>\n",
       "      <td>ETFs</td>\n",
       "    </tr>\n",
       "  </tbody>\n",
       "</table>\n",
       "</div>"
      ],
      "text/plain": [
       "             author       id          created_utc  \\\n",
       "0        lotterytix  kwh3sji  2024-03-25 20:10:23   \n",
       "1  AlgoTradingQuant  kwczgum  2024-03-25 00:51:21   \n",
       "2   foldinthechhese  kwdbk25  2024-03-25 02:02:08   \n",
       "3      SirChetManly  kwd6nto  2024-03-25 01:33:43   \n",
       "4         ZAROV8862  kwei3zo  2024-03-25 06:17:54   \n",
       "\n",
       "                                           permalink  \\\n",
       "0  /r/ETFs/comments/1bmqbxg/new_to_investing_is_v...   \n",
       "1  /r/ETFs/comments/1bmoom7/diversifying_my_ira_f...   \n",
       "2  /r/ETFs/comments/1bmoom7/diversifying_my_ira_f...   \n",
       "3  /r/ETFs/comments/1bmoom7/diversifying_my_ira_f...   \n",
       "4  /r/ETFs/comments/1bmoom7/diversifying_my_ira_f...   \n",
       "\n",
       "                                                body  score subreddit  \n",
       "0  Maybe consider VOO and a mid/small cap value f...      1      ETFs  \n",
       "1  I’m retired and hold a 100% equities portfolio...      8      ETFs  \n",
       "2  The more experienced investors recommend a ble...      5      ETFs  \n",
       "3  It isn't *risky* by any stretch. You're exclud...      2      ETFs  \n",
       "4                                    Enough said :))      2      ETFs  "
      ]
     },
     "execution_count": 74,
     "metadata": {},
     "output_type": "execute_result"
    }
   ],
   "source": [
    "cmts_voo = pd.read_csv('../datasets/cleaned_cmts_voo.csv')\n",
    "cmts_voo.head()"
   ]
  },
  {
   "cell_type": "markdown",
   "metadata": {},
   "source": [
    "### Using Transformer Model in Sentiment Analysis"
   ]
  },
  {
   "cell_type": "markdown",
   "metadata": {},
   "source": [
    "We will be using ```BERT-Base-Uncased``` model. "
   ]
  },
  {
   "cell_type": "markdown",
   "metadata": {},
   "source": [
    "```BERT```: BERT stands for Bidirectional Encoder Representations from Transformers. It's a groundbreaking model introduced by Google in 2018 that revolutionized the field of natural language processing (NLP). BERT is known for its deep understanding of language context, which it achieves through its transformer architecture."
   ]
  },
  {
   "cell_type": "markdown",
   "metadata": {},
   "source": [
    "```Base```: The \"base\" in \"bert-base-uncased\" indicates the size of the model. BERT typically comes in two sizes: base and large. The base model is smaller and faster, making it more practical for many applications, though the large model generally performs better on NLP tasks. The base model has 110 million parameters, while the large model has 340 million."
   ]
  },
  {
   "cell_type": "markdown",
   "metadata": {},
   "source": [
    "```Uncased```: This specifies that the model was trained on text that has been converted to lowercase, meaning the model does not differentiate between uppercase and lowercase letters. This is in contrast to a \"cased\" model, which is sensitive to letter casing. For instance, in a cased model, \"Hello\" and \"hello\" would be treated differently, whereas they would be treated the same in an uncased model."
   ]
  },
  {
   "cell_type": "markdown",
   "metadata": {},
   "source": [
    "The tokenizer we used here is ```AutoTokenizer``` from ```Hugging Face```. \n",
    "More detail can check at https://huggingface.co/docs/transformers/v4.39.2/en/autoclass_tutorial#autotokenizer"
   ]
  },
  {
   "cell_type": "code",
   "execution_count": 75,
   "metadata": {},
   "outputs": [
    {
     "name": "stderr",
     "output_type": "stream",
     "text": [
      "No model was supplied, defaulted to distilbert/distilbert-base-uncased-finetuned-sst-2-english and revision af0f99b (https://huggingface.co/distilbert/distilbert-base-uncased-finetuned-sst-2-english).\n",
      "Using a pipeline without specifying a model name and revision in production is not recommended.\n"
     ]
    }
   ],
   "source": [
    "from transformers import pipeline\n",
    "\n",
    "classifier = pipeline(\"sentiment-analysis\")"
   ]
  },
  {
   "cell_type": "code",
   "execution_count": 76,
   "metadata": {},
   "outputs": [],
   "source": [
    "sentence_pos = \"Stock price of VOO will go higher\"\n",
    "sentence_neg = \"Never ever buy VOO\""
   ]
  },
  {
   "cell_type": "code",
   "execution_count": 77,
   "metadata": {},
   "outputs": [
    {
     "data": {
      "text/plain": [
       "([{'label': 'POSITIVE', 'score': 0.5957298278808594}],\n",
       " [{'label': 'NEGATIVE', 'score': 0.9967347979545593}])"
      ]
     },
     "execution_count": 77,
     "metadata": {},
     "output_type": "execute_result"
    }
   ],
   "source": [
    "classifier(sentence_pos), classifier(sentence_neg)"
   ]
  },
  {
   "cell_type": "code",
   "execution_count": 78,
   "metadata": {},
   "outputs": [],
   "source": [
    "from transformers import AutoTokenizer, AutoModelForSequenceClassification\n",
    "model_name = 'distilbert-base-uncased-finetuned-sst-2-english'\n",
    "pt_model = AutoModelForSequenceClassification.from_pretrained(model_name)"
   ]
  },
  {
   "cell_type": "code",
   "execution_count": 79,
   "metadata": {},
   "outputs": [],
   "source": [
    "tokenizer = AutoTokenizer.from_pretrained(model_name)"
   ]
  },
  {
   "cell_type": "code",
   "execution_count": 80,
   "metadata": {},
   "outputs": [],
   "source": [
    "inputs_pos, inputs_neg = tokenizer(sentence_pos), tokenizer(sentence_neg)"
   ]
  },
  {
   "cell_type": "code",
   "execution_count": 81,
   "metadata": {},
   "outputs": [
    {
     "data": {
      "text/plain": [
       "({'input_ids': [101, 4518, 3976, 1997, 29536, 2080, 2097, 2175, 3020, 102], 'attention_mask': [1, 1, 1, 1, 1, 1, 1, 1, 1, 1]},\n",
       " {'input_ids': [101, 2196, 2412, 4965, 29536, 2080, 102], 'attention_mask': [1, 1, 1, 1, 1, 1, 1]})"
      ]
     },
     "execution_count": 81,
     "metadata": {},
     "output_type": "execute_result"
    }
   ],
   "source": [
    "inputs_pos, inputs_neg"
   ]
  },
  {
   "cell_type": "code",
   "execution_count": 82,
   "metadata": {},
   "outputs": [
    {
     "data": {
      "text/plain": [
       "['vo', '##o']"
      ]
     },
     "execution_count": 82,
     "metadata": {},
     "output_type": "execute_result"
    }
   ],
   "source": [
    "tokenizer.convert_ids_to_tokens([29536, 2080])"
   ]
  },
  {
   "cell_type": "code",
   "execution_count": 83,
   "metadata": {},
   "outputs": [],
   "source": [
    "pt_batch = tokenizer(\n",
    "    [sentence_pos, sentence_neg], \n",
    "    padding=True, \n",
    "    truncation=True,\n",
    "    max_length=512,\n",
    "    return_tensors=\"pt\"\n",
    ")"
   ]
  },
  {
   "cell_type": "code",
   "execution_count": 84,
   "metadata": {},
   "outputs": [
    {
     "data": {
      "text/plain": [
       "{'input_ids': tensor([[  101,  4518,  3976,  1997, 29536,  2080,  2097,  2175,  3020,   102],\n",
       "        [  101,  2196,  2412,  4965, 29536,  2080,   102,     0,     0,     0]]), 'attention_mask': tensor([[1, 1, 1, 1, 1, 1, 1, 1, 1, 1],\n",
       "        [1, 1, 1, 1, 1, 1, 1, 0, 0, 0]])}"
      ]
     },
     "execution_count": 84,
     "metadata": {},
     "output_type": "execute_result"
    }
   ],
   "source": [
    "pt_batch"
   ]
  },
  {
   "cell_type": "code",
   "execution_count": 85,
   "metadata": {},
   "outputs": [],
   "source": [
    "pt_outputs = pt_model(**pt_batch)"
   ]
  },
  {
   "cell_type": "code",
   "execution_count": 86,
   "metadata": {},
   "outputs": [
    {
     "data": {
      "text/plain": [
       "SequenceClassifierOutput(loss=None, logits=tensor([[-0.1119,  0.2758],\n",
       "        [ 3.1458, -2.5754]], grad_fn=<AddmmBackward0>), hidden_states=None, attentions=None)"
      ]
     },
     "execution_count": 86,
     "metadata": {},
     "output_type": "execute_result"
    }
   ],
   "source": [
    "pt_outputs"
   ]
  },
  {
   "cell_type": "code",
   "execution_count": 87,
   "metadata": {},
   "outputs": [],
   "source": [
    "from transformers import AutoTokenizer, AutoModelForSequenceClassification\n",
    "import torch\n",
    "\n",
    "model_name = 'distilbert-base-uncased-finetuned-sst-2-english'\n",
    "\n",
    "pt_model = AutoModelForSequenceClassification.from_pretrained(model_name)\n",
    "tokenizer = AutoTokenizer.from_pretrained(model_name)\n",
    "\n",
    "def get_label_and_score(output):\n",
    "    # Apply softmax to output logits\n",
    "    probabilities = torch.nn.functional.softmax(output.logits, dim=-1)\n",
    "\n",
    "    # Get the predicted label (0 or 1) based on the highest probability\n",
    "    label = torch.argmax(probabilities, dim=-1).item()\n",
    "\n",
    "    # Get the probability score for the predicted label\n",
    "    score = probabilities[0][label].item()\n",
    "\n",
    "    return label, score\n",
    "\n",
    "results = []\n",
    "\n",
    "for comment in cmts_voo['body']:\n",
    "    pt_batch = tokenizer(\n",
    "        str(comment), \n",
    "        padding=True, \n",
    "        truncation=True,\n",
    "        max_length=512,\n",
    "        return_tensors=\"pt\"\n",
    "    )\n",
    "    pt_outputs = pt_model(**pt_batch)\n",
    "    label, score = get_label_and_score(pt_outputs)\n",
    "    results.append((label, score))\n",
    "\n",
    "labels, scores = zip(*results)\n",
    "cmts_voo['sentiment_label'] = labels\n",
    "cmts_voo['sentiment_score'] = scores\n"
   ]
  },
  {
   "cell_type": "code",
   "execution_count": 88,
   "metadata": {},
   "outputs": [
    {
     "data": {
      "text/html": [
       "<div>\n",
       "<style scoped>\n",
       "    .dataframe tbody tr th:only-of-type {\n",
       "        vertical-align: middle;\n",
       "    }\n",
       "\n",
       "    .dataframe tbody tr th {\n",
       "        vertical-align: top;\n",
       "    }\n",
       "\n",
       "    .dataframe thead th {\n",
       "        text-align: right;\n",
       "    }\n",
       "</style>\n",
       "<table border=\"1\" class=\"dataframe\">\n",
       "  <thead>\n",
       "    <tr style=\"text-align: right;\">\n",
       "      <th></th>\n",
       "      <th>author</th>\n",
       "      <th>id</th>\n",
       "      <th>created_utc</th>\n",
       "      <th>permalink</th>\n",
       "      <th>body</th>\n",
       "      <th>score</th>\n",
       "      <th>subreddit</th>\n",
       "      <th>sentiment_label</th>\n",
       "      <th>sentiment_score</th>\n",
       "    </tr>\n",
       "  </thead>\n",
       "  <tbody>\n",
       "    <tr>\n",
       "      <th>0</th>\n",
       "      <td>lotterytix</td>\n",
       "      <td>kwh3sji</td>\n",
       "      <td>2024-03-25 20:10:23</td>\n",
       "      <td>/r/ETFs/comments/1bmqbxg/new_to_investing_is_v...</td>\n",
       "      <td>Maybe consider VOO and a mid/small cap value f...</td>\n",
       "      <td>1</td>\n",
       "      <td>ETFs</td>\n",
       "      <td>0</td>\n",
       "      <td>0.990078</td>\n",
       "    </tr>\n",
       "    <tr>\n",
       "      <th>1</th>\n",
       "      <td>AlgoTradingQuant</td>\n",
       "      <td>kwczgum</td>\n",
       "      <td>2024-03-25 00:51:21</td>\n",
       "      <td>/r/ETFs/comments/1bmoom7/diversifying_my_ira_f...</td>\n",
       "      <td>I’m retired and hold a 100% equities portfolio...</td>\n",
       "      <td>8</td>\n",
       "      <td>ETFs</td>\n",
       "      <td>0</td>\n",
       "      <td>0.997071</td>\n",
       "    </tr>\n",
       "    <tr>\n",
       "      <th>2</th>\n",
       "      <td>foldinthechhese</td>\n",
       "      <td>kwdbk25</td>\n",
       "      <td>2024-03-25 02:02:08</td>\n",
       "      <td>/r/ETFs/comments/1bmoom7/diversifying_my_ira_f...</td>\n",
       "      <td>The more experienced investors recommend a ble...</td>\n",
       "      <td>5</td>\n",
       "      <td>ETFs</td>\n",
       "      <td>0</td>\n",
       "      <td>0.860153</td>\n",
       "    </tr>\n",
       "    <tr>\n",
       "      <th>3</th>\n",
       "      <td>SirChetManly</td>\n",
       "      <td>kwd6nto</td>\n",
       "      <td>2024-03-25 01:33:43</td>\n",
       "      <td>/r/ETFs/comments/1bmoom7/diversifying_my_ira_f...</td>\n",
       "      <td>It isn't *risky* by any stretch. You're exclud...</td>\n",
       "      <td>2</td>\n",
       "      <td>ETFs</td>\n",
       "      <td>1</td>\n",
       "      <td>0.993927</td>\n",
       "    </tr>\n",
       "    <tr>\n",
       "      <th>4</th>\n",
       "      <td>ZAROV8862</td>\n",
       "      <td>kwei3zo</td>\n",
       "      <td>2024-03-25 06:17:54</td>\n",
       "      <td>/r/ETFs/comments/1bmoom7/diversifying_my_ira_f...</td>\n",
       "      <td>Enough said :))</td>\n",
       "      <td>2</td>\n",
       "      <td>ETFs</td>\n",
       "      <td>1</td>\n",
       "      <td>0.847568</td>\n",
       "    </tr>\n",
       "  </tbody>\n",
       "</table>\n",
       "</div>"
      ],
      "text/plain": [
       "             author       id          created_utc  \\\n",
       "0        lotterytix  kwh3sji  2024-03-25 20:10:23   \n",
       "1  AlgoTradingQuant  kwczgum  2024-03-25 00:51:21   \n",
       "2   foldinthechhese  kwdbk25  2024-03-25 02:02:08   \n",
       "3      SirChetManly  kwd6nto  2024-03-25 01:33:43   \n",
       "4         ZAROV8862  kwei3zo  2024-03-25 06:17:54   \n",
       "\n",
       "                                           permalink  \\\n",
       "0  /r/ETFs/comments/1bmqbxg/new_to_investing_is_v...   \n",
       "1  /r/ETFs/comments/1bmoom7/diversifying_my_ira_f...   \n",
       "2  /r/ETFs/comments/1bmoom7/diversifying_my_ira_f...   \n",
       "3  /r/ETFs/comments/1bmoom7/diversifying_my_ira_f...   \n",
       "4  /r/ETFs/comments/1bmoom7/diversifying_my_ira_f...   \n",
       "\n",
       "                                                body  score subreddit  \\\n",
       "0  Maybe consider VOO and a mid/small cap value f...      1      ETFs   \n",
       "1  I’m retired and hold a 100% equities portfolio...      8      ETFs   \n",
       "2  The more experienced investors recommend a ble...      5      ETFs   \n",
       "3  It isn't *risky* by any stretch. You're exclud...      2      ETFs   \n",
       "4                                    Enough said :))      2      ETFs   \n",
       "\n",
       "   sentiment_label  sentiment_score  \n",
       "0                0         0.990078  \n",
       "1                0         0.997071  \n",
       "2                0         0.860153  \n",
       "3                1         0.993927  \n",
       "4                1         0.847568  "
      ]
     },
     "execution_count": 88,
     "metadata": {},
     "output_type": "execute_result"
    }
   ],
   "source": [
    "cmts_voo.head()"
   ]
  },
  {
   "cell_type": "code",
   "execution_count": 90,
   "metadata": {},
   "outputs": [
    {
     "data": {
      "text/html": [
       "<div>\n",
       "<style scoped>\n",
       "    .dataframe tbody tr th:only-of-type {\n",
       "        vertical-align: middle;\n",
       "    }\n",
       "\n",
       "    .dataframe tbody tr th {\n",
       "        vertical-align: top;\n",
       "    }\n",
       "\n",
       "    .dataframe thead th {\n",
       "        text-align: right;\n",
       "    }\n",
       "</style>\n",
       "<table border=\"1\" class=\"dataframe\">\n",
       "  <thead>\n",
       "    <tr style=\"text-align: right;\">\n",
       "      <th></th>\n",
       "      <th>created_utc</th>\n",
       "      <th>body</th>\n",
       "      <th>sentiment_label</th>\n",
       "      <th>sentiment_score</th>\n",
       "    </tr>\n",
       "  </thead>\n",
       "  <tbody>\n",
       "    <tr>\n",
       "      <th>0</th>\n",
       "      <td>2024-03-25 20:10:23</td>\n",
       "      <td>Maybe consider VOO and a mid/small cap value f...</td>\n",
       "      <td>0</td>\n",
       "      <td>0.990078</td>\n",
       "    </tr>\n",
       "    <tr>\n",
       "      <th>1</th>\n",
       "      <td>2024-03-25 00:51:21</td>\n",
       "      <td>I’m retired and hold a 100% equities portfolio...</td>\n",
       "      <td>0</td>\n",
       "      <td>0.997071</td>\n",
       "    </tr>\n",
       "    <tr>\n",
       "      <th>2</th>\n",
       "      <td>2024-03-25 02:02:08</td>\n",
       "      <td>The more experienced investors recommend a ble...</td>\n",
       "      <td>0</td>\n",
       "      <td>0.860153</td>\n",
       "    </tr>\n",
       "    <tr>\n",
       "      <th>3</th>\n",
       "      <td>2024-03-25 01:33:43</td>\n",
       "      <td>It isn't *risky* by any stretch. You're exclud...</td>\n",
       "      <td>1</td>\n",
       "      <td>0.993927</td>\n",
       "    </tr>\n",
       "    <tr>\n",
       "      <th>4</th>\n",
       "      <td>2024-03-25 06:17:54</td>\n",
       "      <td>Enough said :))</td>\n",
       "      <td>1</td>\n",
       "      <td>0.847568</td>\n",
       "    </tr>\n",
       "  </tbody>\n",
       "</table>\n",
       "</div>"
      ],
      "text/plain": [
       "           created_utc                                               body  \\\n",
       "0  2024-03-25 20:10:23  Maybe consider VOO and a mid/small cap value f...   \n",
       "1  2024-03-25 00:51:21  I’m retired and hold a 100% equities portfolio...   \n",
       "2  2024-03-25 02:02:08  The more experienced investors recommend a ble...   \n",
       "3  2024-03-25 01:33:43  It isn't *risky* by any stretch. You're exclud...   \n",
       "4  2024-03-25 06:17:54                                    Enough said :))   \n",
       "\n",
       "   sentiment_label  sentiment_score  \n",
       "0                0         0.990078  \n",
       "1                0         0.997071  \n",
       "2                0         0.860153  \n",
       "3                1         0.993927  \n",
       "4                1         0.847568  "
      ]
     },
     "execution_count": 90,
     "metadata": {},
     "output_type": "execute_result"
    }
   ],
   "source": [
    "result = cmts_voo[['created_utc', 'body', 'sentiment_label', 'sentiment_score']]\n",
    "\n",
    "result.head()"
   ]
  },
  {
   "cell_type": "code",
   "execution_count": null,
   "metadata": {},
   "outputs": [],
   "source": []
  }
 ],
 "metadata": {
  "kernelspec": {
   "display_name": "Python 3",
   "language": "python",
   "name": "python3"
  },
  "language_info": {
   "codemirror_mode": {
    "name": "ipython",
    "version": 3
   },
   "file_extension": ".py",
   "mimetype": "text/x-python",
   "name": "python",
   "nbconvert_exporter": "python",
   "pygments_lexer": "ipython3",
   "version": "3.12.2"
  }
 },
 "nbformat": 4,
 "nbformat_minor": 2
}
