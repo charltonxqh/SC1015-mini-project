{
 "cells": [
  {
   "cell_type": "markdown",
   "metadata": {},
   "source": [
    "# Sentiment Analysis"
   ]
  },
  {
   "cell_type": "markdown",
   "metadata": {},
   "source": [
    "Now, we have our cleaned dataset. We can start do our sentiment analysis on the comments about ```VOO``` from Subreddit ```r/ETFs```."
   ]
  },
  {
   "cell_type": "markdown",
   "metadata": {},
   "source": [
    "### Import Modules"
   ]
  },
  {
   "cell_type": "code",
   "execution_count": 91,
   "metadata": {},
   "outputs": [],
   "source": [
    "import pandas as pd\n",
    "import numpy as np\n",
    "import matplotlib.pyplot as plt\n",
    "\n",
    "import collections\n",
    "\n",
    "import torch\n",
    "import torch.nn as nn\n",
    "import torch.optim as optim\n",
    "import torchtext\n",
    "import tqdm\n",
    "import transformers"
   ]
  },
  {
   "cell_type": "code",
   "execution_count": 92,
   "metadata": {},
   "outputs": [],
   "source": [
    "seed = 8888\n",
    "\n",
    "np.random.seed(seed)\n",
    "torch.manual_seed(seed)\n",
    "torch.cuda.manual_seed(seed)\n",
    "torch.backends.cudnn.deterministic = True"
   ]
  },
  {
   "cell_type": "markdown",
   "metadata": {},
   "source": [
    "### Import the datasets"
   ]
  },
  {
   "cell_type": "code",
   "execution_count": 93,
   "metadata": {},
   "outputs": [
    {
     "data": {
      "text/html": [
       "<div>\n",
       "<style scoped>\n",
       "    .dataframe tbody tr th:only-of-type {\n",
       "        vertical-align: middle;\n",
       "    }\n",
       "\n",
       "    .dataframe tbody tr th {\n",
       "        vertical-align: top;\n",
       "    }\n",
       "\n",
       "    .dataframe thead th {\n",
       "        text-align: right;\n",
       "    }\n",
       "</style>\n",
       "<table border=\"1\" class=\"dataframe\">\n",
       "  <thead>\n",
       "    <tr style=\"text-align: right;\">\n",
       "      <th></th>\n",
       "      <th>author</th>\n",
       "      <th>id</th>\n",
       "      <th>created_utc</th>\n",
       "      <th>permalink</th>\n",
       "      <th>body</th>\n",
       "      <th>score</th>\n",
       "      <th>subreddit</th>\n",
       "    </tr>\n",
       "  </thead>\n",
       "  <tbody>\n",
       "    <tr>\n",
       "      <th>0</th>\n",
       "      <td>coinslinger88</td>\n",
       "      <td>kxwqx9i</td>\n",
       "      <td>2024-04-04 04:28:47</td>\n",
       "      <td>/r/ETFs/comments/1buybes/sso_vs_spyvoo/kxwqx9i/</td>\n",
       "      <td>$VOO is for people who hate money</td>\n",
       "      <td>1</td>\n",
       "      <td>ETFs</td>\n",
       "    </tr>\n",
       "    <tr>\n",
       "      <th>1</th>\n",
       "      <td>coinslinger88</td>\n",
       "      <td>kxwr28w</td>\n",
       "      <td>2024-04-04 04:29:32</td>\n",
       "      <td>/r/ETFs/comments/1buvulh/just_starting_brokera...</td>\n",
       "      <td>$VOO is for homeless people</td>\n",
       "      <td>0</td>\n",
       "      <td>ETFs</td>\n",
       "    </tr>\n",
       "    <tr>\n",
       "      <th>2</th>\n",
       "      <td>Key-Mark4536</td>\n",
       "      <td>kxsmrdk</td>\n",
       "      <td>2024-04-03 10:17:45</td>\n",
       "      <td>/r/ETFs/comments/1buf5zo/voo/kxsmrdk/</td>\n",
       "      <td>It's not a bad idea, but it wouldn’t add anyth...</td>\n",
       "      <td>6</td>\n",
       "      <td>ETFs</td>\n",
       "    </tr>\n",
       "    <tr>\n",
       "      <th>3</th>\n",
       "      <td>thefreewheeler</td>\n",
       "      <td>kxsjef1</td>\n",
       "      <td>2024-04-03 09:55:36</td>\n",
       "      <td>/r/ETFs/comments/1buf5zo/voo/kxsjef1/</td>\n",
       "      <td>No. VOO and VTI are nearly identical. Either a...</td>\n",
       "      <td>3</td>\n",
       "      <td>ETFs</td>\n",
       "    </tr>\n",
       "    <tr>\n",
       "      <th>4</th>\n",
       "      <td>Fun_Grapefruit_3416</td>\n",
       "      <td>kxwl2i1</td>\n",
       "      <td>2024-04-04 03:57:51</td>\n",
       "      <td>/r/ETFs/comments/1buf5zo/voo/kxwl2i1/</td>\n",
       "      <td>No. You already have VOO within VTI and the ta...</td>\n",
       "      <td>3</td>\n",
       "      <td>ETFs</td>\n",
       "    </tr>\n",
       "  </tbody>\n",
       "</table>\n",
       "</div>"
      ],
      "text/plain": [
       "                author       id          created_utc  \\\n",
       "0        coinslinger88  kxwqx9i  2024-04-04 04:28:47   \n",
       "1        coinslinger88  kxwr28w  2024-04-04 04:29:32   \n",
       "2         Key-Mark4536  kxsmrdk  2024-04-03 10:17:45   \n",
       "3       thefreewheeler  kxsjef1  2024-04-03 09:55:36   \n",
       "4  Fun_Grapefruit_3416  kxwl2i1  2024-04-04 03:57:51   \n",
       "\n",
       "                                           permalink  \\\n",
       "0    /r/ETFs/comments/1buybes/sso_vs_spyvoo/kxwqx9i/   \n",
       "1  /r/ETFs/comments/1buvulh/just_starting_brokera...   \n",
       "2              /r/ETFs/comments/1buf5zo/voo/kxsmrdk/   \n",
       "3              /r/ETFs/comments/1buf5zo/voo/kxsjef1/   \n",
       "4              /r/ETFs/comments/1buf5zo/voo/kxwl2i1/   \n",
       "\n",
       "                                                body  score subreddit  \n",
       "0                  $VOO is for people who hate money      1      ETFs  \n",
       "1                        $VOO is for homeless people      0      ETFs  \n",
       "2  It's not a bad idea, but it wouldn’t add anyth...      6      ETFs  \n",
       "3  No. VOO and VTI are nearly identical. Either a...      3      ETFs  \n",
       "4  No. You already have VOO within VTI and the ta...      3      ETFs  "
      ]
     },
     "execution_count": 93,
     "metadata": {},
     "output_type": "execute_result"
    }
   ],
   "source": [
    "cmts_voo = pd.read_csv('../datasets/cleaned_cmts_voo.csv')\n",
    "cmts_voo.head()"
   ]
  },
  {
   "cell_type": "markdown",
   "metadata": {},
   "source": [
    "### Using Transformer Model in Sentiment Analysis"
   ]
  },
  {
   "cell_type": "markdown",
   "metadata": {},
   "source": [
    "We will be using ```BERT-Base-Uncased``` model. "
   ]
  },
  {
   "cell_type": "markdown",
   "metadata": {},
   "source": [
    "```BERT```: BERT stands for Bidirectional Encoder Representations from Transformers. It's a groundbreaking model introduced by Google in 2018 that revolutionized the field of natural language processing (NLP). BERT is known for its deep understanding of language context, which it achieves through its transformer architecture."
   ]
  },
  {
   "cell_type": "markdown",
   "metadata": {},
   "source": [
    "```Base```: The \"base\" in \"bert-base-uncased\" indicates the size of the model. BERT typically comes in two sizes: base and large. The base model is smaller and faster, making it more practical for many applications, though the large model generally performs better on NLP tasks. The base model has 110 million parameters, while the large model has 340 million."
   ]
  },
  {
   "cell_type": "markdown",
   "metadata": {},
   "source": [
    "```Uncased```: This specifies that the model was trained on text that has been converted to lowercase, meaning the model does not differentiate between uppercase and lowercase letters. This is in contrast to a \"cased\" model, which is sensitive to letter casing. For instance, in a cased model, \"Hello\" and \"hello\" would be treated differently, whereas they would be treated the same in an uncased model."
   ]
  },
  {
   "cell_type": "markdown",
   "metadata": {},
   "source": [
    "The tokenizer we used here is ```AutoTokenizer``` from ```Hugging Face```. \n",
    "More detail can check at https://huggingface.co/docs/transformers/v4.39.2/en/autoclass_tutorial#autotokenizer"
   ]
  },
  {
   "cell_type": "code",
   "execution_count": 94,
   "metadata": {},
   "outputs": [
    {
     "name": "stderr",
     "output_type": "stream",
     "text": [
      "No model was supplied, defaulted to distilbert/distilbert-base-uncased-finetuned-sst-2-english and revision af0f99b (https://huggingface.co/distilbert/distilbert-base-uncased-finetuned-sst-2-english).\n",
      "Using a pipeline without specifying a model name and revision in production is not recommended.\n"
     ]
    }
   ],
   "source": [
    "from transformers import pipeline\n",
    "\n",
    "classifier = pipeline(\"sentiment-analysis\")"
   ]
  },
  {
   "cell_type": "code",
   "execution_count": 95,
   "metadata": {},
   "outputs": [],
   "source": [
    "sentence_pos = \"Stock price of VOO will go higher\"\n",
    "sentence_neg = \"Never ever buy VOO\""
   ]
  },
  {
   "cell_type": "code",
   "execution_count": 96,
   "metadata": {},
   "outputs": [
    {
     "data": {
      "text/plain": [
       "([{'label': 'POSITIVE', 'score': 0.5957298278808594}],\n",
       " [{'label': 'NEGATIVE', 'score': 0.9967347979545593}])"
      ]
     },
     "execution_count": 96,
     "metadata": {},
     "output_type": "execute_result"
    }
   ],
   "source": [
    "classifier(sentence_pos), classifier(sentence_neg)"
   ]
  },
  {
   "cell_type": "code",
   "execution_count": 97,
   "metadata": {},
   "outputs": [],
   "source": [
    "from transformers import AutoTokenizer, AutoModelForSequenceClassification\n",
    "model_name = 'distilbert-base-uncased-finetuned-sst-2-english'\n",
    "pt_model = AutoModelForSequenceClassification.from_pretrained(model_name)"
   ]
  },
  {
   "cell_type": "code",
   "execution_count": 98,
   "metadata": {},
   "outputs": [],
   "source": [
    "tokenizer = AutoTokenizer.from_pretrained(model_name)"
   ]
  },
  {
   "cell_type": "code",
   "execution_count": 99,
   "metadata": {},
   "outputs": [],
   "source": [
    "inputs_pos, inputs_neg = tokenizer(sentence_pos), tokenizer(sentence_neg)"
   ]
  },
  {
   "cell_type": "code",
   "execution_count": 100,
   "metadata": {},
   "outputs": [
    {
     "data": {
      "text/plain": [
       "({'input_ids': [101, 4518, 3976, 1997, 29536, 2080, 2097, 2175, 3020, 102], 'attention_mask': [1, 1, 1, 1, 1, 1, 1, 1, 1, 1]},\n",
       " {'input_ids': [101, 2196, 2412, 4965, 29536, 2080, 102], 'attention_mask': [1, 1, 1, 1, 1, 1, 1]})"
      ]
     },
     "execution_count": 100,
     "metadata": {},
     "output_type": "execute_result"
    }
   ],
   "source": [
    "inputs_pos, inputs_neg"
   ]
  },
  {
   "cell_type": "code",
   "execution_count": 101,
   "metadata": {},
   "outputs": [
    {
     "data": {
      "text/plain": [
       "['vo', '##o']"
      ]
     },
     "execution_count": 101,
     "metadata": {},
     "output_type": "execute_result"
    }
   ],
   "source": [
    "tokenizer.convert_ids_to_tokens([29536, 2080])"
   ]
  },
  {
   "cell_type": "code",
   "execution_count": 102,
   "metadata": {},
   "outputs": [],
   "source": [
    "pt_batch = tokenizer(\n",
    "    [sentence_pos, sentence_neg], \n",
    "    padding=True, \n",
    "    truncation=True,\n",
    "    max_length=512,\n",
    "    return_tensors=\"pt\"\n",
    ")"
   ]
  },
  {
   "cell_type": "code",
   "execution_count": 103,
   "metadata": {},
   "outputs": [
    {
     "data": {
      "text/plain": [
       "{'input_ids': tensor([[  101,  4518,  3976,  1997, 29536,  2080,  2097,  2175,  3020,   102],\n",
       "        [  101,  2196,  2412,  4965, 29536,  2080,   102,     0,     0,     0]]), 'attention_mask': tensor([[1, 1, 1, 1, 1, 1, 1, 1, 1, 1],\n",
       "        [1, 1, 1, 1, 1, 1, 1, 0, 0, 0]])}"
      ]
     },
     "execution_count": 103,
     "metadata": {},
     "output_type": "execute_result"
    }
   ],
   "source": [
    "pt_batch"
   ]
  },
  {
   "cell_type": "code",
   "execution_count": 104,
   "metadata": {},
   "outputs": [],
   "source": [
    "pt_outputs = pt_model(**pt_batch)"
   ]
  },
  {
   "cell_type": "code",
   "execution_count": 105,
   "metadata": {},
   "outputs": [
    {
     "data": {
      "text/plain": [
       "SequenceClassifierOutput(loss=None, logits=tensor([[-0.1119,  0.2758],\n",
       "        [ 3.1458, -2.5754]], grad_fn=<AddmmBackward0>), hidden_states=None, attentions=None)"
      ]
     },
     "execution_count": 105,
     "metadata": {},
     "output_type": "execute_result"
    }
   ],
   "source": [
    "pt_outputs"
   ]
  },
  {
   "cell_type": "code",
   "execution_count": 106,
   "metadata": {},
   "outputs": [],
   "source": [
    "from transformers import AutoTokenizer, AutoModelForSequenceClassification\n",
    "import torch\n",
    "\n",
    "model_name = 'distilbert-base-uncased-finetuned-sst-2-english'\n",
    "\n",
    "pt_model = AutoModelForSequenceClassification.from_pretrained(model_name)\n",
    "tokenizer = AutoTokenizer.from_pretrained(model_name)\n",
    "\n",
    "def get_label_and_score(output):\n",
    "    # Apply softmax to output logits\n",
    "    probabilities = torch.nn.functional.softmax(output.logits, dim=-1)\n",
    "\n",
    "    # Get the predicted label (0 or 1) based on the highest probability\n",
    "    label = torch.argmax(probabilities, dim=-1).item()\n",
    "\n",
    "    # Get the probability score for the predicted label\n",
    "    score = probabilities[0][label].item()\n",
    "\n",
    "    return label, score\n",
    "\n",
    "results = []\n",
    "\n",
    "for comment in cmts_voo['body']:\n",
    "    pt_batch = tokenizer(\n",
    "        str(comment), \n",
    "        padding=True, \n",
    "        truncation=True,\n",
    "        max_length=512,\n",
    "        return_tensors=\"pt\"\n",
    "    )\n",
    "    pt_outputs = pt_model(**pt_batch)\n",
    "    label, score = get_label_and_score(pt_outputs)\n",
    "    results.append((label, score))\n",
    "\n",
    "labels, scores = zip(*results)\n",
    "cmts_voo['sentiment_label'] = labels\n",
    "cmts_voo['sentiment_score'] = scores\n"
   ]
  },
  {
   "cell_type": "code",
   "execution_count": 107,
   "metadata": {},
   "outputs": [
    {
     "data": {
      "text/html": [
       "<div>\n",
       "<style scoped>\n",
       "    .dataframe tbody tr th:only-of-type {\n",
       "        vertical-align: middle;\n",
       "    }\n",
       "\n",
       "    .dataframe tbody tr th {\n",
       "        vertical-align: top;\n",
       "    }\n",
       "\n",
       "    .dataframe thead th {\n",
       "        text-align: right;\n",
       "    }\n",
       "</style>\n",
       "<table border=\"1\" class=\"dataframe\">\n",
       "  <thead>\n",
       "    <tr style=\"text-align: right;\">\n",
       "      <th></th>\n",
       "      <th>author</th>\n",
       "      <th>id</th>\n",
       "      <th>created_utc</th>\n",
       "      <th>permalink</th>\n",
       "      <th>body</th>\n",
       "      <th>score</th>\n",
       "      <th>subreddit</th>\n",
       "      <th>sentiment_label</th>\n",
       "      <th>sentiment_score</th>\n",
       "    </tr>\n",
       "  </thead>\n",
       "  <tbody>\n",
       "    <tr>\n",
       "      <th>0</th>\n",
       "      <td>coinslinger88</td>\n",
       "      <td>kxwqx9i</td>\n",
       "      <td>2024-04-04 04:28:47</td>\n",
       "      <td>/r/ETFs/comments/1buybes/sso_vs_spyvoo/kxwqx9i/</td>\n",
       "      <td>$VOO is for people who hate money</td>\n",
       "      <td>1</td>\n",
       "      <td>ETFs</td>\n",
       "      <td>0</td>\n",
       "      <td>0.996930</td>\n",
       "    </tr>\n",
       "    <tr>\n",
       "      <th>1</th>\n",
       "      <td>coinslinger88</td>\n",
       "      <td>kxwr28w</td>\n",
       "      <td>2024-04-04 04:29:32</td>\n",
       "      <td>/r/ETFs/comments/1buvulh/just_starting_brokera...</td>\n",
       "      <td>$VOO is for homeless people</td>\n",
       "      <td>0</td>\n",
       "      <td>ETFs</td>\n",
       "      <td>0</td>\n",
       "      <td>0.994917</td>\n",
       "    </tr>\n",
       "    <tr>\n",
       "      <th>2</th>\n",
       "      <td>Key-Mark4536</td>\n",
       "      <td>kxsmrdk</td>\n",
       "      <td>2024-04-03 10:17:45</td>\n",
       "      <td>/r/ETFs/comments/1buf5zo/voo/kxsmrdk/</td>\n",
       "      <td>It's not a bad idea, but it wouldn’t add anyth...</td>\n",
       "      <td>6</td>\n",
       "      <td>ETFs</td>\n",
       "      <td>0</td>\n",
       "      <td>0.996812</td>\n",
       "    </tr>\n",
       "    <tr>\n",
       "      <th>3</th>\n",
       "      <td>thefreewheeler</td>\n",
       "      <td>kxsjef1</td>\n",
       "      <td>2024-04-03 09:55:36</td>\n",
       "      <td>/r/ETFs/comments/1buf5zo/voo/kxsjef1/</td>\n",
       "      <td>No. VOO and VTI are nearly identical. Either a...</td>\n",
       "      <td>3</td>\n",
       "      <td>ETFs</td>\n",
       "      <td>0</td>\n",
       "      <td>0.978397</td>\n",
       "    </tr>\n",
       "    <tr>\n",
       "      <th>4</th>\n",
       "      <td>Fun_Grapefruit_3416</td>\n",
       "      <td>kxwl2i1</td>\n",
       "      <td>2024-04-04 03:57:51</td>\n",
       "      <td>/r/ETFs/comments/1buf5zo/voo/kxwl2i1/</td>\n",
       "      <td>No. You already have VOO within VTI and the ta...</td>\n",
       "      <td>3</td>\n",
       "      <td>ETFs</td>\n",
       "      <td>0</td>\n",
       "      <td>0.999175</td>\n",
       "    </tr>\n",
       "  </tbody>\n",
       "</table>\n",
       "</div>"
      ],
      "text/plain": [
       "                author       id          created_utc  \\\n",
       "0        coinslinger88  kxwqx9i  2024-04-04 04:28:47   \n",
       "1        coinslinger88  kxwr28w  2024-04-04 04:29:32   \n",
       "2         Key-Mark4536  kxsmrdk  2024-04-03 10:17:45   \n",
       "3       thefreewheeler  kxsjef1  2024-04-03 09:55:36   \n",
       "4  Fun_Grapefruit_3416  kxwl2i1  2024-04-04 03:57:51   \n",
       "\n",
       "                                           permalink  \\\n",
       "0    /r/ETFs/comments/1buybes/sso_vs_spyvoo/kxwqx9i/   \n",
       "1  /r/ETFs/comments/1buvulh/just_starting_brokera...   \n",
       "2              /r/ETFs/comments/1buf5zo/voo/kxsmrdk/   \n",
       "3              /r/ETFs/comments/1buf5zo/voo/kxsjef1/   \n",
       "4              /r/ETFs/comments/1buf5zo/voo/kxwl2i1/   \n",
       "\n",
       "                                                body  score subreddit  \\\n",
       "0                  $VOO is for people who hate money      1      ETFs   \n",
       "1                        $VOO is for homeless people      0      ETFs   \n",
       "2  It's not a bad idea, but it wouldn’t add anyth...      6      ETFs   \n",
       "3  No. VOO and VTI are nearly identical. Either a...      3      ETFs   \n",
       "4  No. You already have VOO within VTI and the ta...      3      ETFs   \n",
       "\n",
       "   sentiment_label  sentiment_score  \n",
       "0                0         0.996930  \n",
       "1                0         0.994917  \n",
       "2                0         0.996812  \n",
       "3                0         0.978397  \n",
       "4                0         0.999175  "
      ]
     },
     "execution_count": 107,
     "metadata": {},
     "output_type": "execute_result"
    }
   ],
   "source": [
    "cmts_voo.head()"
   ]
  },
  {
   "cell_type": "code",
   "execution_count": 113,
   "metadata": {},
   "outputs": [
    {
     "data": {
      "text/html": [
       "<div>\n",
       "<style scoped>\n",
       "    .dataframe tbody tr th:only-of-type {\n",
       "        vertical-align: middle;\n",
       "    }\n",
       "\n",
       "    .dataframe tbody tr th {\n",
       "        vertical-align: top;\n",
       "    }\n",
       "\n",
       "    .dataframe thead th {\n",
       "        text-align: right;\n",
       "    }\n",
       "</style>\n",
       "<table border=\"1\" class=\"dataframe\">\n",
       "  <thead>\n",
       "    <tr style=\"text-align: right;\">\n",
       "      <th></th>\n",
       "      <th>created_utc</th>\n",
       "      <th>body</th>\n",
       "      <th>sentiment_label</th>\n",
       "      <th>sentiment_score</th>\n",
       "    </tr>\n",
       "  </thead>\n",
       "  <tbody>\n",
       "    <tr>\n",
       "      <th>0</th>\n",
       "      <td>2024-04-04 04:28:47</td>\n",
       "      <td>$VOO is for people who hate money</td>\n",
       "      <td>0</td>\n",
       "      <td>0.996930</td>\n",
       "    </tr>\n",
       "    <tr>\n",
       "      <th>1</th>\n",
       "      <td>2024-04-04 04:29:32</td>\n",
       "      <td>$VOO is for homeless people</td>\n",
       "      <td>0</td>\n",
       "      <td>0.994917</td>\n",
       "    </tr>\n",
       "    <tr>\n",
       "      <th>2</th>\n",
       "      <td>2024-04-03 10:17:45</td>\n",
       "      <td>It's not a bad idea, but it wouldn’t add anyth...</td>\n",
       "      <td>0</td>\n",
       "      <td>0.996812</td>\n",
       "    </tr>\n",
       "    <tr>\n",
       "      <th>3</th>\n",
       "      <td>2024-04-03 09:55:36</td>\n",
       "      <td>No. VOO and VTI are nearly identical. Either a...</td>\n",
       "      <td>0</td>\n",
       "      <td>0.978397</td>\n",
       "    </tr>\n",
       "    <tr>\n",
       "      <th>4</th>\n",
       "      <td>2024-04-04 03:57:51</td>\n",
       "      <td>No. You already have VOO within VTI and the ta...</td>\n",
       "      <td>0</td>\n",
       "      <td>0.999175</td>\n",
       "    </tr>\n",
       "  </tbody>\n",
       "</table>\n",
       "</div>"
      ],
      "text/plain": [
       "           created_utc                                               body  \\\n",
       "0  2024-04-04 04:28:47                  $VOO is for people who hate money   \n",
       "1  2024-04-04 04:29:32                        $VOO is for homeless people   \n",
       "2  2024-04-03 10:17:45  It's not a bad idea, but it wouldn’t add anyth...   \n",
       "3  2024-04-03 09:55:36  No. VOO and VTI are nearly identical. Either a...   \n",
       "4  2024-04-04 03:57:51  No. You already have VOO within VTI and the ta...   \n",
       "\n",
       "   sentiment_label  sentiment_score  \n",
       "0                0         0.996930  \n",
       "1                0         0.994917  \n",
       "2                0         0.996812  \n",
       "3                0         0.978397  \n",
       "4                0         0.999175  "
      ]
     },
     "execution_count": 113,
     "metadata": {},
     "output_type": "execute_result"
    }
   ],
   "source": [
    "result = cmts_voo[['created_utc', 'body', 'sentiment_label', 'sentiment_score']]\n",
    "\n",
    "result.head()"
   ]
  },
  {
   "cell_type": "code",
   "execution_count": null,
   "metadata": {},
   "outputs": [],
   "source": []
  }
 ],
 "metadata": {
  "kernelspec": {
   "display_name": "Python 3",
   "language": "python",
   "name": "python3"
  },
  "language_info": {
   "codemirror_mode": {
    "name": "ipython",
    "version": 3
   },
   "file_extension": ".py",
   "mimetype": "text/x-python",
   "name": "python",
   "nbconvert_exporter": "python",
   "pygments_lexer": "ipython3",
   "version": "3.12.2"
  }
 },
 "nbformat": 4,
 "nbformat_minor": 2
}
