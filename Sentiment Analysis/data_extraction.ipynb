{
 "cells": [
  {
   "cell_type": "markdown",
   "metadata": {},
   "source": [
    "# Data Extraction"
   ]
  },
  {
   "cell_type": "code",
   "execution_count": 8,
   "metadata": {},
   "outputs": [],
   "source": [
    "import pandas as pd\n",
    "import numpy as np\n",
    "import matplotlib.pyplot as plt\n",
    "import seaborn as sns\n",
    "\n",
    "import praw\n",
    "from psaw import PushshiftAPI\n",
    "from datetime import datetime as dt\n",
    "import time"
   ]
  },
  {
   "cell_type": "code",
   "execution_count": 9,
   "metadata": {},
   "outputs": [],
   "source": [
    "client_id = \"IHRxOIozokYZBI-72YpKfw\"\n",
    "client_secret = \"a19KLEDV6oxrBZXz3FZ_h-2VtU_nIw\"\n",
    "user_agent = \"Scraper 1.0 by /u/sc1015miniproject\""
   ]
  },
  {
   "cell_type": "code",
   "execution_count": 10,
   "metadata": {},
   "outputs": [],
   "source": [
    "def setup_reddit_client(client_id, client_secret, user_agent):\n",
    "    return praw.Reddit(client_id=client_id, client_secret=client_secret, user_agent=user_agent)\n",
    "\n",
    "def extract_comments_voo(reddit, subreddit_name, keyword, limit=1000):\n",
    "    \"\"\"\n",
    "    Extract comments from the specified subreddit for submissions containing the keyword 'VOO'.\n",
    "    Limit the number of comments to 1000.\n",
    "    \"\"\"\n",
    "    subreddit = reddit.subreddit(subreddit_name)\n",
    "    comments_data = []\n",
    "    comment_count = 0\n",
    "\n",
    "    for submission in subreddit.search(keyword, sort='new'):\n",
    "        # Check if the submission title contains the keyword\n",
    "        if keyword.lower() in submission.title.lower():\n",
    "            submission.comments.replace_more(limit=None)\n",
    "            for comment in submission.comments.list():\n",
    "                if comment_count >= limit:\n",
    "                    break\n",
    "\n",
    "                if keyword.lower() in comment.body.lower():\n",
    "                    comment_data = {\n",
    "                        'author': str(comment.author),\n",
    "                        'id': comment.id,\n",
    "                        'created_utc': dt.fromtimestamp(comment.created_utc),\n",
    "                        'permalink': comment.permalink,\n",
    "                        'body': comment.body,\n",
    "                        'score': comment.score,\n",
    "                        'subreddit': str(comment.subreddit)\n",
    "                    }\n",
    "                    comments_data.append(comment_data)\n",
    "                    comment_count += 1\n",
    "\n",
    "        if comment_count >= limit:\n",
    "            break\n",
    "\n",
    "    return comments_data"
   ]
  },
  {
   "cell_type": "code",
   "execution_count": 11,
   "metadata": {},
   "outputs": [],
   "source": [
    "# Initialize and extract comments\n",
    "reddit = setup_reddit_client(client_id, client_secret, user_agent)\n",
    "comments = extract_comments_voo(reddit, \"ETFs\", \"VOO\")\n",
    "comments_voo_df = pd.DataFrame(comments)"
   ]
  },
  {
   "cell_type": "code",
   "execution_count": 12,
   "metadata": {},
   "outputs": [
    {
     "data": {
      "text/html": [
       "<div>\n",
       "<style scoped>\n",
       "    .dataframe tbody tr th:only-of-type {\n",
       "        vertical-align: middle;\n",
       "    }\n",
       "\n",
       "    .dataframe tbody tr th {\n",
       "        vertical-align: top;\n",
       "    }\n",
       "\n",
       "    .dataframe thead th {\n",
       "        text-align: right;\n",
       "    }\n",
       "</style>\n",
       "<table border=\"1\" class=\"dataframe\">\n",
       "  <thead>\n",
       "    <tr style=\"text-align: right;\">\n",
       "      <th></th>\n",
       "      <th>author</th>\n",
       "      <th>id</th>\n",
       "      <th>created_utc</th>\n",
       "      <th>permalink</th>\n",
       "      <th>body</th>\n",
       "      <th>score</th>\n",
       "      <th>subreddit</th>\n",
       "    </tr>\n",
       "  </thead>\n",
       "  <tbody>\n",
       "    <tr>\n",
       "      <th>0</th>\n",
       "      <td>coinslinger88</td>\n",
       "      <td>kxwqx9i</td>\n",
       "      <td>2024-04-04 04:28:47</td>\n",
       "      <td>/r/ETFs/comments/1buybes/sso_vs_spyvoo/kxwqx9i/</td>\n",
       "      <td>$VOO is for people who hate money</td>\n",
       "      <td>1</td>\n",
       "      <td>ETFs</td>\n",
       "    </tr>\n",
       "    <tr>\n",
       "      <th>1</th>\n",
       "      <td>coinslinger88</td>\n",
       "      <td>kxwr28w</td>\n",
       "      <td>2024-04-04 04:29:32</td>\n",
       "      <td>/r/ETFs/comments/1buvulh/just_starting_brokera...</td>\n",
       "      <td>$VOO is for homeless people</td>\n",
       "      <td>0</td>\n",
       "      <td>ETFs</td>\n",
       "    </tr>\n",
       "    <tr>\n",
       "      <th>2</th>\n",
       "      <td>Key-Mark4536</td>\n",
       "      <td>kxsmrdk</td>\n",
       "      <td>2024-04-03 10:17:45</td>\n",
       "      <td>/r/ETFs/comments/1buf5zo/voo/kxsmrdk/</td>\n",
       "      <td>It's not a bad idea, but it wouldn’t add anyth...</td>\n",
       "      <td>6</td>\n",
       "      <td>ETFs</td>\n",
       "    </tr>\n",
       "    <tr>\n",
       "      <th>3</th>\n",
       "      <td>thefreewheeler</td>\n",
       "      <td>kxsjef1</td>\n",
       "      <td>2024-04-03 09:55:36</td>\n",
       "      <td>/r/ETFs/comments/1buf5zo/voo/kxsjef1/</td>\n",
       "      <td>No. VOO and VTI are nearly identical. Either a...</td>\n",
       "      <td>3</td>\n",
       "      <td>ETFs</td>\n",
       "    </tr>\n",
       "    <tr>\n",
       "      <th>4</th>\n",
       "      <td>Fun_Grapefruit_3416</td>\n",
       "      <td>kxwl2i1</td>\n",
       "      <td>2024-04-04 03:57:51</td>\n",
       "      <td>/r/ETFs/comments/1buf5zo/voo/kxwl2i1/</td>\n",
       "      <td>No. You already have VOO within VTI and the ta...</td>\n",
       "      <td>3</td>\n",
       "      <td>ETFs</td>\n",
       "    </tr>\n",
       "  </tbody>\n",
       "</table>\n",
       "</div>"
      ],
      "text/plain": [
       "                author       id         created_utc  \\\n",
       "0        coinslinger88  kxwqx9i 2024-04-04 04:28:47   \n",
       "1        coinslinger88  kxwr28w 2024-04-04 04:29:32   \n",
       "2         Key-Mark4536  kxsmrdk 2024-04-03 10:17:45   \n",
       "3       thefreewheeler  kxsjef1 2024-04-03 09:55:36   \n",
       "4  Fun_Grapefruit_3416  kxwl2i1 2024-04-04 03:57:51   \n",
       "\n",
       "                                           permalink  \\\n",
       "0    /r/ETFs/comments/1buybes/sso_vs_spyvoo/kxwqx9i/   \n",
       "1  /r/ETFs/comments/1buvulh/just_starting_brokera...   \n",
       "2              /r/ETFs/comments/1buf5zo/voo/kxsmrdk/   \n",
       "3              /r/ETFs/comments/1buf5zo/voo/kxsjef1/   \n",
       "4              /r/ETFs/comments/1buf5zo/voo/kxwl2i1/   \n",
       "\n",
       "                                                body  score subreddit  \n",
       "0                  $VOO is for people who hate money      1      ETFs  \n",
       "1                        $VOO is for homeless people      0      ETFs  \n",
       "2  It's not a bad idea, but it wouldn’t add anyth...      6      ETFs  \n",
       "3  No. VOO and VTI are nearly identical. Either a...      3      ETFs  \n",
       "4  No. You already have VOO within VTI and the ta...      3      ETFs  "
      ]
     },
     "execution_count": 12,
     "metadata": {},
     "output_type": "execute_result"
    }
   ],
   "source": [
    "comments_voo_df.head()"
   ]
  },
  {
   "cell_type": "code",
   "execution_count": 13,
   "metadata": {},
   "outputs": [
    {
     "name": "stdout",
     "output_type": "stream",
     "text": [
      "<class 'pandas.core.frame.DataFrame'>\n",
      "RangeIndex: 226 entries, 0 to 225\n",
      "Data columns (total 7 columns):\n",
      " #   Column       Non-Null Count  Dtype         \n",
      "---  ------       --------------  -----         \n",
      " 0   author       226 non-null    object        \n",
      " 1   id           226 non-null    object        \n",
      " 2   created_utc  226 non-null    datetime64[ns]\n",
      " 3   permalink    226 non-null    object        \n",
      " 4   body         226 non-null    object        \n",
      " 5   score        226 non-null    int64         \n",
      " 6   subreddit    226 non-null    object        \n",
      "dtypes: datetime64[ns](1), int64(1), object(5)\n",
      "memory usage: 12.5+ KB\n"
     ]
    }
   ],
   "source": [
    "comments_voo_df.info()"
   ]
  },
  {
   "cell_type": "markdown",
   "metadata": {},
   "source": [
    "### Save the DataFrame as a CSV File."
   ]
  },
  {
   "cell_type": "code",
   "execution_count": 14,
   "metadata": {},
   "outputs": [],
   "source": [
    "comments_voo_df.to_csv('../datasets/reddit_comment_voo.csv', index=False)"
   ]
  },
  {
   "cell_type": "code",
   "execution_count": null,
   "metadata": {},
   "outputs": [],
   "source": []
  }
 ],
 "metadata": {
  "kernelspec": {
   "display_name": "Python 3",
   "language": "python",
   "name": "python3"
  },
  "language_info": {
   "codemirror_mode": {
    "name": "ipython",
    "version": 3
   },
   "file_extension": ".py",
   "mimetype": "text/x-python",
   "name": "python",
   "nbconvert_exporter": "python",
   "pygments_lexer": "ipython3",
   "version": "3.12.2"
  }
 },
 "nbformat": 4,
 "nbformat_minor": 2
}
