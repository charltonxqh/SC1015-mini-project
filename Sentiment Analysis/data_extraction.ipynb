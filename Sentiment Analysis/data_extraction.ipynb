{
 "cells": [
  {
   "cell_type": "markdown",
   "metadata": {},
   "source": [
    "# Data Extraction"
   ]
  },
  {
   "cell_type": "code",
   "execution_count": 2,
   "metadata": {},
   "outputs": [],
   "source": [
    "import pandas as pd\n",
    "import numpy as np\n",
    "import matplotlib.pyplot as plt\n",
    "import seaborn as sns\n",
    "\n",
    "import praw\n",
    "from psaw import PushshiftAPI\n",
    "from datetime import datetime as dt\n",
    "import time"
   ]
  },
  {
   "cell_type": "code",
   "execution_count": 3,
   "metadata": {},
   "outputs": [],
   "source": [
    "client_id = \"Ijfzy88liEKe7iGMHtKORg\"\n",
    "client_secret = \"3kt2_MM5k0AF8PIFXVh32lAr1xEhXg\"\n",
    "user_agent = \"Scraper 1.0 by /u/charltonxqh\""
   ]
  },
  {
   "cell_type": "code",
   "execution_count": 9,
   "metadata": {},
   "outputs": [],
   "source": [
    "def setup_reddit_client(client_id, client_secret, user_agent):\n",
    "    return praw.Reddit(client_id=client_id, client_secret=client_secret, user_agent=user_agent)\n",
    "\n",
    "def extract_comments_voo(reddit, subreddit_name, keyword, limit=1000):\n",
    "    \"\"\"\n",
    "    Extract comments from the specified subreddit for submissions containing the keyword 'VOO'.\n",
    "    Limit the number of comments to 1000.\n",
    "    \"\"\"\n",
    "    subreddit = reddit.subreddit(subreddit_name)\n",
    "    comments_data = []\n",
    "    comment_count = 0\n",
    "\n",
    "    for submission in subreddit.search(keyword, sort='new'):\n",
    "        # Check if the submission title contains the keyword\n",
    "        if keyword.lower() in submission.title.lower():\n",
    "            submission.comments.replace_more(limit=None)\n",
    "            for comment in submission.comments.list():\n",
    "                if comment_count >= limit:\n",
    "                    break\n",
    "\n",
    "                comment_data = {\n",
    "                    'author': str(comment.author),\n",
    "                    'id': comment.id,\n",
    "                    'created_utc': dt.fromtimestamp(comment.created_utc),\n",
    "                    'permalink': comment.permalink,\n",
    "                    'body': comment.body,\n",
    "                    'score': comment.score,\n",
    "                    'subreddit': str(comment.subreddit)\n",
    "                }\n",
    "                comments_data.append(comment_data)\n",
    "                comment_count += 1\n",
    "\n",
    "        if comment_count >= limit:\n",
    "            break\n",
    "\n",
    "    return comments_data"
   ]
  },
  {
   "cell_type": "code",
   "execution_count": 10,
   "metadata": {},
   "outputs": [],
   "source": [
    "# Initialize and extract comments\n",
    "reddit = setup_reddit_client(client_id, client_secret, user_agent)\n",
    "comments = extract_comments_voo(reddit, \"ETFs\", \"VOO\")\n",
    "comments_voo_df = pd.DataFrame(comments)"
   ]
  },
  {
   "cell_type": "code",
   "execution_count": 11,
   "metadata": {},
   "outputs": [
    {
     "data": {
      "text/html": [
       "<div>\n",
       "<style scoped>\n",
       "    .dataframe tbody tr th:only-of-type {\n",
       "        vertical-align: middle;\n",
       "    }\n",
       "\n",
       "    .dataframe tbody tr th {\n",
       "        vertical-align: top;\n",
       "    }\n",
       "\n",
       "    .dataframe thead th {\n",
       "        text-align: right;\n",
       "    }\n",
       "</style>\n",
       "<table border=\"1\" class=\"dataframe\">\n",
       "  <thead>\n",
       "    <tr style=\"text-align: right;\">\n",
       "      <th></th>\n",
       "      <th>author</th>\n",
       "      <th>id</th>\n",
       "      <th>created_utc</th>\n",
       "      <th>permalink</th>\n",
       "      <th>body</th>\n",
       "      <th>score</th>\n",
       "      <th>subreddit</th>\n",
       "    </tr>\n",
       "  </thead>\n",
       "  <tbody>\n",
       "    <tr>\n",
       "      <th>0</th>\n",
       "      <td>lotterytix</td>\n",
       "      <td>kwh3sji</td>\n",
       "      <td>2024-03-25 20:10:23</td>\n",
       "      <td>/r/ETFs/comments/1bmqbxg/new_to_investing_is_v...</td>\n",
       "      <td>Maybe consider VOO and a mid/small cap value f...</td>\n",
       "      <td>1</td>\n",
       "      <td>ETFs</td>\n",
       "    </tr>\n",
       "    <tr>\n",
       "      <th>1</th>\n",
       "      <td>AlgoTradingQuant</td>\n",
       "      <td>kwczgum</td>\n",
       "      <td>2024-03-25 00:51:21</td>\n",
       "      <td>/r/ETFs/comments/1bmoom7/diversifying_my_ira_f...</td>\n",
       "      <td>I’m retired and hold a 100% equities portfolio...</td>\n",
       "      <td>8</td>\n",
       "      <td>ETFs</td>\n",
       "    </tr>\n",
       "    <tr>\n",
       "      <th>2</th>\n",
       "      <td>foldinthechhese</td>\n",
       "      <td>kwdbk25</td>\n",
       "      <td>2024-03-25 02:02:08</td>\n",
       "      <td>/r/ETFs/comments/1bmoom7/diversifying_my_ira_f...</td>\n",
       "      <td>The more experienced investors recommend a ble...</td>\n",
       "      <td>5</td>\n",
       "      <td>ETFs</td>\n",
       "    </tr>\n",
       "    <tr>\n",
       "      <th>3</th>\n",
       "      <td>SirChetManly</td>\n",
       "      <td>kwd6nto</td>\n",
       "      <td>2024-03-25 01:33:43</td>\n",
       "      <td>/r/ETFs/comments/1bmoom7/diversifying_my_ira_f...</td>\n",
       "      <td>It isn't *risky* by any stretch. You're exclud...</td>\n",
       "      <td>2</td>\n",
       "      <td>ETFs</td>\n",
       "    </tr>\n",
       "    <tr>\n",
       "      <th>4</th>\n",
       "      <td>ZAROV8862</td>\n",
       "      <td>kwei3zo</td>\n",
       "      <td>2024-03-25 06:17:54</td>\n",
       "      <td>/r/ETFs/comments/1bmoom7/diversifying_my_ira_f...</td>\n",
       "      <td>Enough said :))</td>\n",
       "      <td>2</td>\n",
       "      <td>ETFs</td>\n",
       "    </tr>\n",
       "  </tbody>\n",
       "</table>\n",
       "</div>"
      ],
      "text/plain": [
       "             author       id         created_utc  \\\n",
       "0        lotterytix  kwh3sji 2024-03-25 20:10:23   \n",
       "1  AlgoTradingQuant  kwczgum 2024-03-25 00:51:21   \n",
       "2   foldinthechhese  kwdbk25 2024-03-25 02:02:08   \n",
       "3      SirChetManly  kwd6nto 2024-03-25 01:33:43   \n",
       "4         ZAROV8862  kwei3zo 2024-03-25 06:17:54   \n",
       "\n",
       "                                           permalink  \\\n",
       "0  /r/ETFs/comments/1bmqbxg/new_to_investing_is_v...   \n",
       "1  /r/ETFs/comments/1bmoom7/diversifying_my_ira_f...   \n",
       "2  /r/ETFs/comments/1bmoom7/diversifying_my_ira_f...   \n",
       "3  /r/ETFs/comments/1bmoom7/diversifying_my_ira_f...   \n",
       "4  /r/ETFs/comments/1bmoom7/diversifying_my_ira_f...   \n",
       "\n",
       "                                                body  score subreddit  \n",
       "0  Maybe consider VOO and a mid/small cap value f...      1      ETFs  \n",
       "1  I’m retired and hold a 100% equities portfolio...      8      ETFs  \n",
       "2  The more experienced investors recommend a ble...      5      ETFs  \n",
       "3  It isn't *risky* by any stretch. You're exclud...      2      ETFs  \n",
       "4                                    Enough said :))      2      ETFs  "
      ]
     },
     "execution_count": 11,
     "metadata": {},
     "output_type": "execute_result"
    }
   ],
   "source": [
    "comments_voo_df.head()"
   ]
  },
  {
   "cell_type": "code",
   "execution_count": 12,
   "metadata": {},
   "outputs": [
    {
     "name": "stdout",
     "output_type": "stream",
     "text": [
      "<class 'pandas.core.frame.DataFrame'>\n",
      "RangeIndex: 932 entries, 0 to 931\n",
      "Data columns (total 7 columns):\n",
      " #   Column       Non-Null Count  Dtype         \n",
      "---  ------       --------------  -----         \n",
      " 0   author       932 non-null    object        \n",
      " 1   id           932 non-null    object        \n",
      " 2   created_utc  932 non-null    datetime64[ns]\n",
      " 3   permalink    932 non-null    object        \n",
      " 4   body         932 non-null    object        \n",
      " 5   score        932 non-null    int64         \n",
      " 6   subreddit    932 non-null    object        \n",
      "dtypes: datetime64[ns](1), int64(1), object(5)\n",
      "memory usage: 51.1+ KB\n"
     ]
    }
   ],
   "source": [
    "comments_voo_df.info()"
   ]
  },
  {
   "cell_type": "markdown",
   "metadata": {},
   "source": [
    "### Save the DataFrame as a CSV File."
   ]
  },
  {
   "cell_type": "code",
   "execution_count": 14,
   "metadata": {},
   "outputs": [],
   "source": [
    "comments_voo_df.to_csv('reddit_comment_voo.csv', index=False)"
   ]
  },
  {
   "cell_type": "code",
   "execution_count": null,
   "metadata": {},
   "outputs": [],
   "source": []
  }
 ],
 "metadata": {
  "kernelspec": {
   "display_name": "Python 3",
   "language": "python",
   "name": "python3"
  },
  "language_info": {
   "codemirror_mode": {
    "name": "ipython",
    "version": 3
   },
   "file_extension": ".py",
   "mimetype": "text/x-python",
   "name": "python",
   "nbconvert_exporter": "python",
   "pygments_lexer": "ipython3",
   "version": "3.12.2"
  }
 },
 "nbformat": 4,
 "nbformat_minor": 2
}
