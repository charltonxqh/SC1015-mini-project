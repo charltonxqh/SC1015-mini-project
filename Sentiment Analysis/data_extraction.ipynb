{
 "cells": [
  {
   "cell_type": "markdown",
   "metadata": {},
   "source": [
    "# Data Extraction from Reddit"
   ]
  },
  {
   "cell_type": "markdown",
   "metadata": {},
   "source": [
    "## Overview\n",
    "This notebook focuses on extracting comments from Reddit using the Python Reddit API Wrapper (PRAW). The primary goal is to gather comments from the subreddit ``` r/ETFs``` that mention the keyword ```VOO```."
   ]
  },
  {
   "cell_type": "markdown",
   "metadata": {},
   "source": [
    "## Importing Libraries\n",
    "- **Purpose**: Import necessary Python libraries.\n",
    "- **Libraries Used**: `praw` for interacting with Reddit's API, 'datetime' for handling timestamps."
   ]
  },
  {
   "cell_type": "code",
   "execution_count": 1,
   "metadata": {},
   "outputs": [],
   "source": [
    "import pandas as pd\n",
    "\n",
    "import praw\n",
    "from datetime import datetime as dt"
   ]
  },
  {
   "cell_type": "markdown",
   "metadata": {},
   "source": [
    "## Setting up Reddit Client\n",
    "- **Function**: `setup_reddit_client`\n",
    "- **Purpose**: Initialize the Reddit API client with necessary credentials.\n",
    "- **Inputs**: Client ID, client secret, and user agent.\n",
    "- **Output**: A Reddit instance for API interactions."
   ]
  },
  {
   "cell_type": "code",
   "execution_count": 2,
   "metadata": {},
   "outputs": [],
   "source": [
    "client_id = \"IHRxOIozokYZBI-72YpKfw\"\n",
    "client_secret = \"a19KLEDV6oxrBZXz3FZ_h-2VtU_nIw\"\n",
    "user_agent = \"Scraper 1.0 by /u/sc1015miniproject\""
   ]
  },
  {
   "cell_type": "markdown",
   "metadata": {},
   "source": [
    "## Defining the Comment Extraction Function\n",
    "- **Function**: `extract_comments_voo`\n",
    "- **Purpose**: To define a function that extracts comments containing the keyword \"VOO\" from subreddit \"r/ETFs\".\n",
    "- **Inputs**: Reddit instance, subreddit name, keyword, and a limit for the number of comments.\n",
    "- **The `limit` Parameter**:\n",
    "  - **Role**: The `limit` parameter is crucial for controlling the volume of data fetched from Reddit. It sets an upper bound on the number of comments the function will extract.\n",
    "  - **Value (1000)**: The limit is set to 1000, a decision guided by Reddit API's rules and limitations. Setting this limit helps in managing the data extraction process within the operational constraints imposed by the API, such as rate limits and fair usage policies.\n",
    "  - **Impact**: This limit ensures that the script remains compliant with Reddit's usage policies, avoiding potential issues like overloading the server or getting temporarily banned for excessive requests. It also helps in managing local resource usage, as fetching a large number of comments can be computationally intensive and time-consuming.\n",
    "- **Process**:\n",
    "  - Searches submissions in the specified subreddit that contain \"VOO\".\n",
    "  - Extracts comments that contain \"VOO\" from these submissions.\n",
    "  - Includes various comment attributes like author, ID, creation time, permalink, body, score, and subreddit name.\n",
    "  - Utilizes a limit to control the maximum number of comments extracted."
   ]
  },
  {
   "cell_type": "code",
   "execution_count": 3,
   "metadata": {},
   "outputs": [],
   "source": [
    "def setup_reddit_client(client_id, client_secret, user_agent):\n",
    "    return praw.Reddit(client_id=client_id, client_secret=client_secret, user_agent=user_agent)\n",
    "\n",
    "def extract_comments_voo(reddit, subreddit_name, keyword, limit=1000):\n",
    "    \"\"\"\n",
    "    Extract comments from the specified subreddit for submissions containing the keyword 'VOO'.\n",
    "    Limit the number of comments to 1000.\n",
    "    \"\"\"\n",
    "    subreddit = reddit.subreddit(subreddit_name)\n",
    "    comments_data = []\n",
    "    comment_count = 0\n",
    "\n",
    "    for submission in subreddit.search(keyword, sort='new'):\n",
    "        # Check if the submission title contains the keyword\n",
    "        if keyword.lower() in submission.title.lower():\n",
    "            submission.comments.replace_more(limit=None)\n",
    "            for comment in submission.comments.list():\n",
    "                if comment_count >= limit:\n",
    "                    break\n",
    "\n",
    "                if keyword.lower() in comment.body.lower():\n",
    "                    comment_data = {\n",
    "                        'author': str(comment.author),\n",
    "                        'id': comment.id,\n",
    "                        'created_utc': comment.created_utc,\n",
    "                        'permalink': comment.permalink,\n",
    "                        'body': comment.body,\n",
    "                        'score': comment.score,\n",
    "                        'subreddit': str(comment.subreddit)\n",
    "                    }\n",
    "                    comments_data.append(comment_data)\n",
    "                    comment_count += 1\n",
    "\n",
    "        if comment_count >= limit:\n",
    "            break\n",
    "\n",
    "    return comments_data"
   ]
  },
  {
   "cell_type": "code",
   "execution_count": 4,
   "metadata": {},
   "outputs": [],
   "source": [
    "# Initialize and extract comments\n",
    "reddit = setup_reddit_client(client_id, client_secret, user_agent)\n",
    "comments = extract_comments_voo(reddit, \"ETFs\", \"VOO\")\n",
    "comments_voo_df = pd.DataFrame(comments)"
   ]
  },
  {
   "cell_type": "code",
   "execution_count": 6,
   "metadata": {},
   "outputs": [
    {
     "data": {
      "text/html": [
       "<div>\n",
       "<style scoped>\n",
       "    .dataframe tbody tr th:only-of-type {\n",
       "        vertical-align: middle;\n",
       "    }\n",
       "\n",
       "    .dataframe tbody tr th {\n",
       "        vertical-align: top;\n",
       "    }\n",
       "\n",
       "    .dataframe thead th {\n",
       "        text-align: right;\n",
       "    }\n",
       "</style>\n",
       "<table border=\"1\" class=\"dataframe\">\n",
       "  <thead>\n",
       "    <tr style=\"text-align: right;\">\n",
       "      <th></th>\n",
       "      <th>author</th>\n",
       "      <th>id</th>\n",
       "      <th>created_utc</th>\n",
       "      <th>permalink</th>\n",
       "      <th>body</th>\n",
       "      <th>score</th>\n",
       "      <th>subreddit</th>\n",
       "    </tr>\n",
       "  </thead>\n",
       "  <tbody>\n",
       "    <tr>\n",
       "      <th>0</th>\n",
       "      <td>DaemonTargaryen2024</td>\n",
       "      <td>ky4tvav</td>\n",
       "      <td>1.712298e+09</td>\n",
       "      <td>/r/ETFs/comments/1bwa9np/voo_question/ky4tvav/</td>\n",
       "      <td>VOO is already an index fund with a low expens...</td>\n",
       "      <td>8</td>\n",
       "      <td>ETFs</td>\n",
       "    </tr>\n",
       "    <tr>\n",
       "      <th>1</th>\n",
       "      <td>anbu-black-ops</td>\n",
       "      <td>ky4ugsl</td>\n",
       "      <td>1.712298e+09</td>\n",
       "      <td>/r/ETFs/comments/1bwa9np/voo_question/ky4ugsl/</td>\n",
       "      <td>Splg is another alternative to voo if you cant...</td>\n",
       "      <td>1</td>\n",
       "      <td>ETFs</td>\n",
       "    </tr>\n",
       "    <tr>\n",
       "      <th>2</th>\n",
       "      <td>LAW9960</td>\n",
       "      <td>ky2zvyq</td>\n",
       "      <td>1.712269e+09</td>\n",
       "      <td>/r/ETFs/comments/1bw0523/i_noticed_that_when_p...</td>\n",
       "      <td>Some platforms like M1 Finance or Fidelity Go ...</td>\n",
       "      <td>4</td>\n",
       "      <td>ETFs</td>\n",
       "    </tr>\n",
       "    <tr>\n",
       "      <th>3</th>\n",
       "      <td>coinslinger88</td>\n",
       "      <td>kxwqx9i</td>\n",
       "      <td>1.712176e+09</td>\n",
       "      <td>/r/ETFs/comments/1buybes/sso_vs_spyvoo/kxwqx9i/</td>\n",
       "      <td>$VOO is for people who hate money</td>\n",
       "      <td>1</td>\n",
       "      <td>ETFs</td>\n",
       "    </tr>\n",
       "    <tr>\n",
       "      <th>4</th>\n",
       "      <td>coinslinger88</td>\n",
       "      <td>kxwr28w</td>\n",
       "      <td>1.712176e+09</td>\n",
       "      <td>/r/ETFs/comments/1buvulh/just_starting_brokera...</td>\n",
       "      <td>$VOO is for homeless people</td>\n",
       "      <td>0</td>\n",
       "      <td>ETFs</td>\n",
       "    </tr>\n",
       "    <tr>\n",
       "      <th>...</th>\n",
       "      <td>...</td>\n",
       "      <td>...</td>\n",
       "      <td>...</td>\n",
       "      <td>...</td>\n",
       "      <td>...</td>\n",
       "      <td>...</td>\n",
       "      <td>...</td>\n",
       "    </tr>\n",
       "    <tr>\n",
       "      <th>208</th>\n",
       "      <td>Hancock02</td>\n",
       "      <td>kwwa20h</td>\n",
       "      <td>1.711592e+09</td>\n",
       "      <td>/r/ETFs/comments/1bpdnmd/schg_schd_vs_voo/kwwa...</td>\n",
       "      <td>In the end, they will probably track about the...</td>\n",
       "      <td>1</td>\n",
       "      <td>ETFs</td>\n",
       "    </tr>\n",
       "    <tr>\n",
       "      <th>209</th>\n",
       "      <td>HiNdSiGhT1982</td>\n",
       "      <td>kxbhxko</td>\n",
       "      <td>1.711839e+09</td>\n",
       "      <td>/r/ETFs/comments/1bpdnmd/schg_schd_vs_voo/kxbh...</td>\n",
       "      <td>good points but the cost on booth schd and sch...</td>\n",
       "      <td>1</td>\n",
       "      <td>ETFs</td>\n",
       "    </tr>\n",
       "    <tr>\n",
       "      <th>210</th>\n",
       "      <td>NativeTxn7</td>\n",
       "      <td>kwwq3xp</td>\n",
       "      <td>1.711599e+09</td>\n",
       "      <td>/r/ETFs/comments/1bpdnmd/schg_schd_vs_voo/kwwq...</td>\n",
       "      <td>No way to know honestly, Large growth has had ...</td>\n",
       "      <td>4</td>\n",
       "      <td>ETFs</td>\n",
       "    </tr>\n",
       "    <tr>\n",
       "      <th>211</th>\n",
       "      <td>rem14</td>\n",
       "      <td>kwvnzn8</td>\n",
       "      <td>1.711583e+09</td>\n",
       "      <td>/r/ETFs/comments/1bpdnmd/schg_schd_vs_voo/kwvn...</td>\n",
       "      <td>13% overlap with VOO and less than 1% overlap ...</td>\n",
       "      <td>2</td>\n",
       "      <td>ETFs</td>\n",
       "    </tr>\n",
       "    <tr>\n",
       "      <th>212</th>\n",
       "      <td>investing_me</td>\n",
       "      <td>kwsc2e7</td>\n",
       "      <td>1.711542e+09</td>\n",
       "      <td>/r/ETFs/comments/1boyqg6/375qqq125tqqq375voo12...</td>\n",
       "      <td>Just buy VOO at this point</td>\n",
       "      <td>6</td>\n",
       "      <td>ETFs</td>\n",
       "    </tr>\n",
       "  </tbody>\n",
       "</table>\n",
       "<p>213 rows × 7 columns</p>\n",
       "</div>"
      ],
      "text/plain": [
       "                  author       id   created_utc  \\\n",
       "0    DaemonTargaryen2024  ky4tvav  1.712298e+09   \n",
       "1         anbu-black-ops  ky4ugsl  1.712298e+09   \n",
       "2                LAW9960  ky2zvyq  1.712269e+09   \n",
       "3          coinslinger88  kxwqx9i  1.712176e+09   \n",
       "4          coinslinger88  kxwr28w  1.712176e+09   \n",
       "..                   ...      ...           ...   \n",
       "208            Hancock02  kwwa20h  1.711592e+09   \n",
       "209        HiNdSiGhT1982  kxbhxko  1.711839e+09   \n",
       "210           NativeTxn7  kwwq3xp  1.711599e+09   \n",
       "211                rem14  kwvnzn8  1.711583e+09   \n",
       "212         investing_me  kwsc2e7  1.711542e+09   \n",
       "\n",
       "                                             permalink  \\\n",
       "0       /r/ETFs/comments/1bwa9np/voo_question/ky4tvav/   \n",
       "1       /r/ETFs/comments/1bwa9np/voo_question/ky4ugsl/   \n",
       "2    /r/ETFs/comments/1bw0523/i_noticed_that_when_p...   \n",
       "3      /r/ETFs/comments/1buybes/sso_vs_spyvoo/kxwqx9i/   \n",
       "4    /r/ETFs/comments/1buvulh/just_starting_brokera...   \n",
       "..                                                 ...   \n",
       "208  /r/ETFs/comments/1bpdnmd/schg_schd_vs_voo/kwwa...   \n",
       "209  /r/ETFs/comments/1bpdnmd/schg_schd_vs_voo/kxbh...   \n",
       "210  /r/ETFs/comments/1bpdnmd/schg_schd_vs_voo/kwwq...   \n",
       "211  /r/ETFs/comments/1bpdnmd/schg_schd_vs_voo/kwvn...   \n",
       "212  /r/ETFs/comments/1boyqg6/375qqq125tqqq375voo12...   \n",
       "\n",
       "                                                  body  score subreddit  \n",
       "0    VOO is already an index fund with a low expens...      8      ETFs  \n",
       "1    Splg is another alternative to voo if you cant...      1      ETFs  \n",
       "2    Some platforms like M1 Finance or Fidelity Go ...      4      ETFs  \n",
       "3                    $VOO is for people who hate money      1      ETFs  \n",
       "4                          $VOO is for homeless people      0      ETFs  \n",
       "..                                                 ...    ...       ...  \n",
       "208  In the end, they will probably track about the...      1      ETFs  \n",
       "209  good points but the cost on booth schd and sch...      1      ETFs  \n",
       "210  No way to know honestly, Large growth has had ...      4      ETFs  \n",
       "211  13% overlap with VOO and less than 1% overlap ...      2      ETFs  \n",
       "212                         Just buy VOO at this point      6      ETFs  \n",
       "\n",
       "[213 rows x 7 columns]"
      ]
     },
     "metadata": {},
     "output_type": "display_data"
    }
   ],
   "source": [
    "display(comments_voo_df)"
   ]
  },
  {
   "cell_type": "code",
   "execution_count": 7,
   "metadata": {},
   "outputs": [
    {
     "name": "stdout",
     "output_type": "stream",
     "text": [
      "<class 'pandas.core.frame.DataFrame'>\n",
      "RangeIndex: 213 entries, 0 to 212\n",
      "Data columns (total 7 columns):\n",
      " #   Column       Non-Null Count  Dtype  \n",
      "---  ------       --------------  -----  \n",
      " 0   author       213 non-null    object \n",
      " 1   id           213 non-null    object \n",
      " 2   created_utc  213 non-null    float64\n",
      " 3   permalink    213 non-null    object \n",
      " 4   body         213 non-null    object \n",
      " 5   score        213 non-null    int64  \n",
      " 6   subreddit    213 non-null    object \n",
      "dtypes: float64(1), int64(1), object(5)\n",
      "memory usage: 11.8+ KB\n"
     ]
    }
   ],
   "source": [
    "comments_voo_df.info()"
   ]
  },
  {
   "cell_type": "markdown",
   "metadata": {},
   "source": [
    "### Save the DataFrame as a CSV File."
   ]
  },
  {
   "cell_type": "code",
   "execution_count": 8,
   "metadata": {},
   "outputs": [],
   "source": [
    "comments_voo_df.to_csv('../datasets/reddit_comment_voo.csv', index=False)"
   ]
  },
  {
   "cell_type": "code",
   "execution_count": null,
   "metadata": {},
   "outputs": [],
   "source": []
  }
 ],
 "metadata": {
  "kernelspec": {
   "display_name": "Python 3",
   "language": "python",
   "name": "python3"
  },
  "language_info": {
   "codemirror_mode": {
    "name": "ipython",
    "version": 3
   },
   "file_extension": ".py",
   "mimetype": "text/x-python",
   "name": "python",
   "nbconvert_exporter": "python",
   "pygments_lexer": "ipython3",
   "version": "3.12.3"
  }
 },
 "nbformat": 4,
 "nbformat_minor": 2
}
