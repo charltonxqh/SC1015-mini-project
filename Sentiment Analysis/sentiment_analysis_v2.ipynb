{
 "cells": [
  {
   "cell_type": "markdown",
   "metadata": {},
   "source": [
    "# Sentiment Analysis\n",
    "\n",
    "After thorough preprocessing and cleaning, our dataset is now primed for a detailed sentiment analysis. This analysis focuses on user comments extracted from the subreddit `r/ETFs`, specifically those that mention the Vanguard S&P 500 ETF, commonly referred to as `VOO`. \n",
    "\n",
    "In this section, we aim to assess the prevailing sentiments within the community discussions about VOO. Understanding these sentiments can provide insights into general investor attitudes and potential market trends related to this ETF. We'll employ various sentiment analysis techniques to quantify how positive, neutral, or negative each comment is.\n",
    "\n",
    "This process not only helps in gauging the overall market sentiment towards VOO but also aids in predicting investor behavior and potential movements in ETF performance based on public perception.\n",
    "\n",
    "---"
   ]
  },
  {
   "cell_type": "markdown",
   "metadata": {},
   "source": [
    "## Import the datasets"
   ]
  },
  {
   "cell_type": "code",
   "execution_count": 36,
   "metadata": {},
   "outputs": [
    {
     "data": {
      "text/html": [
       "<div>\n",
       "<style scoped>\n",
       "    .dataframe tbody tr th:only-of-type {\n",
       "        vertical-align: middle;\n",
       "    }\n",
       "\n",
       "    .dataframe tbody tr th {\n",
       "        vertical-align: top;\n",
       "    }\n",
       "\n",
       "    .dataframe thead th {\n",
       "        text-align: right;\n",
       "    }\n",
       "</style>\n",
       "<table border=\"1\" class=\"dataframe\">\n",
       "  <thead>\n",
       "    <tr style=\"text-align: right;\">\n",
       "      <th></th>\n",
       "      <th>date</th>\n",
       "      <th>body</th>\n",
       "    </tr>\n",
       "  </thead>\n",
       "  <tbody>\n",
       "    <tr>\n",
       "      <th>0</th>\n",
       "      <td>2024-03-27</td>\n",
       "      <td>Just buy VOO at this point</td>\n",
       "    </tr>\n",
       "    <tr>\n",
       "      <th>1</th>\n",
       "      <td>2024-03-27</td>\n",
       "      <td>Voo &amp; schg have 53% overlap. Past results don’...</td>\n",
       "    </tr>\n",
       "    <tr>\n",
       "      <th>2</th>\n",
       "      <td>2024-03-27</td>\n",
       "      <td>Schd + Schg makes up the majority of voo. Just...</td>\n",
       "    </tr>\n",
       "    <tr>\n",
       "      <th>3</th>\n",
       "      <td>2024-03-27</td>\n",
       "      <td>13% overlap with VOO and less than 1% overlap ...</td>\n",
       "    </tr>\n",
       "    <tr>\n",
       "      <th>4</th>\n",
       "      <td>2024-03-28</td>\n",
       "      <td>30% VOO, 30% QQQ, 10% VYM, 10% BND, 10% Mixed ...</td>\n",
       "    </tr>\n",
       "  </tbody>\n",
       "</table>\n",
       "</div>"
      ],
      "text/plain": [
       "         date                                               body\n",
       "0  2024-03-27                         Just buy VOO at this point\n",
       "1  2024-03-27  Voo & schg have 53% overlap. Past results don’...\n",
       "2  2024-03-27  Schd + Schg makes up the majority of voo. Just...\n",
       "3  2024-03-27  13% overlap with VOO and less than 1% overlap ...\n",
       "4  2024-03-28  30% VOO, 30% QQQ, 10% VYM, 10% BND, 10% Mixed ..."
      ]
     },
     "execution_count": 36,
     "metadata": {},
     "output_type": "execute_result"
    }
   ],
   "source": [
    "import pandas as pd\n",
    "\n",
    "df = pd.read_csv('../datasets/cleaned_cmts_voo.csv')\n",
    "df.head()"
   ]
  },
  {
   "cell_type": "markdown",
   "metadata": {},
   "source": [
    "---\n",
    "\n",
    "## Using Transformer Model in Sentiment Analysis\n",
    "\n",
    "In this section, we leverage the powerful FinBERT model, a transformer-based model fine-tuned for financial sentiment analysis. Hosted on Hugging Face at [yiyanghkust/finbert-tone](https://huggingface.co/yiyanghkust/finbert-tone), FinBERT is an adaptation of the widely-acclaimed BERT architecture, tailored to understand the nuances of financial discourse.\n",
    "\n",
    "### Example\n",
    "\n",
    "We utilize the `pipeline` function from the `transformers` library to instantiate a sentiment analysis pipeline with the FinBERT model (`yiyanghkust/finbert-tone`). This model is adept at discerning sentiment in financial texts, categorizing them into distinct classes:\n",
    "\n",
    "- **Positive**: Represented by label `2`.\n",
    "- **Neutral**: Represented by label `1`.\n",
    "- **Negative**: Represented by label `0`.\n",
    "\n",
    "Each text is processed through the `classify_sentiment` function, which utilizes the FinBERT model to predict the sentiment label and a corresponding confidence score. The sentiment score provides a nuanced understanding of sentiment intensity\n",
    "\n",
    "1. **Positive Sentence**: \"Stock price will increase.\" - Expected to return a sentiment label indicating a positive sentiment.\n",
    "2. **Neutral Sentence**: \"VOO is Vanguard S&P 500 ETF.\" - Expected to be classified as neutral as it merely states a fact.\n",
    "3. **Negative Sentence**: \"Stock price will decrease.\" - Expected to express a negative sentiment.\n",
    "\n",
    "Here's how we execute this analysis:"
   ]
  },
  {
   "cell_type": "code",
   "execution_count": 37,
   "metadata": {},
   "outputs": [
    {
     "name": "stdout",
     "output_type": "stream",
     "text": [
      "Sentence Type        Sentiment Label      SentimentScore\n",
      "--------------------------------------------------------\n",
      "Positive sentence:   2                    0.956162  \n",
      "Neutral sentence:    1                    0.999998  \n",
      "Negative sentence:   0                    0.969693  \n"
     ]
    }
   ],
   "source": [
    "from transformers import pipeline\n",
    "\n",
    "model_name = \"yiyanghkust/finbert-tone\"\n",
    "sentiment_pipeline = pipeline(\"sentiment-analysis\", model=model_name)\n",
    "\n",
    "# Function to classify sentiment of a single text\n",
    "def classify_sentiment(text):\n",
    "    result = sentiment_pipeline(text)[0]\n",
    "    # Update the sentiment label mapping based on the actual output of your model\n",
    "    sentiment_labels = {'Positive': 2, 'Neutral': 1, 'Negative': 0}\n",
    "    label = sentiment_labels.get(result['label'], -1)  # Default to -1 if label not found\n",
    "    score = result['score']\n",
    "    return label, score\n",
    "\n",
    "pos_text = \"Stock price will increase.\"\n",
    "neu_text = \"VOO is Vanguard S&P 500 ETF.\"\n",
    "neg_text = \"Stock price will decrease.\"\n",
    "\n",
    "pos_label, pos_score = classify_sentiment(pos_text)\n",
    "neu_label, neu_score = classify_sentiment(neu_text)\n",
    "neg_label, neg_score = classify_sentiment(neg_text)\n",
    "\n",
    "header = f\"{'Sentence Type':<20} {'Sentiment Label':<20} {'SentimentScore':<10}\"\n",
    "print(header)\n",
    "print(\"-\" * len(header))  # Prints a separator line\n",
    "print(f\"{'Positive sentence:':<20} {pos_label:<20} {pos_score:<10f}\")\n",
    "print(f\"{'Neutral sentence:':<20} {neu_label:<20} {neu_score:<10f}\")\n",
    "print(f\"{'Negative sentence:':<20} {neg_label:<20} {neg_score:<10f}\")"
   ]
  },
  {
   "cell_type": "markdown",
   "metadata": {},
   "source": [
    "### Classifying Sentiments in Reddit Comments\n",
    "\n",
    "In this section, we apply the sentiment analysis pipeline using the FinBERT model to classify the sentiment of comments related to the ETF `VOO` from Reddit. The FinBERT model, being specialized for financial contexts, provides us with insights into the public sentiment expressed in these comments.\n",
    "\n",
    "#### Implementation\n",
    "\n",
    "Given the limitations of the model to handle lengthy texts, we truncate comments to the first 512 characters. This ensures that the model operates within its design specifications without compromising the input's integrity.\n",
    "\n",
    "Here's how we execute the sentiment classification on our dataset:"
   ]
  },
  {
   "cell_type": "code",
   "execution_count": 38,
   "metadata": {},
   "outputs": [],
   "source": [
    "from transformers import pipeline\n",
    "\n",
    "model_name = \"yiyanghkust/finbert-tone\"\n",
    "sentiment_pipeline = pipeline(\"sentiment-analysis\", model=model_name)"
   ]
  },
  {
   "cell_type": "code",
   "execution_count": 39,
   "metadata": {},
   "outputs": [
    {
     "data": {
      "text/html": [
       "<div>\n",
       "<style scoped>\n",
       "    .dataframe tbody tr th:only-of-type {\n",
       "        vertical-align: middle;\n",
       "    }\n",
       "\n",
       "    .dataframe tbody tr th {\n",
       "        vertical-align: top;\n",
       "    }\n",
       "\n",
       "    .dataframe thead th {\n",
       "        text-align: right;\n",
       "    }\n",
       "</style>\n",
       "<table border=\"1\" class=\"dataframe\">\n",
       "  <thead>\n",
       "    <tr style=\"text-align: right;\">\n",
       "      <th></th>\n",
       "      <th>date</th>\n",
       "      <th>body</th>\n",
       "      <th>sentiment_label</th>\n",
       "      <th>sentiment_score</th>\n",
       "    </tr>\n",
       "  </thead>\n",
       "  <tbody>\n",
       "    <tr>\n",
       "      <th>0</th>\n",
       "      <td>2024-03-27</td>\n",
       "      <td>Just buy VOO at this point</td>\n",
       "      <td>1</td>\n",
       "      <td>0.996938</td>\n",
       "    </tr>\n",
       "    <tr>\n",
       "      <th>1</th>\n",
       "      <td>2024-03-27</td>\n",
       "      <td>Voo &amp; schg have 53% overlap. Past results don’...</td>\n",
       "      <td>2</td>\n",
       "      <td>0.976062</td>\n",
       "    </tr>\n",
       "    <tr>\n",
       "      <th>2</th>\n",
       "      <td>2024-03-27</td>\n",
       "      <td>Schd + Schg makes up the majority of voo. Just...</td>\n",
       "      <td>1</td>\n",
       "      <td>0.999913</td>\n",
       "    </tr>\n",
       "    <tr>\n",
       "      <th>3</th>\n",
       "      <td>2024-03-27</td>\n",
       "      <td>13% overlap with VOO and less than 1% overlap ...</td>\n",
       "      <td>1</td>\n",
       "      <td>0.999995</td>\n",
       "    </tr>\n",
       "    <tr>\n",
       "      <th>4</th>\n",
       "      <td>2024-03-28</td>\n",
       "      <td>30% VOO, 30% QQQ, 10% VYM, 10% BND, 10% Mixed ...</td>\n",
       "      <td>1</td>\n",
       "      <td>1.000000</td>\n",
       "    </tr>\n",
       "  </tbody>\n",
       "</table>\n",
       "</div>"
      ],
      "text/plain": [
       "         date                                               body  \\\n",
       "0  2024-03-27                         Just buy VOO at this point   \n",
       "1  2024-03-27  Voo & schg have 53% overlap. Past results don’...   \n",
       "2  2024-03-27  Schd + Schg makes up the majority of voo. Just...   \n",
       "3  2024-03-27  13% overlap with VOO and less than 1% overlap ...   \n",
       "4  2024-03-28  30% VOO, 30% QQQ, 10% VYM, 10% BND, 10% Mixed ...   \n",
       "\n",
       "   sentiment_label  sentiment_score  \n",
       "0                1         0.996938  \n",
       "1                2         0.976062  \n",
       "2                1         0.999913  \n",
       "3                1         0.999995  \n",
       "4                1         1.000000  "
      ]
     },
     "execution_count": 39,
     "metadata": {},
     "output_type": "execute_result"
    }
   ],
   "source": [
    "# Function to classify sentiment of a single text\n",
    "def classify_sentiment(text):\n",
    "    result = sentiment_pipeline(text)[0]\n",
    "    # Update the sentiment label mapping based on the actual output of your model\n",
    "    sentiment_labels = {'Positive': 2, 'Neutral': 1, 'Negative': 0}\n",
    "    label = sentiment_labels.get(result['label'], -1)  # Default to -1 if label not found\n",
    "    score = result['score']\n",
    "    return label, score\n",
    "\n",
    "# Apply the sentiment analysis to each comment\n",
    "sentiment_results = df['body'].apply(lambda x: classify_sentiment(x[:512]))  # Limiting character count to 512\n",
    "\n",
    "# Create new columns for sentiment label and sentiment score\n",
    "df['sentiment_label'], df['sentiment_score'] = zip(*sentiment_results)\n",
    "\n",
    "# Check the DataFrame\n",
    "df.head()"
   ]
  },
  {
   "cell_type": "markdown",
   "metadata": {},
   "source": [
    "### Checking for Missing Values\n",
    "\n",
    "Before proceeding with further data analysis or visualization, it's crucial to ensure that the dataset is complete and does not contain any missing values that could skew the results or lead to errors during computational processes."
   ]
  },
  {
   "cell_type": "code",
   "execution_count": 40,
   "metadata": {},
   "outputs": [
    {
     "data": {
      "text/plain": [
       "date               0\n",
       "body               0\n",
       "sentiment_label    0\n",
       "sentiment_score    0\n",
       "dtype: int64"
      ]
     },
     "execution_count": 40,
     "metadata": {},
     "output_type": "execute_result"
    }
   ],
   "source": [
    "df.isnull().sum()"
   ]
  },
  {
   "cell_type": "markdown",
   "metadata": {},
   "source": [
    "---\n",
    "\n",
    "## Visualizing the Data"
   ]
  },
  {
   "cell_type": "markdown",
   "metadata": {},
   "source": [
    "### 1. Time Series of Sentiment Counts\n",
    "- **What it shows**: This bar chart displays the comparison of the count of positive, neutral, and negative comments over time.\n",
    "- **Interpretation**: \n",
    "  - The height of the bars represents the count of sentiments (positive, neutral, or negative) on each date.\n",
    "  - Higher bars for a sentiment type on a specific date indicate more comments with that sentiment.\n",
    "  - Comparing the heights of the bars for each sentiment type on each date provides a visual representation of the predominant sentiment on that day."
   ]
  },
  {
   "cell_type": "code",
   "execution_count": 41,
   "metadata": {},
   "outputs": [
    {
     "data": {
      "image/png": "[encoded data removed]",
      "text/plain": [
       "<Figure size 1200x600 with 1 Axes>"
      ]
     },
     "metadata": {},
     "output_type": "display_data"
    }
   ],
   "source": [
    "import matplotlib.pyplot as plt\n",
    "\n",
    "# Group by date and sentiment_label, then count occurrences\n",
    "grouped = df.groupby(['date', 'sentiment_label']).size().unstack(fill_value=0)\n",
    "\n",
    "# Plotting\n",
    "grouped.plot(kind='bar', stacked=True, figsize=(12, 6), color=['red', 'lightgray', 'green'])\n",
    "plt.title('Sentiment Counts Over Time')\n",
    "plt.xlabel('Date')\n",
    "plt.ylabel('Count')\n",
    "plt.legend(['Negative', 'Neutral', 'Positive'])\n",
    "plt.xticks(rotation=45)\n",
    "plt.show()"
   ]
  },
  {
   "cell_type": "markdown",
   "metadata": {},
   "source": [
    "### Insights from Sentiment Counts Over Time Graph\n",
    "\n",
    "The graph shows the distribution of sentiments in comments over time, highlighting several key points:\n",
    "\n",
    "- **Neutral Dominance**: A large number of comments are neutral, suggesting a focus on information sharing.\n",
    "\n",
    "- **Occasional Positivity**: Peaks in positive sentiment may relate to favorable events or news.\n",
    "\n",
    "- **Sparse Negativity**: Negative sentiments are few, indicating less adverse sentiment towards `VOO`.\n",
    "\n",
    "- **Engagement Fluctuations**: The bar heights vary, indicating shifts in community interaction levels, possibly driven by market events.\n",
    "\n",
    "- **Important Dates to Note**: Dates with high sentiment extremes could align with significant market events and may need further examination.\n"
   ]
  },
  {
   "cell_type": "markdown",
   "metadata": {},
   "source": [
    "---\n",
    "\n",
    "### 2. Heatmap for Sentiment Analysis\n",
    "#### Heatmap for Sentiment Count\n",
    "- **What it shows**: This heatmap visualizes the frequency of comments classified as positive, neutral, or negative for each date.\n",
    "- **Interpretation**:\n",
    "  - The heatmap's cells represent the number of comments for each sentiment category on specific dates.\n",
    "  - The intensity of the red color reflects the volume of comments - more intensely red colors indicate a higher number of comments, while cooler blue shades suggest fewer comments.\n",
    "\n",
    "#### Heatmap for Average Sentiment Intensity\n",
    "- **What it shows**: It indicates the average sentiment score for comments, reflecting the intensity of sentiment on each date.\n",
    "- **Interpretation**:\n",
    "  - Each cell displays the average sentiment score for a given date.\n",
    "  - The intensity of the color represents the average sentiment strength, with darker colors signifying stronger sentiments."
   ]
  },
  {
   "cell_type": "code",
   "execution_count": 42,
   "metadata": {},
   "outputs": [
    {
     "data": {
      "image/png": "[encoded data removed]",
      "text/plain": [
       "<Figure size 1000x600 with 2 Axes>"
      ]
     },
     "metadata": {},
     "output_type": "display_data"
    },
    {
     "data": {
      "image/png": "[encoded data removed]",
      "text/plain": [
       "<Figure size 1000x600 with 2 Axes>"
      ]
     },
     "metadata": {},
     "output_type": "display_data"
    }
   ],
   "source": [
    "import pandas as pd\n",
    "import seaborn as sns\n",
    "import matplotlib.pyplot as plt\n",
    "\n",
    "data = {\n",
    "    'date': df['date'],\n",
    "    'sentiment_label': df['sentiment_label'],\n",
    "    'sentiment_score': df['sentiment_score']\n",
    "}\n",
    "\n",
    "visualization_df = pd.DataFrame(data)\n",
    "\n",
    "# Heatmap 1: Quantity of Comments\n",
    "# Counting comments\n",
    "count_df = visualization_df.groupby(['date', 'sentiment_label']).size().unstack(fill_value=0)\n",
    "\n",
    "# Plotting heatmap for quantity\n",
    "plt.figure(figsize=(10, 6))\n",
    "sns.heatmap(count_df, annot=True, cmap='coolwarm')\n",
    "plt.title('Quantity of Comments Heatmap')\n",
    "plt.xlabel('Sentiment Label')\n",
    "plt.ylabel('Date')\n",
    "plt.show()\n",
    "\n",
    "# Heatmap 2: Average Sentiment Score\n",
    "# Calculating average sentiment score\n",
    "# Group by 'date' and 'sentiment_label' and compute average sentiment score\n",
    "grouped = visualization_df.groupby(['date', 'sentiment_label']).mean().reset_index()\n",
    "\n",
    "# Pivot the table\n",
    "pivot_df = grouped.pivot(index='date', columns='sentiment_label', values='sentiment_score')\n",
    "\n",
    "# Plotting the heatmap\n",
    "plt.figure(figsize=(10, 6))\n",
    "sns.heatmap(pivot_df, annot=True, cmap='viridis')\n",
    "plt.title('Average Sentiment Score Heatmap')\n",
    "plt.xlabel('Sentiment Label')\n",
    "plt.ylabel('Date')\n",
    "plt.show()\n"
   ]
  },
  {
   "cell_type": "markdown",
   "metadata": {},
   "source": [
    "### Insights from the Heatmaps\n",
    "\n",
    "#### Quantity of Comments Heatmap\n",
    "The 'Quantity of Comments Heatmap' provides a quick visual understanding of the volume of comments over time, categorized by sentiment:\n",
    "\n",
    "- **Diverse Sentiment Expression**: The heatmap indicates varied sentiment expression across different dates, with a mix of neutral, positive, and occasionally negative comments.\n",
    "- **Dominant Days**: Certain days show a higher overall number of comments, hinting at increased user activity which could be aligned with market movements or news events.\n",
    "- **Neutral Commentary**: A consistent presence of neutral comments suggests a steady stream of informational content without strong sentiment bias.\n",
    "\n",
    "#### Average Sentiment Score Heatmap\n",
    "The 'Average Sentiment Score Heatmap' offers insights into the intensity of expressed sentiments:\n",
    "\n",
    "- **Consistent Sentiment Intensity**: There's a general trend of high sentiment scores across the dates, regardless of the sentiment category, indicating strong opinions are being expressed.\n",
    "- **Neutral Scores**: Neutral comments tend to have slightly lower scores, possibly reflecting a lack of strong sentiment either way.\n",
    "- **Missing Values Explained**: Not all dates have values for each sentiment label. This absence of data points could be due to several reasons: \n",
    "    - less overall activity on the subreddit\n",
    "    - no events triggering that sentiment\n",
    "    - lack of engagement from users in expressing that sentiment\n"
   ]
  },
  {
   "cell_type": "markdown",
   "metadata": {},
   "source": [
    "---\n",
    "\n",
    "### 3. Stacked Bar Chart with Sentiment Scores\n",
    "- **What it shows**: Displays the number of comments broken down by sentiment score ranges, showing the strength of sentiments.\n",
    "- **Interpretation**: \n",
    "    - **Positive Sentiment Score**: Larger segments in the higher score ranges indicate days when positive sentiments were particularly intense, signifying stronger optimism among commenters.\n",
    "    - **Neutral Sentiment Score**: Larger segments suggest a higher consensus among commenters in their neutral stance.\n",
    "    - **Negative Sentiment Score**: Larger segments in the lower score bins suggest days marked by more intense negative sentiment, potentially reflecting widespread concerns or adverse reactions to events."
   ]
  },
  {
   "cell_type": "code",
   "execution_count": 43,
   "metadata": {},
   "outputs": [
    {
     "name": "stderr",
     "output_type": "stream",
     "text": [
      "C:\\Users\\User\\AppData\\Local\\Temp\\ipykernel_23516\\3641689167.py:22: FutureWarning:\n",
      "\n",
      "The default of observed=False is deprecated and will be changed to True in a future version of pandas. Pass observed=False to retain current behavior or observed=True to adopt the future default and silence this warning.\n",
      "\n"
     ]
    },
    {
     "data": {
      "image/png": "[encoded data removed]",
      "text/plain": [
       "<Figure size 1000x600 with 1 Axes>"
      ]
     },
     "metadata": {},
     "output_type": "display_data"
    },
    {
     "name": "stderr",
     "output_type": "stream",
     "text": [
      "C:\\Users\\User\\AppData\\Local\\Temp\\ipykernel_23516\\3641689167.py:31: FutureWarning:\n",
      "\n",
      "The default of observed=False is deprecated and will be changed to True in a future version of pandas. Pass observed=False to retain current behavior or observed=True to adopt the future default and silence this warning.\n",
      "\n"
     ]
    },
    {
     "data": {
      "image/png": "[encoded data removed]",
      "text/plain": [
       "<Figure size 1000x600 with 1 Axes>"
      ]
     },
     "metadata": {},
     "output_type": "display_data"
    },
    {
     "name": "stderr",
     "output_type": "stream",
     "text": [
      "C:\\Users\\User\\AppData\\Local\\Temp\\ipykernel_23516\\3641689167.py:40: FutureWarning:\n",
      "\n",
      "The default of observed=False is deprecated and will be changed to True in a future version of pandas. Pass observed=False to retain current behavior or observed=True to adopt the future default and silence this warning.\n",
      "\n"
     ]
    },
    {
     "data": {
      "image/png": "[encoded data removed]",
      "text/plain": [
       "<Figure size 1000x600 with 1 Axes>"
      ]
     },
     "metadata": {},
     "output_type": "display_data"
    }
   ],
   "source": [
    "import pandas as pd\n",
    "import matplotlib.pyplot as plt\n",
    "\n",
    "data = {\n",
    "    'date': df['date'],\n",
    "    'sentiment_score': df['sentiment_score'],\n",
    "    'sentiment_label': df['sentiment_label']\n",
    "}\n",
    "visualization_df = pd.DataFrame(data)\n",
    "\n",
    "# Bin the sentiment scores\n",
    "bins = [0, 0.2, 0.4, 0.6, 0.8, 1.0]\n",
    "labels = ['0-0.2', '0.2-0.4', '0.4-0.6', '0.6-0.8', '0.8-1.0']\n",
    "visualization_df['score_bin'] = pd.cut(visualization_df['sentiment_score'], bins=bins, labels=labels)\n",
    "\n",
    "# Separate Positive, Neutral and Negative DataFrames\n",
    "positive_df = visualization_df[visualization_df['sentiment_label'] == 2]\n",
    "neutral_df = visualization_df[visualization_df['sentiment_label'] == 1]\n",
    "negative_df = visualization_df[visualization_df['sentiment_label'] == 0]\n",
    "\n",
    "# Plotting Stacked Bar Chart for Positive Sentiments\n",
    "pivot_positive = positive_df.groupby(['date', 'score_bin']).size().unstack(fill_value=0)\n",
    "pivot_positive.plot(kind='bar', stacked=True, figsize=(10, 6))\n",
    "plt.title('Positive Sentiment Score Distribution Over Time')\n",
    "plt.xlabel('Date')\n",
    "plt.ylabel('Count of Comments')\n",
    "plt.ylim(0, 70)\n",
    "plt.show()\n",
    "\n",
    "# Plotting Stacked Bar Chart for Neutral Sentiments\n",
    "pivot_neutral = neutral_df.groupby(['date', 'score_bin']).size().unstack(fill_value=0)\n",
    "pivot_neutral.plot(kind='bar', stacked=True, figsize=(10, 6))\n",
    "plt.title('Neutral Sentiment Score Distribution Over Time')\n",
    "plt.xlabel('Date')\n",
    "plt.ylabel('Count of Comments')\n",
    "plt.ylim(0, 70)\n",
    "plt.show()\n",
    "\n",
    "# Plotting Stacked Bar Chart for Negative Sentiments\n",
    "pivot_negative = negative_df.groupby(['date', 'score_bin']).size().unstack(fill_value=0)\n",
    "pivot_negative.plot(kind='bar', stacked=True, figsize=(10, 6))\n",
    "plt.title('Negative Sentiment Score Distribution Over Time')\n",
    "plt.xlabel('Date')\n",
    "plt.ylabel('Count of Comments')\n",
    "plt.ylim(0, 70)\n",
    "plt.show()\n"
   ]
  },
  {
   "cell_type": "markdown",
   "metadata": {},
   "source": [
    "### Insights from Stacked Bar Charts of Sentiment Score Distribution\n",
    "\n",
    "#### Positive Sentiment Score Distribution\n",
    "- **Observations**: The chart for positive sentiments illustrates minimal instances of highly positive comments (score range 0.8-1.0) across the observed dates.\n",
    "- **Inference**: This trend indicates that while there are instances of positive discourse regarding VOO, the sentiment tends to be moderate, suggesting a cautious optimism among commenters.\n",
    "\n",
    "#### Neutral Sentiment Score Distribution\n",
    "- **Observations**: The neutral sentiment chart shows a significant clustering of comments within a mid-range of sentiment scores, with a noticeable spike on a particular date.\n",
    "- **Inference**: This spike may pinpoint a day where an event or announcement led to increased discussion that was predominantly informational or speculative in nature, lacking a clear positive or negative sentiment.\n",
    "\n",
    "#### Negative Sentiment Score Distribution\n",
    "- **Observations**: Negative sentiment distribution is sparse and consistent, with a negligible presence of deeply negative sentiments.\n",
    "- **Inference**: The general absence of strong negative sentiments suggests a predominantly neutral or positive perception of VOO within the community, possibly indicating no major adverse events that might impact sentiment negatively.\n"
   ]
  },
  {
   "cell_type": "markdown",
   "metadata": {},
   "source": [
    "---\n",
    "\n",
    "### 4. Normalized Cumulative Sentiment Score Over Time\n",
    "- **What it shows**: The plot potentially illustrates separate cumulative lines for each sentiment label (positive, neutral, negative), showing how each sentiment score accumulates over time.\n",
    "- **Interpretation**:\n",
    "    - An ascending line suggests a relative increase in the cumulative intensity for that sentiment compared to its previous state.\n",
    "    - A steeper incline indicates a more rapid accumulation of sentiment, highlighting days with particularly strong sentiment expression."
   ]
  },
  {
   "cell_type": "code",
   "execution_count": 44,
   "metadata": {},
   "outputs": [
    {
     "data": {
      "image/png": "[encoded data removed]",
      "text/plain": [
       "<Figure size 1200x600 with 1 Axes>"
      ]
     },
     "metadata": {},
     "output_type": "display_data"
    }
   ],
   "source": [
    "import pandas as pd\n",
    "import matplotlib.pyplot as plt\n",
    "\n",
    "# Group by 'date' and 'sentiment_label', then calculate the cumulative sum\n",
    "grouped = df.groupby(['date', 'sentiment_label'])['sentiment_score'].sum().groupby(level=1).cumsum().reset_index()\n",
    "\n",
    "# Pivot the table\n",
    "pivot_df = grouped.pivot(index='date', columns='sentiment_label', values='sentiment_score')\n",
    "\n",
    "from sklearn.preprocessing import MinMaxScaler\n",
    "\n",
    "scaler = MinMaxScaler()\n",
    "scaled_scores = scaler.fit_transform(pivot_df)\n",
    "scaled_scores_df = pd.DataFrame(scaled_scores, columns=pivot_df.columns, index=pivot_df.index)\n",
    "\n",
    "# Now plot the scaled scores\n",
    "plt.figure(figsize=(12, 6))\n",
    "for sentiment_label in scaled_scores_df.columns:\n",
    "    plt.plot(scaled_scores_df.index, scaled_scores_df[sentiment_label], label=f'Sentiment {sentiment_label}')\n",
    "\n",
    "plt.xlabel('Date')\n",
    "plt.ylabel('Normalized Cumulative Sentiment Score')\n",
    "plt.title('Normalized Cumulative Sentiment Score Over Time')\n",
    "plt.legend()\n",
    "plt.show()\n"
   ]
  },
  {
   "cell_type": "markdown",
   "metadata": {},
   "source": [
    "### Observations from Normalized Cumulative Sentiment Score Graph\n",
    "\n",
    "- Initially, there is a **steady rise** in all sentiment labels, suggesting a uniform accumulation of sentiments.\n",
    "- Sentiment 2 (Positive) experiences **sharp increases**, indicating bursts of strong positive sentiment.\n",
    "- Towards the end of the timeline, Sentiment 0 (Negative) and Sentiment 2 (Positive) **converge**, implying that positive and negative sentiments are expressed with similar intensity.\n",
    "- **Fluctuations and shifts** in the sentiment lines suggest varying community sentiment over time.\n",
    "- The **steady climb** of Sentiment 1 (Neutral) could indicate a consistent level of informational or neutral commentary.\n",
    "\n",
    "### Insights from Normalized Cumulative Sentiment Score Graph\n",
    "\n",
    "- The convergence of sentiment lines may indicate **polarized views** within the community, with strong opinions on both sides.\n",
    "- Dates with significant changes in sentiment lines can pinpoint when key **events or news** influenced public opinion.\n",
    "- The **normalization of scores** makes it easier to observe relative changes over time, rather than absolute sentiment values.\n",
    "- Identifying **trends** in sentiment can be useful for correlating public perception with **market movements** or significant **external events**.\n",
    "- Strategic analysis could leverage these insights to better understand the **impact of sentiment on investment decisions**.\n"
   ]
  },
  {
   "cell_type": "markdown",
   "metadata": {},
   "source": [
    "---\n",
    "\n",
    "### 5. Rate of Change in Sentiment Scores Over Time\n",
    "\n",
    "- **What it shows**: This analysis focuses on the velocity of sentiment shifts among the comments, capturing a dynamic picture of public opinion over time.\n",
    "- **Interpretation**: \n",
    "    - By calculating the first derivative of cumulative sentiment scores, we identify how rapidly the sentiments are rising or falling.\n",
    "    - A **rising line** suggests growing sentiment intensity, possibly in reaction to specific news or events.\n",
    "    - A **declining line** indicates decreasing sentiment intensity, which may occur as a topic becomes less relevant or after the peak of an event.\n"
   ]
  },
  {
   "cell_type": "code",
   "execution_count": 45,
   "metadata": {},
   "outputs": [
    {
     "data": {
      "image/png": "[encoded data removed]",
      "text/plain": [
       "<Figure size 1200x600 with 1 Axes>"
      ]
     },
     "metadata": {},
     "output_type": "display_data"
    }
   ],
   "source": [
    "import numpy as np\n",
    "import pandas as pd\n",
    "import matplotlib.pyplot as plt\n",
    "\n",
    "# Group by 'date' and 'sentiment_label', then calculate the cumulative sum\n",
    "grouped = df.groupby(['date', 'sentiment_label'])['sentiment_score'].sum().groupby(level=1).cumsum().reset_index()\n",
    "\n",
    "# Pivot the table\n",
    "pivot_df = grouped.pivot(index='date', columns='sentiment_label', values='sentiment_score')\n",
    "\n",
    "change_in_scores = pivot_df.diff().fillna(0)  # Calculate the change from previous time point\n",
    "\n",
    "# Plot the rate of change\n",
    "plt.figure(figsize=(12, 6))\n",
    "for sentiment_label in change_in_scores.columns:\n",
    "    plt.plot(change_in_scores.index, change_in_scores[sentiment_label], label=f'Change in Sentiment {sentiment_label}')\n",
    "\n",
    "plt.xlabel('Date')\n",
    "plt.ylabel('Rate of Change in Sentiment Score')\n",
    "plt.title('Rate of Change in Sentiment Scores Over Time')\n",
    "plt.legend()\n",
    "plt.show()\n"
   ]
  },
  {
   "cell_type": "markdown",
   "metadata": {},
   "source": [
    "### Observations from the Rate of Change in Sentiment Scores Over Time Graph\n",
    "\n",
    "- **Sentiment 0 (Negative)**: Indicated by the blue line, remains consistently low throughout the period.\n",
    "- **Sentiment 1 (Neutral)**: Indicated by the orange line, exhibits the most considerable volatility, with sharp increases and decreases.\n",
    "- **Sentiment 2 (Positive)**: Indicated by the green line, exhibits noticeable volatility with a sharp peak and subsequent drop.\n",
    "\n",
    "### Insights from the Rate of Change in Sentiment Scores Over Time Graph\n",
    "\n",
    "- The consistent low level of change in negative sentiment could imply that negative opinions on `VOO` are stable, with no significant events stirring up negativity during the observed period.\n",
    "- The peak in neutral sentiment might be associated with an occurrence that sparked discussion without necessarily swaying public opinion positively or negatively.\n",
    "- The volatility in positive sentiment points to specific dates where positive sentiments were strongly influenced, warranting further exploration to understand what caused these shifts."
   ]
  },
  {
   "cell_type": "markdown",
   "metadata": {},
   "source": [
    "---\n",
    "\n",
    "## Analyzing the Overall Sentiment"
   ]
  },
  {
   "cell_type": "markdown",
   "metadata": {},
   "source": [
    "### 1. Net Sentiment Score (NSS)"
   ]
  },
  {
   "cell_type": "markdown",
   "metadata": {},
   "source": [
    "The **Normalized Sentiment Score (NSS)** is a statistical method used to quantify the overall sentiment of a dataset. The NSS is derived by subtracting the cumulative sentiment scores of negative comments from those of positive comments for each date. Neutral comments are not included in the NSS calculation as they are considered to have no impact on the overall sentiment polarity. The `MinMaxScaler` from scikit-learn normalizes NSS values to a 0-1 scale, enhancing comparative analysis and visualization by aligning all scores between the observed minimum and maximum."
   ]
  },
  {
   "cell_type": "code",
   "execution_count": 46,
   "metadata": {},
   "outputs": [
    {
     "name": "stderr",
     "output_type": "stream",
     "text": [
      "C:\\Users\\User\\AppData\\Local\\Temp\\ipykernel_23516\\4173628570.py:12: DeprecationWarning:\n",
      "\n",
      "DataFrameGroupBy.apply operated on the grouping columns. This behavior is deprecated, and in a future version of pandas the grouping columns will be excluded from the operation. Either pass `include_groups=False` to exclude the groupings or explicitly select the grouping columns after groupby to silence this warning.\n",
      "\n"
     ]
    },
    {
     "data": {
      "text/html": [
       "<div>\n",
       "<style scoped>\n",
       "    .dataframe tbody tr th:only-of-type {\n",
       "        vertical-align: middle;\n",
       "    }\n",
       "\n",
       "    .dataframe tbody tr th {\n",
       "        vertical-align: top;\n",
       "    }\n",
       "\n",
       "    .dataframe thead th {\n",
       "        text-align: right;\n",
       "    }\n",
       "</style>\n",
       "<table border=\"1\" class=\"dataframe\">\n",
       "  <thead>\n",
       "    <tr style=\"text-align: right;\">\n",
       "      <th></th>\n",
       "      <th>date</th>\n",
       "      <th>nss</th>\n",
       "      <th>normalized_nss</th>\n",
       "    </tr>\n",
       "  </thead>\n",
       "  <tbody>\n",
       "    <tr>\n",
       "      <th>0</th>\n",
       "      <td>2024-03-27</td>\n",
       "      <td>0.976062</td>\n",
       "      <td>0.407557</td>\n",
       "    </tr>\n",
       "    <tr>\n",
       "      <th>1</th>\n",
       "      <td>2024-03-28</td>\n",
       "      <td>3.974690</td>\n",
       "      <td>0.853237</td>\n",
       "    </tr>\n",
       "    <tr>\n",
       "      <th>2</th>\n",
       "      <td>2024-03-29</td>\n",
       "      <td>-1.766060</td>\n",
       "      <td>0.000000</td>\n",
       "    </tr>\n",
       "    <tr>\n",
       "      <th>3</th>\n",
       "      <td>2024-03-30</td>\n",
       "      <td>0.987844</td>\n",
       "      <td>0.409308</td>\n",
       "    </tr>\n",
       "    <tr>\n",
       "      <th>4</th>\n",
       "      <td>2024-03-31</td>\n",
       "      <td>4.962137</td>\n",
       "      <td>1.000000</td>\n",
       "    </tr>\n",
       "    <tr>\n",
       "      <th>5</th>\n",
       "      <td>2024-04-01</td>\n",
       "      <td>1.002523</td>\n",
       "      <td>0.411490</td>\n",
       "    </tr>\n",
       "    <tr>\n",
       "      <th>6</th>\n",
       "      <td>2024-04-02</td>\n",
       "      <td>4.922970</td>\n",
       "      <td>0.994179</td>\n",
       "    </tr>\n",
       "    <tr>\n",
       "      <th>7</th>\n",
       "      <td>2024-04-03</td>\n",
       "      <td>1.999133</td>\n",
       "      <td>0.559614</td>\n",
       "    </tr>\n",
       "    <tr>\n",
       "      <th>8</th>\n",
       "      <td>2024-04-04</td>\n",
       "      <td>0.999972</td>\n",
       "      <td>0.411110</td>\n",
       "    </tr>\n",
       "    <tr>\n",
       "      <th>9</th>\n",
       "      <td>2024-04-05</td>\n",
       "      <td>0.000000</td>\n",
       "      <td>0.262486</td>\n",
       "    </tr>\n",
       "  </tbody>\n",
       "</table>\n",
       "</div>"
      ],
      "text/plain": [
       "         date       nss  normalized_nss\n",
       "0  2024-03-27  0.976062        0.407557\n",
       "1  2024-03-28  3.974690        0.853237\n",
       "2  2024-03-29 -1.766060        0.000000\n",
       "3  2024-03-30  0.987844        0.409308\n",
       "4  2024-03-31  4.962137        1.000000\n",
       "5  2024-04-01  1.002523        0.411490\n",
       "6  2024-04-02  4.922970        0.994179\n",
       "7  2024-04-03  1.999133        0.559614\n",
       "8  2024-04-04  0.999972        0.411110\n",
       "9  2024-04-05  0.000000        0.262486"
      ]
     },
     "execution_count": 46,
     "metadata": {},
     "output_type": "execute_result"
    }
   ],
   "source": [
    "import pandas as pd\n",
    "from sklearn.preprocessing import MinMaxScaler\n",
    "\n",
    "data = {\n",
    "    'date': df['date'],\n",
    "    'sentiment_label': df['sentiment_label'],\n",
    "    'sentiment_score': df['sentiment_score']\n",
    "}\n",
    "nss_df = pd.DataFrame(data)\n",
    "\n",
    "# Calculate Net Sentiment Score including positive, neutral, and negative sentiments\n",
    "nss = nss_df.groupby('date').apply(\n",
    "    lambda x: x[x['sentiment_label'] == 2]['sentiment_score'].sum()  # Sum of positive scores\n",
    "             - x[x['sentiment_label'] == 0]['sentiment_score'].sum()  # Subtract sum of negative scores\n",
    ")\n",
    "\n",
    "# Convert to DataFrame and reset index\n",
    "nss_df = nss.reset_index()\n",
    "nss_df.columns = ['date', 'nss']  # Renaming columns\n",
    "\n",
    "# Normalize the NSS to be between 0 and 1\n",
    "scaler = MinMaxScaler(feature_range=(0, 1))\n",
    "nss_df['normalized_nss'] = scaler.fit_transform(nss_df['nss'].values.reshape(-1, 1))\n",
    "\n",
    "# Display the DataFrame\n",
    "nss_df\n"
   ]
  },
  {
   "cell_type": "code",
   "execution_count": 47,
   "metadata": {},
   "outputs": [
    {
     "data": {
      "text/html": [
       "<div>\n",
       "<style scoped>\n",
       "    .dataframe tbody tr th:only-of-type {\n",
       "        vertical-align: middle;\n",
       "    }\n",
       "\n",
       "    .dataframe tbody tr th {\n",
       "        vertical-align: top;\n",
       "    }\n",
       "\n",
       "    .dataframe thead th {\n",
       "        text-align: right;\n",
       "    }\n",
       "</style>\n",
       "<table border=\"1\" class=\"dataframe\">\n",
       "  <thead>\n",
       "    <tr style=\"text-align: right;\">\n",
       "      <th></th>\n",
       "      <th>Date</th>\n",
       "      <th>Open</th>\n",
       "      <th>High</th>\n",
       "      <th>Low</th>\n",
       "      <th>Close</th>\n",
       "      <th>Adj Close</th>\n",
       "      <th>Volume</th>\n",
       "    </tr>\n",
       "  </thead>\n",
       "  <tbody>\n",
       "    <tr>\n",
       "      <th>0</th>\n",
       "      <td>2024-03-26</td>\n",
       "      <td>479.059998</td>\n",
       "      <td>479.369995</td>\n",
       "      <td>476.429993</td>\n",
       "      <td>476.600006</td>\n",
       "      <td>476.600006</td>\n",
       "      <td>8073500</td>\n",
       "    </tr>\n",
       "    <tr>\n",
       "      <th>1</th>\n",
       "      <td>2024-03-27</td>\n",
       "      <td>479.510010</td>\n",
       "      <td>480.869995</td>\n",
       "      <td>477.450012</td>\n",
       "      <td>480.760010</td>\n",
       "      <td>480.760010</td>\n",
       "      <td>4951400</td>\n",
       "    </tr>\n",
       "    <tr>\n",
       "      <th>2</th>\n",
       "      <td>2024-03-28</td>\n",
       "      <td>480.869995</td>\n",
       "      <td>482.160004</td>\n",
       "      <td>480.500000</td>\n",
       "      <td>480.700012</td>\n",
       "      <td>480.700012</td>\n",
       "      <td>4065000</td>\n",
       "    </tr>\n",
       "    <tr>\n",
       "      <th>3</th>\n",
       "      <td>2024-04-01</td>\n",
       "      <td>481.440002</td>\n",
       "      <td>481.959991</td>\n",
       "      <td>478.829987</td>\n",
       "      <td>480.070007</td>\n",
       "      <td>480.070007</td>\n",
       "      <td>5734000</td>\n",
       "    </tr>\n",
       "    <tr>\n",
       "      <th>4</th>\n",
       "      <td>2024-04-02</td>\n",
       "      <td>476.329987</td>\n",
       "      <td>476.989990</td>\n",
       "      <td>474.709991</td>\n",
       "      <td>476.929993</td>\n",
       "      <td>476.929993</td>\n",
       "      <td>4817800</td>\n",
       "    </tr>\n",
       "  </tbody>\n",
       "</table>\n",
       "</div>"
      ],
      "text/plain": [
       "         Date        Open        High         Low       Close   Adj Close  \\\n",
       "0  2024-03-26  479.059998  479.369995  476.429993  476.600006  476.600006   \n",
       "1  2024-03-27  479.510010  480.869995  477.450012  480.760010  480.760010   \n",
       "2  2024-03-28  480.869995  482.160004  480.500000  480.700012  480.700012   \n",
       "3  2024-04-01  481.440002  481.959991  478.829987  480.070007  480.070007   \n",
       "4  2024-04-02  476.329987  476.989990  474.709991  476.929993  476.929993   \n",
       "\n",
       "    Volume  \n",
       "0  8073500  \n",
       "1  4951400  \n",
       "2  4065000  \n",
       "3  5734000  \n",
       "4  4817800  "
      ]
     },
     "execution_count": 47,
     "metadata": {},
     "output_type": "execute_result"
    }
   ],
   "source": [
    "voo_df = pd.read_csv('../datasets/VOO_sentiment.csv')\n",
    "voo_df.head()"
   ]
  },
  {
   "cell_type": "code",
   "execution_count": 48,
   "metadata": {},
   "outputs": [
    {
     "data": {
      "text/html": [
       "<div>\n",
       "<style scoped>\n",
       "    .dataframe tbody tr th:only-of-type {\n",
       "        vertical-align: middle;\n",
       "    }\n",
       "\n",
       "    .dataframe tbody tr th {\n",
       "        vertical-align: top;\n",
       "    }\n",
       "\n",
       "    .dataframe thead th {\n",
       "        text-align: right;\n",
       "    }\n",
       "</style>\n",
       "<table border=\"1\" class=\"dataframe\">\n",
       "  <thead>\n",
       "    <tr style=\"text-align: right;\">\n",
       "      <th></th>\n",
       "      <th>Date</th>\n",
       "      <th>Open</th>\n",
       "      <th>High</th>\n",
       "      <th>Low</th>\n",
       "      <th>Close</th>\n",
       "      <th>Adj Close</th>\n",
       "      <th>Volume</th>\n",
       "      <th>actual_label</th>\n",
       "    </tr>\n",
       "  </thead>\n",
       "  <tbody>\n",
       "    <tr>\n",
       "      <th>0</th>\n",
       "      <td>2024-03-26</td>\n",
       "      <td>479.059998</td>\n",
       "      <td>479.369995</td>\n",
       "      <td>476.429993</td>\n",
       "      <td>476.600006</td>\n",
       "      <td>476.600006</td>\n",
       "      <td>8073500</td>\n",
       "      <td>0</td>\n",
       "    </tr>\n",
       "    <tr>\n",
       "      <th>1</th>\n",
       "      <td>2024-03-27</td>\n",
       "      <td>479.510010</td>\n",
       "      <td>480.869995</td>\n",
       "      <td>477.450012</td>\n",
       "      <td>480.760010</td>\n",
       "      <td>480.760010</td>\n",
       "      <td>4951400</td>\n",
       "      <td>1</td>\n",
       "    </tr>\n",
       "    <tr>\n",
       "      <th>2</th>\n",
       "      <td>2024-03-28</td>\n",
       "      <td>480.869995</td>\n",
       "      <td>482.160004</td>\n",
       "      <td>480.500000</td>\n",
       "      <td>480.700012</td>\n",
       "      <td>480.700012</td>\n",
       "      <td>4065000</td>\n",
       "      <td>0</td>\n",
       "    </tr>\n",
       "    <tr>\n",
       "      <th>3</th>\n",
       "      <td>2024-04-01</td>\n",
       "      <td>481.440002</td>\n",
       "      <td>481.959991</td>\n",
       "      <td>478.829987</td>\n",
       "      <td>480.070007</td>\n",
       "      <td>480.070007</td>\n",
       "      <td>5734000</td>\n",
       "      <td>0</td>\n",
       "    </tr>\n",
       "    <tr>\n",
       "      <th>4</th>\n",
       "      <td>2024-04-02</td>\n",
       "      <td>476.329987</td>\n",
       "      <td>476.989990</td>\n",
       "      <td>474.709991</td>\n",
       "      <td>476.929993</td>\n",
       "      <td>476.929993</td>\n",
       "      <td>4817800</td>\n",
       "      <td>1</td>\n",
       "    </tr>\n",
       "  </tbody>\n",
       "</table>\n",
       "</div>"
      ],
      "text/plain": [
       "         Date        Open        High         Low       Close   Adj Close  \\\n",
       "0  2024-03-26  479.059998  479.369995  476.429993  476.600006  476.600006   \n",
       "1  2024-03-27  479.510010  480.869995  477.450012  480.760010  480.760010   \n",
       "2  2024-03-28  480.869995  482.160004  480.500000  480.700012  480.700012   \n",
       "3  2024-04-01  481.440002  481.959991  478.829987  480.070007  480.070007   \n",
       "4  2024-04-02  476.329987  476.989990  474.709991  476.929993  476.929993   \n",
       "\n",
       "    Volume  actual_label  \n",
       "0  8073500             0  \n",
       "1  4951400             1  \n",
       "2  4065000             0  \n",
       "3  5734000             0  \n",
       "4  4817800             1  "
      ]
     },
     "execution_count": 48,
     "metadata": {},
     "output_type": "execute_result"
    }
   ],
   "source": [
    "voo_df['actual_label'] = (voo_df['Close'] > voo_df['Open']).astype(int)\n",
    "\n",
    "voo_df.head()"
   ]
  },
  {
   "cell_type": "code",
   "execution_count": 49,
   "metadata": {},
   "outputs": [
    {
     "data": {
      "text/html": [
       "<div>\n",
       "<style scoped>\n",
       "    .dataframe tbody tr th:only-of-type {\n",
       "        vertical-align: middle;\n",
       "    }\n",
       "\n",
       "    .dataframe tbody tr th {\n",
       "        vertical-align: top;\n",
       "    }\n",
       "\n",
       "    .dataframe thead th {\n",
       "        text-align: right;\n",
       "    }\n",
       "</style>\n",
       "<table border=\"1\" class=\"dataframe\">\n",
       "  <thead>\n",
       "    <tr style=\"text-align: right;\">\n",
       "      <th></th>\n",
       "      <th>date</th>\n",
       "      <th>nss</th>\n",
       "      <th>normalized_nss</th>\n",
       "      <th>actual_label</th>\n",
       "    </tr>\n",
       "  </thead>\n",
       "  <tbody>\n",
       "    <tr>\n",
       "      <th>0</th>\n",
       "      <td>2024-03-27</td>\n",
       "      <td>0.976062</td>\n",
       "      <td>0.407557</td>\n",
       "      <td>1.0</td>\n",
       "    </tr>\n",
       "    <tr>\n",
       "      <th>1</th>\n",
       "      <td>2024-03-28</td>\n",
       "      <td>3.974690</td>\n",
       "      <td>0.853237</td>\n",
       "      <td>0.0</td>\n",
       "    </tr>\n",
       "    <tr>\n",
       "      <th>2</th>\n",
       "      <td>2024-03-29</td>\n",
       "      <td>-1.766060</td>\n",
       "      <td>0.000000</td>\n",
       "      <td>NaN</td>\n",
       "    </tr>\n",
       "    <tr>\n",
       "      <th>3</th>\n",
       "      <td>2024-03-30</td>\n",
       "      <td>0.987844</td>\n",
       "      <td>0.409308</td>\n",
       "      <td>NaN</td>\n",
       "    </tr>\n",
       "    <tr>\n",
       "      <th>4</th>\n",
       "      <td>2024-03-31</td>\n",
       "      <td>4.962137</td>\n",
       "      <td>1.000000</td>\n",
       "      <td>NaN</td>\n",
       "    </tr>\n",
       "    <tr>\n",
       "      <th>5</th>\n",
       "      <td>2024-04-01</td>\n",
       "      <td>1.002523</td>\n",
       "      <td>0.411490</td>\n",
       "      <td>0.0</td>\n",
       "    </tr>\n",
       "    <tr>\n",
       "      <th>6</th>\n",
       "      <td>2024-04-02</td>\n",
       "      <td>4.922970</td>\n",
       "      <td>0.994179</td>\n",
       "      <td>1.0</td>\n",
       "    </tr>\n",
       "    <tr>\n",
       "      <th>7</th>\n",
       "      <td>2024-04-03</td>\n",
       "      <td>1.999133</td>\n",
       "      <td>0.559614</td>\n",
       "      <td>1.0</td>\n",
       "    </tr>\n",
       "    <tr>\n",
       "      <th>8</th>\n",
       "      <td>2024-04-04</td>\n",
       "      <td>0.999972</td>\n",
       "      <td>0.411110</td>\n",
       "      <td>0.0</td>\n",
       "    </tr>\n",
       "    <tr>\n",
       "      <th>9</th>\n",
       "      <td>2024-04-05</td>\n",
       "      <td>0.000000</td>\n",
       "      <td>0.262486</td>\n",
       "      <td>1.0</td>\n",
       "    </tr>\n",
       "  </tbody>\n",
       "</table>\n",
       "</div>"
      ],
      "text/plain": [
       "        date       nss  normalized_nss  actual_label\n",
       "0 2024-03-27  0.976062        0.407557           1.0\n",
       "1 2024-03-28  3.974690        0.853237           0.0\n",
       "2 2024-03-29 -1.766060        0.000000           NaN\n",
       "3 2024-03-30  0.987844        0.409308           NaN\n",
       "4 2024-03-31  4.962137        1.000000           NaN\n",
       "5 2024-04-01  1.002523        0.411490           0.0\n",
       "6 2024-04-02  4.922970        0.994179           1.0\n",
       "7 2024-04-03  1.999133        0.559614           1.0\n",
       "8 2024-04-04  0.999972        0.411110           0.0\n",
       "9 2024-04-05  0.000000        0.262486           1.0"
      ]
     },
     "execution_count": 49,
     "metadata": {},
     "output_type": "execute_result"
    }
   ],
   "source": [
    "nss_df['date'] = pd.to_datetime(nss_df['date'])\n",
    "voo_df['Date'] = pd.to_datetime(voo_df['Date'])\n",
    "\n",
    "voo_df['actual_label'] = voo_df['actual_label']\n",
    "\n",
    "nss_df = pd.merge(nss_df, voo_df, how='left', left_on='date', right_on='Date')\n",
    "\n",
    "nss_df.drop(['Date', 'Open', 'High', 'Low', 'Close', 'Adj Close', 'Volume'], axis=1, inplace=True)\n",
    "\n",
    "nss_df"
   ]
  },
  {
   "cell_type": "markdown",
   "metadata": {},
   "source": [
    "1 means that stock price go higher, 0 means that stock price go lower, NaN means non-trading days."
   ]
  },
  {
   "cell_type": "markdown",
   "metadata": {},
   "source": [
    "### Correlation Analysis and Statistical Measures"
   ]
  },
  {
   "cell_type": "code",
   "execution_count": 50,
   "metadata": {},
   "outputs": [
    {
     "name": "stdout",
     "output_type": "stream",
     "text": [
      "Pearson Correlation Coefficient (NSS): -0.005295778542009397\n"
     ]
    }
   ],
   "source": [
    "# Calculate correlation for NSS\n",
    "correlation_nss = nss_df['normalized_nss'].corr(nss_df['actual_label'], method='pearson')\n",
    "print(\"Pearson Correlation Coefficient (NSS):\", correlation_nss)"
   ]
  },
  {
   "cell_type": "code",
   "execution_count": 51,
   "metadata": {},
   "outputs": [
    {
     "data": {
      "image/png": "[encoded data removed]",
      "text/plain": [
       "<Figure size 1200x600 with 1 Axes>"
      ]
     },
     "metadata": {},
     "output_type": "display_data"
    }
   ],
   "source": [
    "import matplotlib.pyplot as plt\n",
    "\n",
    "plt.figure(figsize=(12, 6))\n",
    "plt.plot(nss_df['date'], nss_df['normalized_nss'], label='NSS', color='blue')\n",
    "\n",
    "for i, row in nss_df.iterrows():\n",
    "    if row['actual_label'] == 1:\n",
    "        plt.scatter(row['date'], row['normalized_nss'], color='green', marker='^', s=200)\n",
    "    elif row['actual_label'] == 0:\n",
    "        plt.scatter(row['date'], row['normalized_nss'], color='red', marker='v', s=200)\n",
    "    else:\n",
    "        plt.scatter(row['date'], row['normalized_nss'], color='grey', marker='o', s=200)\n",
    "\n",
    "plt.xlabel('Date')\n",
    "plt.ylabel('NSS')\n",
    "plt.title('Sentiment and Stock Movement with Triangles')\n",
    "plt.xticks(rotation=45)\n",
    "plt.legend()\n",
    "plt.show()"
   ]
  },
  {
   "cell_type": "code",
   "execution_count": 52,
   "metadata": {},
   "outputs": [
    {
     "data": {
      "application/vnd.plotly.v1+json": {
       "config": {
        "plotlyServerURL": "https://plot.ly"
       },
       "data": [
        {
         "line": {
          "color": "blue"
         },
         "mode": "lines",
         "name": "NSS Sentiment",
         "type": "scatter",
         "x": [
          "2024-03-27T00:00:00",
          "2024-03-28T00:00:00",
          "2024-03-29T00:00:00",
          "2024-03-30T00:00:00",
          "2024-03-31T00:00:00",
          "2024-04-01T00:00:00",
          "2024-04-02T00:00:00",
          "2024-04-03T00:00:00",
          "2024-04-04T00:00:00",
          "2024-04-05T00:00:00"
         ],
         "y": [
          0.4075566462948724,
          0.8532374866539075,
          0,
          0.40930784461386516,
          0.9999999999999999,
          0.4114895781880469,
          0.9941786980787163,
          0.5596139043388915,
          0.4111103893049865,
          0.26248634849592467
         ]
        },
        {
         "marker": {
          "color": "green",
          "size": 10,
          "symbol": "triangle-up"
         },
         "mode": "markers",
         "name": "Stock Up",
         "type": "scatter",
         "x": [
          "2024-03-27T00:00:00"
         ],
         "y": [
          0.4075566462948724
         ]
        },
        {
         "marker": {
          "color": "red",
          "size": 10,
          "symbol": "triangle-down"
         },
         "mode": "markers",
         "name": "Stock Down",
         "type": "scatter",
         "x": [
          "2024-03-28T00:00:00"
         ],
         "y": [
          0.8532374866539075
         ]
        },
        {
         "marker": {
          "color": "grey",
          "size": 10,
          "symbol": "circle"
         },
         "mode": "markers",
         "name": "Market Closed",
         "type": "scatter",
         "x": [
          "2024-03-29T00:00:00"
         ],
         "y": [
          0
         ]
        },
        {
         "marker": {
          "color": "grey",
          "size": 10,
          "symbol": "circle"
         },
         "mode": "markers",
         "name": "Market Closed",
         "type": "scatter",
         "x": [
          "2024-03-30T00:00:00"
         ],
         "y": [
          0.40930784461386516
         ]
        },
        {
         "marker": {
          "color": "grey",
          "size": 10,
          "symbol": "circle"
         },
         "mode": "markers",
         "name": "Market Closed",
         "type": "scatter",
         "x": [
          "2024-03-31T00:00:00"
         ],
         "y": [
          0.9999999999999999
         ]
        },
        {
         "marker": {
          "color": "red",
          "size": 10,
          "symbol": "triangle-down"
         },
         "mode": "markers",
         "name": "Stock Down",
         "type": "scatter",
         "x": [
          "2024-04-01T00:00:00"
         ],
         "y": [
          0.4114895781880469
         ]
        },
        {
         "marker": {
          "color": "green",
          "size": 10,
          "symbol": "triangle-up"
         },
         "mode": "markers",
         "name": "Stock Up",
         "type": "scatter",
         "x": [
          "2024-04-02T00:00:00"
         ],
         "y": [
          0.9941786980787163
         ]
        },
        {
         "marker": {
          "color": "green",
          "size": 10,
          "symbol": "triangle-up"
         },
         "mode": "markers",
         "name": "Stock Up",
         "type": "scatter",
         "x": [
          "2024-04-03T00:00:00"
         ],
         "y": [
          0.5596139043388915
         ]
        },
        {
         "marker": {
          "color": "red",
          "size": 10,
          "symbol": "triangle-down"
         },
         "mode": "markers",
         "name": "Stock Down",
         "type": "scatter",
         "x": [
          "2024-04-04T00:00:00"
         ],
         "y": [
          0.4111103893049865
         ]
        },
        {
         "marker": {
          "color": "green",
          "size": 10,
          "symbol": "triangle-up"
         },
         "mode": "markers",
         "name": "Stock Up",
         "type": "scatter",
         "x": [
          "2024-04-05T00:00:00"
         ],
         "y": [
          0.26248634849592467
         ]
        }
       ],
       "layout": {
        "legend": {
         "title": {
          "text": "Legend"
         }
        },
        "template": {
         "data": {
          "bar": [
           {
            "error_x": {
             "color": "#2a3f5f"
            },
            "error_y": {
             "color": "#2a3f5f"
            },
            "marker": {
             "line": {
              "color": "#E5ECF6",
              "width": 0.5
             },
             "pattern": {
              "fillmode": "overlay",
              "size": 10,
              "solidity": 0.2
             }
            },
            "type": "bar"
           }
          ],
          "barpolar": [
           {
            "marker": {
             "line": {
              "color": "#E5ECF6",
              "width": 0.5
             },
             "pattern": {
              "fillmode": "overlay",
              "size": 10,
              "solidity": 0.2
             }
            },
            "type": "barpolar"
           }
          ],
          "carpet": [
           {
            "aaxis": {
             "endlinecolor": "#2a3f5f",
             "gridcolor": "white",
             "linecolor": "white",
             "minorgridcolor": "white",
             "startlinecolor": "#2a3f5f"
            },
            "baxis": {
             "endlinecolor": "#2a3f5f",
             "gridcolor": "white",
             "linecolor": "white",
             "minorgridcolor": "white",
             "startlinecolor": "#2a3f5f"
            },
            "type": "carpet"
           }
          ],
          "choropleth": [
           {
            "colorbar": {
             "outlinewidth": 0,
             "ticks": ""
            },
            "type": "choropleth"
           }
          ],
          "contour": [
           {
            "colorbar": {
             "outlinewidth": 0,
             "ticks": ""
            },
            "colorscale": [
             [
              0,
              "#0d0887"
             ],
             [
              0.1111111111111111,
              "#46039f"
             ],
             [
              0.2222222222222222,
              "#7201a8"
             ],
             [
              0.3333333333333333,
              "#9c179e"
             ],
             [
              0.4444444444444444,
              "#bd3786"
             ],
             [
              0.5555555555555556,
              "#d8576b"
             ],
             [
              0.6666666666666666,
              "#ed7953"
             ],
             [
              0.7777777777777778,
              "#fb9f3a"
             ],
             [
              0.8888888888888888,
              "#fdca26"
             ],
             [
              1,
              "#f0f921"
             ]
            ],
            "type": "contour"
           }
          ],
          "contourcarpet": [
           {
            "colorbar": {
             "outlinewidth": 0,
             "ticks": ""
            },
            "type": "contourcarpet"
           }
          ],
          "heatmap": [
           {
            "colorbar": {
             "outlinewidth": 0,
             "ticks": ""
            },
            "colorscale": [
             [
              0,
              "#0d0887"
             ],
             [
              0.1111111111111111,
              "#46039f"
             ],
             [
              0.2222222222222222,
              "#7201a8"
             ],
             [
              0.3333333333333333,
              "#9c179e"
             ],
             [
              0.4444444444444444,
              "#bd3786"
             ],
             [
              0.5555555555555556,
              "#d8576b"
             ],
             [
              0.6666666666666666,
              "#ed7953"
             ],
             [
              0.7777777777777778,
              "#fb9f3a"
             ],
             [
              0.8888888888888888,
              "#fdca26"
             ],
             [
              1,
              "#f0f921"
             ]
            ],
            "type": "heatmap"
           }
          ],
          "heatmapgl": [
           {
            "colorbar": {
             "outlinewidth": 0,
             "ticks": ""
            },
            "colorscale": [
             [
              0,
              "#0d0887"
             ],
             [
              0.1111111111111111,
              "#46039f"
             ],
             [
              0.2222222222222222,
              "#7201a8"
             ],
             [
              0.3333333333333333,
              "#9c179e"
             ],
             [
              0.4444444444444444,
              "#bd3786"
             ],
             [
              0.5555555555555556,
              "#d8576b"
             ],
             [
              0.6666666666666666,
              "#ed7953"
             ],
             [
              0.7777777777777778,
              "#fb9f3a"
             ],
             [
              0.8888888888888888,
              "#fdca26"
             ],
             [
              1,
              "#f0f921"
             ]
            ],
            "type": "heatmapgl"
           }
          ],
          "histogram": [
           {
            "marker": {
             "pattern": {
              "fillmode": "overlay",
              "size": 10,
              "solidity": 0.2
             }
            },
            "type": "histogram"
           }
          ],
          "histogram2d": [
           {
            "colorbar": {
             "outlinewidth": 0,
             "ticks": ""
            },
            "colorscale": [
             [
              0,
              "#0d0887"
             ],
             [
              0.1111111111111111,
              "#46039f"
             ],
             [
              0.2222222222222222,
              "#7201a8"
             ],
             [
              0.3333333333333333,
              "#9c179e"
             ],
             [
              0.4444444444444444,
              "#bd3786"
             ],
             [
              0.5555555555555556,
              "#d8576b"
             ],
             [
              0.6666666666666666,
              "#ed7953"
             ],
             [
              0.7777777777777778,
              "#fb9f3a"
             ],
             [
              0.8888888888888888,
              "#fdca26"
             ],
             [
              1,
              "#f0f921"
             ]
            ],
            "type": "histogram2d"
           }
          ],
          "histogram2dcontour": [
           {
            "colorbar": {
             "outlinewidth": 0,
             "ticks": ""
            },
            "colorscale": [
             [
              0,
              "#0d0887"
             ],
             [
              0.1111111111111111,
              "#46039f"
             ],
             [
              0.2222222222222222,
              "#7201a8"
             ],
             [
              0.3333333333333333,
              "#9c179e"
             ],
             [
              0.4444444444444444,
              "#bd3786"
             ],
             [
              0.5555555555555556,
              "#d8576b"
             ],
             [
              0.6666666666666666,
              "#ed7953"
             ],
             [
              0.7777777777777778,
              "#fb9f3a"
             ],
             [
              0.8888888888888888,
              "#fdca26"
             ],
             [
              1,
              "#f0f921"
             ]
            ],
            "type": "histogram2dcontour"
           }
          ],
          "mesh3d": [
           {
            "colorbar": {
             "outlinewidth": 0,
             "ticks": ""
            },
            "type": "mesh3d"
           }
          ],
          "parcoords": [
           {
            "line": {
             "colorbar": {
              "outlinewidth": 0,
              "ticks": ""
             }
            },
            "type": "parcoords"
           }
          ],
          "pie": [
           {
            "automargin": true,
            "type": "pie"
           }
          ],
          "scatter": [
           {
            "fillpattern": {
             "fillmode": "overlay",
             "size": 10,
             "solidity": 0.2
            },
            "type": "scatter"
           }
          ],
          "scatter3d": [
           {
            "line": {
             "colorbar": {
              "outlinewidth": 0,
              "ticks": ""
             }
            },
            "marker": {
             "colorbar": {
              "outlinewidth": 0,
              "ticks": ""
             }
            },
            "type": "scatter3d"
           }
          ],
          "scattercarpet": [
           {
            "marker": {
             "colorbar": {
              "outlinewidth": 0,
              "ticks": ""
             }
            },
            "type": "scattercarpet"
           }
          ],
          "scattergeo": [
           {
            "marker": {
             "colorbar": {
              "outlinewidth": 0,
              "ticks": ""
             }
            },
            "type": "scattergeo"
           }
          ],
          "scattergl": [
           {
            "marker": {
             "colorbar": {
              "outlinewidth": 0,
              "ticks": ""
             }
            },
            "type": "scattergl"
           }
          ],
          "scattermapbox": [
           {
            "marker": {
             "colorbar": {
              "outlinewidth": 0,
              "ticks": ""
             }
            },
            "type": "scattermapbox"
           }
          ],
          "scatterpolar": [
           {
            "marker": {
             "colorbar": {
              "outlinewidth": 0,
              "ticks": ""
             }
            },
            "type": "scatterpolar"
           }
          ],
          "scatterpolargl": [
           {
            "marker": {
             "colorbar": {
              "outlinewidth": 0,
              "ticks": ""
             }
            },
            "type": "scatterpolargl"
           }
          ],
          "scatterternary": [
           {
            "marker": {
             "colorbar": {
              "outlinewidth": 0,
              "ticks": ""
             }
            },
            "type": "scatterternary"
           }
          ],
          "surface": [
           {
            "colorbar": {
             "outlinewidth": 0,
             "ticks": ""
            },
            "colorscale": [
             [
              0,
              "#0d0887"
             ],
             [
              0.1111111111111111,
              "#46039f"
             ],
             [
              0.2222222222222222,
              "#7201a8"
             ],
             [
              0.3333333333333333,
              "#9c179e"
             ],
             [
              0.4444444444444444,
              "#bd3786"
             ],
             [
              0.5555555555555556,
              "#d8576b"
             ],
             [
              0.6666666666666666,
              "#ed7953"
             ],
             [
              0.7777777777777778,
              "#fb9f3a"
             ],
             [
              0.8888888888888888,
              "#fdca26"
             ],
             [
              1,
              "#f0f921"
             ]
            ],
            "type": "surface"
           }
          ],
          "table": [
           {
            "cells": {
             "fill": {
              "color": "#EBF0F8"
             },
             "line": {
              "color": "white"
             }
            },
            "header": {
             "fill": {
              "color": "#C8D4E3"
             },
             "line": {
              "color": "white"
             }
            },
            "type": "table"
           }
          ]
         },
         "layout": {
          "annotationdefaults": {
           "arrowcolor": "#2a3f5f",
           "arrowhead": 0,
           "arrowwidth": 1
          },
          "autotypenumbers": "strict",
          "coloraxis": {
           "colorbar": {
            "outlinewidth": 0,
            "ticks": ""
           }
          },
          "colorscale": {
           "diverging": [
            [
             0,
             "#8e0152"
            ],
            [
             0.1,
             "#c51b7d"
            ],
            [
             0.2,
             "#de77ae"
            ],
            [
             0.3,
             "#f1b6da"
            ],
            [
             0.4,
             "#fde0ef"
            ],
            [
             0.5,
             "#f7f7f7"
            ],
            [
             0.6,
             "#e6f5d0"
            ],
            [
             0.7,
             "#b8e186"
            ],
            [
             0.8,
             "#7fbc41"
            ],
            [
             0.9,
             "#4d9221"
            ],
            [
             1,
             "#276419"
            ]
           ],
           "sequential": [
            [
             0,
             "#0d0887"
            ],
            [
             0.1111111111111111,
             "#46039f"
            ],
            [
             0.2222222222222222,
             "#7201a8"
            ],
            [
             0.3333333333333333,
             "#9c179e"
            ],
            [
             0.4444444444444444,
             "#bd3786"
            ],
            [
             0.5555555555555556,
             "#d8576b"
            ],
            [
             0.6666666666666666,
             "#ed7953"
            ],
            [
             0.7777777777777778,
             "#fb9f3a"
            ],
            [
             0.8888888888888888,
             "#fdca26"
            ],
            [
             1,
             "#f0f921"
            ]
           ],
           "sequentialminus": [
            [
             0,
             "#0d0887"
            ],
            [
             0.1111111111111111,
             "#46039f"
            ],
            [
             0.2222222222222222,
             "#7201a8"
            ],
            [
             0.3333333333333333,
             "#9c179e"
            ],
            [
             0.4444444444444444,
             "#bd3786"
            ],
            [
             0.5555555555555556,
             "#d8576b"
            ],
            [
             0.6666666666666666,
             "#ed7953"
            ],
            [
             0.7777777777777778,
             "#fb9f3a"
            ],
            [
             0.8888888888888888,
             "#fdca26"
            ],
            [
             1,
             "#f0f921"
            ]
           ]
          },
          "colorway": [
           "#636efa",
           "#EF553B",
           "#00cc96",
           "#ab63fa",
           "#FFA15A",
           "#19d3f3",
           "#FF6692",
           "#B6E880",
           "#FF97FF",
           "#FECB52"
          ],
          "font": {
           "color": "#2a3f5f"
          },
          "geo": {
           "bgcolor": "white",
           "lakecolor": "white",
           "landcolor": "#E5ECF6",
           "showlakes": true,
           "showland": true,
           "subunitcolor": "white"
          },
          "hoverlabel": {
           "align": "left"
          },
          "hovermode": "closest",
          "mapbox": {
           "style": "light"
          },
          "paper_bgcolor": "white",
          "plot_bgcolor": "#E5ECF6",
          "polar": {
           "angularaxis": {
            "gridcolor": "white",
            "linecolor": "white",
            "ticks": ""
           },
           "bgcolor": "#E5ECF6",
           "radialaxis": {
            "gridcolor": "white",
            "linecolor": "white",
            "ticks": ""
           }
          },
          "scene": {
           "xaxis": {
            "backgroundcolor": "#E5ECF6",
            "gridcolor": "white",
            "gridwidth": 2,
            "linecolor": "white",
            "showbackground": true,
            "ticks": "",
            "zerolinecolor": "white"
           },
           "yaxis": {
            "backgroundcolor": "#E5ECF6",
            "gridcolor": "white",
            "gridwidth": 2,
            "linecolor": "white",
            "showbackground": true,
            "ticks": "",
            "zerolinecolor": "white"
           },
           "zaxis": {
            "backgroundcolor": "#E5ECF6",
            "gridcolor": "white",
            "gridwidth": 2,
            "linecolor": "white",
            "showbackground": true,
            "ticks": "",
            "zerolinecolor": "white"
           }
          },
          "shapedefaults": {
           "line": {
            "color": "#2a3f5f"
           }
          },
          "ternary": {
           "aaxis": {
            "gridcolor": "white",
            "linecolor": "white",
            "ticks": ""
           },
           "baxis": {
            "gridcolor": "white",
            "linecolor": "white",
            "ticks": ""
           },
           "bgcolor": "#E5ECF6",
           "caxis": {
            "gridcolor": "white",
            "linecolor": "white",
            "ticks": ""
           }
          },
          "title": {
           "x": 0.05
          },
          "xaxis": {
           "automargin": true,
           "gridcolor": "white",
           "linecolor": "white",
           "ticks": "",
           "title": {
            "standoff": 15
           },
           "zerolinecolor": "white",
           "zerolinewidth": 2
          },
          "yaxis": {
           "automargin": true,
           "gridcolor": "white",
           "linecolor": "white",
           "ticks": "",
           "title": {
            "standoff": 15
           },
           "zerolinecolor": "white",
           "zerolinewidth": 2
          }
         }
        },
        "title": {
         "text": "Sentiment and Stock Movement with Interactive Triangles"
        },
        "xaxis": {
         "title": {
          "text": "Date"
         }
        },
        "yaxis": {
         "title": {
          "text": "NSS Sentiment"
         }
        }
       }
      }
     },
     "metadata": {},
     "output_type": "display_data"
    }
   ],
   "source": [
    "import plotly.graph_objects as go\n",
    "\n",
    "# Creating the line plot for weighted average sentiment\n",
    "fig = go.Figure()\n",
    "fig.add_trace(go.Scatter(x=nss_df['date'], y=nss_df['normalized_nss'], mode='lines', name='NSS Sentiment', line=dict(color='blue')))\n",
    "\n",
    "# Adding markers for actual stock labels\n",
    "for i, row in nss_df.iterrows():\n",
    "    if row['actual_label'] == 1:\n",
    "        fig.add_trace(go.Scatter(x=[row['date']], y=[row['normalized_nss']], mode='markers', marker_symbol='triangle-up', marker_color='green', marker_size=10, name='Stock Up'))\n",
    "    elif row['actual_label'] == 0:\n",
    "        fig.add_trace(go.Scatter(x=[row['date']], y=[row['normalized_nss']], mode='markers', marker_symbol='triangle-down', marker_color='red', marker_size=10, name='Stock Down'))\n",
    "    else:\n",
    "        fig.add_trace(go.Scatter(x=[row['date']], y=[row['normalized_nss']], mode='markers', marker_symbol='circle', marker_color='grey', marker_size=10, name='Market Closed'))\n",
    "\n",
    "# Setting layout for the figure\n",
    "fig.update_layout(title='Sentiment and Stock Movement with Interactive Triangles', xaxis_title='Date', yaxis_title='NSS Sentiment', legend_title='Legend')\n",
    "fig.show()"
   ]
  },
  {
   "cell_type": "markdown",
   "metadata": {},
   "source": [
    "### Correlation between Stock Daily Return and NSS Sentiment"
   ]
  },
  {
   "cell_type": "code",
   "execution_count": 53,
   "metadata": {},
   "outputs": [
    {
     "data": {
      "text/html": [
       "<div>\n",
       "<style scoped>\n",
       "    .dataframe tbody tr th:only-of-type {\n",
       "        vertical-align: middle;\n",
       "    }\n",
       "\n",
       "    .dataframe tbody tr th {\n",
       "        vertical-align: top;\n",
       "    }\n",
       "\n",
       "    .dataframe thead th {\n",
       "        text-align: right;\n",
       "    }\n",
       "</style>\n",
       "<table border=\"1\" class=\"dataframe\">\n",
       "  <thead>\n",
       "    <tr style=\"text-align: right;\">\n",
       "      <th></th>\n",
       "      <th>Date</th>\n",
       "      <th>Open</th>\n",
       "      <th>High</th>\n",
       "      <th>Low</th>\n",
       "      <th>Close</th>\n",
       "      <th>Adj Close</th>\n",
       "      <th>Volume</th>\n",
       "      <th>daily_return</th>\n",
       "    </tr>\n",
       "  </thead>\n",
       "  <tbody>\n",
       "    <tr>\n",
       "      <th>0</th>\n",
       "      <td>2024-03-26</td>\n",
       "      <td>479.059998</td>\n",
       "      <td>479.369995</td>\n",
       "      <td>476.429993</td>\n",
       "      <td>476.600006</td>\n",
       "      <td>476.600006</td>\n",
       "      <td>8073500</td>\n",
       "      <td>-0.005135</td>\n",
       "    </tr>\n",
       "    <tr>\n",
       "      <th>1</th>\n",
       "      <td>2024-03-27</td>\n",
       "      <td>479.510010</td>\n",
       "      <td>480.869995</td>\n",
       "      <td>477.450012</td>\n",
       "      <td>480.760010</td>\n",
       "      <td>480.760010</td>\n",
       "      <td>4951400</td>\n",
       "      <td>0.002607</td>\n",
       "    </tr>\n",
       "    <tr>\n",
       "      <th>2</th>\n",
       "      <td>2024-03-28</td>\n",
       "      <td>480.869995</td>\n",
       "      <td>482.160004</td>\n",
       "      <td>480.500000</td>\n",
       "      <td>480.700012</td>\n",
       "      <td>480.700012</td>\n",
       "      <td>4065000</td>\n",
       "      <td>-0.000353</td>\n",
       "    </tr>\n",
       "    <tr>\n",
       "      <th>3</th>\n",
       "      <td>2024-04-01</td>\n",
       "      <td>481.440002</td>\n",
       "      <td>481.959991</td>\n",
       "      <td>478.829987</td>\n",
       "      <td>480.070007</td>\n",
       "      <td>480.070007</td>\n",
       "      <td>5734000</td>\n",
       "      <td>-0.002846</td>\n",
       "    </tr>\n",
       "    <tr>\n",
       "      <th>4</th>\n",
       "      <td>2024-04-02</td>\n",
       "      <td>476.329987</td>\n",
       "      <td>476.989990</td>\n",
       "      <td>474.709991</td>\n",
       "      <td>476.929993</td>\n",
       "      <td>476.929993</td>\n",
       "      <td>4817800</td>\n",
       "      <td>0.001260</td>\n",
       "    </tr>\n",
       "    <tr>\n",
       "      <th>5</th>\n",
       "      <td>2024-04-03</td>\n",
       "      <td>475.839996</td>\n",
       "      <td>478.799988</td>\n",
       "      <td>475.790009</td>\n",
       "      <td>477.359985</td>\n",
       "      <td>477.359985</td>\n",
       "      <td>6218200</td>\n",
       "      <td>0.003194</td>\n",
       "    </tr>\n",
       "    <tr>\n",
       "      <th>6</th>\n",
       "      <td>2024-04-04</td>\n",
       "      <td>481.200012</td>\n",
       "      <td>481.480011</td>\n",
       "      <td>471.269989</td>\n",
       "      <td>471.480011</td>\n",
       "      <td>471.480011</td>\n",
       "      <td>6871200</td>\n",
       "      <td>-0.020200</td>\n",
       "    </tr>\n",
       "    <tr>\n",
       "      <th>7</th>\n",
       "      <td>2024-04-05</td>\n",
       "      <td>472.850006</td>\n",
       "      <td>478.329987</td>\n",
       "      <td>472.420013</td>\n",
       "      <td>476.489990</td>\n",
       "      <td>476.489990</td>\n",
       "      <td>5582200</td>\n",
       "      <td>0.007698</td>\n",
       "    </tr>\n",
       "  </tbody>\n",
       "</table>\n",
       "</div>"
      ],
      "text/plain": [
       "         Date        Open        High         Low       Close   Adj Close  \\\n",
       "0  2024-03-26  479.059998  479.369995  476.429993  476.600006  476.600006   \n",
       "1  2024-03-27  479.510010  480.869995  477.450012  480.760010  480.760010   \n",
       "2  2024-03-28  480.869995  482.160004  480.500000  480.700012  480.700012   \n",
       "3  2024-04-01  481.440002  481.959991  478.829987  480.070007  480.070007   \n",
       "4  2024-04-02  476.329987  476.989990  474.709991  476.929993  476.929993   \n",
       "5  2024-04-03  475.839996  478.799988  475.790009  477.359985  477.359985   \n",
       "6  2024-04-04  481.200012  481.480011  471.269989  471.480011  471.480011   \n",
       "7  2024-04-05  472.850006  478.329987  472.420013  476.489990  476.489990   \n",
       "\n",
       "    Volume  daily_return  \n",
       "0  8073500     -0.005135  \n",
       "1  4951400      0.002607  \n",
       "2  4065000     -0.000353  \n",
       "3  5734000     -0.002846  \n",
       "4  4817800      0.001260  \n",
       "5  6218200      0.003194  \n",
       "6  6871200     -0.020200  \n",
       "7  5582200      0.007698  "
      ]
     },
     "execution_count": 53,
     "metadata": {},
     "output_type": "execute_result"
    }
   ],
   "source": [
    "voo_df = pd.read_csv('../datasets/VOO_sentiment.csv')\n",
    "voo_df['daily_return'] = (voo_df['Close'] - voo_df['Open']) / voo_df['Open']\n",
    "\n",
    "voo_df"
   ]
  },
  {
   "cell_type": "code",
   "execution_count": 54,
   "metadata": {},
   "outputs": [
    {
     "data": {
      "text/html": [
       "<div>\n",
       "<style scoped>\n",
       "    .dataframe tbody tr th:only-of-type {\n",
       "        vertical-align: middle;\n",
       "    }\n",
       "\n",
       "    .dataframe tbody tr th {\n",
       "        vertical-align: top;\n",
       "    }\n",
       "\n",
       "    .dataframe thead th {\n",
       "        text-align: right;\n",
       "    }\n",
       "</style>\n",
       "<table border=\"1\" class=\"dataframe\">\n",
       "  <thead>\n",
       "    <tr style=\"text-align: right;\">\n",
       "      <th></th>\n",
       "      <th>date</th>\n",
       "      <th>nss</th>\n",
       "      <th>normalized_nss</th>\n",
       "      <th>actual_label</th>\n",
       "      <th>daily_return</th>\n",
       "    </tr>\n",
       "  </thead>\n",
       "  <tbody>\n",
       "    <tr>\n",
       "      <th>0</th>\n",
       "      <td>2024-03-27</td>\n",
       "      <td>0.976062</td>\n",
       "      <td>0.407557</td>\n",
       "      <td>1.0</td>\n",
       "      <td>0.002607</td>\n",
       "    </tr>\n",
       "    <tr>\n",
       "      <th>1</th>\n",
       "      <td>2024-03-28</td>\n",
       "      <td>3.974690</td>\n",
       "      <td>0.853237</td>\n",
       "      <td>0.0</td>\n",
       "      <td>-0.000353</td>\n",
       "    </tr>\n",
       "    <tr>\n",
       "      <th>2</th>\n",
       "      <td>2024-03-29</td>\n",
       "      <td>-1.766060</td>\n",
       "      <td>0.000000</td>\n",
       "      <td>NaN</td>\n",
       "      <td>NaN</td>\n",
       "    </tr>\n",
       "    <tr>\n",
       "      <th>3</th>\n",
       "      <td>2024-03-30</td>\n",
       "      <td>0.987844</td>\n",
       "      <td>0.409308</td>\n",
       "      <td>NaN</td>\n",
       "      <td>NaN</td>\n",
       "    </tr>\n",
       "    <tr>\n",
       "      <th>4</th>\n",
       "      <td>2024-03-31</td>\n",
       "      <td>4.962137</td>\n",
       "      <td>1.000000</td>\n",
       "      <td>NaN</td>\n",
       "      <td>NaN</td>\n",
       "    </tr>\n",
       "    <tr>\n",
       "      <th>5</th>\n",
       "      <td>2024-04-01</td>\n",
       "      <td>1.002523</td>\n",
       "      <td>0.411490</td>\n",
       "      <td>0.0</td>\n",
       "      <td>-0.002846</td>\n",
       "    </tr>\n",
       "    <tr>\n",
       "      <th>6</th>\n",
       "      <td>2024-04-02</td>\n",
       "      <td>4.922970</td>\n",
       "      <td>0.994179</td>\n",
       "      <td>1.0</td>\n",
       "      <td>0.001260</td>\n",
       "    </tr>\n",
       "    <tr>\n",
       "      <th>7</th>\n",
       "      <td>2024-04-03</td>\n",
       "      <td>1.999133</td>\n",
       "      <td>0.559614</td>\n",
       "      <td>1.0</td>\n",
       "      <td>0.003194</td>\n",
       "    </tr>\n",
       "    <tr>\n",
       "      <th>8</th>\n",
       "      <td>2024-04-04</td>\n",
       "      <td>0.999972</td>\n",
       "      <td>0.411110</td>\n",
       "      <td>0.0</td>\n",
       "      <td>-0.020200</td>\n",
       "    </tr>\n",
       "    <tr>\n",
       "      <th>9</th>\n",
       "      <td>2024-04-05</td>\n",
       "      <td>0.000000</td>\n",
       "      <td>0.262486</td>\n",
       "      <td>1.0</td>\n",
       "      <td>0.007698</td>\n",
       "    </tr>\n",
       "  </tbody>\n",
       "</table>\n",
       "</div>"
      ],
      "text/plain": [
       "        date       nss  normalized_nss  actual_label  daily_return\n",
       "0 2024-03-27  0.976062        0.407557           1.0      0.002607\n",
       "1 2024-03-28  3.974690        0.853237           0.0     -0.000353\n",
       "2 2024-03-29 -1.766060        0.000000           NaN           NaN\n",
       "3 2024-03-30  0.987844        0.409308           NaN           NaN\n",
       "4 2024-03-31  4.962137        1.000000           NaN           NaN\n",
       "5 2024-04-01  1.002523        0.411490           0.0     -0.002846\n",
       "6 2024-04-02  4.922970        0.994179           1.0      0.001260\n",
       "7 2024-04-03  1.999133        0.559614           1.0      0.003194\n",
       "8 2024-04-04  0.999972        0.411110           0.0     -0.020200\n",
       "9 2024-04-05  0.000000        0.262486           1.0      0.007698"
      ]
     },
     "execution_count": 54,
     "metadata": {},
     "output_type": "execute_result"
    }
   ],
   "source": [
    "voo_df['Date'] = pd.to_datetime(voo_df['Date'])\n",
    "nss_df['date'] = pd.to_datetime(nss_df['date'])\n",
    "\n",
    "nss_df = pd.merge(nss_df, voo_df, how='left', left_on='date', right_on='Date')\n",
    "nss_df.drop(['Date', 'Open', 'High', 'Low', 'Close', 'Adj Close', 'Volume'], axis=1, inplace=True)\n",
    "\n",
    "nss_df"
   ]
  },
  {
   "cell_type": "markdown",
   "metadata": {},
   "source": [
    "#### Dual Y-Axis Time-Series Plot for Normalized NSS and Daily Stock Returns"
   ]
  },
  {
   "cell_type": "code",
   "execution_count": 55,
   "metadata": {},
   "outputs": [
    {
     "data": {
      "image/png": "[encoded data removed]",
      "text/plain": [
       "<Figure size 1200x600 with 2 Axes>"
      ]
     },
     "metadata": {},
     "output_type": "display_data"
    }
   ],
   "source": [
    "import matplotlib.pyplot as plt\n",
    "\n",
    "# Create a figure and a set of subplots\n",
    "fig, ax1 = plt.subplots(figsize=(12, 6))\n",
    "\n",
    "# First axis (ax1) for NSS\n",
    "color = 'tab:blue'\n",
    "ax1.set_xlabel('Date')\n",
    "ax1.set_ylabel('Normalized NSS', color=color)\n",
    "ax1.plot(nss_df['date'], nss_df['normalized_nss'], color=color)\n",
    "ax1.tick_params(axis='y', labelcolor=color)\n",
    "\n",
    "# Create a second y-axis (ax2) for Daily Return\n",
    "ax2 = ax1.twinx()  # instantiate a second axes that shares the same x-axis\n",
    "color = 'tab:green'\n",
    "ax2.set_ylabel('Daily Return', color=color)\n",
    "ax2.plot(nss_df['date'], nss_df['daily_return'], color=color)\n",
    "ax2.tick_params(axis='y', labelcolor=color)\n",
    "\n",
    "# Title and show plot\n",
    "plt.title('Time-Series of Normalized NSS and Daily Return')\n",
    "fig.tight_layout()  # otherwise the right y-label may be slightly clipped\n",
    "plt.show()\n"
   ]
  },
  {
   "cell_type": "markdown",
   "metadata": {},
   "source": [
    "### 2. Weighted Average Calculation"
   ]
  },
  {
   "cell_type": "code",
   "execution_count": 56,
   "metadata": {},
   "outputs": [
    {
     "name": "stderr",
     "output_type": "stream",
     "text": [
      "C:\\Users\\User\\AppData\\Local\\Temp\\ipykernel_23516\\3680299673.py:11: DeprecationWarning:\n",
      "\n",
      "DataFrameGroupBy.apply operated on the grouping columns. This behavior is deprecated, and in a future version of pandas the grouping columns will be excluded from the operation. Either pass `include_groups=False` to exclude the groupings or explicitly select the grouping columns after groupby to silence this warning.\n",
      "\n"
     ]
    },
    {
     "data": {
      "text/html": [
       "<div>\n",
       "<style scoped>\n",
       "    .dataframe tbody tr th:only-of-type {\n",
       "        vertical-align: middle;\n",
       "    }\n",
       "\n",
       "    .dataframe tbody tr th {\n",
       "        vertical-align: top;\n",
       "    }\n",
       "\n",
       "    .dataframe thead th {\n",
       "        text-align: right;\n",
       "    }\n",
       "</style>\n",
       "<table border=\"1\" class=\"dataframe\">\n",
       "  <thead>\n",
       "    <tr style=\"text-align: right;\">\n",
       "      <th></th>\n",
       "      <th>date</th>\n",
       "      <th>weighted_average</th>\n",
       "    </tr>\n",
       "  </thead>\n",
       "  <tbody>\n",
       "    <tr>\n",
       "      <th>0</th>\n",
       "      <td>2024-03-27</td>\n",
       "      <td>1.245679</td>\n",
       "    </tr>\n",
       "    <tr>\n",
       "      <th>1</th>\n",
       "      <td>2024-03-28</td>\n",
       "      <td>1.199104</td>\n",
       "    </tr>\n",
       "    <tr>\n",
       "      <th>2</th>\n",
       "      <td>2024-03-29</td>\n",
       "      <td>0.952866</td>\n",
       "    </tr>\n",
       "    <tr>\n",
       "      <th>3</th>\n",
       "      <td>2024-03-30</td>\n",
       "      <td>1.247756</td>\n",
       "    </tr>\n",
       "    <tr>\n",
       "      <th>4</th>\n",
       "      <td>2024-03-31</td>\n",
       "      <td>1.246772</td>\n",
       "    </tr>\n",
       "    <tr>\n",
       "      <th>5</th>\n",
       "      <td>2024-04-01</td>\n",
       "      <td>1.062737</td>\n",
       "    </tr>\n",
       "    <tr>\n",
       "      <th>6</th>\n",
       "      <td>2024-04-02</td>\n",
       "      <td>1.065669</td>\n",
       "    </tr>\n",
       "    <tr>\n",
       "      <th>7</th>\n",
       "      <td>2024-04-03</td>\n",
       "      <td>1.083322</td>\n",
       "    </tr>\n",
       "    <tr>\n",
       "      <th>8</th>\n",
       "      <td>2024-04-04</td>\n",
       "      <td>1.250019</td>\n",
       "    </tr>\n",
       "    <tr>\n",
       "      <th>9</th>\n",
       "      <td>2024-04-05</td>\n",
       "      <td>1.000000</td>\n",
       "    </tr>\n",
       "  </tbody>\n",
       "</table>\n",
       "</div>"
      ],
      "text/plain": [
       "         date  weighted_average\n",
       "0  2024-03-27          1.245679\n",
       "1  2024-03-28          1.199104\n",
       "2  2024-03-29          0.952866\n",
       "3  2024-03-30          1.247756\n",
       "4  2024-03-31          1.246772\n",
       "5  2024-04-01          1.062737\n",
       "6  2024-04-02          1.065669\n",
       "7  2024-04-03          1.083322\n",
       "8  2024-04-04          1.250019\n",
       "9  2024-04-05          1.000000"
      ]
     },
     "execution_count": 56,
     "metadata": {},
     "output_type": "execute_result"
    }
   ],
   "source": [
    "import pandas as pd\n",
    "\n",
    "data = {\n",
    "    'date': df['date'],\n",
    "    'sentiment_label': df['sentiment_label'],\n",
    "    'sentiment_score': df['sentiment_score']\n",
    "}\n",
    "weighted_avg_df = pd.DataFrame(data)\n",
    "\n",
    "# Calculate Weighted Average Sentiment\n",
    "weighted_avg = weighted_avg_df.groupby('date').apply(\n",
    "    lambda x: (x['sentiment_label'] * x['sentiment_score']).sum() / x['sentiment_score'].sum())\n",
    "\n",
    "# Convert to DataFrame and reset index\n",
    "weighted_avg_df = weighted_avg.reset_index()\n",
    "weighted_avg_df.columns = ['date', 'weighted_average']  # Renaming columns\n",
    "\n",
    "weighted_avg_df\n"
   ]
  },
  {
   "cell_type": "code",
   "execution_count": 57,
   "metadata": {},
   "outputs": [
    {
     "data": {
      "text/html": [
       "<div>\n",
       "<style scoped>\n",
       "    .dataframe tbody tr th:only-of-type {\n",
       "        vertical-align: middle;\n",
       "    }\n",
       "\n",
       "    .dataframe tbody tr th {\n",
       "        vertical-align: top;\n",
       "    }\n",
       "\n",
       "    .dataframe thead th {\n",
       "        text-align: right;\n",
       "    }\n",
       "</style>\n",
       "<table border=\"1\" class=\"dataframe\">\n",
       "  <thead>\n",
       "    <tr style=\"text-align: right;\">\n",
       "      <th></th>\n",
       "      <th>Date</th>\n",
       "      <th>Open</th>\n",
       "      <th>High</th>\n",
       "      <th>Low</th>\n",
       "      <th>Close</th>\n",
       "      <th>Adj Close</th>\n",
       "      <th>Volume</th>\n",
       "    </tr>\n",
       "  </thead>\n",
       "  <tbody>\n",
       "    <tr>\n",
       "      <th>0</th>\n",
       "      <td>2024-03-26</td>\n",
       "      <td>479.059998</td>\n",
       "      <td>479.369995</td>\n",
       "      <td>476.429993</td>\n",
       "      <td>476.600006</td>\n",
       "      <td>476.600006</td>\n",
       "      <td>8073500</td>\n",
       "    </tr>\n",
       "    <tr>\n",
       "      <th>1</th>\n",
       "      <td>2024-03-27</td>\n",
       "      <td>479.510010</td>\n",
       "      <td>480.869995</td>\n",
       "      <td>477.450012</td>\n",
       "      <td>480.760010</td>\n",
       "      <td>480.760010</td>\n",
       "      <td>4951400</td>\n",
       "    </tr>\n",
       "    <tr>\n",
       "      <th>2</th>\n",
       "      <td>2024-03-28</td>\n",
       "      <td>480.869995</td>\n",
       "      <td>482.160004</td>\n",
       "      <td>480.500000</td>\n",
       "      <td>480.700012</td>\n",
       "      <td>480.700012</td>\n",
       "      <td>4065000</td>\n",
       "    </tr>\n",
       "    <tr>\n",
       "      <th>3</th>\n",
       "      <td>2024-04-01</td>\n",
       "      <td>481.440002</td>\n",
       "      <td>481.959991</td>\n",
       "      <td>478.829987</td>\n",
       "      <td>480.070007</td>\n",
       "      <td>480.070007</td>\n",
       "      <td>5734000</td>\n",
       "    </tr>\n",
       "    <tr>\n",
       "      <th>4</th>\n",
       "      <td>2024-04-02</td>\n",
       "      <td>476.329987</td>\n",
       "      <td>476.989990</td>\n",
       "      <td>474.709991</td>\n",
       "      <td>476.929993</td>\n",
       "      <td>476.929993</td>\n",
       "      <td>4817800</td>\n",
       "    </tr>\n",
       "    <tr>\n",
       "      <th>5</th>\n",
       "      <td>2024-04-03</td>\n",
       "      <td>475.839996</td>\n",
       "      <td>478.799988</td>\n",
       "      <td>475.790009</td>\n",
       "      <td>477.359985</td>\n",
       "      <td>477.359985</td>\n",
       "      <td>6218200</td>\n",
       "    </tr>\n",
       "    <tr>\n",
       "      <th>6</th>\n",
       "      <td>2024-04-04</td>\n",
       "      <td>481.200012</td>\n",
       "      <td>481.480011</td>\n",
       "      <td>471.269989</td>\n",
       "      <td>471.480011</td>\n",
       "      <td>471.480011</td>\n",
       "      <td>6871200</td>\n",
       "    </tr>\n",
       "    <tr>\n",
       "      <th>7</th>\n",
       "      <td>2024-04-05</td>\n",
       "      <td>472.850006</td>\n",
       "      <td>478.329987</td>\n",
       "      <td>472.420013</td>\n",
       "      <td>476.489990</td>\n",
       "      <td>476.489990</td>\n",
       "      <td>5582200</td>\n",
       "    </tr>\n",
       "  </tbody>\n",
       "</table>\n",
       "</div>"
      ],
      "text/plain": [
       "         Date        Open        High         Low       Close   Adj Close  \\\n",
       "0  2024-03-26  479.059998  479.369995  476.429993  476.600006  476.600006   \n",
       "1  2024-03-27  479.510010  480.869995  477.450012  480.760010  480.760010   \n",
       "2  2024-03-28  480.869995  482.160004  480.500000  480.700012  480.700012   \n",
       "3  2024-04-01  481.440002  481.959991  478.829987  480.070007  480.070007   \n",
       "4  2024-04-02  476.329987  476.989990  474.709991  476.929993  476.929993   \n",
       "5  2024-04-03  475.839996  478.799988  475.790009  477.359985  477.359985   \n",
       "6  2024-04-04  481.200012  481.480011  471.269989  471.480011  471.480011   \n",
       "7  2024-04-05  472.850006  478.329987  472.420013  476.489990  476.489990   \n",
       "\n",
       "    Volume  \n",
       "0  8073500  \n",
       "1  4951400  \n",
       "2  4065000  \n",
       "3  5734000  \n",
       "4  4817800  \n",
       "5  6218200  \n",
       "6  6871200  \n",
       "7  5582200  "
      ]
     },
     "execution_count": 57,
     "metadata": {},
     "output_type": "execute_result"
    }
   ],
   "source": [
    "voo_df = pd.read_csv('../datasets/VOO_sentiment.csv')\n",
    "voo_df"
   ]
  },
  {
   "cell_type": "code",
   "execution_count": 58,
   "metadata": {},
   "outputs": [
    {
     "data": {
      "text/html": [
       "<div>\n",
       "<style scoped>\n",
       "    .dataframe tbody tr th:only-of-type {\n",
       "        vertical-align: middle;\n",
       "    }\n",
       "\n",
       "    .dataframe tbody tr th {\n",
       "        vertical-align: top;\n",
       "    }\n",
       "\n",
       "    .dataframe thead th {\n",
       "        text-align: right;\n",
       "    }\n",
       "</style>\n",
       "<table border=\"1\" class=\"dataframe\">\n",
       "  <thead>\n",
       "    <tr style=\"text-align: right;\">\n",
       "      <th></th>\n",
       "      <th>Date</th>\n",
       "      <th>Open</th>\n",
       "      <th>High</th>\n",
       "      <th>Low</th>\n",
       "      <th>Close</th>\n",
       "      <th>Adj Close</th>\n",
       "      <th>Volume</th>\n",
       "      <th>actual_label</th>\n",
       "    </tr>\n",
       "  </thead>\n",
       "  <tbody>\n",
       "    <tr>\n",
       "      <th>0</th>\n",
       "      <td>2024-03-26</td>\n",
       "      <td>479.059998</td>\n",
       "      <td>479.369995</td>\n",
       "      <td>476.429993</td>\n",
       "      <td>476.600006</td>\n",
       "      <td>476.600006</td>\n",
       "      <td>8073500</td>\n",
       "      <td>0</td>\n",
       "    </tr>\n",
       "    <tr>\n",
       "      <th>1</th>\n",
       "      <td>2024-03-27</td>\n",
       "      <td>479.510010</td>\n",
       "      <td>480.869995</td>\n",
       "      <td>477.450012</td>\n",
       "      <td>480.760010</td>\n",
       "      <td>480.760010</td>\n",
       "      <td>4951400</td>\n",
       "      <td>1</td>\n",
       "    </tr>\n",
       "    <tr>\n",
       "      <th>2</th>\n",
       "      <td>2024-03-28</td>\n",
       "      <td>480.869995</td>\n",
       "      <td>482.160004</td>\n",
       "      <td>480.500000</td>\n",
       "      <td>480.700012</td>\n",
       "      <td>480.700012</td>\n",
       "      <td>4065000</td>\n",
       "      <td>0</td>\n",
       "    </tr>\n",
       "    <tr>\n",
       "      <th>3</th>\n",
       "      <td>2024-04-01</td>\n",
       "      <td>481.440002</td>\n",
       "      <td>481.959991</td>\n",
       "      <td>478.829987</td>\n",
       "      <td>480.070007</td>\n",
       "      <td>480.070007</td>\n",
       "      <td>5734000</td>\n",
       "      <td>0</td>\n",
       "    </tr>\n",
       "    <tr>\n",
       "      <th>4</th>\n",
       "      <td>2024-04-02</td>\n",
       "      <td>476.329987</td>\n",
       "      <td>476.989990</td>\n",
       "      <td>474.709991</td>\n",
       "      <td>476.929993</td>\n",
       "      <td>476.929993</td>\n",
       "      <td>4817800</td>\n",
       "      <td>1</td>\n",
       "    </tr>\n",
       "    <tr>\n",
       "      <th>5</th>\n",
       "      <td>2024-04-03</td>\n",
       "      <td>475.839996</td>\n",
       "      <td>478.799988</td>\n",
       "      <td>475.790009</td>\n",
       "      <td>477.359985</td>\n",
       "      <td>477.359985</td>\n",
       "      <td>6218200</td>\n",
       "      <td>1</td>\n",
       "    </tr>\n",
       "    <tr>\n",
       "      <th>6</th>\n",
       "      <td>2024-04-04</td>\n",
       "      <td>481.200012</td>\n",
       "      <td>481.480011</td>\n",
       "      <td>471.269989</td>\n",
       "      <td>471.480011</td>\n",
       "      <td>471.480011</td>\n",
       "      <td>6871200</td>\n",
       "      <td>0</td>\n",
       "    </tr>\n",
       "    <tr>\n",
       "      <th>7</th>\n",
       "      <td>2024-04-05</td>\n",
       "      <td>472.850006</td>\n",
       "      <td>478.329987</td>\n",
       "      <td>472.420013</td>\n",
       "      <td>476.489990</td>\n",
       "      <td>476.489990</td>\n",
       "      <td>5582200</td>\n",
       "      <td>1</td>\n",
       "    </tr>\n",
       "  </tbody>\n",
       "</table>\n",
       "</div>"
      ],
      "text/plain": [
       "         Date        Open        High         Low       Close   Adj Close  \\\n",
       "0  2024-03-26  479.059998  479.369995  476.429993  476.600006  476.600006   \n",
       "1  2024-03-27  479.510010  480.869995  477.450012  480.760010  480.760010   \n",
       "2  2024-03-28  480.869995  482.160004  480.500000  480.700012  480.700012   \n",
       "3  2024-04-01  481.440002  481.959991  478.829987  480.070007  480.070007   \n",
       "4  2024-04-02  476.329987  476.989990  474.709991  476.929993  476.929993   \n",
       "5  2024-04-03  475.839996  478.799988  475.790009  477.359985  477.359985   \n",
       "6  2024-04-04  481.200012  481.480011  471.269989  471.480011  471.480011   \n",
       "7  2024-04-05  472.850006  478.329987  472.420013  476.489990  476.489990   \n",
       "\n",
       "    Volume  actual_label  \n",
       "0  8073500             0  \n",
       "1  4951400             1  \n",
       "2  4065000             0  \n",
       "3  5734000             0  \n",
       "4  4817800             1  \n",
       "5  6218200             1  \n",
       "6  6871200             0  \n",
       "7  5582200             1  "
      ]
     },
     "execution_count": 58,
     "metadata": {},
     "output_type": "execute_result"
    }
   ],
   "source": [
    "voo_df['actual_label'] = (voo_df['Close'] > voo_df['Open']).astype(int)\n",
    "\n",
    "voo_df"
   ]
  },
  {
   "cell_type": "code",
   "execution_count": 59,
   "metadata": {},
   "outputs": [
    {
     "data": {
      "text/html": [
       "<div>\n",
       "<style scoped>\n",
       "    .dataframe tbody tr th:only-of-type {\n",
       "        vertical-align: middle;\n",
       "    }\n",
       "\n",
       "    .dataframe tbody tr th {\n",
       "        vertical-align: top;\n",
       "    }\n",
       "\n",
       "    .dataframe thead th {\n",
       "        text-align: right;\n",
       "    }\n",
       "</style>\n",
       "<table border=\"1\" class=\"dataframe\">\n",
       "  <thead>\n",
       "    <tr style=\"text-align: right;\">\n",
       "      <th></th>\n",
       "      <th>date</th>\n",
       "      <th>weighted_average</th>\n",
       "      <th>actual_label</th>\n",
       "    </tr>\n",
       "  </thead>\n",
       "  <tbody>\n",
       "    <tr>\n",
       "      <th>0</th>\n",
       "      <td>2024-03-27</td>\n",
       "      <td>1.245679</td>\n",
       "      <td>1.0</td>\n",
       "    </tr>\n",
       "    <tr>\n",
       "      <th>1</th>\n",
       "      <td>2024-03-28</td>\n",
       "      <td>1.199104</td>\n",
       "      <td>0.0</td>\n",
       "    </tr>\n",
       "    <tr>\n",
       "      <th>2</th>\n",
       "      <td>2024-03-29</td>\n",
       "      <td>0.952866</td>\n",
       "      <td>NaN</td>\n",
       "    </tr>\n",
       "    <tr>\n",
       "      <th>3</th>\n",
       "      <td>2024-03-30</td>\n",
       "      <td>1.247756</td>\n",
       "      <td>NaN</td>\n",
       "    </tr>\n",
       "    <tr>\n",
       "      <th>4</th>\n",
       "      <td>2024-03-31</td>\n",
       "      <td>1.246772</td>\n",
       "      <td>NaN</td>\n",
       "    </tr>\n",
       "    <tr>\n",
       "      <th>5</th>\n",
       "      <td>2024-04-01</td>\n",
       "      <td>1.062737</td>\n",
       "      <td>0.0</td>\n",
       "    </tr>\n",
       "    <tr>\n",
       "      <th>6</th>\n",
       "      <td>2024-04-02</td>\n",
       "      <td>1.065669</td>\n",
       "      <td>1.0</td>\n",
       "    </tr>\n",
       "    <tr>\n",
       "      <th>7</th>\n",
       "      <td>2024-04-03</td>\n",
       "      <td>1.083322</td>\n",
       "      <td>1.0</td>\n",
       "    </tr>\n",
       "    <tr>\n",
       "      <th>8</th>\n",
       "      <td>2024-04-04</td>\n",
       "      <td>1.250019</td>\n",
       "      <td>0.0</td>\n",
       "    </tr>\n",
       "    <tr>\n",
       "      <th>9</th>\n",
       "      <td>2024-04-05</td>\n",
       "      <td>1.000000</td>\n",
       "      <td>1.0</td>\n",
       "    </tr>\n",
       "  </tbody>\n",
       "</table>\n",
       "</div>"
      ],
      "text/plain": [
       "        date  weighted_average  actual_label\n",
       "0 2024-03-27          1.245679           1.0\n",
       "1 2024-03-28          1.199104           0.0\n",
       "2 2024-03-29          0.952866           NaN\n",
       "3 2024-03-30          1.247756           NaN\n",
       "4 2024-03-31          1.246772           NaN\n",
       "5 2024-04-01          1.062737           0.0\n",
       "6 2024-04-02          1.065669           1.0\n",
       "7 2024-04-03          1.083322           1.0\n",
       "8 2024-04-04          1.250019           0.0\n",
       "9 2024-04-05          1.000000           1.0"
      ]
     },
     "execution_count": 59,
     "metadata": {},
     "output_type": "execute_result"
    }
   ],
   "source": [
    "weighted_avg_df['date'] = pd.to_datetime(weighted_avg_df['date'])\n",
    "voo_df['Date'] = pd.to_datetime(voo_df['Date'])\n",
    "\n",
    "weighted_avg_df = pd.merge(weighted_avg_df, voo_df, how='left', left_on='date', right_on='Date')\n",
    "\n",
    "weighted_avg_df.drop(['Date', 'Open', 'High', 'Low', 'Close', 'Adj Close', 'Volume'], axis=1, inplace=True)\n",
    "\n",
    "weighted_avg_df"
   ]
  },
  {
   "cell_type": "markdown",
   "metadata": {},
   "source": [
    "1 means that stock price go higher, 0 means that stock price go lower, NaN means non-trading days."
   ]
  },
  {
   "cell_type": "markdown",
   "metadata": {},
   "source": [
    "### Correlation Analysis and Statistical Measures"
   ]
  },
  {
   "cell_type": "code",
   "execution_count": 60,
   "metadata": {},
   "outputs": [
    {
     "name": "stdout",
     "output_type": "stream",
     "text": [
      "Pearson Correlation Coefficient: -0.38363834138989156\n"
     ]
    }
   ],
   "source": [
    "import pandas as pd\n",
    "\n",
    "correlation = weighted_avg_df['weighted_average'].corr(weighted_avg_df['actual_label'], method='pearson')\n",
    "print(\"Pearson Correlation Coefficient:\", correlation)"
   ]
  },
  {
   "cell_type": "code",
   "execution_count": 61,
   "metadata": {},
   "outputs": [
    {
     "data": {
      "image/png": "[encoded data removed]",
      "text/plain": [
       "<Figure size 1000x600 with 1 Axes>"
      ]
     },
     "metadata": {},
     "output_type": "display_data"
    }
   ],
   "source": [
    "plt.figure(figsize=(10, 6))\n",
    "plt.plot(weighted_avg_df['date'], weighted_avg_df['weighted_average'], label='Weighted Average Sentiment', color='blue')\n",
    "\n",
    "for i, row in weighted_avg_df.iterrows():\n",
    "    if row['actual_label'] == 1:\n",
    "        plt.scatter(row['date'], row['weighted_average'], color='green', marker='^', s=200)\n",
    "    elif row['actual_label'] == 0:\n",
    "        plt.scatter(row['date'], row['weighted_average'], color='red', marker='v', s=200)\n",
    "    else:\n",
    "        plt.scatter(row['date'], row['weighted_average'], color='grey', marker='o', s=200)\n",
    "\n",
    "plt.xlabel('Date')\n",
    "plt.ylabel('Weighted Average Sentiment')\n",
    "plt.title('Sentiment and Stock Movement with Triangles')\n",
    "plt.xticks(rotation=45)\n",
    "plt.legend()\n",
    "plt.show()\n"
   ]
  },
  {
   "cell_type": "code",
   "execution_count": 62,
   "metadata": {},
   "outputs": [
    {
     "data": {
      "application/vnd.plotly.v1+json": {
       "config": {
        "plotlyServerURL": "https://plot.ly"
       },
       "data": [
        {
         "line": {
          "color": "blue"
         },
         "mode": "lines",
         "name": "Weighted Average Sentiment",
         "type": "scatter",
         "x": [
          "2024-03-27T00:00:00",
          "2024-03-28T00:00:00",
          "2024-03-29T00:00:00",
          "2024-03-30T00:00:00",
          "2024-03-31T00:00:00",
          "2024-04-01T00:00:00",
          "2024-04-02T00:00:00",
          "2024-04-03T00:00:00",
          "2024-04-04T00:00:00",
          "2024-04-05T00:00:00"
         ],
         "y": [
          1.2456794766910047,
          1.1991036426575805,
          0.9528655550496488,
          1.2477559121247388,
          1.2467724237996396,
          1.0627372521389373,
          1.0656690043485009,
          1.0833221845426926,
          1.2500187140603791,
          1
         ]
        },
        {
         "marker": {
          "color": "green",
          "size": 10,
          "symbol": "triangle-up"
         },
         "mode": "markers",
         "name": "Stock Up",
         "type": "scatter",
         "x": [
          "2024-03-27T00:00:00"
         ],
         "y": [
          1.2456794766910047
         ]
        },
        {
         "marker": {
          "color": "red",
          "size": 10,
          "symbol": "triangle-down"
         },
         "mode": "markers",
         "name": "Stock Down",
         "type": "scatter",
         "x": [
          "2024-03-28T00:00:00"
         ],
         "y": [
          1.1991036426575805
         ]
        },
        {
         "marker": {
          "color": "grey",
          "size": 10,
          "symbol": "circle"
         },
         "mode": "markers",
         "name": "Market Closed",
         "type": "scatter",
         "x": [
          "2024-03-29T00:00:00"
         ],
         "y": [
          0.9528655550496488
         ]
        },
        {
         "marker": {
          "color": "grey",
          "size": 10,
          "symbol": "circle"
         },
         "mode": "markers",
         "name": "Market Closed",
         "type": "scatter",
         "x": [
          "2024-03-30T00:00:00"
         ],
         "y": [
          1.2477559121247388
         ]
        },
        {
         "marker": {
          "color": "grey",
          "size": 10,
          "symbol": "circle"
         },
         "mode": "markers",
         "name": "Market Closed",
         "type": "scatter",
         "x": [
          "2024-03-31T00:00:00"
         ],
         "y": [
          1.2467724237996396
         ]
        },
        {
         "marker": {
          "color": "red",
          "size": 10,
          "symbol": "triangle-down"
         },
         "mode": "markers",
         "name": "Stock Down",
         "type": "scatter",
         "x": [
          "2024-04-01T00:00:00"
         ],
         "y": [
          1.0627372521389373
         ]
        },
        {
         "marker": {
          "color": "green",
          "size": 10,
          "symbol": "triangle-up"
         },
         "mode": "markers",
         "name": "Stock Up",
         "type": "scatter",
         "x": [
          "2024-04-02T00:00:00"
         ],
         "y": [
          1.0656690043485009
         ]
        },
        {
         "marker": {
          "color": "green",
          "size": 10,
          "symbol": "triangle-up"
         },
         "mode": "markers",
         "name": "Stock Up",
         "type": "scatter",
         "x": [
          "2024-04-03T00:00:00"
         ],
         "y": [
          1.0833221845426926
         ]
        },
        {
         "marker": {
          "color": "red",
          "size": 10,
          "symbol": "triangle-down"
         },
         "mode": "markers",
         "name": "Stock Down",
         "type": "scatter",
         "x": [
          "2024-04-04T00:00:00"
         ],
         "y": [
          1.2500187140603791
         ]
        },
        {
         "marker": {
          "color": "green",
          "size": 10,
          "symbol": "triangle-up"
         },
         "mode": "markers",
         "name": "Stock Up",
         "type": "scatter",
         "x": [
          "2024-04-05T00:00:00"
         ],
         "y": [
          1
         ]
        }
       ],
       "layout": {
        "legend": {
         "title": {
          "text": "Legend"
         }
        },
        "template": {
         "data": {
          "bar": [
           {
            "error_x": {
             "color": "#2a3f5f"
            },
            "error_y": {
             "color": "#2a3f5f"
            },
            "marker": {
             "line": {
              "color": "#E5ECF6",
              "width": 0.5
             },
             "pattern": {
              "fillmode": "overlay",
              "size": 10,
              "solidity": 0.2
             }
            },
            "type": "bar"
           }
          ],
          "barpolar": [
           {
            "marker": {
             "line": {
              "color": "#E5ECF6",
              "width": 0.5
             },
             "pattern": {
              "fillmode": "overlay",
              "size": 10,
              "solidity": 0.2
             }
            },
            "type": "barpolar"
           }
          ],
          "carpet": [
           {
            "aaxis": {
             "endlinecolor": "#2a3f5f",
             "gridcolor": "white",
             "linecolor": "white",
             "minorgridcolor": "white",
             "startlinecolor": "#2a3f5f"
            },
            "baxis": {
             "endlinecolor": "#2a3f5f",
             "gridcolor": "white",
             "linecolor": "white",
             "minorgridcolor": "white",
             "startlinecolor": "#2a3f5f"
            },
            "type": "carpet"
           }
          ],
          "choropleth": [
           {
            "colorbar": {
             "outlinewidth": 0,
             "ticks": ""
            },
            "type": "choropleth"
           }
          ],
          "contour": [
           {
            "colorbar": {
             "outlinewidth": 0,
             "ticks": ""
            },
            "colorscale": [
             [
              0,
              "#0d0887"
             ],
             [
              0.1111111111111111,
              "#46039f"
             ],
             [
              0.2222222222222222,
              "#7201a8"
             ],
             [
              0.3333333333333333,
              "#9c179e"
             ],
             [
              0.4444444444444444,
              "#bd3786"
             ],
             [
              0.5555555555555556,
              "#d8576b"
             ],
             [
              0.6666666666666666,
              "#ed7953"
             ],
             [
              0.7777777777777778,
              "#fb9f3a"
             ],
             [
              0.8888888888888888,
              "#fdca26"
             ],
             [
              1,
              "#f0f921"
             ]
            ],
            "type": "contour"
           }
          ],
          "contourcarpet": [
           {
            "colorbar": {
             "outlinewidth": 0,
             "ticks": ""
            },
            "type": "contourcarpet"
           }
          ],
          "heatmap": [
           {
            "colorbar": {
             "outlinewidth": 0,
             "ticks": ""
            },
            "colorscale": [
             [
              0,
              "#0d0887"
             ],
             [
              0.1111111111111111,
              "#46039f"
             ],
             [
              0.2222222222222222,
              "#7201a8"
             ],
             [
              0.3333333333333333,
              "#9c179e"
             ],
             [
              0.4444444444444444,
              "#bd3786"
             ],
             [
              0.5555555555555556,
              "#d8576b"
             ],
             [
              0.6666666666666666,
              "#ed7953"
             ],
             [
              0.7777777777777778,
              "#fb9f3a"
             ],
             [
              0.8888888888888888,
              "#fdca26"
             ],
             [
              1,
              "#f0f921"
             ]
            ],
            "type": "heatmap"
           }
          ],
          "heatmapgl": [
           {
            "colorbar": {
             "outlinewidth": 0,
             "ticks": ""
            },
            "colorscale": [
             [
              0,
              "#0d0887"
             ],
             [
              0.1111111111111111,
              "#46039f"
             ],
             [
              0.2222222222222222,
              "#7201a8"
             ],
             [
              0.3333333333333333,
              "#9c179e"
             ],
             [
              0.4444444444444444,
              "#bd3786"
             ],
             [
              0.5555555555555556,
              "#d8576b"
             ],
             [
              0.6666666666666666,
              "#ed7953"
             ],
             [
              0.7777777777777778,
              "#fb9f3a"
             ],
             [
              0.8888888888888888,
              "#fdca26"
             ],
             [
              1,
              "#f0f921"
             ]
            ],
            "type": "heatmapgl"
           }
          ],
          "histogram": [
           {
            "marker": {
             "pattern": {
              "fillmode": "overlay",
              "size": 10,
              "solidity": 0.2
             }
            },
            "type": "histogram"
           }
          ],
          "histogram2d": [
           {
            "colorbar": {
             "outlinewidth": 0,
             "ticks": ""
            },
            "colorscale": [
             [
              0,
              "#0d0887"
             ],
             [
              0.1111111111111111,
              "#46039f"
             ],
             [
              0.2222222222222222,
              "#7201a8"
             ],
             [
              0.3333333333333333,
              "#9c179e"
             ],
             [
              0.4444444444444444,
              "#bd3786"
             ],
             [
              0.5555555555555556,
              "#d8576b"
             ],
             [
              0.6666666666666666,
              "#ed7953"
             ],
             [
              0.7777777777777778,
              "#fb9f3a"
             ],
             [
              0.8888888888888888,
              "#fdca26"
             ],
             [
              1,
              "#f0f921"
             ]
            ],
            "type": "histogram2d"
           }
          ],
          "histogram2dcontour": [
           {
            "colorbar": {
             "outlinewidth": 0,
             "ticks": ""
            },
            "colorscale": [
             [
              0,
              "#0d0887"
             ],
             [
              0.1111111111111111,
              "#46039f"
             ],
             [
              0.2222222222222222,
              "#7201a8"
             ],
             [
              0.3333333333333333,
              "#9c179e"
             ],
             [
              0.4444444444444444,
              "#bd3786"
             ],
             [
              0.5555555555555556,
              "#d8576b"
             ],
             [
              0.6666666666666666,
              "#ed7953"
             ],
             [
              0.7777777777777778,
              "#fb9f3a"
             ],
             [
              0.8888888888888888,
              "#fdca26"
             ],
             [
              1,
              "#f0f921"
             ]
            ],
            "type": "histogram2dcontour"
           }
          ],
          "mesh3d": [
           {
            "colorbar": {
             "outlinewidth": 0,
             "ticks": ""
            },
            "type": "mesh3d"
           }
          ],
          "parcoords": [
           {
            "line": {
             "colorbar": {
              "outlinewidth": 0,
              "ticks": ""
             }
            },
            "type": "parcoords"
           }
          ],
          "pie": [
           {
            "automargin": true,
            "type": "pie"
           }
          ],
          "scatter": [
           {
            "fillpattern": {
             "fillmode": "overlay",
             "size": 10,
             "solidity": 0.2
            },
            "type": "scatter"
           }
          ],
          "scatter3d": [
           {
            "line": {
             "colorbar": {
              "outlinewidth": 0,
              "ticks": ""
             }
            },
            "marker": {
             "colorbar": {
              "outlinewidth": 0,
              "ticks": ""
             }
            },
            "type": "scatter3d"
           }
          ],
          "scattercarpet": [
           {
            "marker": {
             "colorbar": {
              "outlinewidth": 0,
              "ticks": ""
             }
            },
            "type": "scattercarpet"
           }
          ],
          "scattergeo": [
           {
            "marker": {
             "colorbar": {
              "outlinewidth": 0,
              "ticks": ""
             }
            },
            "type": "scattergeo"
           }
          ],
          "scattergl": [
           {
            "marker": {
             "colorbar": {
              "outlinewidth": 0,
              "ticks": ""
             }
            },
            "type": "scattergl"
           }
          ],
          "scattermapbox": [
           {
            "marker": {
             "colorbar": {
              "outlinewidth": 0,
              "ticks": ""
             }
            },
            "type": "scattermapbox"
           }
          ],
          "scatterpolar": [
           {
            "marker": {
             "colorbar": {
              "outlinewidth": 0,
              "ticks": ""
             }
            },
            "type": "scatterpolar"
           }
          ],
          "scatterpolargl": [
           {
            "marker": {
             "colorbar": {
              "outlinewidth": 0,
              "ticks": ""
             }
            },
            "type": "scatterpolargl"
           }
          ],
          "scatterternary": [
           {
            "marker": {
             "colorbar": {
              "outlinewidth": 0,
              "ticks": ""
             }
            },
            "type": "scatterternary"
           }
          ],
          "surface": [
           {
            "colorbar": {
             "outlinewidth": 0,
             "ticks": ""
            },
            "colorscale": [
             [
              0,
              "#0d0887"
             ],
             [
              0.1111111111111111,
              "#46039f"
             ],
             [
              0.2222222222222222,
              "#7201a8"
             ],
             [
              0.3333333333333333,
              "#9c179e"
             ],
             [
              0.4444444444444444,
              "#bd3786"
             ],
             [
              0.5555555555555556,
              "#d8576b"
             ],
             [
              0.6666666666666666,
              "#ed7953"
             ],
             [
              0.7777777777777778,
              "#fb9f3a"
             ],
             [
              0.8888888888888888,
              "#fdca26"
             ],
             [
              1,
              "#f0f921"
             ]
            ],
            "type": "surface"
           }
          ],
          "table": [
           {
            "cells": {
             "fill": {
              "color": "#EBF0F8"
             },
             "line": {
              "color": "white"
             }
            },
            "header": {
             "fill": {
              "color": "#C8D4E3"
             },
             "line": {
              "color": "white"
             }
            },
            "type": "table"
           }
          ]
         },
         "layout": {
          "annotationdefaults": {
           "arrowcolor": "#2a3f5f",
           "arrowhead": 0,
           "arrowwidth": 1
          },
          "autotypenumbers": "strict",
          "coloraxis": {
           "colorbar": {
            "outlinewidth": 0,
            "ticks": ""
           }
          },
          "colorscale": {
           "diverging": [
            [
             0,
             "#8e0152"
            ],
            [
             0.1,
             "#c51b7d"
            ],
            [
             0.2,
             "#de77ae"
            ],
            [
             0.3,
             "#f1b6da"
            ],
            [
             0.4,
             "#fde0ef"
            ],
            [
             0.5,
             "#f7f7f7"
            ],
            [
             0.6,
             "#e6f5d0"
            ],
            [
             0.7,
             "#b8e186"
            ],
            [
             0.8,
             "#7fbc41"
            ],
            [
             0.9,
             "#4d9221"
            ],
            [
             1,
             "#276419"
            ]
           ],
           "sequential": [
            [
             0,
             "#0d0887"
            ],
            [
             0.1111111111111111,
             "#46039f"
            ],
            [
             0.2222222222222222,
             "#7201a8"
            ],
            [
             0.3333333333333333,
             "#9c179e"
            ],
            [
             0.4444444444444444,
             "#bd3786"
            ],
            [
             0.5555555555555556,
             "#d8576b"
            ],
            [
             0.6666666666666666,
             "#ed7953"
            ],
            [
             0.7777777777777778,
             "#fb9f3a"
            ],
            [
             0.8888888888888888,
             "#fdca26"
            ],
            [
             1,
             "#f0f921"
            ]
           ],
           "sequentialminus": [
            [
             0,
             "#0d0887"
            ],
            [
             0.1111111111111111,
             "#46039f"
            ],
            [
             0.2222222222222222,
             "#7201a8"
            ],
            [
             0.3333333333333333,
             "#9c179e"
            ],
            [
             0.4444444444444444,
             "#bd3786"
            ],
            [
             0.5555555555555556,
             "#d8576b"
            ],
            [
             0.6666666666666666,
             "#ed7953"
            ],
            [
             0.7777777777777778,
             "#fb9f3a"
            ],
            [
             0.8888888888888888,
             "#fdca26"
            ],
            [
             1,
             "#f0f921"
            ]
           ]
          },
          "colorway": [
           "#636efa",
           "#EF553B",
           "#00cc96",
           "#ab63fa",
           "#FFA15A",
           "#19d3f3",
           "#FF6692",
           "#B6E880",
           "#FF97FF",
           "#FECB52"
          ],
          "font": {
           "color": "#2a3f5f"
          },
          "geo": {
           "bgcolor": "white",
           "lakecolor": "white",
           "landcolor": "#E5ECF6",
           "showlakes": true,
           "showland": true,
           "subunitcolor": "white"
          },
          "hoverlabel": {
           "align": "left"
          },
          "hovermode": "closest",
          "mapbox": {
           "style": "light"
          },
          "paper_bgcolor": "white",
          "plot_bgcolor": "#E5ECF6",
          "polar": {
           "angularaxis": {
            "gridcolor": "white",
            "linecolor": "white",
            "ticks": ""
           },
           "bgcolor": "#E5ECF6",
           "radialaxis": {
            "gridcolor": "white",
            "linecolor": "white",
            "ticks": ""
           }
          },
          "scene": {
           "xaxis": {
            "backgroundcolor": "#E5ECF6",
            "gridcolor": "white",
            "gridwidth": 2,
            "linecolor": "white",
            "showbackground": true,
            "ticks": "",
            "zerolinecolor": "white"
           },
           "yaxis": {
            "backgroundcolor": "#E5ECF6",
            "gridcolor": "white",
            "gridwidth": 2,
            "linecolor": "white",
            "showbackground": true,
            "ticks": "",
            "zerolinecolor": "white"
           },
           "zaxis": {
            "backgroundcolor": "#E5ECF6",
            "gridcolor": "white",
            "gridwidth": 2,
            "linecolor": "white",
            "showbackground": true,
            "ticks": "",
            "zerolinecolor": "white"
           }
          },
          "shapedefaults": {
           "line": {
            "color": "#2a3f5f"
           }
          },
          "ternary": {
           "aaxis": {
            "gridcolor": "white",
            "linecolor": "white",
            "ticks": ""
           },
           "baxis": {
            "gridcolor": "white",
            "linecolor": "white",
            "ticks": ""
           },
           "bgcolor": "#E5ECF6",
           "caxis": {
            "gridcolor": "white",
            "linecolor": "white",
            "ticks": ""
           }
          },
          "title": {
           "x": 0.05
          },
          "xaxis": {
           "automargin": true,
           "gridcolor": "white",
           "linecolor": "white",
           "ticks": "",
           "title": {
            "standoff": 15
           },
           "zerolinecolor": "white",
           "zerolinewidth": 2
          },
          "yaxis": {
           "automargin": true,
           "gridcolor": "white",
           "linecolor": "white",
           "ticks": "",
           "title": {
            "standoff": 15
           },
           "zerolinecolor": "white",
           "zerolinewidth": 2
          }
         }
        },
        "title": {
         "text": "Sentiment and Stock Movement with Interactive Triangles"
        },
        "xaxis": {
         "title": {
          "text": "Date"
         }
        },
        "yaxis": {
         "title": {
          "text": "Weighted Average Sentiment"
         }
        }
       }
      }
     },
     "metadata": {},
     "output_type": "display_data"
    }
   ],
   "source": [
    "import plotly.graph_objects as go\n",
    "\n",
    "# Creating the line plot for weighted average sentiment\n",
    "fig = go.Figure()\n",
    "fig.add_trace(go.Scatter(x=weighted_avg_df['date'], y=weighted_avg_df['weighted_average'], mode='lines', name='Weighted Average Sentiment', line=dict(color='blue')))\n",
    "\n",
    "# Adding markers for actual stock labels\n",
    "for i, row in weighted_avg_df.iterrows():\n",
    "    if row['actual_label'] == 1:\n",
    "        fig.add_trace(go.Scatter(x=[row['date']], y=[row['weighted_average']], mode='markers', marker_symbol='triangle-up', marker_color='green', marker_size=10, name='Stock Up'))\n",
    "    elif row['actual_label'] == 0:\n",
    "        fig.add_trace(go.Scatter(x=[row['date']], y=[row['weighted_average']], mode='markers', marker_symbol='triangle-down', marker_color='red', marker_size=10, name='Stock Down'))\n",
    "    else:\n",
    "        fig.add_trace(go.Scatter(x=[row['date']], y=[row['weighted_average']], mode='markers', marker_symbol='circle', marker_color='grey', marker_size=10, name='Market Closed'))\n",
    "\n",
    "# Setting layout for the figure\n",
    "fig.update_layout(title='Sentiment and Stock Movement with Interactive Triangles', xaxis_title='Date', yaxis_title='Weighted Average Sentiment', legend_title='Legend')\n",
    "fig.show()\n"
   ]
  },
  {
   "cell_type": "markdown",
   "metadata": {},
   "source": [
    "### Correlation between Stock Daily Returns and Weighted Average Sentiment"
   ]
  },
  {
   "cell_type": "code",
   "execution_count": 63,
   "metadata": {},
   "outputs": [
    {
     "data": {
      "text/html": [
       "<div>\n",
       "<style scoped>\n",
       "    .dataframe tbody tr th:only-of-type {\n",
       "        vertical-align: middle;\n",
       "    }\n",
       "\n",
       "    .dataframe tbody tr th {\n",
       "        vertical-align: top;\n",
       "    }\n",
       "\n",
       "    .dataframe thead th {\n",
       "        text-align: right;\n",
       "    }\n",
       "</style>\n",
       "<table border=\"1\" class=\"dataframe\">\n",
       "  <thead>\n",
       "    <tr style=\"text-align: right;\">\n",
       "      <th></th>\n",
       "      <th>Date</th>\n",
       "      <th>Open</th>\n",
       "      <th>High</th>\n",
       "      <th>Low</th>\n",
       "      <th>Close</th>\n",
       "      <th>Adj Close</th>\n",
       "      <th>Volume</th>\n",
       "      <th>daily_return</th>\n",
       "    </tr>\n",
       "  </thead>\n",
       "  <tbody>\n",
       "    <tr>\n",
       "      <th>0</th>\n",
       "      <td>2024-03-26</td>\n",
       "      <td>479.059998</td>\n",
       "      <td>479.369995</td>\n",
       "      <td>476.429993</td>\n",
       "      <td>476.600006</td>\n",
       "      <td>476.600006</td>\n",
       "      <td>8073500</td>\n",
       "      <td>-0.005135</td>\n",
       "    </tr>\n",
       "    <tr>\n",
       "      <th>1</th>\n",
       "      <td>2024-03-27</td>\n",
       "      <td>479.510010</td>\n",
       "      <td>480.869995</td>\n",
       "      <td>477.450012</td>\n",
       "      <td>480.760010</td>\n",
       "      <td>480.760010</td>\n",
       "      <td>4951400</td>\n",
       "      <td>0.002607</td>\n",
       "    </tr>\n",
       "    <tr>\n",
       "      <th>2</th>\n",
       "      <td>2024-03-28</td>\n",
       "      <td>480.869995</td>\n",
       "      <td>482.160004</td>\n",
       "      <td>480.500000</td>\n",
       "      <td>480.700012</td>\n",
       "      <td>480.700012</td>\n",
       "      <td>4065000</td>\n",
       "      <td>-0.000353</td>\n",
       "    </tr>\n",
       "    <tr>\n",
       "      <th>3</th>\n",
       "      <td>2024-04-01</td>\n",
       "      <td>481.440002</td>\n",
       "      <td>481.959991</td>\n",
       "      <td>478.829987</td>\n",
       "      <td>480.070007</td>\n",
       "      <td>480.070007</td>\n",
       "      <td>5734000</td>\n",
       "      <td>-0.002846</td>\n",
       "    </tr>\n",
       "    <tr>\n",
       "      <th>4</th>\n",
       "      <td>2024-04-02</td>\n",
       "      <td>476.329987</td>\n",
       "      <td>476.989990</td>\n",
       "      <td>474.709991</td>\n",
       "      <td>476.929993</td>\n",
       "      <td>476.929993</td>\n",
       "      <td>4817800</td>\n",
       "      <td>0.001260</td>\n",
       "    </tr>\n",
       "    <tr>\n",
       "      <th>5</th>\n",
       "      <td>2024-04-03</td>\n",
       "      <td>475.839996</td>\n",
       "      <td>478.799988</td>\n",
       "      <td>475.790009</td>\n",
       "      <td>477.359985</td>\n",
       "      <td>477.359985</td>\n",
       "      <td>6218200</td>\n",
       "      <td>0.003194</td>\n",
       "    </tr>\n",
       "    <tr>\n",
       "      <th>6</th>\n",
       "      <td>2024-04-04</td>\n",
       "      <td>481.200012</td>\n",
       "      <td>481.480011</td>\n",
       "      <td>471.269989</td>\n",
       "      <td>471.480011</td>\n",
       "      <td>471.480011</td>\n",
       "      <td>6871200</td>\n",
       "      <td>-0.020200</td>\n",
       "    </tr>\n",
       "    <tr>\n",
       "      <th>7</th>\n",
       "      <td>2024-04-05</td>\n",
       "      <td>472.850006</td>\n",
       "      <td>478.329987</td>\n",
       "      <td>472.420013</td>\n",
       "      <td>476.489990</td>\n",
       "      <td>476.489990</td>\n",
       "      <td>5582200</td>\n",
       "      <td>0.007698</td>\n",
       "    </tr>\n",
       "  </tbody>\n",
       "</table>\n",
       "</div>"
      ],
      "text/plain": [
       "         Date        Open        High         Low       Close   Adj Close  \\\n",
       "0  2024-03-26  479.059998  479.369995  476.429993  476.600006  476.600006   \n",
       "1  2024-03-27  479.510010  480.869995  477.450012  480.760010  480.760010   \n",
       "2  2024-03-28  480.869995  482.160004  480.500000  480.700012  480.700012   \n",
       "3  2024-04-01  481.440002  481.959991  478.829987  480.070007  480.070007   \n",
       "4  2024-04-02  476.329987  476.989990  474.709991  476.929993  476.929993   \n",
       "5  2024-04-03  475.839996  478.799988  475.790009  477.359985  477.359985   \n",
       "6  2024-04-04  481.200012  481.480011  471.269989  471.480011  471.480011   \n",
       "7  2024-04-05  472.850006  478.329987  472.420013  476.489990  476.489990   \n",
       "\n",
       "    Volume  daily_return  \n",
       "0  8073500     -0.005135  \n",
       "1  4951400      0.002607  \n",
       "2  4065000     -0.000353  \n",
       "3  5734000     -0.002846  \n",
       "4  4817800      0.001260  \n",
       "5  6218200      0.003194  \n",
       "6  6871200     -0.020200  \n",
       "7  5582200      0.007698  "
      ]
     },
     "execution_count": 63,
     "metadata": {},
     "output_type": "execute_result"
    }
   ],
   "source": [
    "voo_df = pd.read_csv('../datasets/VOO_sentiment.csv')\n",
    "voo_df['daily_return'] = (voo_df['Close'] - voo_df['Open']) / voo_df['Open']\n",
    "\n",
    "voo_df"
   ]
  },
  {
   "cell_type": "code",
   "execution_count": 64,
   "metadata": {},
   "outputs": [
    {
     "data": {
      "text/html": [
       "<div>\n",
       "<style scoped>\n",
       "    .dataframe tbody tr th:only-of-type {\n",
       "        vertical-align: middle;\n",
       "    }\n",
       "\n",
       "    .dataframe tbody tr th {\n",
       "        vertical-align: top;\n",
       "    }\n",
       "\n",
       "    .dataframe thead th {\n",
       "        text-align: right;\n",
       "    }\n",
       "</style>\n",
       "<table border=\"1\" class=\"dataframe\">\n",
       "  <thead>\n",
       "    <tr style=\"text-align: right;\">\n",
       "      <th></th>\n",
       "      <th>date</th>\n",
       "      <th>weighted_average</th>\n",
       "      <th>actual_label</th>\n",
       "      <th>daily_return</th>\n",
       "    </tr>\n",
       "  </thead>\n",
       "  <tbody>\n",
       "    <tr>\n",
       "      <th>0</th>\n",
       "      <td>2024-03-27</td>\n",
       "      <td>1.245679</td>\n",
       "      <td>1.0</td>\n",
       "      <td>0.002607</td>\n",
       "    </tr>\n",
       "    <tr>\n",
       "      <th>1</th>\n",
       "      <td>2024-03-28</td>\n",
       "      <td>1.199104</td>\n",
       "      <td>0.0</td>\n",
       "      <td>-0.000353</td>\n",
       "    </tr>\n",
       "    <tr>\n",
       "      <th>2</th>\n",
       "      <td>2024-03-29</td>\n",
       "      <td>0.952866</td>\n",
       "      <td>NaN</td>\n",
       "      <td>NaN</td>\n",
       "    </tr>\n",
       "    <tr>\n",
       "      <th>3</th>\n",
       "      <td>2024-03-30</td>\n",
       "      <td>1.247756</td>\n",
       "      <td>NaN</td>\n",
       "      <td>NaN</td>\n",
       "    </tr>\n",
       "    <tr>\n",
       "      <th>4</th>\n",
       "      <td>2024-03-31</td>\n",
       "      <td>1.246772</td>\n",
       "      <td>NaN</td>\n",
       "      <td>NaN</td>\n",
       "    </tr>\n",
       "    <tr>\n",
       "      <th>5</th>\n",
       "      <td>2024-04-01</td>\n",
       "      <td>1.062737</td>\n",
       "      <td>0.0</td>\n",
       "      <td>-0.002846</td>\n",
       "    </tr>\n",
       "    <tr>\n",
       "      <th>6</th>\n",
       "      <td>2024-04-02</td>\n",
       "      <td>1.065669</td>\n",
       "      <td>1.0</td>\n",
       "      <td>0.001260</td>\n",
       "    </tr>\n",
       "    <tr>\n",
       "      <th>7</th>\n",
       "      <td>2024-04-03</td>\n",
       "      <td>1.083322</td>\n",
       "      <td>1.0</td>\n",
       "      <td>0.003194</td>\n",
       "    </tr>\n",
       "    <tr>\n",
       "      <th>8</th>\n",
       "      <td>2024-04-04</td>\n",
       "      <td>1.250019</td>\n",
       "      <td>0.0</td>\n",
       "      <td>-0.020200</td>\n",
       "    </tr>\n",
       "    <tr>\n",
       "      <th>9</th>\n",
       "      <td>2024-04-05</td>\n",
       "      <td>1.000000</td>\n",
       "      <td>1.0</td>\n",
       "      <td>0.007698</td>\n",
       "    </tr>\n",
       "  </tbody>\n",
       "</table>\n",
       "</div>"
      ],
      "text/plain": [
       "        date  weighted_average  actual_label  daily_return\n",
       "0 2024-03-27          1.245679           1.0      0.002607\n",
       "1 2024-03-28          1.199104           0.0     -0.000353\n",
       "2 2024-03-29          0.952866           NaN           NaN\n",
       "3 2024-03-30          1.247756           NaN           NaN\n",
       "4 2024-03-31          1.246772           NaN           NaN\n",
       "5 2024-04-01          1.062737           0.0     -0.002846\n",
       "6 2024-04-02          1.065669           1.0      0.001260\n",
       "7 2024-04-03          1.083322           1.0      0.003194\n",
       "8 2024-04-04          1.250019           0.0     -0.020200\n",
       "9 2024-04-05          1.000000           1.0      0.007698"
      ]
     },
     "execution_count": 64,
     "metadata": {},
     "output_type": "execute_result"
    }
   ],
   "source": [
    "voo_df['Date'] = pd.to_datetime(voo_df['Date'])\n",
    "weighted_avg_df['date'] = pd.to_datetime(weighted_avg_df['date'])\n",
    "\n",
    "weighted_avg_df = pd.merge(weighted_avg_df, voo_df, how='left', left_on='date', right_on='Date')\n",
    "weighted_avg_df.drop(['Date', 'Open', 'High', 'Low', 'Close', 'Adj Close', 'Volume'], axis=1, inplace=True)\n",
    "\n",
    "weighted_avg_df"
   ]
  },
  {
   "cell_type": "markdown",
   "metadata": {},
   "source": [
    "#### Dual Y-Axis Time-Series Plot for Weighted Average and Daily Stock Returns"
   ]
  },
  {
   "cell_type": "code",
   "execution_count": 65,
   "metadata": {},
   "outputs": [
    {
     "data": {
      "image/png": "[encoded data removed]",
      "text/plain": [
       "<Figure size 1200x600 with 2 Axes>"
      ]
     },
     "metadata": {},
     "output_type": "display_data"
    }
   ],
   "source": [
    "import matplotlib.pyplot as plt\n",
    "\n",
    "# Create a figure and a set of subplots\n",
    "fig, ax1 = plt.subplots(figsize=(12, 6))\n",
    "\n",
    "# First axis (ax1) for NSS\n",
    "color = 'tab:blue'\n",
    "ax1.set_xlabel('Date')\n",
    "ax1.set_ylabel('Weighted Average Sentiment', color=color)\n",
    "ax1.plot(nss_df['date'], weighted_avg_df['weighted_average'], color=color)\n",
    "ax1.tick_params(axis='y', labelcolor=color)\n",
    "\n",
    "# Create a second y-axis (ax2) for Daily Return\n",
    "ax2 = ax1.twinx()  # instantiate a second axes that shares the same x-axis\n",
    "color = 'tab:green'\n",
    "ax2.set_ylabel('Daily Return', color=color)\n",
    "ax2.plot(nss_df['date'], weighted_avg_df['daily_return'], color=color)\n",
    "ax2.tick_params(axis='y', labelcolor=color)\n",
    "\n",
    "# Title and show plot\n",
    "plt.title('Time-Series of Normalized NSS and Daily Return')\n",
    "fig.tight_layout()  # otherwise the right y-label may be slightly clipped\n",
    "plt.show()\n"
   ]
  },
  {
   "cell_type": "code",
   "execution_count": null,
   "metadata": {},
   "outputs": [],
   "source": []
  }
 ],
 "metadata": {
  "kernelspec": {
   "display_name": "Python 3",
   "language": "python",
   "name": "python3"
  },
  "language_info": {
   "codemirror_mode": {
    "name": "ipython",
    "version": 3
   },
   "file_extension": ".py",
   "mimetype": "text/x-python",
   "name": "python",
   "nbconvert_exporter": "python",
   "pygments_lexer": "ipython3",
   "version": "3.12.3"
  }
 },
 "nbformat": 4,
 "nbformat_minor": 2
}
