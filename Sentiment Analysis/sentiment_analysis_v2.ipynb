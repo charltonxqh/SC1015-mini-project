{
 "cells": [
  {
   "cell_type": "markdown",
   "metadata": {},
   "source": [
    "# Sentiment Analysis"
   ]
  },
  {
   "cell_type": "markdown",
   "metadata": {},
   "source": [
    "Now, we have our cleaned dataset. We can start do our sentiment analysis on the comments about ```VOO``` from Subreddit ```r/ETFs```."
   ]
  },
  {
   "cell_type": "markdown",
   "metadata": {},
   "source": [
    "## Import Libraries"
   ]
  },
  {
   "cell_type": "code",
   "execution_count": 60,
   "metadata": {},
   "outputs": [],
   "source": [
    "import pandas as pd\n",
    "\n",
    "import torch"
   ]
  },
  {
   "cell_type": "markdown",
   "metadata": {},
   "source": [
    "## Import the datasets"
   ]
  },
  {
   "cell_type": "code",
   "execution_count": 61,
   "metadata": {},
   "outputs": [
    {
     "data": {
      "text/html": [
       "<div>\n",
       "<style scoped>\n",
       "    .dataframe tbody tr th:only-of-type {\n",
       "        vertical-align: middle;\n",
       "    }\n",
       "\n",
       "    .dataframe tbody tr th {\n",
       "        vertical-align: top;\n",
       "    }\n",
       "\n",
       "    .dataframe thead th {\n",
       "        text-align: right;\n",
       "    }\n",
       "</style>\n",
       "<table border=\"1\" class=\"dataframe\">\n",
       "  <thead>\n",
       "    <tr style=\"text-align: right;\">\n",
       "      <th></th>\n",
       "      <th>author</th>\n",
       "      <th>id</th>\n",
       "      <th>date</th>\n",
       "      <th>permalink</th>\n",
       "      <th>body</th>\n",
       "      <th>score</th>\n",
       "      <th>subreddit</th>\n",
       "    </tr>\n",
       "  </thead>\n",
       "  <tbody>\n",
       "    <tr>\n",
       "      <th>0</th>\n",
       "      <td>investing_me</td>\n",
       "      <td>kwsc2e7</td>\n",
       "      <td>2024-03-27</td>\n",
       "      <td>/r/ETFs/comments/1boyqg6/375qqq125tqqq375voo12...</td>\n",
       "      <td>Just buy VOO at this point</td>\n",
       "      <td>6</td>\n",
       "      <td>ETFs</td>\n",
       "    </tr>\n",
       "    <tr>\n",
       "      <th>1</th>\n",
       "      <td>iamfredrick</td>\n",
       "      <td>kwv4b7y</td>\n",
       "      <td>2024-03-27</td>\n",
       "      <td>/r/ETFs/comments/1bpdnmd/schg_schd_vs_voo/kwv4...</td>\n",
       "      <td>Voo &amp; schg have 53% overlap. Past results don’...</td>\n",
       "      <td>3</td>\n",
       "      <td>ETFs</td>\n",
       "    </tr>\n",
       "    <tr>\n",
       "      <th>2</th>\n",
       "      <td>Fun_Grapefruit_3416</td>\n",
       "      <td>kwvj6cq</td>\n",
       "      <td>2024-03-27</td>\n",
       "      <td>/r/ETFs/comments/1bpdnmd/schg_schd_vs_voo/kwvj...</td>\n",
       "      <td>Schd + Schg makes up the majority of voo. Just...</td>\n",
       "      <td>2</td>\n",
       "      <td>ETFs</td>\n",
       "    </tr>\n",
       "    <tr>\n",
       "      <th>3</th>\n",
       "      <td>rem14</td>\n",
       "      <td>kwvnzn8</td>\n",
       "      <td>2024-03-27</td>\n",
       "      <td>/r/ETFs/comments/1bpdnmd/schg_schd_vs_voo/kwvn...</td>\n",
       "      <td>13% overlap with VOO and less than 1% overlap ...</td>\n",
       "      <td>2</td>\n",
       "      <td>ETFs</td>\n",
       "    </tr>\n",
       "    <tr>\n",
       "      <th>4</th>\n",
       "      <td>DITPiranha</td>\n",
       "      <td>kx0qfv5</td>\n",
       "      <td>2024-03-28</td>\n",
       "      <td>/r/ETFs/comments/1bq2hk5/voo_vgt_vti/kx0qfv5/</td>\n",
       "      <td>30% VOO, 30% QQQ, 10% VYM, 10% BND, 10% Mixed ...</td>\n",
       "      <td>1</td>\n",
       "      <td>ETFs</td>\n",
       "    </tr>\n",
       "  </tbody>\n",
       "</table>\n",
       "</div>"
      ],
      "text/plain": [
       "                author       id        date  \\\n",
       "0         investing_me  kwsc2e7  2024-03-27   \n",
       "1          iamfredrick  kwv4b7y  2024-03-27   \n",
       "2  Fun_Grapefruit_3416  kwvj6cq  2024-03-27   \n",
       "3                rem14  kwvnzn8  2024-03-27   \n",
       "4           DITPiranha  kx0qfv5  2024-03-28   \n",
       "\n",
       "                                           permalink  \\\n",
       "0  /r/ETFs/comments/1boyqg6/375qqq125tqqq375voo12...   \n",
       "1  /r/ETFs/comments/1bpdnmd/schg_schd_vs_voo/kwv4...   \n",
       "2  /r/ETFs/comments/1bpdnmd/schg_schd_vs_voo/kwvj...   \n",
       "3  /r/ETFs/comments/1bpdnmd/schg_schd_vs_voo/kwvn...   \n",
       "4      /r/ETFs/comments/1bq2hk5/voo_vgt_vti/kx0qfv5/   \n",
       "\n",
       "                                                body  score subreddit  \n",
       "0                         Just buy VOO at this point      6      ETFs  \n",
       "1  Voo & schg have 53% overlap. Past results don’...      3      ETFs  \n",
       "2  Schd + Schg makes up the majority of voo. Just...      2      ETFs  \n",
       "3  13% overlap with VOO and less than 1% overlap ...      2      ETFs  \n",
       "4  30% VOO, 30% QQQ, 10% VYM, 10% BND, 10% Mixed ...      1      ETFs  "
      ]
     },
     "execution_count": 61,
     "metadata": {},
     "output_type": "execute_result"
    }
   ],
   "source": [
    "df = pd.read_csv('../datasets/cleaned_cmts_voo.csv')\n",
    "df.head()"
   ]
  },
  {
   "cell_type": "markdown",
   "metadata": {},
   "source": [
    "## Using Transformer Model in Sentiment Analysis"
   ]
  },
  {
   "cell_type": "markdown",
   "metadata": {},
   "source": [
    "### Example\n",
    "An example to show the model works."
   ]
  },
  {
   "cell_type": "markdown",
   "metadata": {},
   "source": [
    "### Classify Sentiment"
   ]
  },
  {
   "cell_type": "code",
   "execution_count": 62,
   "metadata": {},
   "outputs": [],
   "source": [
    "from transformers import AutoModelForSequenceClassification, AutoTokenizer, pipeline\n",
    "\n",
    "model_name = \"yiyanghkust/finbert-tone\"\n",
    "sentiment_pipeline = pipeline(\"sentiment-analysis\", model=model_name)"
   ]
  },
  {
   "cell_type": "code",
   "execution_count": 63,
   "metadata": {},
   "outputs": [
    {
     "data": {
      "text/html": [
       "<div>\n",
       "<style scoped>\n",
       "    .dataframe tbody tr th:only-of-type {\n",
       "        vertical-align: middle;\n",
       "    }\n",
       "\n",
       "    .dataframe tbody tr th {\n",
       "        vertical-align: top;\n",
       "    }\n",
       "\n",
       "    .dataframe thead th {\n",
       "        text-align: right;\n",
       "    }\n",
       "</style>\n",
       "<table border=\"1\" class=\"dataframe\">\n",
       "  <thead>\n",
       "    <tr style=\"text-align: right;\">\n",
       "      <th></th>\n",
       "      <th>author</th>\n",
       "      <th>id</th>\n",
       "      <th>date</th>\n",
       "      <th>permalink</th>\n",
       "      <th>body</th>\n",
       "      <th>score</th>\n",
       "      <th>subreddit</th>\n",
       "      <th>sentiment_label</th>\n",
       "      <th>sentiment_score</th>\n",
       "    </tr>\n",
       "  </thead>\n",
       "  <tbody>\n",
       "    <tr>\n",
       "      <th>0</th>\n",
       "      <td>investing_me</td>\n",
       "      <td>kwsc2e7</td>\n",
       "      <td>2024-03-27</td>\n",
       "      <td>/r/ETFs/comments/1boyqg6/375qqq125tqqq375voo12...</td>\n",
       "      <td>Just buy VOO at this point</td>\n",
       "      <td>6</td>\n",
       "      <td>ETFs</td>\n",
       "      <td>1</td>\n",
       "      <td>0.996938</td>\n",
       "    </tr>\n",
       "    <tr>\n",
       "      <th>1</th>\n",
       "      <td>iamfredrick</td>\n",
       "      <td>kwv4b7y</td>\n",
       "      <td>2024-03-27</td>\n",
       "      <td>/r/ETFs/comments/1bpdnmd/schg_schd_vs_voo/kwv4...</td>\n",
       "      <td>Voo &amp; schg have 53% overlap. Past results don’...</td>\n",
       "      <td>3</td>\n",
       "      <td>ETFs</td>\n",
       "      <td>2</td>\n",
       "      <td>0.976062</td>\n",
       "    </tr>\n",
       "    <tr>\n",
       "      <th>2</th>\n",
       "      <td>Fun_Grapefruit_3416</td>\n",
       "      <td>kwvj6cq</td>\n",
       "      <td>2024-03-27</td>\n",
       "      <td>/r/ETFs/comments/1bpdnmd/schg_schd_vs_voo/kwvj...</td>\n",
       "      <td>Schd + Schg makes up the majority of voo. Just...</td>\n",
       "      <td>2</td>\n",
       "      <td>ETFs</td>\n",
       "      <td>1</td>\n",
       "      <td>0.999913</td>\n",
       "    </tr>\n",
       "    <tr>\n",
       "      <th>3</th>\n",
       "      <td>rem14</td>\n",
       "      <td>kwvnzn8</td>\n",
       "      <td>2024-03-27</td>\n",
       "      <td>/r/ETFs/comments/1bpdnmd/schg_schd_vs_voo/kwvn...</td>\n",
       "      <td>13% overlap with VOO and less than 1% overlap ...</td>\n",
       "      <td>2</td>\n",
       "      <td>ETFs</td>\n",
       "      <td>1</td>\n",
       "      <td>0.999995</td>\n",
       "    </tr>\n",
       "    <tr>\n",
       "      <th>4</th>\n",
       "      <td>DITPiranha</td>\n",
       "      <td>kx0qfv5</td>\n",
       "      <td>2024-03-28</td>\n",
       "      <td>/r/ETFs/comments/1bq2hk5/voo_vgt_vti/kx0qfv5/</td>\n",
       "      <td>30% VOO, 30% QQQ, 10% VYM, 10% BND, 10% Mixed ...</td>\n",
       "      <td>1</td>\n",
       "      <td>ETFs</td>\n",
       "      <td>1</td>\n",
       "      <td>1.000000</td>\n",
       "    </tr>\n",
       "  </tbody>\n",
       "</table>\n",
       "</div>"
      ],
      "text/plain": [
       "                author       id        date  \\\n",
       "0         investing_me  kwsc2e7  2024-03-27   \n",
       "1          iamfredrick  kwv4b7y  2024-03-27   \n",
       "2  Fun_Grapefruit_3416  kwvj6cq  2024-03-27   \n",
       "3                rem14  kwvnzn8  2024-03-27   \n",
       "4           DITPiranha  kx0qfv5  2024-03-28   \n",
       "\n",
       "                                           permalink  \\\n",
       "0  /r/ETFs/comments/1boyqg6/375qqq125tqqq375voo12...   \n",
       "1  /r/ETFs/comments/1bpdnmd/schg_schd_vs_voo/kwv4...   \n",
       "2  /r/ETFs/comments/1bpdnmd/schg_schd_vs_voo/kwvj...   \n",
       "3  /r/ETFs/comments/1bpdnmd/schg_schd_vs_voo/kwvn...   \n",
       "4      /r/ETFs/comments/1bq2hk5/voo_vgt_vti/kx0qfv5/   \n",
       "\n",
       "                                                body  score subreddit  \\\n",
       "0                         Just buy VOO at this point      6      ETFs   \n",
       "1  Voo & schg have 53% overlap. Past results don’...      3      ETFs   \n",
       "2  Schd + Schg makes up the majority of voo. Just...      2      ETFs   \n",
       "3  13% overlap with VOO and less than 1% overlap ...      2      ETFs   \n",
       "4  30% VOO, 30% QQQ, 10% VYM, 10% BND, 10% Mixed ...      1      ETFs   \n",
       "\n",
       "   sentiment_label  sentiment_score  \n",
       "0                1         0.996938  \n",
       "1                2         0.976062  \n",
       "2                1         0.999913  \n",
       "3                1         0.999995  \n",
       "4                1         1.000000  "
      ]
     },
     "execution_count": 63,
     "metadata": {},
     "output_type": "execute_result"
    }
   ],
   "source": [
    "# Function to classify sentiment of a single text\n",
    "def classify_sentiment(text):\n",
    "    result = sentiment_pipeline(text)[0]\n",
    "    # Update the sentiment label mapping based on the actual output of your model\n",
    "    sentiment_labels = {'Positive': 2, 'Neutral': 1, 'Negative': 0}\n",
    "    label = sentiment_labels.get(result['label'], -1)  # Default to -1 if label not found\n",
    "    score = result['score']\n",
    "    return label, score\n",
    "\n",
    "# Apply the sentiment analysis to each comment\n",
    "sentiment_results = df['body'].apply(lambda x: classify_sentiment(x[:512]))  # Limiting character count to 512\n",
    "\n",
    "# Create new columns for sentiment label and score\n",
    "df['sentiment_label'], df['sentiment_score'] = zip(*sentiment_results)\n",
    "\n",
    "# Check the DataFrame\n",
    "df.head()"
   ]
  },
  {
   "cell_type": "code",
   "execution_count": 64,
   "metadata": {},
   "outputs": [
    {
     "data": {
      "text/html": [
       "<div>\n",
       "<style scoped>\n",
       "    .dataframe tbody tr th:only-of-type {\n",
       "        vertical-align: middle;\n",
       "    }\n",
       "\n",
       "    .dataframe tbody tr th {\n",
       "        vertical-align: top;\n",
       "    }\n",
       "\n",
       "    .dataframe thead th {\n",
       "        text-align: right;\n",
       "    }\n",
       "</style>\n",
       "<table border=\"1\" class=\"dataframe\">\n",
       "  <thead>\n",
       "    <tr style=\"text-align: right;\">\n",
       "      <th></th>\n",
       "      <th>date</th>\n",
       "      <th>body</th>\n",
       "      <th>sentiment_label</th>\n",
       "      <th>sentiment_score</th>\n",
       "    </tr>\n",
       "  </thead>\n",
       "  <tbody>\n",
       "    <tr>\n",
       "      <th>0</th>\n",
       "      <td>2024-03-27</td>\n",
       "      <td>Just buy VOO at this point</td>\n",
       "      <td>1</td>\n",
       "      <td>0.996938</td>\n",
       "    </tr>\n",
       "    <tr>\n",
       "      <th>1</th>\n",
       "      <td>2024-03-27</td>\n",
       "      <td>Voo &amp; schg have 53% overlap. Past results don’...</td>\n",
       "      <td>2</td>\n",
       "      <td>0.976062</td>\n",
       "    </tr>\n",
       "    <tr>\n",
       "      <th>2</th>\n",
       "      <td>2024-03-27</td>\n",
       "      <td>Schd + Schg makes up the majority of voo. Just...</td>\n",
       "      <td>1</td>\n",
       "      <td>0.999913</td>\n",
       "    </tr>\n",
       "    <tr>\n",
       "      <th>3</th>\n",
       "      <td>2024-03-27</td>\n",
       "      <td>13% overlap with VOO and less than 1% overlap ...</td>\n",
       "      <td>1</td>\n",
       "      <td>0.999995</td>\n",
       "    </tr>\n",
       "    <tr>\n",
       "      <th>4</th>\n",
       "      <td>2024-03-28</td>\n",
       "      <td>30% VOO, 30% QQQ, 10% VYM, 10% BND, 10% Mixed ...</td>\n",
       "      <td>1</td>\n",
       "      <td>1.000000</td>\n",
       "    </tr>\n",
       "  </tbody>\n",
       "</table>\n",
       "</div>"
      ],
      "text/plain": [
       "         date                                               body  \\\n",
       "0  2024-03-27                         Just buy VOO at this point   \n",
       "1  2024-03-27  Voo & schg have 53% overlap. Past results don’...   \n",
       "2  2024-03-27  Schd + Schg makes up the majority of voo. Just...   \n",
       "3  2024-03-27  13% overlap with VOO and less than 1% overlap ...   \n",
       "4  2024-03-28  30% VOO, 30% QQQ, 10% VYM, 10% BND, 10% Mixed ...   \n",
       "\n",
       "   sentiment_label  sentiment_score  \n",
       "0                1         0.996938  \n",
       "1                2         0.976062  \n",
       "2                1         0.999913  \n",
       "3                1         0.999995  \n",
       "4                1         1.000000  "
      ]
     },
     "execution_count": 64,
     "metadata": {},
     "output_type": "execute_result"
    }
   ],
   "source": [
    "sentiment_df = df[['date', 'body', 'sentiment_label', 'sentiment_score']]\n",
    "\n",
    "sentiment_df.head()"
   ]
  },
  {
   "cell_type": "code",
   "execution_count": 65,
   "metadata": {},
   "outputs": [
    {
     "data": {
      "text/plain": [
       "date               0\n",
       "body               0\n",
       "sentiment_label    0\n",
       "sentiment_score    0\n",
       "dtype: int64"
      ]
     },
     "execution_count": 65,
     "metadata": {},
     "output_type": "execute_result"
    }
   ],
   "source": [
    "sentiment_df.isnull().sum()"
   ]
  },
  {
   "cell_type": "markdown",
   "metadata": {},
   "source": [
    "## Visualizing the Data"
   ]
  },
  {
   "cell_type": "markdown",
   "metadata": {},
   "source": [
    "### 1. Time Series of Sentiment Counts\n",
    "- **What it shows**: A bar chart displaying the comparison of the count of positive and negative comments over time.\n",
    "- **Interpretation**: \n",
    "  - The height of the bars represents the count of sentiments (positive or negative) on each date.\n",
    "  - A higher bar for positive sentiments on a specific date indicates more positive comments, and vice versa for negative sentiments.\n",
    "  - The comparison between the heights of positive and negative bars on each date gives a visual representation of the predominant sentiment on that day.\n",
    "- **Insights**: \n",
    "  - This visualization allows for the identification of dates with a significant imbalance between positive and negative sentiments, which can be indicative of specific events or changes in public perception.\n",
    "  - Patterns or trends, such as periods with consistently more positive or negative sentiments, can be easily spotted and correlated with external events or news.\n",
    "  - Sudden changes in the balance between positive and negative sentiment bars can signal shifts in public mood or reaction to specific occurrences."
   ]
  },
  {
   "cell_type": "code",
   "execution_count": 66,
   "metadata": {},
   "outputs": [
    {
     "data": {
      "image/png": "[encoded data removed]",
      "text/plain": [
       "<Figure size 1200x600 with 1 Axes>"
      ]
     },
     "metadata": {},
     "output_type": "display_data"
    }
   ],
   "source": [
    "import pandas as pd\n",
    "import matplotlib.pyplot as plt\n",
    "import seaborn as sns\n",
    "\n",
    "# Group by date and sentiment_label, then count occurrences\n",
    "grouped = df.groupby(['date', 'sentiment_label']).size().unstack(fill_value=0)\n",
    "\n",
    "# Plotting\n",
    "grouped.plot(kind='bar', stacked=True, figsize=(12, 6), color=['red', 'lightgray', 'green'])\n",
    "plt.title('Sentiment Counts Over Time')\n",
    "plt.xlabel('Date')\n",
    "plt.ylabel('Count')\n",
    "plt.legend(['Negative', 'Neutral', 'Positive'])\n",
    "plt.xticks(rotation=45)\n",
    "plt.show()"
   ]
  },
  {
   "cell_type": "markdown",
   "metadata": {},
   "source": [
    "### 2. Heatmap for Sentiment Analysis\n",
    "#### Heatmap for Sentiment Count\n",
    "- **What it shows**: Displays the number of positive and negative comments for each date.\n",
    "- **Interpretation**: \n",
    "  - Each cell represents the count of either positive or negative comments on a specific date.\n",
    "  - The color intensity reflects the volume of comments - darker colors indicate a higher number of comments.\n",
    "- **Insights**: \n",
    "  - Enables identification of dates with unusually high or low activity in terms of comment volume.\n",
    "  - Can be correlated with specific events or news to understand what drives increased discussion and sentiment expression.\n",
    "\n",
    "#### Heatmap for Average Sentiment Intensity\n",
    "- **What it shows**: Represents the average sentiment score for positive and negative comments on each date.\n",
    "- **Interpretation**: \n",
    "  - Each cell shows the average sentiment score for a particular sentiment (positive or negative) on a given date.\n",
    "  - Color intensity reflects sentiment strength - darker colors indicate stronger sentiments (either more strongly positive or negative).\n",
    "- **Insights**: \n",
    "  - Provides a clear view of how intense the sentiments are on specific dates.\n",
    "  - Helps to distinguish between days with strong sentiments versus days with more moderate or mixed feelings.\n",
    "  - Can reveal if there are specific dates where sentiments (positive or negative) are particularly strong, potentially correlating with major events affecting the stock trend."
   ]
  },
  {
   "cell_type": "code",
   "execution_count": 67,
   "metadata": {},
   "outputs": [
    {
     "data": {
      "image/png": "[encoded data removed]",
      "text/plain": [
       "<Figure size 1000x600 with 2 Axes>"
      ]
     },
     "metadata": {},
     "output_type": "display_data"
    },
    {
     "data": {
      "image/png": "[encoded data removed]",
      "text/plain": [
       "<Figure size 1000x600 with 2 Axes>"
      ]
     },
     "metadata": {},
     "output_type": "display_data"
    }
   ],
   "source": [
    "import pandas as pd\n",
    "import seaborn as sns\n",
    "import matplotlib.pyplot as plt\n",
    "\n",
    "# Sample data (replace this with your sentiment_df)\n",
    "data = {\n",
    "    'date': sentiment_df['date'],\n",
    "    'sentiment_label': sentiment_df['sentiment_label'],\n",
    "    'sentiment_score': sentiment_df['sentiment_score']\n",
    "}\n",
    "\n",
    "visualization_df = pd.DataFrame(data)\n",
    "\n",
    "# Heatmap 1: Quantity of Comments\n",
    "# Counting comments\n",
    "count_df = visualization_df.groupby(['date', 'sentiment_label']).size().unstack(fill_value=0)\n",
    "\n",
    "# Plotting heatmap for quantity\n",
    "plt.figure(figsize=(10, 6))\n",
    "sns.heatmap(count_df, annot=True, cmap='coolwarm')\n",
    "plt.title('Quantity of Comments Heatmap')\n",
    "plt.xlabel('Sentiment Label')\n",
    "plt.ylabel('Date')\n",
    "plt.show()\n",
    "\n",
    "# Heatmap 2: Average Sentiment Intensity\n",
    "# Calculating average sentiment score\n",
    "# Group by 'date' and 'sentiment_label' and compute average sentiment score\n",
    "grouped = visualization_df.groupby(['date', 'sentiment_label']).mean().reset_index()\n",
    "\n",
    "# Pivot the table\n",
    "pivot_df = grouped.pivot(index='date', columns='sentiment_label', values='sentiment_score')\n",
    "\n",
    "# Plotting the heatmap\n",
    "plt.figure(figsize=(10, 6))\n",
    "sns.heatmap(pivot_df, annot=True, cmap='viridis')\n",
    "plt.title('Average Sentiment Score Heatmap')\n",
    "plt.xlabel('Sentiment Label')\n",
    "plt.ylabel('Date')\n",
    "plt.show()\n"
   ]
  },
  {
   "cell_type": "markdown",
   "metadata": {},
   "source": [
    "### 3. Stacked Bar Chart with Sentiment Scores\n",
    "- **What it shows**: Displays the number of comments broken down by sentiment score ranges, showing the strength of sentiments.\n",
    "- **Interpretation**: Larger segments of stronger sentiments indicate more intense public feelings.\n",
    "- **Insights**: Identifies the intensity of positive and negative sentiments on specific dates."
   ]
  },
  {
   "cell_type": "code",
   "execution_count": 68,
   "metadata": {},
   "outputs": [
    {
     "name": "stderr",
     "output_type": "stream",
     "text": [
      "C:\\Users\\User\\AppData\\Local\\Temp\\ipykernel_22860\\495504790.py:23: FutureWarning: The default of observed=False is deprecated and will be changed to True in a future version of pandas. Pass observed=False to retain current behavior or observed=True to adopt the future default and silence this warning.\n",
      "  pivot_positive = positive_df.groupby(['date', 'score_bin']).size().unstack(fill_value=0)\n"
     ]
    },
    {
     "data": {
      "image/png": "[encoded data removed]",
      "text/plain": [
       "<Figure size 1000x600 with 1 Axes>"
      ]
     },
     "metadata": {},
     "output_type": "display_data"
    },
    {
     "name": "stderr",
     "output_type": "stream",
     "text": [
      "C:\\Users\\User\\AppData\\Local\\Temp\\ipykernel_22860\\495504790.py:32: FutureWarning: The default of observed=False is deprecated and will be changed to True in a future version of pandas. Pass observed=False to retain current behavior or observed=True to adopt the future default and silence this warning.\n",
      "  pivot_neutral = neutral_df.groupby(['date', 'score_bin']).size().unstack(fill_value=0)\n"
     ]
    },
    {
     "data": {
      "image/png": "[encoded data removed]",
      "text/plain": [
       "<Figure size 1000x600 with 1 Axes>"
      ]
     },
     "metadata": {},
     "output_type": "display_data"
    },
    {
     "name": "stderr",
     "output_type": "stream",
     "text": [
      "C:\\Users\\User\\AppData\\Local\\Temp\\ipykernel_22860\\495504790.py:41: FutureWarning: The default of observed=False is deprecated and will be changed to True in a future version of pandas. Pass observed=False to retain current behavior or observed=True to adopt the future default and silence this warning.\n",
      "  pivot_negative = negative_df.groupby(['date', 'score_bin']).size().unstack(fill_value=0)\n"
     ]
    },
    {
     "data": {
      "image/png": "[encoded data removed]",
      "text/plain": [
       "<Figure size 1000x600 with 1 Axes>"
      ]
     },
     "metadata": {},
     "output_type": "display_data"
    }
   ],
   "source": [
    "import pandas as pd\n",
    "import matplotlib.pyplot as plt\n",
    "\n",
    "# Sample DataFrame (replace with your data)\n",
    "data = {\n",
    "    'date': sentiment_df['date'],\n",
    "    'sentiment_score': sentiment_df['sentiment_score'],\n",
    "    'sentiment_label': sentiment_df['sentiment_label']\n",
    "}\n",
    "visualization_df = pd.DataFrame(data)\n",
    "\n",
    "# Bin the sentiment scores\n",
    "bins = [0, 0.2, 0.4, 0.6, 0.8, 1.0]\n",
    "labels = ['0-0.2', '0.2-0.4', '0.4-0.6', '0.6-0.8', '0.8-1.0']\n",
    "visualization_df['score_bin'] = pd.cut(visualization_df['sentiment_score'], bins=bins, labels=labels)\n",
    "\n",
    "# Separate Positive and Negative DataFrames\n",
    "positive_df = visualization_df[visualization_df['sentiment_label'] == 2]\n",
    "neutral_df = visualization_df[visualization_df['sentiment_label'] == 1]\n",
    "negative_df = visualization_df[visualization_df['sentiment_label'] == 0]\n",
    "\n",
    "# Plotting Stacked Bar Chart for Positive Sentiments\n",
    "pivot_positive = positive_df.groupby(['date', 'score_bin']).size().unstack(fill_value=0)\n",
    "pivot_positive.plot(kind='bar', stacked=True, figsize=(10, 6))\n",
    "plt.title('Positive Sentiment Score Distribution Over Time')\n",
    "plt.xlabel('Date')\n",
    "plt.ylabel('Count of Comments')\n",
    "plt.ylim(0, 70)\n",
    "plt.show()\n",
    "\n",
    "# Plotting Stacked Bar Chart for Neutral Sentiments\n",
    "pivot_neutral = neutral_df.groupby(['date', 'score_bin']).size().unstack(fill_value=0)\n",
    "pivot_neutral.plot(kind='bar', stacked=True, figsize=(10, 6))\n",
    "plt.title('Neutral Sentiment Score Distribution Over Time')\n",
    "plt.xlabel('Date')\n",
    "plt.ylabel('Count of Comments')\n",
    "plt.ylim(0, 70)\n",
    "plt.show()\n",
    "\n",
    "# Plotting Stacked Bar Chart for Negative Sentiments\n",
    "pivot_negative = negative_df.groupby(['date', 'score_bin']).size().unstack(fill_value=0)\n",
    "pivot_negative.plot(kind='bar', stacked=True, figsize=(10, 6))\n",
    "plt.title('Negative Sentiment Score Distribution Over Time')\n",
    "plt.xlabel('Date')\n",
    "plt.ylabel('Count of Comments')\n",
    "plt.ylim(0, 70)\n",
    "plt.show()\n"
   ]
  },
  {
   "cell_type": "markdown",
   "metadata": {},
   "source": [
    "### 4. Cumulative Sentiment Score Over Time\n",
    "- **What it shows**: A line graph displaying the cumulative sentiment score, accumulating sentiment intensities over time.\n",
    "- **Interpretation**: A rising line indicates accumulating positive sentiment, and a falling line indicates increasing negative sentiment.\n",
    "- **Insights**: \n",
    "    - Useful for understanding the overall trend in sentiment, whether it's becoming more positive or negative over time.\n",
    "    - If the graph shows a big increase followed by a big decrease on a specific date, it suggests a significant shift in public sentiment, likely due to a specific event or news."
   ]
  },
  {
   "cell_type": "code",
   "execution_count": 69,
   "metadata": {},
   "outputs": [
    {
     "name": "stderr",
     "output_type": "stream",
     "text": [
      "C:\\Users\\User\\AppData\\Local\\Temp\\ipykernel_22860\\2728887958.py:6: SettingWithCopyWarning: \n",
      "A value is trying to be set on a copy of a slice from a DataFrame.\n",
      "Try using .loc[row_indexer,col_indexer] = value instead\n",
      "\n",
      "See the caveats in the documentation: https://pandas.pydata.org/pandas-docs/stable/user_guide/indexing.html#returning-a-view-versus-a-copy\n",
      "  sentiment_df['date'] = pd.to_datetime(sentiment_df['date'])\n",
      "C:\\Users\\User\\AppData\\Local\\Temp\\ipykernel_22860\\2728887958.py:9: SettingWithCopyWarning: \n",
      "A value is trying to be set on a copy of a slice from a DataFrame.\n",
      "Try using .loc[row_indexer,col_indexer] = value instead\n",
      "\n",
      "See the caveats in the documentation: https://pandas.pydata.org/pandas-docs/stable/user_guide/indexing.html#returning-a-view-versus-a-copy\n",
      "  sentiment_df['sentiment_score'] = pd.to_numeric(sentiment_df['sentiment_score'], errors='coerce')\n"
     ]
    },
    {
     "data": {
      "image/png": "[encoded data removed]",
      "text/plain": [
       "<Figure size 1200x600 with 1 Axes>"
      ]
     },
     "metadata": {},
     "output_type": "display_data"
    }
   ],
   "source": [
    "import pandas as pd\n",
    "import matplotlib.pyplot as plt\n",
    "\n",
    "# Assuming sentiment_df is your DataFrame\n",
    "# Convert 'date' to datetime if it's not already\n",
    "sentiment_df['date'] = pd.to_datetime(sentiment_df['date'])\n",
    "\n",
    "# Ensure 'sentiment_score' is numeric\n",
    "sentiment_df['sentiment_score'] = pd.to_numeric(sentiment_df['sentiment_score'], errors='coerce')\n",
    "\n",
    "# Group by 'date' and 'sentiment_label', then calculate the cumulative sum\n",
    "grouped = sentiment_df.groupby(['date', 'sentiment_label'])['sentiment_score'].sum().groupby(level=1).cumsum().reset_index()\n",
    "\n",
    "# Pivot the table\n",
    "pivot_df = grouped.pivot(index='date', columns='sentiment_label', values='sentiment_score')\n",
    "\n",
    "# Plot\n",
    "plt.figure(figsize=(12, 6))\n",
    "for label in pivot_df.columns:\n",
    "    plt.plot(pivot_df.index, pivot_df[label], label=f'Sentiment {label}')\n",
    "\n",
    "plt.xlabel('Date')\n",
    "plt.ylabel('Cumulative Sentiment Score')\n",
    "plt.title('Cumulative Sentiment Score Over Time')\n",
    "plt.legend(title='Sentiment Label')\n",
    "plt.show()\n"
   ]
  },
  {
   "cell_type": "markdown",
   "metadata": {},
   "source": [
    "### 5. Scatter Plot\n",
    "- **What it shows**: Each comment is plotted as a point, with its date and sentiment score.\n",
    "- **Interpretation**: Clustering of points indicates many strong sentiments on specific dates.\n",
    "- **Insights**: Pinpoints specific days with unusually strong sentiments, and the nature of these sentiments."
   ]
  },
  {
   "cell_type": "code",
   "execution_count": 70,
   "metadata": {},
   "outputs": [
    {
     "data": {
      "image/png": "[encoded data removed]",
      "text/plain": [
       "<Figure size 1000x600 with 1 Axes>"
      ]
     },
     "metadata": {},
     "output_type": "display_data"
    }
   ],
   "source": [
    "# Plot\n",
    "plt.figure(figsize=(10, 6))\n",
    "sns.scatterplot(x='date', y='sentiment_score', hue='sentiment_label', data=df, palette='coolwarm', s=100, alpha=0.5)\n",
    "plt.title('Scatter Plot of Sentiment Scores Over Time')\n",
    "plt.xlabel('Date')\n",
    "plt.ylabel('Sentiment Score')\n",
    "plt.legend(['Negative', 'Neutral', 'Positive'])\n",
    "plt.xticks(rotation=45)\n",
    "plt.show()\n"
   ]
  },
  {
   "cell_type": "markdown",
   "metadata": {},
   "source": [
    "### 6. Box Plot and Violin Plot for Distribution of Sentiment Scores\n",
    "- **What it shows**: These plots show the distribution and variability of sentiment scores for positive and negative comments.\n",
    "- **Interpretation**: The spread and central tendency indicate how sentiment scores vary.\n",
    "- **Insights**: Understands the consistency of sentiments and whether certain types (positive or negative) tend to have stronger feelings."
   ]
  },
  {
   "cell_type": "code",
   "execution_count": 71,
   "metadata": {},
   "outputs": [
    {
     "data": {
      "image/png": "[encoded data removed]",
      "text/plain": [
       "<Figure size 1000x600 with 1 Axes>"
      ]
     },
     "metadata": {},
     "output_type": "display_data"
    },
    {
     "data": {
      "image/png": "[encoded data removed]",
      "text/plain": [
       "<Figure size 1000x600 with 1 Axes>"
      ]
     },
     "metadata": {},
     "output_type": "display_data"
    }
   ],
   "source": [
    "# Box Plot\n",
    "plt.figure(figsize=(10, 6))\n",
    "sns.boxplot(x='sentiment_label', y='sentiment_score', data=sentiment_df)\n",
    "plt.xlabel('Sentiment Label')\n",
    "plt.ylabel('Sentiment Score')\n",
    "plt.title('Box Plot of Sentiment Scores')\n",
    "plt.show()\n",
    "\n",
    "# Violin Plot\n",
    "plt.figure(figsize=(10, 6))\n",
    "sns.violinplot(x='sentiment_label', y='sentiment_score', data=sentiment_df)\n",
    "plt.xlabel('Sentiment Label')\n",
    "plt.ylabel('Sentiment Score')\n",
    "plt.title('Violin Plot of Sentiment Scores')\n",
    "plt.show()\n"
   ]
  },
  {
   "cell_type": "markdown",
   "metadata": {},
   "source": [
    "## Analyzing the Overall Sentiment"
   ]
  },
  {
   "cell_type": "markdown",
   "metadata": {},
   "source": [
    "### 1. Net Sentiment Score (NSS)"
   ]
  },
  {
   "cell_type": "code",
   "execution_count": 72,
   "metadata": {},
   "outputs": [
    {
     "name": "stderr",
     "output_type": "stream",
     "text": [
      "C:\\Users\\User\\AppData\\Local\\Temp\\ipykernel_22860\\1599906162.py:11: DeprecationWarning: DataFrameGroupBy.apply operated on the grouping columns. This behavior is deprecated, and in a future version of pandas the grouping columns will be excluded from the operation. Either pass `include_groups=False` to exclude the groupings or explicitly select the grouping columns after groupby to silence this warning.\n",
      "  nss = nss_df.groupby('date').apply(\n"
     ]
    },
    {
     "data": {
      "text/html": [
       "<div>\n",
       "<style scoped>\n",
       "    .dataframe tbody tr th:only-of-type {\n",
       "        vertical-align: middle;\n",
       "    }\n",
       "\n",
       "    .dataframe tbody tr th {\n",
       "        vertical-align: top;\n",
       "    }\n",
       "\n",
       "    .dataframe thead th {\n",
       "        text-align: right;\n",
       "    }\n",
       "</style>\n",
       "<table border=\"1\" class=\"dataframe\">\n",
       "  <thead>\n",
       "    <tr style=\"text-align: right;\">\n",
       "      <th></th>\n",
       "      <th>date</th>\n",
       "      <th>nss</th>\n",
       "    </tr>\n",
       "  </thead>\n",
       "  <tbody>\n",
       "    <tr>\n",
       "      <th>0</th>\n",
       "      <td>2024-03-27</td>\n",
       "      <td>2.996845</td>\n",
       "    </tr>\n",
       "    <tr>\n",
       "      <th>1</th>\n",
       "      <td>2024-03-28</td>\n",
       "      <td>15.988230</td>\n",
       "    </tr>\n",
       "    <tr>\n",
       "      <th>2</th>\n",
       "      <td>2024-03-29</td>\n",
       "      <td>30.936453</td>\n",
       "    </tr>\n",
       "    <tr>\n",
       "      <th>3</th>\n",
       "      <td>2024-03-30</td>\n",
       "      <td>2.999322</td>\n",
       "    </tr>\n",
       "    <tr>\n",
       "      <th>4</th>\n",
       "      <td>2024-03-31</td>\n",
       "      <td>15.146014</td>\n",
       "    </tr>\n",
       "    <tr>\n",
       "      <th>5</th>\n",
       "      <td>2024-04-01</td>\n",
       "      <td>11.984759</td>\n",
       "    </tr>\n",
       "    <tr>\n",
       "      <th>6</th>\n",
       "      <td>2024-04-02</td>\n",
       "      <td>64.045469</td>\n",
       "    </tr>\n",
       "    <tr>\n",
       "      <th>7</th>\n",
       "      <td>2024-04-03</td>\n",
       "      <td>21.993671</td>\n",
       "    </tr>\n",
       "    <tr>\n",
       "      <th>8</th>\n",
       "      <td>2024-04-04</td>\n",
       "      <td>2.999616</td>\n",
       "    </tr>\n",
       "    <tr>\n",
       "      <th>9</th>\n",
       "      <td>2024-04-05</td>\n",
       "      <td>3.996764</td>\n",
       "    </tr>\n",
       "  </tbody>\n",
       "</table>\n",
       "</div>"
      ],
      "text/plain": [
       "        date        nss\n",
       "0 2024-03-27   2.996845\n",
       "1 2024-03-28  15.988230\n",
       "2 2024-03-29  30.936453\n",
       "3 2024-03-30   2.999322\n",
       "4 2024-03-31  15.146014\n",
       "5 2024-04-01  11.984759\n",
       "6 2024-04-02  64.045469\n",
       "7 2024-04-03  21.993671\n",
       "8 2024-04-04   2.999616\n",
       "9 2024-04-05   3.996764"
      ]
     },
     "execution_count": 72,
     "metadata": {},
     "output_type": "execute_result"
    }
   ],
   "source": [
    "import pandas as pd\n",
    "\n",
    "data = {\n",
    "    'date': sentiment_df['date'],\n",
    "    'sentiment_label': sentiment_df['sentiment_label'],\n",
    "    'sentiment_score': sentiment_df['sentiment_score']\n",
    "}\n",
    "nss_df = pd.DataFrame(data)\n",
    "\n",
    "# Calculate Net Sentiment Score\n",
    "nss = nss_df.groupby('date').apply(\n",
    "    lambda x: (x[x['sentiment_label'] == 1]['sentiment_score'].sum() \n",
    "               - x[x['sentiment_label'] == 0]['sentiment_score'].sum()))\n",
    "\n",
    "# Convert to DataFrame and reset index\n",
    "nss_df = nss.reset_index()\n",
    "nss_df.columns = ['date', 'nss']  # Renaming columns\n",
    "\n",
    "nss_df\n"
   ]
  },
  {
   "cell_type": "markdown",
   "metadata": {},
   "source": [
    "### Normalizing Net Sentiment Scores to a Range of -1 to 0"
   ]
  },
  {
   "cell_type": "code",
   "execution_count": 73,
   "metadata": {},
   "outputs": [
    {
     "data": {
      "text/html": [
       "<div>\n",
       "<style scoped>\n",
       "    .dataframe tbody tr th:only-of-type {\n",
       "        vertical-align: middle;\n",
       "    }\n",
       "\n",
       "    .dataframe tbody tr th {\n",
       "        vertical-align: top;\n",
       "    }\n",
       "\n",
       "    .dataframe thead th {\n",
       "        text-align: right;\n",
       "    }\n",
       "</style>\n",
       "<table border=\"1\" class=\"dataframe\">\n",
       "  <thead>\n",
       "    <tr style=\"text-align: right;\">\n",
       "      <th></th>\n",
       "      <th>date</th>\n",
       "      <th>nss</th>\n",
       "      <th>normalized_nss</th>\n",
       "    </tr>\n",
       "  </thead>\n",
       "  <tbody>\n",
       "    <tr>\n",
       "      <th>0</th>\n",
       "      <td>2024-03-27</td>\n",
       "      <td>2.996845</td>\n",
       "      <td>0.000000</td>\n",
       "    </tr>\n",
       "    <tr>\n",
       "      <th>1</th>\n",
       "      <td>2024-03-28</td>\n",
       "      <td>15.988230</td>\n",
       "      <td>0.212804</td>\n",
       "    </tr>\n",
       "    <tr>\n",
       "      <th>2</th>\n",
       "      <td>2024-03-29</td>\n",
       "      <td>30.936453</td>\n",
       "      <td>0.457662</td>\n",
       "    </tr>\n",
       "    <tr>\n",
       "      <th>3</th>\n",
       "      <td>2024-03-30</td>\n",
       "      <td>2.999322</td>\n",
       "      <td>0.000041</td>\n",
       "    </tr>\n",
       "    <tr>\n",
       "      <th>4</th>\n",
       "      <td>2024-03-31</td>\n",
       "      <td>15.146014</td>\n",
       "      <td>0.199008</td>\n",
       "    </tr>\n",
       "    <tr>\n",
       "      <th>5</th>\n",
       "      <td>2024-04-01</td>\n",
       "      <td>11.984759</td>\n",
       "      <td>0.147225</td>\n",
       "    </tr>\n",
       "    <tr>\n",
       "      <th>6</th>\n",
       "      <td>2024-04-02</td>\n",
       "      <td>64.045469</td>\n",
       "      <td>1.000000</td>\n",
       "    </tr>\n",
       "    <tr>\n",
       "      <th>7</th>\n",
       "      <td>2024-04-03</td>\n",
       "      <td>21.993671</td>\n",
       "      <td>0.311175</td>\n",
       "    </tr>\n",
       "    <tr>\n",
       "      <th>8</th>\n",
       "      <td>2024-04-04</td>\n",
       "      <td>2.999616</td>\n",
       "      <td>0.000045</td>\n",
       "    </tr>\n",
       "    <tr>\n",
       "      <th>9</th>\n",
       "      <td>2024-04-05</td>\n",
       "      <td>3.996764</td>\n",
       "      <td>0.016379</td>\n",
       "    </tr>\n",
       "  </tbody>\n",
       "</table>\n",
       "</div>"
      ],
      "text/plain": [
       "        date        nss  normalized_nss\n",
       "0 2024-03-27   2.996845        0.000000\n",
       "1 2024-03-28  15.988230        0.212804\n",
       "2 2024-03-29  30.936453        0.457662\n",
       "3 2024-03-30   2.999322        0.000041\n",
       "4 2024-03-31  15.146014        0.199008\n",
       "5 2024-04-01  11.984759        0.147225\n",
       "6 2024-04-02  64.045469        1.000000\n",
       "7 2024-04-03  21.993671        0.311175\n",
       "8 2024-04-04   2.999616        0.000045\n",
       "9 2024-04-05   3.996764        0.016379"
      ]
     },
     "execution_count": 73,
     "metadata": {},
     "output_type": "execute_result"
    }
   ],
   "source": [
    "from sklearn.preprocessing import MinMaxScaler\n",
    "import numpy as np\n",
    "\n",
    "scaler = MinMaxScaler(feature_range=(0, 1))\n",
    "nss_df['normalized_nss'] = scaler.fit_transform(nss_df['nss'].values.reshape(-1, 1))\n",
    "\n",
    "nss_df\n"
   ]
  },
  {
   "cell_type": "code",
   "execution_count": 74,
   "metadata": {},
   "outputs": [
    {
     "data": {
      "text/html": [
       "<div>\n",
       "<style scoped>\n",
       "    .dataframe tbody tr th:only-of-type {\n",
       "        vertical-align: middle;\n",
       "    }\n",
       "\n",
       "    .dataframe tbody tr th {\n",
       "        vertical-align: top;\n",
       "    }\n",
       "\n",
       "    .dataframe thead th {\n",
       "        text-align: right;\n",
       "    }\n",
       "</style>\n",
       "<table border=\"1\" class=\"dataframe\">\n",
       "  <thead>\n",
       "    <tr style=\"text-align: right;\">\n",
       "      <th></th>\n",
       "      <th>Date</th>\n",
       "      <th>Open</th>\n",
       "      <th>High</th>\n",
       "      <th>Low</th>\n",
       "      <th>Close</th>\n",
       "      <th>Adj Close</th>\n",
       "      <th>Volume</th>\n",
       "    </tr>\n",
       "  </thead>\n",
       "  <tbody>\n",
       "    <tr>\n",
       "      <th>0</th>\n",
       "      <td>2024-03-26</td>\n",
       "      <td>479.059998</td>\n",
       "      <td>479.369995</td>\n",
       "      <td>476.429993</td>\n",
       "      <td>476.600006</td>\n",
       "      <td>476.600006</td>\n",
       "      <td>8073500</td>\n",
       "    </tr>\n",
       "    <tr>\n",
       "      <th>1</th>\n",
       "      <td>2024-03-27</td>\n",
       "      <td>479.510010</td>\n",
       "      <td>480.869995</td>\n",
       "      <td>477.450012</td>\n",
       "      <td>480.760010</td>\n",
       "      <td>480.760010</td>\n",
       "      <td>4951400</td>\n",
       "    </tr>\n",
       "    <tr>\n",
       "      <th>2</th>\n",
       "      <td>2024-03-28</td>\n",
       "      <td>480.869995</td>\n",
       "      <td>482.160004</td>\n",
       "      <td>480.500000</td>\n",
       "      <td>480.700012</td>\n",
       "      <td>480.700012</td>\n",
       "      <td>4065000</td>\n",
       "    </tr>\n",
       "    <tr>\n",
       "      <th>3</th>\n",
       "      <td>2024-04-01</td>\n",
       "      <td>481.440002</td>\n",
       "      <td>481.959991</td>\n",
       "      <td>478.829987</td>\n",
       "      <td>480.070007</td>\n",
       "      <td>480.070007</td>\n",
       "      <td>5734000</td>\n",
       "    </tr>\n",
       "    <tr>\n",
       "      <th>4</th>\n",
       "      <td>2024-04-02</td>\n",
       "      <td>476.329987</td>\n",
       "      <td>476.989990</td>\n",
       "      <td>474.709991</td>\n",
       "      <td>476.929993</td>\n",
       "      <td>476.929993</td>\n",
       "      <td>4817800</td>\n",
       "    </tr>\n",
       "  </tbody>\n",
       "</table>\n",
       "</div>"
      ],
      "text/plain": [
       "         Date        Open        High         Low       Close   Adj Close  \\\n",
       "0  2024-03-26  479.059998  479.369995  476.429993  476.600006  476.600006   \n",
       "1  2024-03-27  479.510010  480.869995  477.450012  480.760010  480.760010   \n",
       "2  2024-03-28  480.869995  482.160004  480.500000  480.700012  480.700012   \n",
       "3  2024-04-01  481.440002  481.959991  478.829987  480.070007  480.070007   \n",
       "4  2024-04-02  476.329987  476.989990  474.709991  476.929993  476.929993   \n",
       "\n",
       "    Volume  \n",
       "0  8073500  \n",
       "1  4951400  \n",
       "2  4065000  \n",
       "3  5734000  \n",
       "4  4817800  "
      ]
     },
     "execution_count": 74,
     "metadata": {},
     "output_type": "execute_result"
    }
   ],
   "source": [
    "voo_df = pd.read_csv('../datasets/VOO_sentiment.csv')\n",
    "voo_df.head()"
   ]
  },
  {
   "cell_type": "code",
   "execution_count": 75,
   "metadata": {},
   "outputs": [
    {
     "data": {
      "text/html": [
       "<div>\n",
       "<style scoped>\n",
       "    .dataframe tbody tr th:only-of-type {\n",
       "        vertical-align: middle;\n",
       "    }\n",
       "\n",
       "    .dataframe tbody tr th {\n",
       "        vertical-align: top;\n",
       "    }\n",
       "\n",
       "    .dataframe thead th {\n",
       "        text-align: right;\n",
       "    }\n",
       "</style>\n",
       "<table border=\"1\" class=\"dataframe\">\n",
       "  <thead>\n",
       "    <tr style=\"text-align: right;\">\n",
       "      <th></th>\n",
       "      <th>Date</th>\n",
       "      <th>Open</th>\n",
       "      <th>High</th>\n",
       "      <th>Low</th>\n",
       "      <th>Close</th>\n",
       "      <th>Adj Close</th>\n",
       "      <th>Volume</th>\n",
       "      <th>actual_label</th>\n",
       "    </tr>\n",
       "  </thead>\n",
       "  <tbody>\n",
       "    <tr>\n",
       "      <th>0</th>\n",
       "      <td>2024-03-26</td>\n",
       "      <td>479.059998</td>\n",
       "      <td>479.369995</td>\n",
       "      <td>476.429993</td>\n",
       "      <td>476.600006</td>\n",
       "      <td>476.600006</td>\n",
       "      <td>8073500</td>\n",
       "      <td>0</td>\n",
       "    </tr>\n",
       "    <tr>\n",
       "      <th>1</th>\n",
       "      <td>2024-03-27</td>\n",
       "      <td>479.510010</td>\n",
       "      <td>480.869995</td>\n",
       "      <td>477.450012</td>\n",
       "      <td>480.760010</td>\n",
       "      <td>480.760010</td>\n",
       "      <td>4951400</td>\n",
       "      <td>1</td>\n",
       "    </tr>\n",
       "    <tr>\n",
       "      <th>2</th>\n",
       "      <td>2024-03-28</td>\n",
       "      <td>480.869995</td>\n",
       "      <td>482.160004</td>\n",
       "      <td>480.500000</td>\n",
       "      <td>480.700012</td>\n",
       "      <td>480.700012</td>\n",
       "      <td>4065000</td>\n",
       "      <td>0</td>\n",
       "    </tr>\n",
       "    <tr>\n",
       "      <th>3</th>\n",
       "      <td>2024-04-01</td>\n",
       "      <td>481.440002</td>\n",
       "      <td>481.959991</td>\n",
       "      <td>478.829987</td>\n",
       "      <td>480.070007</td>\n",
       "      <td>480.070007</td>\n",
       "      <td>5734000</td>\n",
       "      <td>0</td>\n",
       "    </tr>\n",
       "    <tr>\n",
       "      <th>4</th>\n",
       "      <td>2024-04-02</td>\n",
       "      <td>476.329987</td>\n",
       "      <td>476.989990</td>\n",
       "      <td>474.709991</td>\n",
       "      <td>476.929993</td>\n",
       "      <td>476.929993</td>\n",
       "      <td>4817800</td>\n",
       "      <td>1</td>\n",
       "    </tr>\n",
       "  </tbody>\n",
       "</table>\n",
       "</div>"
      ],
      "text/plain": [
       "         Date        Open        High         Low       Close   Adj Close  \\\n",
       "0  2024-03-26  479.059998  479.369995  476.429993  476.600006  476.600006   \n",
       "1  2024-03-27  479.510010  480.869995  477.450012  480.760010  480.760010   \n",
       "2  2024-03-28  480.869995  482.160004  480.500000  480.700012  480.700012   \n",
       "3  2024-04-01  481.440002  481.959991  478.829987  480.070007  480.070007   \n",
       "4  2024-04-02  476.329987  476.989990  474.709991  476.929993  476.929993   \n",
       "\n",
       "    Volume  actual_label  \n",
       "0  8073500             0  \n",
       "1  4951400             1  \n",
       "2  4065000             0  \n",
       "3  5734000             0  \n",
       "4  4817800             1  "
      ]
     },
     "execution_count": 75,
     "metadata": {},
     "output_type": "execute_result"
    }
   ],
   "source": [
    "voo_df['actual_label'] = (voo_df['Close'] > voo_df['Open']).astype(int)\n",
    "\n",
    "voo_df.head()"
   ]
  },
  {
   "cell_type": "code",
   "execution_count": 76,
   "metadata": {},
   "outputs": [
    {
     "data": {
      "text/html": [
       "<div>\n",
       "<style scoped>\n",
       "    .dataframe tbody tr th:only-of-type {\n",
       "        vertical-align: middle;\n",
       "    }\n",
       "\n",
       "    .dataframe tbody tr th {\n",
       "        vertical-align: top;\n",
       "    }\n",
       "\n",
       "    .dataframe thead th {\n",
       "        text-align: right;\n",
       "    }\n",
       "</style>\n",
       "<table border=\"1\" class=\"dataframe\">\n",
       "  <thead>\n",
       "    <tr style=\"text-align: right;\">\n",
       "      <th></th>\n",
       "      <th>date</th>\n",
       "      <th>nss</th>\n",
       "      <th>normalized_nss</th>\n",
       "      <th>actual_label</th>\n",
       "    </tr>\n",
       "  </thead>\n",
       "  <tbody>\n",
       "    <tr>\n",
       "      <th>0</th>\n",
       "      <td>2024-03-27</td>\n",
       "      <td>2.996845</td>\n",
       "      <td>0.000000</td>\n",
       "      <td>1.0</td>\n",
       "    </tr>\n",
       "    <tr>\n",
       "      <th>1</th>\n",
       "      <td>2024-03-28</td>\n",
       "      <td>15.988230</td>\n",
       "      <td>0.212804</td>\n",
       "      <td>0.0</td>\n",
       "    </tr>\n",
       "    <tr>\n",
       "      <th>2</th>\n",
       "      <td>2024-03-29</td>\n",
       "      <td>30.936453</td>\n",
       "      <td>0.457662</td>\n",
       "      <td>NaN</td>\n",
       "    </tr>\n",
       "    <tr>\n",
       "      <th>3</th>\n",
       "      <td>2024-03-30</td>\n",
       "      <td>2.999322</td>\n",
       "      <td>0.000041</td>\n",
       "      <td>NaN</td>\n",
       "    </tr>\n",
       "    <tr>\n",
       "      <th>4</th>\n",
       "      <td>2024-03-31</td>\n",
       "      <td>15.146014</td>\n",
       "      <td>0.199008</td>\n",
       "      <td>NaN</td>\n",
       "    </tr>\n",
       "    <tr>\n",
       "      <th>5</th>\n",
       "      <td>2024-04-01</td>\n",
       "      <td>11.984759</td>\n",
       "      <td>0.147225</td>\n",
       "      <td>0.0</td>\n",
       "    </tr>\n",
       "    <tr>\n",
       "      <th>6</th>\n",
       "      <td>2024-04-02</td>\n",
       "      <td>64.045469</td>\n",
       "      <td>1.000000</td>\n",
       "      <td>1.0</td>\n",
       "    </tr>\n",
       "    <tr>\n",
       "      <th>7</th>\n",
       "      <td>2024-04-03</td>\n",
       "      <td>21.993671</td>\n",
       "      <td>0.311175</td>\n",
       "      <td>1.0</td>\n",
       "    </tr>\n",
       "    <tr>\n",
       "      <th>8</th>\n",
       "      <td>2024-04-04</td>\n",
       "      <td>2.999616</td>\n",
       "      <td>0.000045</td>\n",
       "      <td>0.0</td>\n",
       "    </tr>\n",
       "    <tr>\n",
       "      <th>9</th>\n",
       "      <td>2024-04-05</td>\n",
       "      <td>3.996764</td>\n",
       "      <td>0.016379</td>\n",
       "      <td>1.0</td>\n",
       "    </tr>\n",
       "  </tbody>\n",
       "</table>\n",
       "</div>"
      ],
      "text/plain": [
       "        date        nss  normalized_nss  actual_label\n",
       "0 2024-03-27   2.996845        0.000000           1.0\n",
       "1 2024-03-28  15.988230        0.212804           0.0\n",
       "2 2024-03-29  30.936453        0.457662           NaN\n",
       "3 2024-03-30   2.999322        0.000041           NaN\n",
       "4 2024-03-31  15.146014        0.199008           NaN\n",
       "5 2024-04-01  11.984759        0.147225           0.0\n",
       "6 2024-04-02  64.045469        1.000000           1.0\n",
       "7 2024-04-03  21.993671        0.311175           1.0\n",
       "8 2024-04-04   2.999616        0.000045           0.0\n",
       "9 2024-04-05   3.996764        0.016379           1.0"
      ]
     },
     "execution_count": 76,
     "metadata": {},
     "output_type": "execute_result"
    }
   ],
   "source": [
    "nss_df['date'] = pd.to_datetime(nss_df['date'])\n",
    "voo_df['Date'] = pd.to_datetime(voo_df['Date'])\n",
    "\n",
    "voo_df['actual_label'] = voo_df['actual_label']\n",
    "\n",
    "nss_df = pd.merge(nss_df, voo_df, how='left', left_on='date', right_on='Date')\n",
    "\n",
    "nss_df.drop(['Date', 'Open', 'High', 'Low', 'Close', 'Adj Close', 'Volume'], axis=1, inplace=True)\n",
    "\n",
    "nss_df"
   ]
  },
  {
   "cell_type": "markdown",
   "metadata": {},
   "source": [
    "1 means that stock price go higher, 0 means that stock price go lower, NaN means non-trading days."
   ]
  },
  {
   "cell_type": "markdown",
   "metadata": {},
   "source": [
    "### Correlation Analysis and Statistical Measures"
   ]
  },
  {
   "cell_type": "code",
   "execution_count": 77,
   "metadata": {},
   "outputs": [
    {
     "name": "stdout",
     "output_type": "stream",
     "text": [
      "Pearson Correlation Coefficient (NSS): 0.318783603678739\n"
     ]
    }
   ],
   "source": [
    "# Calculate correlation for NSS\n",
    "correlation_nss = nss_df['normalized_nss'].corr(nss_df['actual_label'], method='pearson')\n",
    "print(\"Pearson Correlation Coefficient (NSS):\", correlation_nss)"
   ]
  },
  {
   "cell_type": "code",
   "execution_count": 78,
   "metadata": {},
   "outputs": [
    {
     "data": {
      "image/png": "[encoded data removed]",
      "text/plain": [
       "<Figure size 1200x600 with 1 Axes>"
      ]
     },
     "metadata": {},
     "output_type": "display_data"
    }
   ],
   "source": [
    "import matplotlib.pyplot as plt\n",
    "\n",
    "plt.figure(figsize=(12, 6))\n",
    "plt.plot(nss_df['date'], nss_df['normalized_nss'], label='NSS', color='blue')\n",
    "\n",
    "for i, row in nss_df.iterrows():\n",
    "    if row['actual_label'] == 1:\n",
    "        plt.scatter(row['date'], row['normalized_nss'], color='green', marker='^', s=200)\n",
    "    elif row['actual_label'] == 0:\n",
    "        plt.scatter(row['date'], row['normalized_nss'], color='red', marker='v', s=200)\n",
    "    else:\n",
    "        plt.scatter(row['date'], row['normalized_nss'], color='grey', marker='o', s=200)\n",
    "\n",
    "plt.xlabel('Date')\n",
    "plt.ylabel('NSS')\n",
    "plt.title('Sentiment and Stock Movement with Triangles')\n",
    "plt.xticks(rotation=45)\n",
    "plt.legend()\n",
    "plt.show()"
   ]
  },
  {
   "cell_type": "code",
   "execution_count": 79,
   "metadata": {},
   "outputs": [
    {
     "data": {
      "application/vnd.plotly.v1+json": {
       "config": {
        "plotlyServerURL": "https://plot.ly"
       },
       "data": [
        {
         "line": {
          "color": "blue"
         },
         "mode": "lines",
         "name": "NSS Sentiment",
         "type": "scatter",
         "x": [
          "2024-03-27T00:00:00",
          "2024-03-28T00:00:00",
          "2024-03-29T00:00:00",
          "2024-03-30T00:00:00",
          "2024-03-31T00:00:00",
          "2024-04-01T00:00:00",
          "2024-04-02T00:00:00",
          "2024-04-03T00:00:00",
          "2024-04-04T00:00:00",
          "2024-04-05T00:00:00"
         ],
         "y": [
          0,
          0.2128039026560382,
          0.4576615546862636,
          0.000040578936589395764,
          0.19900808059293534,
          0.14722549605223684,
          1,
          0.3111753330077938,
          0.00004539525664606914,
          0.01637906552832684
         ]
        },
        {
         "marker": {
          "color": "green",
          "size": 10,
          "symbol": "triangle-up"
         },
         "mode": "markers",
         "name": "Stock Up",
         "type": "scatter",
         "x": [
          "2024-03-27T00:00:00"
         ],
         "y": [
          0
         ]
        },
        {
         "marker": {
          "color": "red",
          "size": 10,
          "symbol": "triangle-down"
         },
         "mode": "markers",
         "name": "Stock Down",
         "type": "scatter",
         "x": [
          "2024-03-28T00:00:00"
         ],
         "y": [
          0.2128039026560382
         ]
        },
        {
         "marker": {
          "color": "grey",
          "size": 10,
          "symbol": "circle"
         },
         "mode": "markers",
         "name": "Market Closed",
         "type": "scatter",
         "x": [
          "2024-03-29T00:00:00"
         ],
         "y": [
          0.4576615546862636
         ]
        },
        {
         "marker": {
          "color": "grey",
          "size": 10,
          "symbol": "circle"
         },
         "mode": "markers",
         "name": "Market Closed",
         "type": "scatter",
         "x": [
          "2024-03-30T00:00:00"
         ],
         "y": [
          0.000040578936589395764
         ]
        },
        {
         "marker": {
          "color": "grey",
          "size": 10,
          "symbol": "circle"
         },
         "mode": "markers",
         "name": "Market Closed",
         "type": "scatter",
         "x": [
          "2024-03-31T00:00:00"
         ],
         "y": [
          0.19900808059293534
         ]
        },
        {
         "marker": {
          "color": "red",
          "size": 10,
          "symbol": "triangle-down"
         },
         "mode": "markers",
         "name": "Stock Down",
         "type": "scatter",
         "x": [
          "2024-04-01T00:00:00"
         ],
         "y": [
          0.14722549605223684
         ]
        },
        {
         "marker": {
          "color": "green",
          "size": 10,
          "symbol": "triangle-up"
         },
         "mode": "markers",
         "name": "Stock Up",
         "type": "scatter",
         "x": [
          "2024-04-02T00:00:00"
         ],
         "y": [
          1
         ]
        },
        {
         "marker": {
          "color": "green",
          "size": 10,
          "symbol": "triangle-up"
         },
         "mode": "markers",
         "name": "Stock Up",
         "type": "scatter",
         "x": [
          "2024-04-03T00:00:00"
         ],
         "y": [
          0.3111753330077938
         ]
        },
        {
         "marker": {
          "color": "red",
          "size": 10,
          "symbol": "triangle-down"
         },
         "mode": "markers",
         "name": "Stock Down",
         "type": "scatter",
         "x": [
          "2024-04-04T00:00:00"
         ],
         "y": [
          0.00004539525664606914
         ]
        },
        {
         "marker": {
          "color": "green",
          "size": 10,
          "symbol": "triangle-up"
         },
         "mode": "markers",
         "name": "Stock Up",
         "type": "scatter",
         "x": [
          "2024-04-05T00:00:00"
         ],
         "y": [
          0.01637906552832684
         ]
        }
       ],
       "layout": {
        "legend": {
         "title": {
          "text": "Legend"
         }
        },
        "template": {
         "data": {
          "bar": [
           {
            "error_x": {
             "color": "#2a3f5f"
            },
            "error_y": {
             "color": "#2a3f5f"
            },
            "marker": {
             "line": {
              "color": "#E5ECF6",
              "width": 0.5
             },
             "pattern": {
              "fillmode": "overlay",
              "size": 10,
              "solidity": 0.2
             }
            },
            "type": "bar"
           }
          ],
          "barpolar": [
           {
            "marker": {
             "line": {
              "color": "#E5ECF6",
              "width": 0.5
             },
             "pattern": {
              "fillmode": "overlay",
              "size": 10,
              "solidity": 0.2
             }
            },
            "type": "barpolar"
           }
          ],
          "carpet": [
           {
            "aaxis": {
             "endlinecolor": "#2a3f5f",
             "gridcolor": "white",
             "linecolor": "white",
             "minorgridcolor": "white",
             "startlinecolor": "#2a3f5f"
            },
            "baxis": {
             "endlinecolor": "#2a3f5f",
             "gridcolor": "white",
             "linecolor": "white",
             "minorgridcolor": "white",
             "startlinecolor": "#2a3f5f"
            },
            "type": "carpet"
           }
          ],
          "choropleth": [
           {
            "colorbar": {
             "outlinewidth": 0,
             "ticks": ""
            },
            "type": "choropleth"
           }
          ],
          "contour": [
           {
            "colorbar": {
             "outlinewidth": 0,
             "ticks": ""
            },
            "colorscale": [
             [
              0,
              "#0d0887"
             ],
             [
              0.1111111111111111,
              "#46039f"
             ],
             [
              0.2222222222222222,
              "#7201a8"
             ],
             [
              0.3333333333333333,
              "#9c179e"
             ],
             [
              0.4444444444444444,
              "#bd3786"
             ],
             [
              0.5555555555555556,
              "#d8576b"
             ],
             [
              0.6666666666666666,
              "#ed7953"
             ],
             [
              0.7777777777777778,
              "#fb9f3a"
             ],
             [
              0.8888888888888888,
              "#fdca26"
             ],
             [
              1,
              "#f0f921"
             ]
            ],
            "type": "contour"
           }
          ],
          "contourcarpet": [
           {
            "colorbar": {
             "outlinewidth": 0,
             "ticks": ""
            },
            "type": "contourcarpet"
           }
          ],
          "heatmap": [
           {
            "colorbar": {
             "outlinewidth": 0,
             "ticks": ""
            },
            "colorscale": [
             [
              0,
              "#0d0887"
             ],
             [
              0.1111111111111111,
              "#46039f"
             ],
             [
              0.2222222222222222,
              "#7201a8"
             ],
             [
              0.3333333333333333,
              "#9c179e"
             ],
             [
              0.4444444444444444,
              "#bd3786"
             ],
             [
              0.5555555555555556,
              "#d8576b"
             ],
             [
              0.6666666666666666,
              "#ed7953"
             ],
             [
              0.7777777777777778,
              "#fb9f3a"
             ],
             [
              0.8888888888888888,
              "#fdca26"
             ],
             [
              1,
              "#f0f921"
             ]
            ],
            "type": "heatmap"
           }
          ],
          "heatmapgl": [
           {
            "colorbar": {
             "outlinewidth": 0,
             "ticks": ""
            },
            "colorscale": [
             [
              0,
              "#0d0887"
             ],
             [
              0.1111111111111111,
              "#46039f"
             ],
             [
              0.2222222222222222,
              "#7201a8"
             ],
             [
              0.3333333333333333,
              "#9c179e"
             ],
             [
              0.4444444444444444,
              "#bd3786"
             ],
             [
              0.5555555555555556,
              "#d8576b"
             ],
             [
              0.6666666666666666,
              "#ed7953"
             ],
             [
              0.7777777777777778,
              "#fb9f3a"
             ],
             [
              0.8888888888888888,
              "#fdca26"
             ],
             [
              1,
              "#f0f921"
             ]
            ],
            "type": "heatmapgl"
           }
          ],
          "histogram": [
           {
            "marker": {
             "pattern": {
              "fillmode": "overlay",
              "size": 10,
              "solidity": 0.2
             }
            },
            "type": "histogram"
           }
          ],
          "histogram2d": [
           {
            "colorbar": {
             "outlinewidth": 0,
             "ticks": ""
            },
            "colorscale": [
             [
              0,
              "#0d0887"
             ],
             [
              0.1111111111111111,
              "#46039f"
             ],
             [
              0.2222222222222222,
              "#7201a8"
             ],
             [
              0.3333333333333333,
              "#9c179e"
             ],
             [
              0.4444444444444444,
              "#bd3786"
             ],
             [
              0.5555555555555556,
              "#d8576b"
             ],
             [
              0.6666666666666666,
              "#ed7953"
             ],
             [
              0.7777777777777778,
              "#fb9f3a"
             ],
             [
              0.8888888888888888,
              "#fdca26"
             ],
             [
              1,
              "#f0f921"
             ]
            ],
            "type": "histogram2d"
           }
          ],
          "histogram2dcontour": [
           {
            "colorbar": {
             "outlinewidth": 0,
             "ticks": ""
            },
            "colorscale": [
             [
              0,
              "#0d0887"
             ],
             [
              0.1111111111111111,
              "#46039f"
             ],
             [
              0.2222222222222222,
              "#7201a8"
             ],
             [
              0.3333333333333333,
              "#9c179e"
             ],
             [
              0.4444444444444444,
              "#bd3786"
             ],
             [
              0.5555555555555556,
              "#d8576b"
             ],
             [
              0.6666666666666666,
              "#ed7953"
             ],
             [
              0.7777777777777778,
              "#fb9f3a"
             ],
             [
              0.8888888888888888,
              "#fdca26"
             ],
             [
              1,
              "#f0f921"
             ]
            ],
            "type": "histogram2dcontour"
           }
          ],
          "mesh3d": [
           {
            "colorbar": {
             "outlinewidth": 0,
             "ticks": ""
            },
            "type": "mesh3d"
           }
          ],
          "parcoords": [
           {
            "line": {
             "colorbar": {
              "outlinewidth": 0,
              "ticks": ""
             }
            },
            "type": "parcoords"
           }
          ],
          "pie": [
           {
            "automargin": true,
            "type": "pie"
           }
          ],
          "scatter": [
           {
            "fillpattern": {
             "fillmode": "overlay",
             "size": 10,
             "solidity": 0.2
            },
            "type": "scatter"
           }
          ],
          "scatter3d": [
           {
            "line": {
             "colorbar": {
              "outlinewidth": 0,
              "ticks": ""
             }
            },
            "marker": {
             "colorbar": {
              "outlinewidth": 0,
              "ticks": ""
             }
            },
            "type": "scatter3d"
           }
          ],
          "scattercarpet": [
           {
            "marker": {
             "colorbar": {
              "outlinewidth": 0,
              "ticks": ""
             }
            },
            "type": "scattercarpet"
           }
          ],
          "scattergeo": [
           {
            "marker": {
             "colorbar": {
              "outlinewidth": 0,
              "ticks": ""
             }
            },
            "type": "scattergeo"
           }
          ],
          "scattergl": [
           {
            "marker": {
             "colorbar": {
              "outlinewidth": 0,
              "ticks": ""
             }
            },
            "type": "scattergl"
           }
          ],
          "scattermapbox": [
           {
            "marker": {
             "colorbar": {
              "outlinewidth": 0,
              "ticks": ""
             }
            },
            "type": "scattermapbox"
           }
          ],
          "scatterpolar": [
           {
            "marker": {
             "colorbar": {
              "outlinewidth": 0,
              "ticks": ""
             }
            },
            "type": "scatterpolar"
           }
          ],
          "scatterpolargl": [
           {
            "marker": {
             "colorbar": {
              "outlinewidth": 0,
              "ticks": ""
             }
            },
            "type": "scatterpolargl"
           }
          ],
          "scatterternary": [
           {
            "marker": {
             "colorbar": {
              "outlinewidth": 0,
              "ticks": ""
             }
            },
            "type": "scatterternary"
           }
          ],
          "surface": [
           {
            "colorbar": {
             "outlinewidth": 0,
             "ticks": ""
            },
            "colorscale": [
             [
              0,
              "#0d0887"
             ],
             [
              0.1111111111111111,
              "#46039f"
             ],
             [
              0.2222222222222222,
              "#7201a8"
             ],
             [
              0.3333333333333333,
              "#9c179e"
             ],
             [
              0.4444444444444444,
              "#bd3786"
             ],
             [
              0.5555555555555556,
              "#d8576b"
             ],
             [
              0.6666666666666666,
              "#ed7953"
             ],
             [
              0.7777777777777778,
              "#fb9f3a"
             ],
             [
              0.8888888888888888,
              "#fdca26"
             ],
             [
              1,
              "#f0f921"
             ]
            ],
            "type": "surface"
           }
          ],
          "table": [
           {
            "cells": {
             "fill": {
              "color": "#EBF0F8"
             },
             "line": {
              "color": "white"
             }
            },
            "header": {
             "fill": {
              "color": "#C8D4E3"
             },
             "line": {
              "color": "white"
             }
            },
            "type": "table"
           }
          ]
         },
         "layout": {
          "annotationdefaults": {
           "arrowcolor": "#2a3f5f",
           "arrowhead": 0,
           "arrowwidth": 1
          },
          "autotypenumbers": "strict",
          "coloraxis": {
           "colorbar": {
            "outlinewidth": 0,
            "ticks": ""
           }
          },
          "colorscale": {
           "diverging": [
            [
             0,
             "#8e0152"
            ],
            [
             0.1,
             "#c51b7d"
            ],
            [
             0.2,
             "#de77ae"
            ],
            [
             0.3,
             "#f1b6da"
            ],
            [
             0.4,
             "#fde0ef"
            ],
            [
             0.5,
             "#f7f7f7"
            ],
            [
             0.6,
             "#e6f5d0"
            ],
            [
             0.7,
             "#b8e186"
            ],
            [
             0.8,
             "#7fbc41"
            ],
            [
             0.9,
             "#4d9221"
            ],
            [
             1,
             "#276419"
            ]
           ],
           "sequential": [
            [
             0,
             "#0d0887"
            ],
            [
             0.1111111111111111,
             "#46039f"
            ],
            [
             0.2222222222222222,
             "#7201a8"
            ],
            [
             0.3333333333333333,
             "#9c179e"
            ],
            [
             0.4444444444444444,
             "#bd3786"
            ],
            [
             0.5555555555555556,
             "#d8576b"
            ],
            [
             0.6666666666666666,
             "#ed7953"
            ],
            [
             0.7777777777777778,
             "#fb9f3a"
            ],
            [
             0.8888888888888888,
             "#fdca26"
            ],
            [
             1,
             "#f0f921"
            ]
           ],
           "sequentialminus": [
            [
             0,
             "#0d0887"
            ],
            [
             0.1111111111111111,
             "#46039f"
            ],
            [
             0.2222222222222222,
             "#7201a8"
            ],
            [
             0.3333333333333333,
             "#9c179e"
            ],
            [
             0.4444444444444444,
             "#bd3786"
            ],
            [
             0.5555555555555556,
             "#d8576b"
            ],
            [
             0.6666666666666666,
             "#ed7953"
            ],
            [
             0.7777777777777778,
             "#fb9f3a"
            ],
            [
             0.8888888888888888,
             "#fdca26"
            ],
            [
             1,
             "#f0f921"
            ]
           ]
          },
          "colorway": [
           "#636efa",
           "#EF553B",
           "#00cc96",
           "#ab63fa",
           "#FFA15A",
           "#19d3f3",
           "#FF6692",
           "#B6E880",
           "#FF97FF",
           "#FECB52"
          ],
          "font": {
           "color": "#2a3f5f"
          },
          "geo": {
           "bgcolor": "white",
           "lakecolor": "white",
           "landcolor": "#E5ECF6",
           "showlakes": true,
           "showland": true,
           "subunitcolor": "white"
          },
          "hoverlabel": {
           "align": "left"
          },
          "hovermode": "closest",
          "mapbox": {
           "style": "light"
          },
          "paper_bgcolor": "white",
          "plot_bgcolor": "#E5ECF6",
          "polar": {
           "angularaxis": {
            "gridcolor": "white",
            "linecolor": "white",
            "ticks": ""
           },
           "bgcolor": "#E5ECF6",
           "radialaxis": {
            "gridcolor": "white",
            "linecolor": "white",
            "ticks": ""
           }
          },
          "scene": {
           "xaxis": {
            "backgroundcolor": "#E5ECF6",
            "gridcolor": "white",
            "gridwidth": 2,
            "linecolor": "white",
            "showbackground": true,
            "ticks": "",
            "zerolinecolor": "white"
           },
           "yaxis": {
            "backgroundcolor": "#E5ECF6",
            "gridcolor": "white",
            "gridwidth": 2,
            "linecolor": "white",
            "showbackground": true,
            "ticks": "",
            "zerolinecolor": "white"
           },
           "zaxis": {
            "backgroundcolor": "#E5ECF6",
            "gridcolor": "white",
            "gridwidth": 2,
            "linecolor": "white",
            "showbackground": true,
            "ticks": "",
            "zerolinecolor": "white"
           }
          },
          "shapedefaults": {
           "line": {
            "color": "#2a3f5f"
           }
          },
          "ternary": {
           "aaxis": {
            "gridcolor": "white",
            "linecolor": "white",
            "ticks": ""
           },
           "baxis": {
            "gridcolor": "white",
            "linecolor": "white",
            "ticks": ""
           },
           "bgcolor": "#E5ECF6",
           "caxis": {
            "gridcolor": "white",
            "linecolor": "white",
            "ticks": ""
           }
          },
          "title": {
           "x": 0.05
          },
          "xaxis": {
           "automargin": true,
           "gridcolor": "white",
           "linecolor": "white",
           "ticks": "",
           "title": {
            "standoff": 15
           },
           "zerolinecolor": "white",
           "zerolinewidth": 2
          },
          "yaxis": {
           "automargin": true,
           "gridcolor": "white",
           "linecolor": "white",
           "ticks": "",
           "title": {
            "standoff": 15
           },
           "zerolinecolor": "white",
           "zerolinewidth": 2
          }
         }
        },
        "title": {
         "text": "Sentiment and Stock Movement with Interactive Triangles"
        },
        "xaxis": {
         "title": {
          "text": "Date"
         }
        },
        "yaxis": {
         "title": {
          "text": "NSS Sentiment"
         }
        }
       }
      }
     },
     "metadata": {},
     "output_type": "display_data"
    }
   ],
   "source": [
    "import plotly.graph_objects as go\n",
    "\n",
    "# Creating the line plot for weighted average sentiment\n",
    "fig = go.Figure()\n",
    "fig.add_trace(go.Scatter(x=nss_df['date'], y=nss_df['normalized_nss'], mode='lines', name='NSS Sentiment', line=dict(color='blue')))\n",
    "\n",
    "# Adding markers for actual stock labels\n",
    "for i, row in nss_df.iterrows():\n",
    "    if row['actual_label'] == 1:\n",
    "        fig.add_trace(go.Scatter(x=[row['date']], y=[row['normalized_nss']], mode='markers', marker_symbol='triangle-up', marker_color='green', marker_size=10, name='Stock Up'))\n",
    "    elif row['actual_label'] == 0:\n",
    "        fig.add_trace(go.Scatter(x=[row['date']], y=[row['normalized_nss']], mode='markers', marker_symbol='triangle-down', marker_color='red', marker_size=10, name='Stock Down'))\n",
    "    else:\n",
    "        fig.add_trace(go.Scatter(x=[row['date']], y=[row['normalized_nss']], mode='markers', marker_symbol='circle', marker_color='grey', marker_size=10, name='Market Closed'))\n",
    "\n",
    "# Setting layout for the figure\n",
    "fig.update_layout(title='Sentiment and Stock Movement with Interactive Triangles', xaxis_title='Date', yaxis_title='NSS Sentiment', legend_title='Legend')\n",
    "fig.show()"
   ]
  },
  {
   "cell_type": "markdown",
   "metadata": {},
   "source": [
    "### Correlation between Stock Daily Return and NSS Sentiment"
   ]
  },
  {
   "cell_type": "code",
   "execution_count": 80,
   "metadata": {},
   "outputs": [
    {
     "data": {
      "text/html": [
       "<div>\n",
       "<style scoped>\n",
       "    .dataframe tbody tr th:only-of-type {\n",
       "        vertical-align: middle;\n",
       "    }\n",
       "\n",
       "    .dataframe tbody tr th {\n",
       "        vertical-align: top;\n",
       "    }\n",
       "\n",
       "    .dataframe thead th {\n",
       "        text-align: right;\n",
       "    }\n",
       "</style>\n",
       "<table border=\"1\" class=\"dataframe\">\n",
       "  <thead>\n",
       "    <tr style=\"text-align: right;\">\n",
       "      <th></th>\n",
       "      <th>Date</th>\n",
       "      <th>Open</th>\n",
       "      <th>High</th>\n",
       "      <th>Low</th>\n",
       "      <th>Close</th>\n",
       "      <th>Adj Close</th>\n",
       "      <th>Volume</th>\n",
       "      <th>daily_return</th>\n",
       "    </tr>\n",
       "  </thead>\n",
       "  <tbody>\n",
       "    <tr>\n",
       "      <th>0</th>\n",
       "      <td>2024-03-26</td>\n",
       "      <td>479.059998</td>\n",
       "      <td>479.369995</td>\n",
       "      <td>476.429993</td>\n",
       "      <td>476.600006</td>\n",
       "      <td>476.600006</td>\n",
       "      <td>8073500</td>\n",
       "      <td>-0.005135</td>\n",
       "    </tr>\n",
       "    <tr>\n",
       "      <th>1</th>\n",
       "      <td>2024-03-27</td>\n",
       "      <td>479.510010</td>\n",
       "      <td>480.869995</td>\n",
       "      <td>477.450012</td>\n",
       "      <td>480.760010</td>\n",
       "      <td>480.760010</td>\n",
       "      <td>4951400</td>\n",
       "      <td>0.002607</td>\n",
       "    </tr>\n",
       "    <tr>\n",
       "      <th>2</th>\n",
       "      <td>2024-03-28</td>\n",
       "      <td>480.869995</td>\n",
       "      <td>482.160004</td>\n",
       "      <td>480.500000</td>\n",
       "      <td>480.700012</td>\n",
       "      <td>480.700012</td>\n",
       "      <td>4065000</td>\n",
       "      <td>-0.000353</td>\n",
       "    </tr>\n",
       "    <tr>\n",
       "      <th>3</th>\n",
       "      <td>2024-04-01</td>\n",
       "      <td>481.440002</td>\n",
       "      <td>481.959991</td>\n",
       "      <td>478.829987</td>\n",
       "      <td>480.070007</td>\n",
       "      <td>480.070007</td>\n",
       "      <td>5734000</td>\n",
       "      <td>-0.002846</td>\n",
       "    </tr>\n",
       "    <tr>\n",
       "      <th>4</th>\n",
       "      <td>2024-04-02</td>\n",
       "      <td>476.329987</td>\n",
       "      <td>476.989990</td>\n",
       "      <td>474.709991</td>\n",
       "      <td>476.929993</td>\n",
       "      <td>476.929993</td>\n",
       "      <td>4817800</td>\n",
       "      <td>0.001260</td>\n",
       "    </tr>\n",
       "    <tr>\n",
       "      <th>5</th>\n",
       "      <td>2024-04-03</td>\n",
       "      <td>475.839996</td>\n",
       "      <td>478.799988</td>\n",
       "      <td>475.790009</td>\n",
       "      <td>477.359985</td>\n",
       "      <td>477.359985</td>\n",
       "      <td>6218200</td>\n",
       "      <td>0.003194</td>\n",
       "    </tr>\n",
       "    <tr>\n",
       "      <th>6</th>\n",
       "      <td>2024-04-04</td>\n",
       "      <td>481.200012</td>\n",
       "      <td>481.480011</td>\n",
       "      <td>471.269989</td>\n",
       "      <td>471.480011</td>\n",
       "      <td>471.480011</td>\n",
       "      <td>6871200</td>\n",
       "      <td>-0.020200</td>\n",
       "    </tr>\n",
       "    <tr>\n",
       "      <th>7</th>\n",
       "      <td>2024-04-05</td>\n",
       "      <td>472.850006</td>\n",
       "      <td>478.329987</td>\n",
       "      <td>472.420013</td>\n",
       "      <td>476.489990</td>\n",
       "      <td>476.489990</td>\n",
       "      <td>5582200</td>\n",
       "      <td>0.007698</td>\n",
       "    </tr>\n",
       "  </tbody>\n",
       "</table>\n",
       "</div>"
      ],
      "text/plain": [
       "         Date        Open        High         Low       Close   Adj Close  \\\n",
       "0  2024-03-26  479.059998  479.369995  476.429993  476.600006  476.600006   \n",
       "1  2024-03-27  479.510010  480.869995  477.450012  480.760010  480.760010   \n",
       "2  2024-03-28  480.869995  482.160004  480.500000  480.700012  480.700012   \n",
       "3  2024-04-01  481.440002  481.959991  478.829987  480.070007  480.070007   \n",
       "4  2024-04-02  476.329987  476.989990  474.709991  476.929993  476.929993   \n",
       "5  2024-04-03  475.839996  478.799988  475.790009  477.359985  477.359985   \n",
       "6  2024-04-04  481.200012  481.480011  471.269989  471.480011  471.480011   \n",
       "7  2024-04-05  472.850006  478.329987  472.420013  476.489990  476.489990   \n",
       "\n",
       "    Volume  daily_return  \n",
       "0  8073500     -0.005135  \n",
       "1  4951400      0.002607  \n",
       "2  4065000     -0.000353  \n",
       "3  5734000     -0.002846  \n",
       "4  4817800      0.001260  \n",
       "5  6218200      0.003194  \n",
       "6  6871200     -0.020200  \n",
       "7  5582200      0.007698  "
      ]
     },
     "execution_count": 80,
     "metadata": {},
     "output_type": "execute_result"
    }
   ],
   "source": [
    "voo_df = pd.read_csv('../datasets/VOO_sentiment.csv')\n",
    "voo_df['daily_return'] = (voo_df['Close'] - voo_df['Open']) / voo_df['Open']\n",
    "\n",
    "voo_df"
   ]
  },
  {
   "cell_type": "code",
   "execution_count": 81,
   "metadata": {},
   "outputs": [
    {
     "data": {
      "text/html": [
       "<div>\n",
       "<style scoped>\n",
       "    .dataframe tbody tr th:only-of-type {\n",
       "        vertical-align: middle;\n",
       "    }\n",
       "\n",
       "    .dataframe tbody tr th {\n",
       "        vertical-align: top;\n",
       "    }\n",
       "\n",
       "    .dataframe thead th {\n",
       "        text-align: right;\n",
       "    }\n",
       "</style>\n",
       "<table border=\"1\" class=\"dataframe\">\n",
       "  <thead>\n",
       "    <tr style=\"text-align: right;\">\n",
       "      <th></th>\n",
       "      <th>date</th>\n",
       "      <th>nss</th>\n",
       "      <th>normalized_nss</th>\n",
       "      <th>actual_label</th>\n",
       "      <th>daily_return</th>\n",
       "    </tr>\n",
       "  </thead>\n",
       "  <tbody>\n",
       "    <tr>\n",
       "      <th>0</th>\n",
       "      <td>2024-03-27</td>\n",
       "      <td>2.996845</td>\n",
       "      <td>0.000000</td>\n",
       "      <td>1.0</td>\n",
       "      <td>0.002607</td>\n",
       "    </tr>\n",
       "    <tr>\n",
       "      <th>1</th>\n",
       "      <td>2024-03-28</td>\n",
       "      <td>15.988230</td>\n",
       "      <td>0.212804</td>\n",
       "      <td>0.0</td>\n",
       "      <td>-0.000353</td>\n",
       "    </tr>\n",
       "    <tr>\n",
       "      <th>2</th>\n",
       "      <td>2024-03-29</td>\n",
       "      <td>30.936453</td>\n",
       "      <td>0.457662</td>\n",
       "      <td>NaN</td>\n",
       "      <td>NaN</td>\n",
       "    </tr>\n",
       "    <tr>\n",
       "      <th>3</th>\n",
       "      <td>2024-03-30</td>\n",
       "      <td>2.999322</td>\n",
       "      <td>0.000041</td>\n",
       "      <td>NaN</td>\n",
       "      <td>NaN</td>\n",
       "    </tr>\n",
       "    <tr>\n",
       "      <th>4</th>\n",
       "      <td>2024-03-31</td>\n",
       "      <td>15.146014</td>\n",
       "      <td>0.199008</td>\n",
       "      <td>NaN</td>\n",
       "      <td>NaN</td>\n",
       "    </tr>\n",
       "    <tr>\n",
       "      <th>5</th>\n",
       "      <td>2024-04-01</td>\n",
       "      <td>11.984759</td>\n",
       "      <td>0.147225</td>\n",
       "      <td>0.0</td>\n",
       "      <td>-0.002846</td>\n",
       "    </tr>\n",
       "    <tr>\n",
       "      <th>6</th>\n",
       "      <td>2024-04-02</td>\n",
       "      <td>64.045469</td>\n",
       "      <td>1.000000</td>\n",
       "      <td>1.0</td>\n",
       "      <td>0.001260</td>\n",
       "    </tr>\n",
       "    <tr>\n",
       "      <th>7</th>\n",
       "      <td>2024-04-03</td>\n",
       "      <td>21.993671</td>\n",
       "      <td>0.311175</td>\n",
       "      <td>1.0</td>\n",
       "      <td>0.003194</td>\n",
       "    </tr>\n",
       "    <tr>\n",
       "      <th>8</th>\n",
       "      <td>2024-04-04</td>\n",
       "      <td>2.999616</td>\n",
       "      <td>0.000045</td>\n",
       "      <td>0.0</td>\n",
       "      <td>-0.020200</td>\n",
       "    </tr>\n",
       "    <tr>\n",
       "      <th>9</th>\n",
       "      <td>2024-04-05</td>\n",
       "      <td>3.996764</td>\n",
       "      <td>0.016379</td>\n",
       "      <td>1.0</td>\n",
       "      <td>0.007698</td>\n",
       "    </tr>\n",
       "  </tbody>\n",
       "</table>\n",
       "</div>"
      ],
      "text/plain": [
       "        date        nss  normalized_nss  actual_label  daily_return\n",
       "0 2024-03-27   2.996845        0.000000           1.0      0.002607\n",
       "1 2024-03-28  15.988230        0.212804           0.0     -0.000353\n",
       "2 2024-03-29  30.936453        0.457662           NaN           NaN\n",
       "3 2024-03-30   2.999322        0.000041           NaN           NaN\n",
       "4 2024-03-31  15.146014        0.199008           NaN           NaN\n",
       "5 2024-04-01  11.984759        0.147225           0.0     -0.002846\n",
       "6 2024-04-02  64.045469        1.000000           1.0      0.001260\n",
       "7 2024-04-03  21.993671        0.311175           1.0      0.003194\n",
       "8 2024-04-04   2.999616        0.000045           0.0     -0.020200\n",
       "9 2024-04-05   3.996764        0.016379           1.0      0.007698"
      ]
     },
     "execution_count": 81,
     "metadata": {},
     "output_type": "execute_result"
    }
   ],
   "source": [
    "voo_df['Date'] = pd.to_datetime(voo_df['Date'])\n",
    "nss_df['date'] = pd.to_datetime(nss_df['date'])\n",
    "\n",
    "nss_df = pd.merge(nss_df, voo_df, how='left', left_on='date', right_on='Date')\n",
    "nss_df.drop(['Date', 'Open', 'High', 'Low', 'Close', 'Adj Close', 'Volume'], axis=1, inplace=True)\n",
    "\n",
    "nss_df"
   ]
  },
  {
   "cell_type": "markdown",
   "metadata": {},
   "source": [
    "#### Dual Y-Axis Time-Series Plot for Normalized NSS and Daily Stock Returns"
   ]
  },
  {
   "cell_type": "code",
   "execution_count": 82,
   "metadata": {},
   "outputs": [
    {
     "data": {
      "image/png": "[encoded data removed]",
      "text/plain": [
       "<Figure size 1200x600 with 2 Axes>"
      ]
     },
     "metadata": {},
     "output_type": "display_data"
    }
   ],
   "source": [
    "import matplotlib.pyplot as plt\n",
    "\n",
    "# Create a figure and a set of subplots\n",
    "fig, ax1 = plt.subplots(figsize=(12, 6))\n",
    "\n",
    "# First axis (ax1) for NSS\n",
    "color = 'tab:blue'\n",
    "ax1.set_xlabel('Date')\n",
    "ax1.set_ylabel('Normalized NSS', color=color)\n",
    "ax1.plot(nss_df['date'], nss_df['normalized_nss'], color=color)\n",
    "ax1.tick_params(axis='y', labelcolor=color)\n",
    "\n",
    "# Create a second y-axis (ax2) for Daily Return\n",
    "ax2 = ax1.twinx()  # instantiate a second axes that shares the same x-axis\n",
    "color = 'tab:green'\n",
    "ax2.set_ylabel('Daily Return', color=color)\n",
    "ax2.plot(nss_df['date'], nss_df['daily_return'], color=color)\n",
    "ax2.tick_params(axis='y', labelcolor=color)\n",
    "\n",
    "# Title and show plot\n",
    "plt.title('Time-Series of Normalized NSS and Daily Return')\n",
    "fig.tight_layout()  # otherwise the right y-label may be slightly clipped\n",
    "plt.show()\n"
   ]
  },
  {
   "cell_type": "markdown",
   "metadata": {},
   "source": [
    "### 2. Weighted Average Calculation"
   ]
  },
  {
   "cell_type": "code",
   "execution_count": 83,
   "metadata": {},
   "outputs": [
    {
     "name": "stderr",
     "output_type": "stream",
     "text": [
      "C:\\Users\\User\\AppData\\Local\\Temp\\ipykernel_22860\\580712688.py:11: DeprecationWarning:\n",
      "\n",
      "DataFrameGroupBy.apply operated on the grouping columns. This behavior is deprecated, and in a future version of pandas the grouping columns will be excluded from the operation. Either pass `include_groups=False` to exclude the groupings or explicitly select the grouping columns after groupby to silence this warning.\n",
      "\n"
     ]
    },
    {
     "data": {
      "text/html": [
       "<div>\n",
       "<style scoped>\n",
       "    .dataframe tbody tr th:only-of-type {\n",
       "        vertical-align: middle;\n",
       "    }\n",
       "\n",
       "    .dataframe tbody tr th {\n",
       "        vertical-align: top;\n",
       "    }\n",
       "\n",
       "    .dataframe thead th {\n",
       "        text-align: right;\n",
       "    }\n",
       "</style>\n",
       "<table border=\"1\" class=\"dataframe\">\n",
       "  <thead>\n",
       "    <tr style=\"text-align: right;\">\n",
       "      <th></th>\n",
       "      <th>date</th>\n",
       "      <th>weighted_average</th>\n",
       "    </tr>\n",
       "  </thead>\n",
       "  <tbody>\n",
       "    <tr>\n",
       "      <th>0</th>\n",
       "      <td>2024-03-27</td>\n",
       "      <td>1.245679</td>\n",
       "    </tr>\n",
       "    <tr>\n",
       "      <th>1</th>\n",
       "      <td>2024-03-28</td>\n",
       "      <td>1.199104</td>\n",
       "    </tr>\n",
       "    <tr>\n",
       "      <th>2</th>\n",
       "      <td>2024-03-29</td>\n",
       "      <td>0.952866</td>\n",
       "    </tr>\n",
       "    <tr>\n",
       "      <th>3</th>\n",
       "      <td>2024-03-30</td>\n",
       "      <td>1.247756</td>\n",
       "    </tr>\n",
       "    <tr>\n",
       "      <th>4</th>\n",
       "      <td>2024-03-31</td>\n",
       "      <td>1.246772</td>\n",
       "    </tr>\n",
       "    <tr>\n",
       "      <th>5</th>\n",
       "      <td>2024-04-01</td>\n",
       "      <td>1.062737</td>\n",
       "    </tr>\n",
       "    <tr>\n",
       "      <th>6</th>\n",
       "      <td>2024-04-02</td>\n",
       "      <td>1.065669</td>\n",
       "    </tr>\n",
       "    <tr>\n",
       "      <th>7</th>\n",
       "      <td>2024-04-03</td>\n",
       "      <td>1.083322</td>\n",
       "    </tr>\n",
       "    <tr>\n",
       "      <th>8</th>\n",
       "      <td>2024-04-04</td>\n",
       "      <td>1.250019</td>\n",
       "    </tr>\n",
       "    <tr>\n",
       "      <th>9</th>\n",
       "      <td>2024-04-05</td>\n",
       "      <td>1.000000</td>\n",
       "    </tr>\n",
       "  </tbody>\n",
       "</table>\n",
       "</div>"
      ],
      "text/plain": [
       "        date  weighted_average\n",
       "0 2024-03-27          1.245679\n",
       "1 2024-03-28          1.199104\n",
       "2 2024-03-29          0.952866\n",
       "3 2024-03-30          1.247756\n",
       "4 2024-03-31          1.246772\n",
       "5 2024-04-01          1.062737\n",
       "6 2024-04-02          1.065669\n",
       "7 2024-04-03          1.083322\n",
       "8 2024-04-04          1.250019\n",
       "9 2024-04-05          1.000000"
      ]
     },
     "execution_count": 83,
     "metadata": {},
     "output_type": "execute_result"
    }
   ],
   "source": [
    "import pandas as pd\n",
    "\n",
    "data = {\n",
    "    'date': sentiment_df['date'],\n",
    "    'sentiment_label': sentiment_df['sentiment_label'],\n",
    "    'sentiment_score': sentiment_df['sentiment_score']\n",
    "}\n",
    "weighted_avg_df = pd.DataFrame(data)\n",
    "\n",
    "# Calculate Weighted Average Sentiment\n",
    "weighted_avg = weighted_avg_df.groupby('date').apply(\n",
    "    lambda x: (x['sentiment_label'] * x['sentiment_score']).sum() / x['sentiment_score'].sum())\n",
    "\n",
    "# Convert to DataFrame and reset index\n",
    "weighted_avg_df = weighted_avg.reset_index()\n",
    "weighted_avg_df.columns = ['date', 'weighted_average']  # Renaming columns\n",
    "\n",
    "weighted_avg_df\n"
   ]
  },
  {
   "cell_type": "code",
   "execution_count": 84,
   "metadata": {},
   "outputs": [
    {
     "data": {
      "text/html": [
       "<div>\n",
       "<style scoped>\n",
       "    .dataframe tbody tr th:only-of-type {\n",
       "        vertical-align: middle;\n",
       "    }\n",
       "\n",
       "    .dataframe tbody tr th {\n",
       "        vertical-align: top;\n",
       "    }\n",
       "\n",
       "    .dataframe thead th {\n",
       "        text-align: right;\n",
       "    }\n",
       "</style>\n",
       "<table border=\"1\" class=\"dataframe\">\n",
       "  <thead>\n",
       "    <tr style=\"text-align: right;\">\n",
       "      <th></th>\n",
       "      <th>Date</th>\n",
       "      <th>Open</th>\n",
       "      <th>High</th>\n",
       "      <th>Low</th>\n",
       "      <th>Close</th>\n",
       "      <th>Adj Close</th>\n",
       "      <th>Volume</th>\n",
       "    </tr>\n",
       "  </thead>\n",
       "  <tbody>\n",
       "    <tr>\n",
       "      <th>0</th>\n",
       "      <td>2024-03-26</td>\n",
       "      <td>479.059998</td>\n",
       "      <td>479.369995</td>\n",
       "      <td>476.429993</td>\n",
       "      <td>476.600006</td>\n",
       "      <td>476.600006</td>\n",
       "      <td>8073500</td>\n",
       "    </tr>\n",
       "    <tr>\n",
       "      <th>1</th>\n",
       "      <td>2024-03-27</td>\n",
       "      <td>479.510010</td>\n",
       "      <td>480.869995</td>\n",
       "      <td>477.450012</td>\n",
       "      <td>480.760010</td>\n",
       "      <td>480.760010</td>\n",
       "      <td>4951400</td>\n",
       "    </tr>\n",
       "    <tr>\n",
       "      <th>2</th>\n",
       "      <td>2024-03-28</td>\n",
       "      <td>480.869995</td>\n",
       "      <td>482.160004</td>\n",
       "      <td>480.500000</td>\n",
       "      <td>480.700012</td>\n",
       "      <td>480.700012</td>\n",
       "      <td>4065000</td>\n",
       "    </tr>\n",
       "    <tr>\n",
       "      <th>3</th>\n",
       "      <td>2024-04-01</td>\n",
       "      <td>481.440002</td>\n",
       "      <td>481.959991</td>\n",
       "      <td>478.829987</td>\n",
       "      <td>480.070007</td>\n",
       "      <td>480.070007</td>\n",
       "      <td>5734000</td>\n",
       "    </tr>\n",
       "    <tr>\n",
       "      <th>4</th>\n",
       "      <td>2024-04-02</td>\n",
       "      <td>476.329987</td>\n",
       "      <td>476.989990</td>\n",
       "      <td>474.709991</td>\n",
       "      <td>476.929993</td>\n",
       "      <td>476.929993</td>\n",
       "      <td>4817800</td>\n",
       "    </tr>\n",
       "    <tr>\n",
       "      <th>5</th>\n",
       "      <td>2024-04-03</td>\n",
       "      <td>475.839996</td>\n",
       "      <td>478.799988</td>\n",
       "      <td>475.790009</td>\n",
       "      <td>477.359985</td>\n",
       "      <td>477.359985</td>\n",
       "      <td>6218200</td>\n",
       "    </tr>\n",
       "    <tr>\n",
       "      <th>6</th>\n",
       "      <td>2024-04-04</td>\n",
       "      <td>481.200012</td>\n",
       "      <td>481.480011</td>\n",
       "      <td>471.269989</td>\n",
       "      <td>471.480011</td>\n",
       "      <td>471.480011</td>\n",
       "      <td>6871200</td>\n",
       "    </tr>\n",
       "    <tr>\n",
       "      <th>7</th>\n",
       "      <td>2024-04-05</td>\n",
       "      <td>472.850006</td>\n",
       "      <td>478.329987</td>\n",
       "      <td>472.420013</td>\n",
       "      <td>476.489990</td>\n",
       "      <td>476.489990</td>\n",
       "      <td>5582200</td>\n",
       "    </tr>\n",
       "  </tbody>\n",
       "</table>\n",
       "</div>"
      ],
      "text/plain": [
       "         Date        Open        High         Low       Close   Adj Close  \\\n",
       "0  2024-03-26  479.059998  479.369995  476.429993  476.600006  476.600006   \n",
       "1  2024-03-27  479.510010  480.869995  477.450012  480.760010  480.760010   \n",
       "2  2024-03-28  480.869995  482.160004  480.500000  480.700012  480.700012   \n",
       "3  2024-04-01  481.440002  481.959991  478.829987  480.070007  480.070007   \n",
       "4  2024-04-02  476.329987  476.989990  474.709991  476.929993  476.929993   \n",
       "5  2024-04-03  475.839996  478.799988  475.790009  477.359985  477.359985   \n",
       "6  2024-04-04  481.200012  481.480011  471.269989  471.480011  471.480011   \n",
       "7  2024-04-05  472.850006  478.329987  472.420013  476.489990  476.489990   \n",
       "\n",
       "    Volume  \n",
       "0  8073500  \n",
       "1  4951400  \n",
       "2  4065000  \n",
       "3  5734000  \n",
       "4  4817800  \n",
       "5  6218200  \n",
       "6  6871200  \n",
       "7  5582200  "
      ]
     },
     "execution_count": 84,
     "metadata": {},
     "output_type": "execute_result"
    }
   ],
   "source": [
    "voo_df = pd.read_csv('../datasets/VOO_sentiment.csv')\n",
    "voo_df"
   ]
  },
  {
   "cell_type": "code",
   "execution_count": 85,
   "metadata": {},
   "outputs": [
    {
     "data": {
      "text/html": [
       "<div>\n",
       "<style scoped>\n",
       "    .dataframe tbody tr th:only-of-type {\n",
       "        vertical-align: middle;\n",
       "    }\n",
       "\n",
       "    .dataframe tbody tr th {\n",
       "        vertical-align: top;\n",
       "    }\n",
       "\n",
       "    .dataframe thead th {\n",
       "        text-align: right;\n",
       "    }\n",
       "</style>\n",
       "<table border=\"1\" class=\"dataframe\">\n",
       "  <thead>\n",
       "    <tr style=\"text-align: right;\">\n",
       "      <th></th>\n",
       "      <th>Date</th>\n",
       "      <th>Open</th>\n",
       "      <th>High</th>\n",
       "      <th>Low</th>\n",
       "      <th>Close</th>\n",
       "      <th>Adj Close</th>\n",
       "      <th>Volume</th>\n",
       "      <th>actual_label</th>\n",
       "    </tr>\n",
       "  </thead>\n",
       "  <tbody>\n",
       "    <tr>\n",
       "      <th>0</th>\n",
       "      <td>2024-03-26</td>\n",
       "      <td>479.059998</td>\n",
       "      <td>479.369995</td>\n",
       "      <td>476.429993</td>\n",
       "      <td>476.600006</td>\n",
       "      <td>476.600006</td>\n",
       "      <td>8073500</td>\n",
       "      <td>0</td>\n",
       "    </tr>\n",
       "    <tr>\n",
       "      <th>1</th>\n",
       "      <td>2024-03-27</td>\n",
       "      <td>479.510010</td>\n",
       "      <td>480.869995</td>\n",
       "      <td>477.450012</td>\n",
       "      <td>480.760010</td>\n",
       "      <td>480.760010</td>\n",
       "      <td>4951400</td>\n",
       "      <td>1</td>\n",
       "    </tr>\n",
       "    <tr>\n",
       "      <th>2</th>\n",
       "      <td>2024-03-28</td>\n",
       "      <td>480.869995</td>\n",
       "      <td>482.160004</td>\n",
       "      <td>480.500000</td>\n",
       "      <td>480.700012</td>\n",
       "      <td>480.700012</td>\n",
       "      <td>4065000</td>\n",
       "      <td>0</td>\n",
       "    </tr>\n",
       "    <tr>\n",
       "      <th>3</th>\n",
       "      <td>2024-04-01</td>\n",
       "      <td>481.440002</td>\n",
       "      <td>481.959991</td>\n",
       "      <td>478.829987</td>\n",
       "      <td>480.070007</td>\n",
       "      <td>480.070007</td>\n",
       "      <td>5734000</td>\n",
       "      <td>0</td>\n",
       "    </tr>\n",
       "    <tr>\n",
       "      <th>4</th>\n",
       "      <td>2024-04-02</td>\n",
       "      <td>476.329987</td>\n",
       "      <td>476.989990</td>\n",
       "      <td>474.709991</td>\n",
       "      <td>476.929993</td>\n",
       "      <td>476.929993</td>\n",
       "      <td>4817800</td>\n",
       "      <td>1</td>\n",
       "    </tr>\n",
       "    <tr>\n",
       "      <th>5</th>\n",
       "      <td>2024-04-03</td>\n",
       "      <td>475.839996</td>\n",
       "      <td>478.799988</td>\n",
       "      <td>475.790009</td>\n",
       "      <td>477.359985</td>\n",
       "      <td>477.359985</td>\n",
       "      <td>6218200</td>\n",
       "      <td>1</td>\n",
       "    </tr>\n",
       "    <tr>\n",
       "      <th>6</th>\n",
       "      <td>2024-04-04</td>\n",
       "      <td>481.200012</td>\n",
       "      <td>481.480011</td>\n",
       "      <td>471.269989</td>\n",
       "      <td>471.480011</td>\n",
       "      <td>471.480011</td>\n",
       "      <td>6871200</td>\n",
       "      <td>0</td>\n",
       "    </tr>\n",
       "    <tr>\n",
       "      <th>7</th>\n",
       "      <td>2024-04-05</td>\n",
       "      <td>472.850006</td>\n",
       "      <td>478.329987</td>\n",
       "      <td>472.420013</td>\n",
       "      <td>476.489990</td>\n",
       "      <td>476.489990</td>\n",
       "      <td>5582200</td>\n",
       "      <td>1</td>\n",
       "    </tr>\n",
       "  </tbody>\n",
       "</table>\n",
       "</div>"
      ],
      "text/plain": [
       "         Date        Open        High         Low       Close   Adj Close  \\\n",
       "0  2024-03-26  479.059998  479.369995  476.429993  476.600006  476.600006   \n",
       "1  2024-03-27  479.510010  480.869995  477.450012  480.760010  480.760010   \n",
       "2  2024-03-28  480.869995  482.160004  480.500000  480.700012  480.700012   \n",
       "3  2024-04-01  481.440002  481.959991  478.829987  480.070007  480.070007   \n",
       "4  2024-04-02  476.329987  476.989990  474.709991  476.929993  476.929993   \n",
       "5  2024-04-03  475.839996  478.799988  475.790009  477.359985  477.359985   \n",
       "6  2024-04-04  481.200012  481.480011  471.269989  471.480011  471.480011   \n",
       "7  2024-04-05  472.850006  478.329987  472.420013  476.489990  476.489990   \n",
       "\n",
       "    Volume  actual_label  \n",
       "0  8073500             0  \n",
       "1  4951400             1  \n",
       "2  4065000             0  \n",
       "3  5734000             0  \n",
       "4  4817800             1  \n",
       "5  6218200             1  \n",
       "6  6871200             0  \n",
       "7  5582200             1  "
      ]
     },
     "execution_count": 85,
     "metadata": {},
     "output_type": "execute_result"
    }
   ],
   "source": [
    "voo_df['actual_label'] = (voo_df['Close'] > voo_df['Open']).astype(int)\n",
    "\n",
    "voo_df"
   ]
  },
  {
   "cell_type": "code",
   "execution_count": 86,
   "metadata": {},
   "outputs": [
    {
     "data": {
      "text/html": [
       "<div>\n",
       "<style scoped>\n",
       "    .dataframe tbody tr th:only-of-type {\n",
       "        vertical-align: middle;\n",
       "    }\n",
       "\n",
       "    .dataframe tbody tr th {\n",
       "        vertical-align: top;\n",
       "    }\n",
       "\n",
       "    .dataframe thead th {\n",
       "        text-align: right;\n",
       "    }\n",
       "</style>\n",
       "<table border=\"1\" class=\"dataframe\">\n",
       "  <thead>\n",
       "    <tr style=\"text-align: right;\">\n",
       "      <th></th>\n",
       "      <th>date</th>\n",
       "      <th>weighted_average</th>\n",
       "      <th>actual_label</th>\n",
       "    </tr>\n",
       "  </thead>\n",
       "  <tbody>\n",
       "    <tr>\n",
       "      <th>0</th>\n",
       "      <td>2024-03-27</td>\n",
       "      <td>1.245679</td>\n",
       "      <td>1.0</td>\n",
       "    </tr>\n",
       "    <tr>\n",
       "      <th>1</th>\n",
       "      <td>2024-03-28</td>\n",
       "      <td>1.199104</td>\n",
       "      <td>0.0</td>\n",
       "    </tr>\n",
       "    <tr>\n",
       "      <th>2</th>\n",
       "      <td>2024-03-29</td>\n",
       "      <td>0.952866</td>\n",
       "      <td>NaN</td>\n",
       "    </tr>\n",
       "    <tr>\n",
       "      <th>3</th>\n",
       "      <td>2024-03-30</td>\n",
       "      <td>1.247756</td>\n",
       "      <td>NaN</td>\n",
       "    </tr>\n",
       "    <tr>\n",
       "      <th>4</th>\n",
       "      <td>2024-03-31</td>\n",
       "      <td>1.246772</td>\n",
       "      <td>NaN</td>\n",
       "    </tr>\n",
       "    <tr>\n",
       "      <th>5</th>\n",
       "      <td>2024-04-01</td>\n",
       "      <td>1.062737</td>\n",
       "      <td>0.0</td>\n",
       "    </tr>\n",
       "    <tr>\n",
       "      <th>6</th>\n",
       "      <td>2024-04-02</td>\n",
       "      <td>1.065669</td>\n",
       "      <td>1.0</td>\n",
       "    </tr>\n",
       "    <tr>\n",
       "      <th>7</th>\n",
       "      <td>2024-04-03</td>\n",
       "      <td>1.083322</td>\n",
       "      <td>1.0</td>\n",
       "    </tr>\n",
       "    <tr>\n",
       "      <th>8</th>\n",
       "      <td>2024-04-04</td>\n",
       "      <td>1.250019</td>\n",
       "      <td>0.0</td>\n",
       "    </tr>\n",
       "    <tr>\n",
       "      <th>9</th>\n",
       "      <td>2024-04-05</td>\n",
       "      <td>1.000000</td>\n",
       "      <td>1.0</td>\n",
       "    </tr>\n",
       "  </tbody>\n",
       "</table>\n",
       "</div>"
      ],
      "text/plain": [
       "        date  weighted_average  actual_label\n",
       "0 2024-03-27          1.245679           1.0\n",
       "1 2024-03-28          1.199104           0.0\n",
       "2 2024-03-29          0.952866           NaN\n",
       "3 2024-03-30          1.247756           NaN\n",
       "4 2024-03-31          1.246772           NaN\n",
       "5 2024-04-01          1.062737           0.0\n",
       "6 2024-04-02          1.065669           1.0\n",
       "7 2024-04-03          1.083322           1.0\n",
       "8 2024-04-04          1.250019           0.0\n",
       "9 2024-04-05          1.000000           1.0"
      ]
     },
     "execution_count": 86,
     "metadata": {},
     "output_type": "execute_result"
    }
   ],
   "source": [
    "weighted_avg_df['date'] = pd.to_datetime(weighted_avg_df['date'])\n",
    "voo_df['Date'] = pd.to_datetime(voo_df['Date'])\n",
    "\n",
    "weighted_avg_df = pd.merge(weighted_avg_df, voo_df, how='left', left_on='date', right_on='Date')\n",
    "\n",
    "weighted_avg_df.drop(['Date', 'Open', 'High', 'Low', 'Close', 'Adj Close', 'Volume'], axis=1, inplace=True)\n",
    "\n",
    "weighted_avg_df"
   ]
  },
  {
   "cell_type": "markdown",
   "metadata": {},
   "source": [
    "1 means that stock price go higher, 0 means that stock price go lower, NaN means non-trading days."
   ]
  },
  {
   "cell_type": "markdown",
   "metadata": {},
   "source": [
    "### Correlation Analysis and Statistical Measures"
   ]
  },
  {
   "cell_type": "code",
   "execution_count": 87,
   "metadata": {},
   "outputs": [
    {
     "name": "stdout",
     "output_type": "stream",
     "text": [
      "Pearson Correlation Coefficient: -0.38363834138989156\n"
     ]
    }
   ],
   "source": [
    "import pandas as pd\n",
    "\n",
    "correlation = weighted_avg_df['weighted_average'].corr(weighted_avg_df['actual_label'], method='pearson')\n",
    "print(\"Pearson Correlation Coefficient:\", correlation)"
   ]
  },
  {
   "cell_type": "code",
   "execution_count": 94,
   "metadata": {},
   "outputs": [
    {
     "data": {
      "image/png": "[encoded data removed]",
      "text/plain": [
       "<Figure size 1000x600 with 1 Axes>"
      ]
     },
     "metadata": {},
     "output_type": "display_data"
    }
   ],
   "source": [
    "plt.figure(figsize=(10, 6))\n",
    "plt.plot(weighted_avg_df['date'], weighted_avg_df['weighted_average'], label='Weighted Average Sentiment', color='blue')\n",
    "\n",
    "for i, row in weighted_avg_df.iterrows():\n",
    "    if row['actual_label'] == 1:\n",
    "        plt.scatter(row['date'], row['weighted_average'], color='green', marker='^', s=200)\n",
    "    elif row['actual_label'] == 0:\n",
    "        plt.scatter(row['date'], row['weighted_average'], color='red', marker='v', s=200)\n",
    "    else:\n",
    "        plt.scatter(row['date'], row['weighted_average'], color='grey', marker='o', s=200)\n",
    "\n",
    "plt.xlabel('Date')\n",
    "plt.ylabel('Weighted Average Sentiment')\n",
    "plt.title('Sentiment and Stock Movement with Triangles')\n",
    "plt.xticks(rotation=45)\n",
    "plt.legend()\n",
    "plt.show()\n"
   ]
  },
  {
   "cell_type": "code",
   "execution_count": 89,
   "metadata": {},
   "outputs": [
    {
     "data": {
      "application/vnd.plotly.v1+json": {
       "config": {
        "plotlyServerURL": "https://plot.ly"
       },
       "data": [
        {
         "line": {
          "color": "blue"
         },
         "mode": "lines",
         "name": "Weighted Average Sentiment",
         "type": "scatter",
         "x": [
          "2024-03-27T00:00:00",
          "2024-03-28T00:00:00",
          "2024-03-29T00:00:00",
          "2024-03-30T00:00:00",
          "2024-03-31T00:00:00",
          "2024-04-01T00:00:00",
          "2024-04-02T00:00:00",
          "2024-04-03T00:00:00",
          "2024-04-04T00:00:00",
          "2024-04-05T00:00:00"
         ],
         "y": [
          1.2456794766910047,
          1.1991036426575805,
          0.9528655550496488,
          1.2477559121247388,
          1.2467724237996396,
          1.0627372521389373,
          1.0656690043485009,
          1.0833221845426926,
          1.2500187140603791,
          1
         ]
        },
        {
         "marker": {
          "color": "green",
          "size": 10,
          "symbol": "triangle-up"
         },
         "mode": "markers",
         "name": "Stock Up",
         "type": "scatter",
         "x": [
          "2024-03-27T00:00:00"
         ],
         "y": [
          1.2456794766910047
         ]
        },
        {
         "marker": {
          "color": "red",
          "size": 10,
          "symbol": "triangle-down"
         },
         "mode": "markers",
         "name": "Stock Down",
         "type": "scatter",
         "x": [
          "2024-03-28T00:00:00"
         ],
         "y": [
          1.1991036426575805
         ]
        },
        {
         "marker": {
          "color": "grey",
          "size": 10,
          "symbol": "circle"
         },
         "mode": "markers",
         "name": "Market Closed",
         "type": "scatter",
         "x": [
          "2024-03-29T00:00:00"
         ],
         "y": [
          0.9528655550496488
         ]
        },
        {
         "marker": {
          "color": "grey",
          "size": 10,
          "symbol": "circle"
         },
         "mode": "markers",
         "name": "Market Closed",
         "type": "scatter",
         "x": [
          "2024-03-30T00:00:00"
         ],
         "y": [
          1.2477559121247388
         ]
        },
        {
         "marker": {
          "color": "grey",
          "size": 10,
          "symbol": "circle"
         },
         "mode": "markers",
         "name": "Market Closed",
         "type": "scatter",
         "x": [
          "2024-03-31T00:00:00"
         ],
         "y": [
          1.2467724237996396
         ]
        },
        {
         "marker": {
          "color": "red",
          "size": 10,
          "symbol": "triangle-down"
         },
         "mode": "markers",
         "name": "Stock Down",
         "type": "scatter",
         "x": [
          "2024-04-01T00:00:00"
         ],
         "y": [
          1.0627372521389373
         ]
        },
        {
         "marker": {
          "color": "green",
          "size": 10,
          "symbol": "triangle-up"
         },
         "mode": "markers",
         "name": "Stock Up",
         "type": "scatter",
         "x": [
          "2024-04-02T00:00:00"
         ],
         "y": [
          1.0656690043485009
         ]
        },
        {
         "marker": {
          "color": "green",
          "size": 10,
          "symbol": "triangle-up"
         },
         "mode": "markers",
         "name": "Stock Up",
         "type": "scatter",
         "x": [
          "2024-04-03T00:00:00"
         ],
         "y": [
          1.0833221845426926
         ]
        },
        {
         "marker": {
          "color": "red",
          "size": 10,
          "symbol": "triangle-down"
         },
         "mode": "markers",
         "name": "Stock Down",
         "type": "scatter",
         "x": [
          "2024-04-04T00:00:00"
         ],
         "y": [
          1.2500187140603791
         ]
        },
        {
         "marker": {
          "color": "green",
          "size": 10,
          "symbol": "triangle-up"
         },
         "mode": "markers",
         "name": "Stock Up",
         "type": "scatter",
         "x": [
          "2024-04-05T00:00:00"
         ],
         "y": [
          1
         ]
        }
       ],
       "layout": {
        "legend": {
         "title": {
          "text": "Legend"
         }
        },
        "template": {
         "data": {
          "bar": [
           {
            "error_x": {
             "color": "#2a3f5f"
            },
            "error_y": {
             "color": "#2a3f5f"
            },
            "marker": {
             "line": {
              "color": "#E5ECF6",
              "width": 0.5
             },
             "pattern": {
              "fillmode": "overlay",
              "size": 10,
              "solidity": 0.2
             }
            },
            "type": "bar"
           }
          ],
          "barpolar": [
           {
            "marker": {
             "line": {
              "color": "#E5ECF6",
              "width": 0.5
             },
             "pattern": {
              "fillmode": "overlay",
              "size": 10,
              "solidity": 0.2
             }
            },
            "type": "barpolar"
           }
          ],
          "carpet": [
           {
            "aaxis": {
             "endlinecolor": "#2a3f5f",
             "gridcolor": "white",
             "linecolor": "white",
             "minorgridcolor": "white",
             "startlinecolor": "#2a3f5f"
            },
            "baxis": {
             "endlinecolor": "#2a3f5f",
             "gridcolor": "white",
             "linecolor": "white",
             "minorgridcolor": "white",
             "startlinecolor": "#2a3f5f"
            },
            "type": "carpet"
           }
          ],
          "choropleth": [
           {
            "colorbar": {
             "outlinewidth": 0,
             "ticks": ""
            },
            "type": "choropleth"
           }
          ],
          "contour": [
           {
            "colorbar": {
             "outlinewidth": 0,
             "ticks": ""
            },
            "colorscale": [
             [
              0,
              "#0d0887"
             ],
             [
              0.1111111111111111,
              "#46039f"
             ],
             [
              0.2222222222222222,
              "#7201a8"
             ],
             [
              0.3333333333333333,
              "#9c179e"
             ],
             [
              0.4444444444444444,
              "#bd3786"
             ],
             [
              0.5555555555555556,
              "#d8576b"
             ],
             [
              0.6666666666666666,
              "#ed7953"
             ],
             [
              0.7777777777777778,
              "#fb9f3a"
             ],
             [
              0.8888888888888888,
              "#fdca26"
             ],
             [
              1,
              "#f0f921"
             ]
            ],
            "type": "contour"
           }
          ],
          "contourcarpet": [
           {
            "colorbar": {
             "outlinewidth": 0,
             "ticks": ""
            },
            "type": "contourcarpet"
           }
          ],
          "heatmap": [
           {
            "colorbar": {
             "outlinewidth": 0,
             "ticks": ""
            },
            "colorscale": [
             [
              0,
              "#0d0887"
             ],
             [
              0.1111111111111111,
              "#46039f"
             ],
             [
              0.2222222222222222,
              "#7201a8"
             ],
             [
              0.3333333333333333,
              "#9c179e"
             ],
             [
              0.4444444444444444,
              "#bd3786"
             ],
             [
              0.5555555555555556,
              "#d8576b"
             ],
             [
              0.6666666666666666,
              "#ed7953"
             ],
             [
              0.7777777777777778,
              "#fb9f3a"
             ],
             [
              0.8888888888888888,
              "#fdca26"
             ],
             [
              1,
              "#f0f921"
             ]
            ],
            "type": "heatmap"
           }
          ],
          "heatmapgl": [
           {
            "colorbar": {
             "outlinewidth": 0,
             "ticks": ""
            },
            "colorscale": [
             [
              0,
              "#0d0887"
             ],
             [
              0.1111111111111111,
              "#46039f"
             ],
             [
              0.2222222222222222,
              "#7201a8"
             ],
             [
              0.3333333333333333,
              "#9c179e"
             ],
             [
              0.4444444444444444,
              "#bd3786"
             ],
             [
              0.5555555555555556,
              "#d8576b"
             ],
             [
              0.6666666666666666,
              "#ed7953"
             ],
             [
              0.7777777777777778,
              "#fb9f3a"
             ],
             [
              0.8888888888888888,
              "#fdca26"
             ],
             [
              1,
              "#f0f921"
             ]
            ],
            "type": "heatmapgl"
           }
          ],
          "histogram": [
           {
            "marker": {
             "pattern": {
              "fillmode": "overlay",
              "size": 10,
              "solidity": 0.2
             }
            },
            "type": "histogram"
           }
          ],
          "histogram2d": [
           {
            "colorbar": {
             "outlinewidth": 0,
             "ticks": ""
            },
            "colorscale": [
             [
              0,
              "#0d0887"
             ],
             [
              0.1111111111111111,
              "#46039f"
             ],
             [
              0.2222222222222222,
              "#7201a8"
             ],
             [
              0.3333333333333333,
              "#9c179e"
             ],
             [
              0.4444444444444444,
              "#bd3786"
             ],
             [
              0.5555555555555556,
              "#d8576b"
             ],
             [
              0.6666666666666666,
              "#ed7953"
             ],
             [
              0.7777777777777778,
              "#fb9f3a"
             ],
             [
              0.8888888888888888,
              "#fdca26"
             ],
             [
              1,
              "#f0f921"
             ]
            ],
            "type": "histogram2d"
           }
          ],
          "histogram2dcontour": [
           {
            "colorbar": {
             "outlinewidth": 0,
             "ticks": ""
            },
            "colorscale": [
             [
              0,
              "#0d0887"
             ],
             [
              0.1111111111111111,
              "#46039f"
             ],
             [
              0.2222222222222222,
              "#7201a8"
             ],
             [
              0.3333333333333333,
              "#9c179e"
             ],
             [
              0.4444444444444444,
              "#bd3786"
             ],
             [
              0.5555555555555556,
              "#d8576b"
             ],
             [
              0.6666666666666666,
              "#ed7953"
             ],
             [
              0.7777777777777778,
              "#fb9f3a"
             ],
             [
              0.8888888888888888,
              "#fdca26"
             ],
             [
              1,
              "#f0f921"
             ]
            ],
            "type": "histogram2dcontour"
           }
          ],
          "mesh3d": [
           {
            "colorbar": {
             "outlinewidth": 0,
             "ticks": ""
            },
            "type": "mesh3d"
           }
          ],
          "parcoords": [
           {
            "line": {
             "colorbar": {
              "outlinewidth": 0,
              "ticks": ""
             }
            },
            "type": "parcoords"
           }
          ],
          "pie": [
           {
            "automargin": true,
            "type": "pie"
           }
          ],
          "scatter": [
           {
            "fillpattern": {
             "fillmode": "overlay",
             "size": 10,
             "solidity": 0.2
            },
            "type": "scatter"
           }
          ],
          "scatter3d": [
           {
            "line": {
             "colorbar": {
              "outlinewidth": 0,
              "ticks": ""
             }
            },
            "marker": {
             "colorbar": {
              "outlinewidth": 0,
              "ticks": ""
             }
            },
            "type": "scatter3d"
           }
          ],
          "scattercarpet": [
           {
            "marker": {
             "colorbar": {
              "outlinewidth": 0,
              "ticks": ""
             }
            },
            "type": "scattercarpet"
           }
          ],
          "scattergeo": [
           {
            "marker": {
             "colorbar": {
              "outlinewidth": 0,
              "ticks": ""
             }
            },
            "type": "scattergeo"
           }
          ],
          "scattergl": [
           {
            "marker": {
             "colorbar": {
              "outlinewidth": 0,
              "ticks": ""
             }
            },
            "type": "scattergl"
           }
          ],
          "scattermapbox": [
           {
            "marker": {
             "colorbar": {
              "outlinewidth": 0,
              "ticks": ""
             }
            },
            "type": "scattermapbox"
           }
          ],
          "scatterpolar": [
           {
            "marker": {
             "colorbar": {
              "outlinewidth": 0,
              "ticks": ""
             }
            },
            "type": "scatterpolar"
           }
          ],
          "scatterpolargl": [
           {
            "marker": {
             "colorbar": {
              "outlinewidth": 0,
              "ticks": ""
             }
            },
            "type": "scatterpolargl"
           }
          ],
          "scatterternary": [
           {
            "marker": {
             "colorbar": {
              "outlinewidth": 0,
              "ticks": ""
             }
            },
            "type": "scatterternary"
           }
          ],
          "surface": [
           {
            "colorbar": {
             "outlinewidth": 0,
             "ticks": ""
            },
            "colorscale": [
             [
              0,
              "#0d0887"
             ],
             [
              0.1111111111111111,
              "#46039f"
             ],
             [
              0.2222222222222222,
              "#7201a8"
             ],
             [
              0.3333333333333333,
              "#9c179e"
             ],
             [
              0.4444444444444444,
              "#bd3786"
             ],
             [
              0.5555555555555556,
              "#d8576b"
             ],
             [
              0.6666666666666666,
              "#ed7953"
             ],
             [
              0.7777777777777778,
              "#fb9f3a"
             ],
             [
              0.8888888888888888,
              "#fdca26"
             ],
             [
              1,
              "#f0f921"
             ]
            ],
            "type": "surface"
           }
          ],
          "table": [
           {
            "cells": {
             "fill": {
              "color": "#EBF0F8"
             },
             "line": {
              "color": "white"
             }
            },
            "header": {
             "fill": {
              "color": "#C8D4E3"
             },
             "line": {
              "color": "white"
             }
            },
            "type": "table"
           }
          ]
         },
         "layout": {
          "annotationdefaults": {
           "arrowcolor": "#2a3f5f",
           "arrowhead": 0,
           "arrowwidth": 1
          },
          "autotypenumbers": "strict",
          "coloraxis": {
           "colorbar": {
            "outlinewidth": 0,
            "ticks": ""
           }
          },
          "colorscale": {
           "diverging": [
            [
             0,
             "#8e0152"
            ],
            [
             0.1,
             "#c51b7d"
            ],
            [
             0.2,
             "#de77ae"
            ],
            [
             0.3,
             "#f1b6da"
            ],
            [
             0.4,
             "#fde0ef"
            ],
            [
             0.5,
             "#f7f7f7"
            ],
            [
             0.6,
             "#e6f5d0"
            ],
            [
             0.7,
             "#b8e186"
            ],
            [
             0.8,
             "#7fbc41"
            ],
            [
             0.9,
             "#4d9221"
            ],
            [
             1,
             "#276419"
            ]
           ],
           "sequential": [
            [
             0,
             "#0d0887"
            ],
            [
             0.1111111111111111,
             "#46039f"
            ],
            [
             0.2222222222222222,
             "#7201a8"
            ],
            [
             0.3333333333333333,
             "#9c179e"
            ],
            [
             0.4444444444444444,
             "#bd3786"
            ],
            [
             0.5555555555555556,
             "#d8576b"
            ],
            [
             0.6666666666666666,
             "#ed7953"
            ],
            [
             0.7777777777777778,
             "#fb9f3a"
            ],
            [
             0.8888888888888888,
             "#fdca26"
            ],
            [
             1,
             "#f0f921"
            ]
           ],
           "sequentialminus": [
            [
             0,
             "#0d0887"
            ],
            [
             0.1111111111111111,
             "#46039f"
            ],
            [
             0.2222222222222222,
             "#7201a8"
            ],
            [
             0.3333333333333333,
             "#9c179e"
            ],
            [
             0.4444444444444444,
             "#bd3786"
            ],
            [
             0.5555555555555556,
             "#d8576b"
            ],
            [
             0.6666666666666666,
             "#ed7953"
            ],
            [
             0.7777777777777778,
             "#fb9f3a"
            ],
            [
             0.8888888888888888,
             "#fdca26"
            ],
            [
             1,
             "#f0f921"
            ]
           ]
          },
          "colorway": [
           "#636efa",
           "#EF553B",
           "#00cc96",
           "#ab63fa",
           "#FFA15A",
           "#19d3f3",
           "#FF6692",
           "#B6E880",
           "#FF97FF",
           "#FECB52"
          ],
          "font": {
           "color": "#2a3f5f"
          },
          "geo": {
           "bgcolor": "white",
           "lakecolor": "white",
           "landcolor": "#E5ECF6",
           "showlakes": true,
           "showland": true,
           "subunitcolor": "white"
          },
          "hoverlabel": {
           "align": "left"
          },
          "hovermode": "closest",
          "mapbox": {
           "style": "light"
          },
          "paper_bgcolor": "white",
          "plot_bgcolor": "#E5ECF6",
          "polar": {
           "angularaxis": {
            "gridcolor": "white",
            "linecolor": "white",
            "ticks": ""
           },
           "bgcolor": "#E5ECF6",
           "radialaxis": {
            "gridcolor": "white",
            "linecolor": "white",
            "ticks": ""
           }
          },
          "scene": {
           "xaxis": {
            "backgroundcolor": "#E5ECF6",
            "gridcolor": "white",
            "gridwidth": 2,
            "linecolor": "white",
            "showbackground": true,
            "ticks": "",
            "zerolinecolor": "white"
           },
           "yaxis": {
            "backgroundcolor": "#E5ECF6",
            "gridcolor": "white",
            "gridwidth": 2,
            "linecolor": "white",
            "showbackground": true,
            "ticks": "",
            "zerolinecolor": "white"
           },
           "zaxis": {
            "backgroundcolor": "#E5ECF6",
            "gridcolor": "white",
            "gridwidth": 2,
            "linecolor": "white",
            "showbackground": true,
            "ticks": "",
            "zerolinecolor": "white"
           }
          },
          "shapedefaults": {
           "line": {
            "color": "#2a3f5f"
           }
          },
          "ternary": {
           "aaxis": {
            "gridcolor": "white",
            "linecolor": "white",
            "ticks": ""
           },
           "baxis": {
            "gridcolor": "white",
            "linecolor": "white",
            "ticks": ""
           },
           "bgcolor": "#E5ECF6",
           "caxis": {
            "gridcolor": "white",
            "linecolor": "white",
            "ticks": ""
           }
          },
          "title": {
           "x": 0.05
          },
          "xaxis": {
           "automargin": true,
           "gridcolor": "white",
           "linecolor": "white",
           "ticks": "",
           "title": {
            "standoff": 15
           },
           "zerolinecolor": "white",
           "zerolinewidth": 2
          },
          "yaxis": {
           "automargin": true,
           "gridcolor": "white",
           "linecolor": "white",
           "ticks": "",
           "title": {
            "standoff": 15
           },
           "zerolinecolor": "white",
           "zerolinewidth": 2
          }
         }
        },
        "title": {
         "text": "Sentiment and Stock Movement with Interactive Triangles"
        },
        "xaxis": {
         "title": {
          "text": "Date"
         }
        },
        "yaxis": {
         "title": {
          "text": "Weighted Average Sentiment"
         }
        }
       }
      }
     },
     "metadata": {},
     "output_type": "display_data"
    }
   ],
   "source": [
    "import plotly.graph_objects as go\n",
    "\n",
    "# Creating the line plot for weighted average sentiment\n",
    "fig = go.Figure()\n",
    "fig.add_trace(go.Scatter(x=weighted_avg_df['date'], y=weighted_avg_df['weighted_average'], mode='lines', name='Weighted Average Sentiment', line=dict(color='blue')))\n",
    "\n",
    "# Adding markers for actual stock labels\n",
    "for i, row in weighted_avg_df.iterrows():\n",
    "    if row['actual_label'] == 1:\n",
    "        fig.add_trace(go.Scatter(x=[row['date']], y=[row['weighted_average']], mode='markers', marker_symbol='triangle-up', marker_color='green', marker_size=10, name='Stock Up'))\n",
    "    elif row['actual_label'] == 0:\n",
    "        fig.add_trace(go.Scatter(x=[row['date']], y=[row['weighted_average']], mode='markers', marker_symbol='triangle-down', marker_color='red', marker_size=10, name='Stock Down'))\n",
    "    else:\n",
    "        fig.add_trace(go.Scatter(x=[row['date']], y=[row['weighted_average']], mode='markers', marker_symbol='circle', marker_color='grey', marker_size=10, name='Market Closed'))\n",
    "\n",
    "# Setting layout for the figure\n",
    "fig.update_layout(title='Sentiment and Stock Movement with Interactive Triangles', xaxis_title='Date', yaxis_title='Weighted Average Sentiment', legend_title='Legend')\n",
    "fig.show()\n"
   ]
  },
  {
   "cell_type": "markdown",
   "metadata": {},
   "source": [
    "### Correlation between Stock Daily Returns and Weighted Average Sentiment"
   ]
  },
  {
   "cell_type": "code",
   "execution_count": 90,
   "metadata": {},
   "outputs": [
    {
     "data": {
      "text/html": [
       "<div>\n",
       "<style scoped>\n",
       "    .dataframe tbody tr th:only-of-type {\n",
       "        vertical-align: middle;\n",
       "    }\n",
       "\n",
       "    .dataframe tbody tr th {\n",
       "        vertical-align: top;\n",
       "    }\n",
       "\n",
       "    .dataframe thead th {\n",
       "        text-align: right;\n",
       "    }\n",
       "</style>\n",
       "<table border=\"1\" class=\"dataframe\">\n",
       "  <thead>\n",
       "    <tr style=\"text-align: right;\">\n",
       "      <th></th>\n",
       "      <th>Date</th>\n",
       "      <th>Open</th>\n",
       "      <th>High</th>\n",
       "      <th>Low</th>\n",
       "      <th>Close</th>\n",
       "      <th>Adj Close</th>\n",
       "      <th>Volume</th>\n",
       "      <th>daily_return</th>\n",
       "    </tr>\n",
       "  </thead>\n",
       "  <tbody>\n",
       "    <tr>\n",
       "      <th>0</th>\n",
       "      <td>2024-03-26</td>\n",
       "      <td>479.059998</td>\n",
       "      <td>479.369995</td>\n",
       "      <td>476.429993</td>\n",
       "      <td>476.600006</td>\n",
       "      <td>476.600006</td>\n",
       "      <td>8073500</td>\n",
       "      <td>-0.005135</td>\n",
       "    </tr>\n",
       "    <tr>\n",
       "      <th>1</th>\n",
       "      <td>2024-03-27</td>\n",
       "      <td>479.510010</td>\n",
       "      <td>480.869995</td>\n",
       "      <td>477.450012</td>\n",
       "      <td>480.760010</td>\n",
       "      <td>480.760010</td>\n",
       "      <td>4951400</td>\n",
       "      <td>0.002607</td>\n",
       "    </tr>\n",
       "    <tr>\n",
       "      <th>2</th>\n",
       "      <td>2024-03-28</td>\n",
       "      <td>480.869995</td>\n",
       "      <td>482.160004</td>\n",
       "      <td>480.500000</td>\n",
       "      <td>480.700012</td>\n",
       "      <td>480.700012</td>\n",
       "      <td>4065000</td>\n",
       "      <td>-0.000353</td>\n",
       "    </tr>\n",
       "    <tr>\n",
       "      <th>3</th>\n",
       "      <td>2024-04-01</td>\n",
       "      <td>481.440002</td>\n",
       "      <td>481.959991</td>\n",
       "      <td>478.829987</td>\n",
       "      <td>480.070007</td>\n",
       "      <td>480.070007</td>\n",
       "      <td>5734000</td>\n",
       "      <td>-0.002846</td>\n",
       "    </tr>\n",
       "    <tr>\n",
       "      <th>4</th>\n",
       "      <td>2024-04-02</td>\n",
       "      <td>476.329987</td>\n",
       "      <td>476.989990</td>\n",
       "      <td>474.709991</td>\n",
       "      <td>476.929993</td>\n",
       "      <td>476.929993</td>\n",
       "      <td>4817800</td>\n",
       "      <td>0.001260</td>\n",
       "    </tr>\n",
       "    <tr>\n",
       "      <th>5</th>\n",
       "      <td>2024-04-03</td>\n",
       "      <td>475.839996</td>\n",
       "      <td>478.799988</td>\n",
       "      <td>475.790009</td>\n",
       "      <td>477.359985</td>\n",
       "      <td>477.359985</td>\n",
       "      <td>6218200</td>\n",
       "      <td>0.003194</td>\n",
       "    </tr>\n",
       "    <tr>\n",
       "      <th>6</th>\n",
       "      <td>2024-04-04</td>\n",
       "      <td>481.200012</td>\n",
       "      <td>481.480011</td>\n",
       "      <td>471.269989</td>\n",
       "      <td>471.480011</td>\n",
       "      <td>471.480011</td>\n",
       "      <td>6871200</td>\n",
       "      <td>-0.020200</td>\n",
       "    </tr>\n",
       "    <tr>\n",
       "      <th>7</th>\n",
       "      <td>2024-04-05</td>\n",
       "      <td>472.850006</td>\n",
       "      <td>478.329987</td>\n",
       "      <td>472.420013</td>\n",
       "      <td>476.489990</td>\n",
       "      <td>476.489990</td>\n",
       "      <td>5582200</td>\n",
       "      <td>0.007698</td>\n",
       "    </tr>\n",
       "  </tbody>\n",
       "</table>\n",
       "</div>"
      ],
      "text/plain": [
       "         Date        Open        High         Low       Close   Adj Close  \\\n",
       "0  2024-03-26  479.059998  479.369995  476.429993  476.600006  476.600006   \n",
       "1  2024-03-27  479.510010  480.869995  477.450012  480.760010  480.760010   \n",
       "2  2024-03-28  480.869995  482.160004  480.500000  480.700012  480.700012   \n",
       "3  2024-04-01  481.440002  481.959991  478.829987  480.070007  480.070007   \n",
       "4  2024-04-02  476.329987  476.989990  474.709991  476.929993  476.929993   \n",
       "5  2024-04-03  475.839996  478.799988  475.790009  477.359985  477.359985   \n",
       "6  2024-04-04  481.200012  481.480011  471.269989  471.480011  471.480011   \n",
       "7  2024-04-05  472.850006  478.329987  472.420013  476.489990  476.489990   \n",
       "\n",
       "    Volume  daily_return  \n",
       "0  8073500     -0.005135  \n",
       "1  4951400      0.002607  \n",
       "2  4065000     -0.000353  \n",
       "3  5734000     -0.002846  \n",
       "4  4817800      0.001260  \n",
       "5  6218200      0.003194  \n",
       "6  6871200     -0.020200  \n",
       "7  5582200      0.007698  "
      ]
     },
     "execution_count": 90,
     "metadata": {},
     "output_type": "execute_result"
    }
   ],
   "source": [
    "voo_df = pd.read_csv('../datasets/VOO_sentiment.csv')\n",
    "voo_df['daily_return'] = (voo_df['Close'] - voo_df['Open']) / voo_df['Open']\n",
    "\n",
    "voo_df"
   ]
  },
  {
   "cell_type": "code",
   "execution_count": 91,
   "metadata": {},
   "outputs": [
    {
     "data": {
      "text/html": [
       "<div>\n",
       "<style scoped>\n",
       "    .dataframe tbody tr th:only-of-type {\n",
       "        vertical-align: middle;\n",
       "    }\n",
       "\n",
       "    .dataframe tbody tr th {\n",
       "        vertical-align: top;\n",
       "    }\n",
       "\n",
       "    .dataframe thead th {\n",
       "        text-align: right;\n",
       "    }\n",
       "</style>\n",
       "<table border=\"1\" class=\"dataframe\">\n",
       "  <thead>\n",
       "    <tr style=\"text-align: right;\">\n",
       "      <th></th>\n",
       "      <th>date</th>\n",
       "      <th>weighted_average</th>\n",
       "      <th>actual_label</th>\n",
       "      <th>daily_return</th>\n",
       "    </tr>\n",
       "  </thead>\n",
       "  <tbody>\n",
       "    <tr>\n",
       "      <th>0</th>\n",
       "      <td>2024-03-27</td>\n",
       "      <td>1.245679</td>\n",
       "      <td>1.0</td>\n",
       "      <td>0.002607</td>\n",
       "    </tr>\n",
       "    <tr>\n",
       "      <th>1</th>\n",
       "      <td>2024-03-28</td>\n",
       "      <td>1.199104</td>\n",
       "      <td>0.0</td>\n",
       "      <td>-0.000353</td>\n",
       "    </tr>\n",
       "    <tr>\n",
       "      <th>2</th>\n",
       "      <td>2024-03-29</td>\n",
       "      <td>0.952866</td>\n",
       "      <td>NaN</td>\n",
       "      <td>NaN</td>\n",
       "    </tr>\n",
       "    <tr>\n",
       "      <th>3</th>\n",
       "      <td>2024-03-30</td>\n",
       "      <td>1.247756</td>\n",
       "      <td>NaN</td>\n",
       "      <td>NaN</td>\n",
       "    </tr>\n",
       "    <tr>\n",
       "      <th>4</th>\n",
       "      <td>2024-03-31</td>\n",
       "      <td>1.246772</td>\n",
       "      <td>NaN</td>\n",
       "      <td>NaN</td>\n",
       "    </tr>\n",
       "    <tr>\n",
       "      <th>5</th>\n",
       "      <td>2024-04-01</td>\n",
       "      <td>1.062737</td>\n",
       "      <td>0.0</td>\n",
       "      <td>-0.002846</td>\n",
       "    </tr>\n",
       "    <tr>\n",
       "      <th>6</th>\n",
       "      <td>2024-04-02</td>\n",
       "      <td>1.065669</td>\n",
       "      <td>1.0</td>\n",
       "      <td>0.001260</td>\n",
       "    </tr>\n",
       "    <tr>\n",
       "      <th>7</th>\n",
       "      <td>2024-04-03</td>\n",
       "      <td>1.083322</td>\n",
       "      <td>1.0</td>\n",
       "      <td>0.003194</td>\n",
       "    </tr>\n",
       "    <tr>\n",
       "      <th>8</th>\n",
       "      <td>2024-04-04</td>\n",
       "      <td>1.250019</td>\n",
       "      <td>0.0</td>\n",
       "      <td>-0.020200</td>\n",
       "    </tr>\n",
       "    <tr>\n",
       "      <th>9</th>\n",
       "      <td>2024-04-05</td>\n",
       "      <td>1.000000</td>\n",
       "      <td>1.0</td>\n",
       "      <td>0.007698</td>\n",
       "    </tr>\n",
       "  </tbody>\n",
       "</table>\n",
       "</div>"
      ],
      "text/plain": [
       "        date  weighted_average  actual_label  daily_return\n",
       "0 2024-03-27          1.245679           1.0      0.002607\n",
       "1 2024-03-28          1.199104           0.0     -0.000353\n",
       "2 2024-03-29          0.952866           NaN           NaN\n",
       "3 2024-03-30          1.247756           NaN           NaN\n",
       "4 2024-03-31          1.246772           NaN           NaN\n",
       "5 2024-04-01          1.062737           0.0     -0.002846\n",
       "6 2024-04-02          1.065669           1.0      0.001260\n",
       "7 2024-04-03          1.083322           1.0      0.003194\n",
       "8 2024-04-04          1.250019           0.0     -0.020200\n",
       "9 2024-04-05          1.000000           1.0      0.007698"
      ]
     },
     "execution_count": 91,
     "metadata": {},
     "output_type": "execute_result"
    }
   ],
   "source": [
    "voo_df['Date'] = pd.to_datetime(voo_df['Date'])\n",
    "weighted_avg_df['date'] = pd.to_datetime(weighted_avg_df['date'])\n",
    "\n",
    "weighted_avg_df = pd.merge(weighted_avg_df, voo_df, how='left', left_on='date', right_on='Date')\n",
    "weighted_avg_df.drop(['Date', 'Open', 'High', 'Low', 'Close', 'Adj Close', 'Volume'], axis=1, inplace=True)\n",
    "\n",
    "weighted_avg_df"
   ]
  },
  {
   "cell_type": "markdown",
   "metadata": {},
   "source": [
    "#### Dual Y-Axis Time-Series Plot for Weighted Average and Daily Stock Returns"
   ]
  },
  {
   "cell_type": "code",
   "execution_count": 92,
   "metadata": {},
   "outputs": [
    {
     "data": {
      "image/png": "[encoded data removed]",
      "text/plain": [
       "<Figure size 1200x600 with 2 Axes>"
      ]
     },
     "metadata": {},
     "output_type": "display_data"
    }
   ],
   "source": [
    "import matplotlib.pyplot as plt\n",
    "\n",
    "# Create a figure and a set of subplots\n",
    "fig, ax1 = plt.subplots(figsize=(12, 6))\n",
    "\n",
    "# First axis (ax1) for NSS\n",
    "color = 'tab:blue'\n",
    "ax1.set_xlabel('Date')\n",
    "ax1.set_ylabel('Weighted Average Sentiment', color=color)\n",
    "ax1.plot(nss_df['date'], weighted_avg_df['weighted_average'], color=color)\n",
    "ax1.tick_params(axis='y', labelcolor=color)\n",
    "\n",
    "# Create a second y-axis (ax2) for Daily Return\n",
    "ax2 = ax1.twinx()  # instantiate a second axes that shares the same x-axis\n",
    "color = 'tab:green'\n",
    "ax2.set_ylabel('Daily Return', color=color)\n",
    "ax2.plot(nss_df['date'], weighted_avg_df['daily_return'], color=color)\n",
    "ax2.tick_params(axis='y', labelcolor=color)\n",
    "\n",
    "# Title and show plot\n",
    "plt.title('Time-Series of Normalized NSS and Daily Return')\n",
    "fig.tight_layout()  # otherwise the right y-label may be slightly clipped\n",
    "plt.show()\n"
   ]
  },
  {
   "cell_type": "code",
   "execution_count": null,
   "metadata": {},
   "outputs": [],
   "source": []
  }
 ],
 "metadata": {
  "kernelspec": {
   "display_name": "Python 3",
   "language": "python",
   "name": "python3"
  },
  "language_info": {
   "codemirror_mode": {
    "name": "ipython",
    "version": 3
   },
   "file_extension": ".py",
   "mimetype": "text/x-python",
   "name": "python",
   "nbconvert_exporter": "python",
   "pygments_lexer": "ipython3",
   "version": "3.12.3"
  }
 },
 "nbformat": 4,
 "nbformat_minor": 2
}
