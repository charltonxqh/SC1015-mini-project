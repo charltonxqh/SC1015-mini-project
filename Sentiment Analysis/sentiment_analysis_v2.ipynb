{
 "cells": [
  {
   "cell_type": "code",
   "execution_count": 1,
   "metadata": {},
   "outputs": [],
   "source": [
    "import pandas as pd"
   ]
  },
  {
   "cell_type": "code",
   "execution_count": 2,
   "metadata": {},
   "outputs": [
    {
     "data": {
      "text/html": [
       "<div>\n",
       "<style scoped>\n",
       "    .dataframe tbody tr th:only-of-type {\n",
       "        vertical-align: middle;\n",
       "    }\n",
       "\n",
       "    .dataframe tbody tr th {\n",
       "        vertical-align: top;\n",
       "    }\n",
       "\n",
       "    .dataframe thead th {\n",
       "        text-align: right;\n",
       "    }\n",
       "</style>\n",
       "<table border=\"1\" class=\"dataframe\">\n",
       "  <thead>\n",
       "    <tr style=\"text-align: right;\">\n",
       "      <th></th>\n",
       "      <th>author</th>\n",
       "      <th>id</th>\n",
       "      <th>date</th>\n",
       "      <th>permalink</th>\n",
       "      <th>body</th>\n",
       "      <th>score</th>\n",
       "      <th>subreddit</th>\n",
       "    </tr>\n",
       "  </thead>\n",
       "  <tbody>\n",
       "    <tr>\n",
       "      <th>0</th>\n",
       "      <td>investing_me</td>\n",
       "      <td>kwsc2e7</td>\n",
       "      <td>2024-03-27</td>\n",
       "      <td>/r/ETFs/comments/1boyqg6/375qqq125tqqq375voo12...</td>\n",
       "      <td>Just buy VOO at this point</td>\n",
       "      <td>6</td>\n",
       "      <td>ETFs</td>\n",
       "    </tr>\n",
       "    <tr>\n",
       "      <th>1</th>\n",
       "      <td>iamfredrick</td>\n",
       "      <td>kwv4b7y</td>\n",
       "      <td>2024-03-27</td>\n",
       "      <td>/r/ETFs/comments/1bpdnmd/schg_schd_vs_voo/kwv4...</td>\n",
       "      <td>Voo &amp; schg have 53% overlap. Past results don’...</td>\n",
       "      <td>3</td>\n",
       "      <td>ETFs</td>\n",
       "    </tr>\n",
       "    <tr>\n",
       "      <th>2</th>\n",
       "      <td>Fun_Grapefruit_3416</td>\n",
       "      <td>kwvj6cq</td>\n",
       "      <td>2024-03-27</td>\n",
       "      <td>/r/ETFs/comments/1bpdnmd/schg_schd_vs_voo/kwvj...</td>\n",
       "      <td>Schd + Schg makes up the majority of voo. Just...</td>\n",
       "      <td>2</td>\n",
       "      <td>ETFs</td>\n",
       "    </tr>\n",
       "    <tr>\n",
       "      <th>3</th>\n",
       "      <td>rem14</td>\n",
       "      <td>kwvnzn8</td>\n",
       "      <td>2024-03-27</td>\n",
       "      <td>/r/ETFs/comments/1bpdnmd/schg_schd_vs_voo/kwvn...</td>\n",
       "      <td>13% overlap with VOO and less than 1% overlap ...</td>\n",
       "      <td>2</td>\n",
       "      <td>ETFs</td>\n",
       "    </tr>\n",
       "    <tr>\n",
       "      <th>4</th>\n",
       "      <td>DITPiranha</td>\n",
       "      <td>kx0qfv5</td>\n",
       "      <td>2024-03-28</td>\n",
       "      <td>/r/ETFs/comments/1bq2hk5/voo_vgt_vti/kx0qfv5/</td>\n",
       "      <td>30% VOO, 30% QQQ, 10% VYM, 10% BND, 10% Mixed ...</td>\n",
       "      <td>1</td>\n",
       "      <td>ETFs</td>\n",
       "    </tr>\n",
       "  </tbody>\n",
       "</table>\n",
       "</div>"
      ],
      "text/plain": [
       "                author       id        date  \\\n",
       "0         investing_me  kwsc2e7  2024-03-27   \n",
       "1          iamfredrick  kwv4b7y  2024-03-27   \n",
       "2  Fun_Grapefruit_3416  kwvj6cq  2024-03-27   \n",
       "3                rem14  kwvnzn8  2024-03-27   \n",
       "4           DITPiranha  kx0qfv5  2024-03-28   \n",
       "\n",
       "                                           permalink  \\\n",
       "0  /r/ETFs/comments/1boyqg6/375qqq125tqqq375voo12...   \n",
       "1  /r/ETFs/comments/1bpdnmd/schg_schd_vs_voo/kwv4...   \n",
       "2  /r/ETFs/comments/1bpdnmd/schg_schd_vs_voo/kwvj...   \n",
       "3  /r/ETFs/comments/1bpdnmd/schg_schd_vs_voo/kwvn...   \n",
       "4      /r/ETFs/comments/1bq2hk5/voo_vgt_vti/kx0qfv5/   \n",
       "\n",
       "                                                body  score subreddit  \n",
       "0                         Just buy VOO at this point      6      ETFs  \n",
       "1  Voo & schg have 53% overlap. Past results don’...      3      ETFs  \n",
       "2  Schd + Schg makes up the majority of voo. Just...      2      ETFs  \n",
       "3  13% overlap with VOO and less than 1% overlap ...      2      ETFs  \n",
       "4  30% VOO, 30% QQQ, 10% VYM, 10% BND, 10% Mixed ...      1      ETFs  "
      ]
     },
     "execution_count": 2,
     "metadata": {},
     "output_type": "execute_result"
    }
   ],
   "source": [
    "df = pd.read_csv('../datasets/cleaned_cmts_voo.csv')\n",
    "df.head()"
   ]
  },
  {
   "cell_type": "code",
   "execution_count": 3,
   "metadata": {},
   "outputs": [
    {
     "name": "stderr",
     "output_type": "stream",
     "text": [
      "No model was supplied, defaulted to distilbert/distilbert-base-uncased-finetuned-sst-2-english and revision af0f99b (https://huggingface.co/distilbert/distilbert-base-uncased-finetuned-sst-2-english).\n",
      "Using a pipeline without specifying a model name and revision in production is not recommended.\n"
     ]
    }
   ],
   "source": [
    "from transformers import pipeline\n",
    "\n",
    "classifier = pipeline(\"sentiment-analysis\")"
   ]
  },
  {
   "cell_type": "code",
   "execution_count": 4,
   "metadata": {},
   "outputs": [],
   "source": [
    "sentence_pos = \"Stock price of VOO will go higher.\"\n",
    "sentence_neg = \"Never ever buy VOO\""
   ]
  },
  {
   "cell_type": "code",
   "execution_count": 5,
   "metadata": {},
   "outputs": [
    {
     "data": {
      "text/plain": [
       "([{'label': 'POSITIVE', 'score': 0.5952612161636353}],\n",
       " [{'label': 'NEGATIVE', 'score': 0.9967347979545593}])"
      ]
     },
     "execution_count": 5,
     "metadata": {},
     "output_type": "execute_result"
    }
   ],
   "source": [
    "classifier(sentence_pos), classifier(sentence_neg)"
   ]
  },
  {
   "cell_type": "code",
   "execution_count": 6,
   "metadata": {},
   "outputs": [],
   "source": [
    "from transformers import AutoTokenizer, AutoModelForSequenceClassification\n",
    "model_name = 'distilbert-base-uncased-finetuned-sst-2-english'\n",
    "pt_model = AutoModelForSequenceClassification.from_pretrained(model_name)"
   ]
  },
  {
   "cell_type": "code",
   "execution_count": 7,
   "metadata": {},
   "outputs": [],
   "source": [
    "tokenizer = AutoTokenizer.from_pretrained(model_name)"
   ]
  },
  {
   "cell_type": "code",
   "execution_count": 8,
   "metadata": {},
   "outputs": [],
   "source": [
    "inputs_pos, inputs_neg = tokenizer(sentence_pos), tokenizer(sentence_neg)"
   ]
  },
  {
   "cell_type": "code",
   "execution_count": 9,
   "metadata": {},
   "outputs": [
    {
     "data": {
      "text/plain": [
       "({'input_ids': [101, 4518, 3976, 1997, 29536, 2080, 2097, 2175, 3020, 1012, 102], 'attention_mask': [1, 1, 1, 1, 1, 1, 1, 1, 1, 1, 1]},\n",
       " {'input_ids': [101, 2196, 2412, 4965, 29536, 2080, 102], 'attention_mask': [1, 1, 1, 1, 1, 1, 1]})"
      ]
     },
     "execution_count": 9,
     "metadata": {},
     "output_type": "execute_result"
    }
   ],
   "source": [
    "inputs_pos, inputs_neg"
   ]
  },
  {
   "cell_type": "code",
   "execution_count": 10,
   "metadata": {},
   "outputs": [
    {
     "data": {
      "text/plain": [
       "['vo', '##o']"
      ]
     },
     "execution_count": 10,
     "metadata": {},
     "output_type": "execute_result"
    }
   ],
   "source": [
    "tokenizer.convert_ids_to_tokens([29536, 2080])"
   ]
  },
  {
   "cell_type": "code",
   "execution_count": 11,
   "metadata": {},
   "outputs": [],
   "source": [
    "pt_batch = tokenizer(\n",
    "    [sentence_pos, sentence_neg], \n",
    "    padding=True, \n",
    "    truncation=True,\n",
    "    max_length=512,\n",
    "    return_tensors=\"pt\"\n",
    ")"
   ]
  },
  {
   "cell_type": "code",
   "execution_count": 12,
   "metadata": {},
   "outputs": [
    {
     "data": {
      "text/plain": [
       "{'input_ids': tensor([[  101,  4518,  3976,  1997, 29536,  2080,  2097,  2175,  3020,  1012,\n",
       "           102],\n",
       "        [  101,  2196,  2412,  4965, 29536,  2080,   102,     0,     0,     0,\n",
       "             0]]), 'attention_mask': tensor([[1, 1, 1, 1, 1, 1, 1, 1, 1, 1, 1],\n",
       "        [1, 1, 1, 1, 1, 1, 1, 0, 0, 0, 0]])}"
      ]
     },
     "execution_count": 12,
     "metadata": {},
     "output_type": "execute_result"
    }
   ],
   "source": [
    "pt_batch"
   ]
  },
  {
   "cell_type": "code",
   "execution_count": 13,
   "metadata": {},
   "outputs": [
    {
     "data": {
      "text/plain": [
       "SequenceClassifierOutput(loss=None, logits=tensor([[-0.1126,  0.2732],\n",
       "        [ 3.1458, -2.5754]], grad_fn=<AddmmBackward0>), hidden_states=None, attentions=None)"
      ]
     },
     "execution_count": 13,
     "metadata": {},
     "output_type": "execute_result"
    }
   ],
   "source": [
    "pt_outputs = pt_model(**pt_batch)\n",
    "\n",
    "pt_outputs"
   ]
  },
  {
   "cell_type": "code",
   "execution_count": null,
   "metadata": {},
   "outputs": [],
   "source": []
  }
 ],
 "metadata": {
  "kernelspec": {
   "display_name": "Python 3",
   "language": "python",
   "name": "python3"
  },
  "language_info": {
   "codemirror_mode": {
    "name": "ipython",
    "version": 3
   },
   "file_extension": ".py",
   "mimetype": "text/x-python",
   "name": "python",
   "nbconvert_exporter": "python",
   "pygments_lexer": "ipython3",
   "version": "3.12.2"
  }
 },
 "nbformat": 4,
 "nbformat_minor": 2
}
