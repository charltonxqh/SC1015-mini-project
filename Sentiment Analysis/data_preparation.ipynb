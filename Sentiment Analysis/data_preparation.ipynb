{
 "cells": [
  {
   "cell_type": "markdown",
   "metadata": {},
   "source": [
    "# Data Cleaning and Preparation"
   ]
  },
  {
   "cell_type": "markdown",
   "metadata": {},
   "source": [
    "In this part, we will be doing data cleaning to prepare our data for sentiment analysis."
   ]
  },
  {
   "cell_type": "markdown",
   "metadata": {},
   "source": [
    "Import essential libraries."
   ]
  },
  {
   "cell_type": "code",
   "execution_count": 32,
   "metadata": {},
   "outputs": [],
   "source": [
    "import pandas as pd"
   ]
  },
  {
   "cell_type": "code",
   "execution_count": 33,
   "metadata": {},
   "outputs": [],
   "source": [
    "df = pd.read_csv('../datasets/reddit_comment_voo.csv')"
   ]
  },
  {
   "cell_type": "code",
   "execution_count": 34,
   "metadata": {},
   "outputs": [
    {
     "data": {
      "text/html": [
       "<div>\n",
       "<style scoped>\n",
       "    .dataframe tbody tr th:only-of-type {\n",
       "        vertical-align: middle;\n",
       "    }\n",
       "\n",
       "    .dataframe tbody tr th {\n",
       "        vertical-align: top;\n",
       "    }\n",
       "\n",
       "    .dataframe thead th {\n",
       "        text-align: right;\n",
       "    }\n",
       "</style>\n",
       "<table border=\"1\" class=\"dataframe\">\n",
       "  <thead>\n",
       "    <tr style=\"text-align: right;\">\n",
       "      <th></th>\n",
       "      <th>author</th>\n",
       "      <th>id</th>\n",
       "      <th>created_utc</th>\n",
       "      <th>permalink</th>\n",
       "      <th>body</th>\n",
       "      <th>score</th>\n",
       "      <th>subreddit</th>\n",
       "    </tr>\n",
       "  </thead>\n",
       "  <tbody>\n",
       "    <tr>\n",
       "      <th>0</th>\n",
       "      <td>DaemonTargaryen2024</td>\n",
       "      <td>ky4tvav</td>\n",
       "      <td>1.712298e+09</td>\n",
       "      <td>/r/ETFs/comments/1bwa9np/voo_question/ky4tvav/</td>\n",
       "      <td>VOO is already an index fund with a low expens...</td>\n",
       "      <td>1</td>\n",
       "      <td>ETFs</td>\n",
       "    </tr>\n",
       "    <tr>\n",
       "      <th>1</th>\n",
       "      <td>anbu-black-ops</td>\n",
       "      <td>ky4ugsl</td>\n",
       "      <td>1.712298e+09</td>\n",
       "      <td>/r/ETFs/comments/1bwa9np/voo_question/ky4ugsl/</td>\n",
       "      <td>Splg is another alternative to voo if you cant...</td>\n",
       "      <td>1</td>\n",
       "      <td>ETFs</td>\n",
       "    </tr>\n",
       "    <tr>\n",
       "      <th>2</th>\n",
       "      <td>LAW9960</td>\n",
       "      <td>ky2zvyq</td>\n",
       "      <td>1.712269e+09</td>\n",
       "      <td>/r/ETFs/comments/1bw0523/i_noticed_that_when_p...</td>\n",
       "      <td>Some platforms like M1 Finance or Fidelity Go ...</td>\n",
       "      <td>4</td>\n",
       "      <td>ETFs</td>\n",
       "    </tr>\n",
       "    <tr>\n",
       "      <th>3</th>\n",
       "      <td>coinslinger88</td>\n",
       "      <td>kxwqx9i</td>\n",
       "      <td>1.712176e+09</td>\n",
       "      <td>/r/ETFs/comments/1buybes/sso_vs_spyvoo/kxwqx9i/</td>\n",
       "      <td>$VOO is for people who hate money</td>\n",
       "      <td>1</td>\n",
       "      <td>ETFs</td>\n",
       "    </tr>\n",
       "    <tr>\n",
       "      <th>4</th>\n",
       "      <td>coinslinger88</td>\n",
       "      <td>kxwr28w</td>\n",
       "      <td>1.712176e+09</td>\n",
       "      <td>/r/ETFs/comments/1buvulh/just_starting_brokera...</td>\n",
       "      <td>$VOO is for homeless people</td>\n",
       "      <td>0</td>\n",
       "      <td>ETFs</td>\n",
       "    </tr>\n",
       "    <tr>\n",
       "      <th>...</th>\n",
       "      <td>...</td>\n",
       "      <td>...</td>\n",
       "      <td>...</td>\n",
       "      <td>...</td>\n",
       "      <td>...</td>\n",
       "      <td>...</td>\n",
       "      <td>...</td>\n",
       "    </tr>\n",
       "    <tr>\n",
       "      <th>207</th>\n",
       "      <td>Hancock02</td>\n",
       "      <td>kwwa20h</td>\n",
       "      <td>1.711592e+09</td>\n",
       "      <td>/r/ETFs/comments/1bpdnmd/schg_schd_vs_voo/kwwa...</td>\n",
       "      <td>In the end, they will probably track about the...</td>\n",
       "      <td>1</td>\n",
       "      <td>ETFs</td>\n",
       "    </tr>\n",
       "    <tr>\n",
       "      <th>208</th>\n",
       "      <td>HiNdSiGhT1982</td>\n",
       "      <td>kxbhxko</td>\n",
       "      <td>1.711839e+09</td>\n",
       "      <td>/r/ETFs/comments/1bpdnmd/schg_schd_vs_voo/kxbh...</td>\n",
       "      <td>good points but the cost on booth schd and sch...</td>\n",
       "      <td>1</td>\n",
       "      <td>ETFs</td>\n",
       "    </tr>\n",
       "    <tr>\n",
       "      <th>209</th>\n",
       "      <td>NativeTxn7</td>\n",
       "      <td>kwwq3xp</td>\n",
       "      <td>1.711599e+09</td>\n",
       "      <td>/r/ETFs/comments/1bpdnmd/schg_schd_vs_voo/kwwq...</td>\n",
       "      <td>No way to know honestly, Large growth has had ...</td>\n",
       "      <td>3</td>\n",
       "      <td>ETFs</td>\n",
       "    </tr>\n",
       "    <tr>\n",
       "      <th>210</th>\n",
       "      <td>rem14</td>\n",
       "      <td>kwvnzn8</td>\n",
       "      <td>1.711583e+09</td>\n",
       "      <td>/r/ETFs/comments/1bpdnmd/schg_schd_vs_voo/kwvn...</td>\n",
       "      <td>13% overlap with VOO and less than 1% overlap ...</td>\n",
       "      <td>2</td>\n",
       "      <td>ETFs</td>\n",
       "    </tr>\n",
       "    <tr>\n",
       "      <th>211</th>\n",
       "      <td>investing_me</td>\n",
       "      <td>kwsc2e7</td>\n",
       "      <td>1.711542e+09</td>\n",
       "      <td>/r/ETFs/comments/1boyqg6/375qqq125tqqq375voo12...</td>\n",
       "      <td>Just buy VOO at this point</td>\n",
       "      <td>6</td>\n",
       "      <td>ETFs</td>\n",
       "    </tr>\n",
       "  </tbody>\n",
       "</table>\n",
       "<p>212 rows × 7 columns</p>\n",
       "</div>"
      ],
      "text/plain": [
       "                  author       id   created_utc  \\\n",
       "0    DaemonTargaryen2024  ky4tvav  1.712298e+09   \n",
       "1         anbu-black-ops  ky4ugsl  1.712298e+09   \n",
       "2                LAW9960  ky2zvyq  1.712269e+09   \n",
       "3          coinslinger88  kxwqx9i  1.712176e+09   \n",
       "4          coinslinger88  kxwr28w  1.712176e+09   \n",
       "..                   ...      ...           ...   \n",
       "207            Hancock02  kwwa20h  1.711592e+09   \n",
       "208        HiNdSiGhT1982  kxbhxko  1.711839e+09   \n",
       "209           NativeTxn7  kwwq3xp  1.711599e+09   \n",
       "210                rem14  kwvnzn8  1.711583e+09   \n",
       "211         investing_me  kwsc2e7  1.711542e+09   \n",
       "\n",
       "                                             permalink  \\\n",
       "0       /r/ETFs/comments/1bwa9np/voo_question/ky4tvav/   \n",
       "1       /r/ETFs/comments/1bwa9np/voo_question/ky4ugsl/   \n",
       "2    /r/ETFs/comments/1bw0523/i_noticed_that_when_p...   \n",
       "3      /r/ETFs/comments/1buybes/sso_vs_spyvoo/kxwqx9i/   \n",
       "4    /r/ETFs/comments/1buvulh/just_starting_brokera...   \n",
       "..                                                 ...   \n",
       "207  /r/ETFs/comments/1bpdnmd/schg_schd_vs_voo/kwwa...   \n",
       "208  /r/ETFs/comments/1bpdnmd/schg_schd_vs_voo/kxbh...   \n",
       "209  /r/ETFs/comments/1bpdnmd/schg_schd_vs_voo/kwwq...   \n",
       "210  /r/ETFs/comments/1bpdnmd/schg_schd_vs_voo/kwvn...   \n",
       "211  /r/ETFs/comments/1boyqg6/375qqq125tqqq375voo12...   \n",
       "\n",
       "                                                  body  score subreddit  \n",
       "0    VOO is already an index fund with a low expens...      1      ETFs  \n",
       "1    Splg is another alternative to voo if you cant...      1      ETFs  \n",
       "2    Some platforms like M1 Finance or Fidelity Go ...      4      ETFs  \n",
       "3                    $VOO is for people who hate money      1      ETFs  \n",
       "4                          $VOO is for homeless people      0      ETFs  \n",
       "..                                                 ...    ...       ...  \n",
       "207  In the end, they will probably track about the...      1      ETFs  \n",
       "208  good points but the cost on booth schd and sch...      1      ETFs  \n",
       "209  No way to know honestly, Large growth has had ...      3      ETFs  \n",
       "210  13% overlap with VOO and less than 1% overlap ...      2      ETFs  \n",
       "211                         Just buy VOO at this point      6      ETFs  \n",
       "\n",
       "[212 rows x 7 columns]"
      ]
     },
     "metadata": {},
     "output_type": "display_data"
    }
   ],
   "source": [
    "display(df)"
   ]
  },
  {
   "cell_type": "markdown",
   "metadata": {},
   "source": [
    "The below is the definition of the attributes from ```PRAW 7.7.1``` documentation."
   ]
  },
  {
   "cell_type": "markdown",
   "metadata": {},
   "source": [
    "| Attribute        | Description                                                                                    |\n",
    "| ---------------- |------------------------------------------------------------------------------------------------|\n",
    "| ```author```     | Provides an instance of Redditor.                                                              |\n",
    "| ```id```         | The ID of the comment.                                                                         | \n",
    "| ```created_utc```| Time the comment was created, represented in Unix Time.                                        |\n",
    "| ```permalink```  | A permalink for the comment. Comment objects from the inbox have a context attribute instead.  |\n",
    "| ```body```       | The body of the comment, as Markdown.                                                          |\n",
    "| ```score```      | The number of upvotes for the comment.                                                         |\n",
    "| ```subreddit```  | Provides an instance of Subreddit. The subreddit that the comment belongs to.                  |"
   ]
  },
  {
   "cell_type": "code",
   "execution_count": 35,
   "metadata": {},
   "outputs": [
    {
     "name": "stdout",
     "output_type": "stream",
     "text": [
      "Data type:  <class 'pandas.core.frame.DataFrame'>\n",
      "Dims:  (212, 7)\n"
     ]
    }
   ],
   "source": [
    "print(\"Data type: \", type(df))\n",
    "print(\"Dims: \", df.shape)"
   ]
  },
  {
   "cell_type": "code",
   "execution_count": 36,
   "metadata": {},
   "outputs": [
    {
     "name": "stdout",
     "output_type": "stream",
     "text": [
      "<class 'pandas.core.frame.DataFrame'>\n",
      "RangeIndex: 212 entries, 0 to 211\n",
      "Data columns (total 7 columns):\n",
      " #   Column       Non-Null Count  Dtype  \n",
      "---  ------       --------------  -----  \n",
      " 0   author       212 non-null    object \n",
      " 1   id           212 non-null    object \n",
      " 2   created_utc  212 non-null    float64\n",
      " 3   permalink    212 non-null    object \n",
      " 4   body         212 non-null    object \n",
      " 5   score        212 non-null    int64  \n",
      " 6   subreddit    212 non-null    object \n",
      "dtypes: float64(1), int64(1), object(5)\n",
      "memory usage: 11.7+ KB\n"
     ]
    }
   ],
   "source": [
    "df.info()"
   ]
  },
  {
   "cell_type": "markdown",
   "metadata": {},
   "source": [
    "Here, we check for any null values."
   ]
  },
  {
   "cell_type": "code",
   "execution_count": 37,
   "metadata": {},
   "outputs": [
    {
     "data": {
      "text/plain": [
       "author         0\n",
       "id             0\n",
       "created_utc    0\n",
       "permalink      0\n",
       "body           0\n",
       "score          0\n",
       "subreddit      0\n",
       "dtype: int64"
      ]
     },
     "execution_count": 37,
     "metadata": {},
     "output_type": "execute_result"
    }
   ],
   "source": [
    "df.isnull().sum()"
   ]
  },
  {
   "cell_type": "markdown",
   "metadata": {},
   "source": [
    "### Cleaning the Date\n",
    "Convert the Unix Time to date in the 'yyyy-mm-dd'"
   ]
  },
  {
   "cell_type": "code",
   "execution_count": 39,
   "metadata": {},
   "outputs": [
    {
     "data": {
      "text/html": [
       "<div>\n",
       "<style scoped>\n",
       "    .dataframe tbody tr th:only-of-type {\n",
       "        vertical-align: middle;\n",
       "    }\n",
       "\n",
       "    .dataframe tbody tr th {\n",
       "        vertical-align: top;\n",
       "    }\n",
       "\n",
       "    .dataframe thead th {\n",
       "        text-align: right;\n",
       "    }\n",
       "</style>\n",
       "<table border=\"1\" class=\"dataframe\">\n",
       "  <thead>\n",
       "    <tr style=\"text-align: right;\">\n",
       "      <th></th>\n",
       "      <th>author</th>\n",
       "      <th>id</th>\n",
       "      <th>created_utc</th>\n",
       "      <th>permalink</th>\n",
       "      <th>body</th>\n",
       "      <th>score</th>\n",
       "      <th>subreddit</th>\n",
       "    </tr>\n",
       "  </thead>\n",
       "  <tbody>\n",
       "    <tr>\n",
       "      <th>0</th>\n",
       "      <td>DaemonTargaryen2024</td>\n",
       "      <td>ky4tvav</td>\n",
       "      <td>2024-04-05</td>\n",
       "      <td>/r/ETFs/comments/1bwa9np/voo_question/ky4tvav/</td>\n",
       "      <td>VOO is already an index fund with a low expens...</td>\n",
       "      <td>1</td>\n",
       "      <td>ETFs</td>\n",
       "    </tr>\n",
       "    <tr>\n",
       "      <th>1</th>\n",
       "      <td>anbu-black-ops</td>\n",
       "      <td>ky4ugsl</td>\n",
       "      <td>2024-04-05</td>\n",
       "      <td>/r/ETFs/comments/1bwa9np/voo_question/ky4ugsl/</td>\n",
       "      <td>Splg is another alternative to voo if you cant...</td>\n",
       "      <td>1</td>\n",
       "      <td>ETFs</td>\n",
       "    </tr>\n",
       "    <tr>\n",
       "      <th>2</th>\n",
       "      <td>LAW9960</td>\n",
       "      <td>ky2zvyq</td>\n",
       "      <td>2024-04-04</td>\n",
       "      <td>/r/ETFs/comments/1bw0523/i_noticed_that_when_p...</td>\n",
       "      <td>Some platforms like M1 Finance or Fidelity Go ...</td>\n",
       "      <td>4</td>\n",
       "      <td>ETFs</td>\n",
       "    </tr>\n",
       "    <tr>\n",
       "      <th>3</th>\n",
       "      <td>coinslinger88</td>\n",
       "      <td>kxwqx9i</td>\n",
       "      <td>2024-04-03</td>\n",
       "      <td>/r/ETFs/comments/1buybes/sso_vs_spyvoo/kxwqx9i/</td>\n",
       "      <td>$VOO is for people who hate money</td>\n",
       "      <td>1</td>\n",
       "      <td>ETFs</td>\n",
       "    </tr>\n",
       "    <tr>\n",
       "      <th>4</th>\n",
       "      <td>coinslinger88</td>\n",
       "      <td>kxwr28w</td>\n",
       "      <td>2024-04-03</td>\n",
       "      <td>/r/ETFs/comments/1buvulh/just_starting_brokera...</td>\n",
       "      <td>$VOO is for homeless people</td>\n",
       "      <td>0</td>\n",
       "      <td>ETFs</td>\n",
       "    </tr>\n",
       "  </tbody>\n",
       "</table>\n",
       "</div>"
      ],
      "text/plain": [
       "                author       id created_utc  \\\n",
       "0  DaemonTargaryen2024  ky4tvav  2024-04-05   \n",
       "1       anbu-black-ops  ky4ugsl  2024-04-05   \n",
       "2              LAW9960  ky2zvyq  2024-04-04   \n",
       "3        coinslinger88  kxwqx9i  2024-04-03   \n",
       "4        coinslinger88  kxwr28w  2024-04-03   \n",
       "\n",
       "                                           permalink  \\\n",
       "0     /r/ETFs/comments/1bwa9np/voo_question/ky4tvav/   \n",
       "1     /r/ETFs/comments/1bwa9np/voo_question/ky4ugsl/   \n",
       "2  /r/ETFs/comments/1bw0523/i_noticed_that_when_p...   \n",
       "3    /r/ETFs/comments/1buybes/sso_vs_spyvoo/kxwqx9i/   \n",
       "4  /r/ETFs/comments/1buvulh/just_starting_brokera...   \n",
       "\n",
       "                                                body  score subreddit  \n",
       "0  VOO is already an index fund with a low expens...      1      ETFs  \n",
       "1  Splg is another alternative to voo if you cant...      1      ETFs  \n",
       "2  Some platforms like M1 Finance or Fidelity Go ...      4      ETFs  \n",
       "3                  $VOO is for people who hate money      1      ETFs  \n",
       "4                        $VOO is for homeless people      0      ETFs  "
      ]
     },
     "execution_count": 39,
     "metadata": {},
     "output_type": "execute_result"
    }
   ],
   "source": [
    "df['created_utc'] = pd.to_datetime(df['created_utc'], unit='s').dt.date\n",
    "\n",
    "df.head()"
   ]
  },
  {
   "cell_type": "code",
   "execution_count": 43,
   "metadata": {},
   "outputs": [
    {
     "data": {
      "text/html": [
       "<div>\n",
       "<style scoped>\n",
       "    .dataframe tbody tr th:only-of-type {\n",
       "        vertical-align: middle;\n",
       "    }\n",
       "\n",
       "    .dataframe tbody tr th {\n",
       "        vertical-align: top;\n",
       "    }\n",
       "\n",
       "    .dataframe thead th {\n",
       "        text-align: right;\n",
       "    }\n",
       "</style>\n",
       "<table border=\"1\" class=\"dataframe\">\n",
       "  <thead>\n",
       "    <tr style=\"text-align: right;\">\n",
       "      <th></th>\n",
       "      <th>author</th>\n",
       "      <th>id</th>\n",
       "      <th>date</th>\n",
       "      <th>permalink</th>\n",
       "      <th>body</th>\n",
       "      <th>score</th>\n",
       "      <th>subreddit</th>\n",
       "    </tr>\n",
       "  </thead>\n",
       "  <tbody>\n",
       "    <tr>\n",
       "      <th>0</th>\n",
       "      <td>investing_me</td>\n",
       "      <td>kwsc2e7</td>\n",
       "      <td>2024-03-27</td>\n",
       "      <td>/r/ETFs/comments/1boyqg6/375qqq125tqqq375voo12...</td>\n",
       "      <td>Just buy VOO at this point</td>\n",
       "      <td>6</td>\n",
       "      <td>ETFs</td>\n",
       "    </tr>\n",
       "    <tr>\n",
       "      <th>1</th>\n",
       "      <td>iamfredrick</td>\n",
       "      <td>kwv4b7y</td>\n",
       "      <td>2024-03-27</td>\n",
       "      <td>/r/ETFs/comments/1bpdnmd/schg_schd_vs_voo/kwv4...</td>\n",
       "      <td>Voo &amp; schg have 53% overlap. Past results don’...</td>\n",
       "      <td>3</td>\n",
       "      <td>ETFs</td>\n",
       "    </tr>\n",
       "    <tr>\n",
       "      <th>2</th>\n",
       "      <td>Fun_Grapefruit_3416</td>\n",
       "      <td>kwvj6cq</td>\n",
       "      <td>2024-03-27</td>\n",
       "      <td>/r/ETFs/comments/1bpdnmd/schg_schd_vs_voo/kwvj...</td>\n",
       "      <td>Schd + Schg makes up the majority of voo. Just...</td>\n",
       "      <td>2</td>\n",
       "      <td>ETFs</td>\n",
       "    </tr>\n",
       "    <tr>\n",
       "      <th>3</th>\n",
       "      <td>rem14</td>\n",
       "      <td>kwvnzn8</td>\n",
       "      <td>2024-03-27</td>\n",
       "      <td>/r/ETFs/comments/1bpdnmd/schg_schd_vs_voo/kwvn...</td>\n",
       "      <td>13% overlap with VOO and less than 1% overlap ...</td>\n",
       "      <td>2</td>\n",
       "      <td>ETFs</td>\n",
       "    </tr>\n",
       "    <tr>\n",
       "      <th>4</th>\n",
       "      <td>Strong_Ask1808</td>\n",
       "      <td>kwzy9g2</td>\n",
       "      <td>2024-03-28</td>\n",
       "      <td>/r/ETFs/comments/1bq2hk5/voo_vgt_vti/kwzy9g2/</td>\n",
       "      <td>Majority of VGT is in VOO, so there’s a lot of...</td>\n",
       "      <td>8</td>\n",
       "      <td>ETFs</td>\n",
       "    </tr>\n",
       "  </tbody>\n",
       "</table>\n",
       "</div>"
      ],
      "text/plain": [
       "                author       id        date  \\\n",
       "0         investing_me  kwsc2e7  2024-03-27   \n",
       "1          iamfredrick  kwv4b7y  2024-03-27   \n",
       "2  Fun_Grapefruit_3416  kwvj6cq  2024-03-27   \n",
       "3                rem14  kwvnzn8  2024-03-27   \n",
       "4       Strong_Ask1808  kwzy9g2  2024-03-28   \n",
       "\n",
       "                                           permalink  \\\n",
       "0  /r/ETFs/comments/1boyqg6/375qqq125tqqq375voo12...   \n",
       "1  /r/ETFs/comments/1bpdnmd/schg_schd_vs_voo/kwv4...   \n",
       "2  /r/ETFs/comments/1bpdnmd/schg_schd_vs_voo/kwvj...   \n",
       "3  /r/ETFs/comments/1bpdnmd/schg_schd_vs_voo/kwvn...   \n",
       "4      /r/ETFs/comments/1bq2hk5/voo_vgt_vti/kwzy9g2/   \n",
       "\n",
       "                                                body  score subreddit  \n",
       "0                         Just buy VOO at this point      6      ETFs  \n",
       "1  Voo & schg have 53% overlap. Past results don’...      3      ETFs  \n",
       "2  Schd + Schg makes up the majority of voo. Just...      2      ETFs  \n",
       "3  13% overlap with VOO and less than 1% overlap ...      2      ETFs  \n",
       "4  Majority of VGT is in VOO, so there’s a lot of...      8      ETFs  "
      ]
     },
     "execution_count": 43,
     "metadata": {},
     "output_type": "execute_result"
    }
   ],
   "source": [
    "df = df.rename(columns={'created_utc': 'date'})\n",
    "\n",
    "df.head()"
   ]
  },
  {
   "cell_type": "markdown",
   "metadata": {},
   "source": [
    "### Sort the Date in Ascending Order"
   ]
  },
  {
   "cell_type": "code",
   "execution_count": 44,
   "metadata": {},
   "outputs": [
    {
     "ename": "KeyError",
     "evalue": "'created_utc'",
     "output_type": "error",
     "traceback": [
      "\u001b[1;31m---------------------------------------------------------------------------\u001b[0m",
      "\u001b[1;31mKeyError\u001b[0m                                  Traceback (most recent call last)",
      "\u001b[1;32m~\\AppData\\Local\\Temp\\ipykernel_6884\\3485257396.py\u001b[0m in \u001b[0;36m?\u001b[1;34m()\u001b[0m\n\u001b[1;32m----> 1\u001b[1;33m \u001b[0mdf\u001b[0m \u001b[1;33m=\u001b[0m \u001b[0mdf\u001b[0m\u001b[1;33m.\u001b[0m\u001b[0msort_values\u001b[0m\u001b[1;33m(\u001b[0m\u001b[0mby\u001b[0m\u001b[1;33m=\u001b[0m\u001b[1;34m'created_utc'\u001b[0m\u001b[1;33m)\u001b[0m\u001b[1;33m.\u001b[0m\u001b[0mreset_index\u001b[0m\u001b[1;33m(\u001b[0m\u001b[0mdrop\u001b[0m\u001b[1;33m=\u001b[0m\u001b[1;32mTrue\u001b[0m\u001b[1;33m)\u001b[0m\u001b[1;33m\u001b[0m\u001b[1;33m\u001b[0m\u001b[0m\n\u001b[0m\u001b[0;32m      2\u001b[0m \u001b[1;33m\u001b[0m\u001b[0m\n\u001b[0;32m      3\u001b[0m \u001b[0mdisplay\u001b[0m\u001b[1;33m(\u001b[0m\u001b[0mdf\u001b[0m\u001b[1;33m)\u001b[0m\u001b[1;33m\u001b[0m\u001b[1;33m\u001b[0m\u001b[0m\n",
      "\u001b[1;32m~\\AppData\\Local\\Packages\\PythonSoftwareFoundation.Python.3.12_qbz5n2kfra8p0\\LocalCache\\local-packages\\Python312\\site-packages\\pandas\\core\\frame.py\u001b[0m in \u001b[0;36m?\u001b[1;34m(self, by, axis, ascending, inplace, kind, na_position, ignore_index, key)\u001b[0m\n\u001b[0;32m   7172\u001b[0m             \u001b[1;33m)\u001b[0m\u001b[1;33m\u001b[0m\u001b[1;33m\u001b[0m\u001b[0m\n\u001b[0;32m   7173\u001b[0m         \u001b[1;32melif\u001b[0m \u001b[0mlen\u001b[0m\u001b[1;33m(\u001b[0m\u001b[0mby\u001b[0m\u001b[1;33m)\u001b[0m\u001b[1;33m:\u001b[0m\u001b[1;33m\u001b[0m\u001b[1;33m\u001b[0m\u001b[0m\n\u001b[0;32m   7174\u001b[0m             \u001b[1;31m# len(by) == 1\u001b[0m\u001b[1;33m\u001b[0m\u001b[1;33m\u001b[0m\u001b[0m\n\u001b[0;32m   7175\u001b[0m \u001b[1;33m\u001b[0m\u001b[0m\n\u001b[1;32m-> 7176\u001b[1;33m             \u001b[0mk\u001b[0m \u001b[1;33m=\u001b[0m \u001b[0mself\u001b[0m\u001b[1;33m.\u001b[0m\u001b[0m_get_label_or_level_values\u001b[0m\u001b[1;33m(\u001b[0m\u001b[0mby\u001b[0m\u001b[1;33m[\u001b[0m\u001b[1;36m0\u001b[0m\u001b[1;33m]\u001b[0m\u001b[1;33m,\u001b[0m \u001b[0maxis\u001b[0m\u001b[1;33m=\u001b[0m\u001b[0maxis\u001b[0m\u001b[1;33m)\u001b[0m\u001b[1;33m\u001b[0m\u001b[1;33m\u001b[0m\u001b[0m\n\u001b[0m\u001b[0;32m   7177\u001b[0m \u001b[1;33m\u001b[0m\u001b[0m\n\u001b[0;32m   7178\u001b[0m             \u001b[1;31m# need to rewrap column in Series to apply key function\u001b[0m\u001b[1;33m\u001b[0m\u001b[1;33m\u001b[0m\u001b[0m\n\u001b[0;32m   7179\u001b[0m             \u001b[1;32mif\u001b[0m \u001b[0mkey\u001b[0m \u001b[1;32mis\u001b[0m \u001b[1;32mnot\u001b[0m \u001b[1;32mNone\u001b[0m\u001b[1;33m:\u001b[0m\u001b[1;33m\u001b[0m\u001b[1;33m\u001b[0m\u001b[0m\n",
      "\u001b[1;32m~\\AppData\\Local\\Packages\\PythonSoftwareFoundation.Python.3.12_qbz5n2kfra8p0\\LocalCache\\local-packages\\Python312\\site-packages\\pandas\\core\\generic.py\u001b[0m in \u001b[0;36m?\u001b[1;34m(self, key, axis)\u001b[0m\n\u001b[0;32m   1906\u001b[0m             \u001b[0mvalues\u001b[0m \u001b[1;33m=\u001b[0m \u001b[0mself\u001b[0m\u001b[1;33m.\u001b[0m\u001b[0mxs\u001b[0m\u001b[1;33m(\u001b[0m\u001b[0mkey\u001b[0m\u001b[1;33m,\u001b[0m \u001b[0maxis\u001b[0m\u001b[1;33m=\u001b[0m\u001b[0mother_axes\u001b[0m\u001b[1;33m[\u001b[0m\u001b[1;36m0\u001b[0m\u001b[1;33m]\u001b[0m\u001b[1;33m)\u001b[0m\u001b[1;33m.\u001b[0m\u001b[0m_values\u001b[0m\u001b[1;33m\u001b[0m\u001b[1;33m\u001b[0m\u001b[0m\n\u001b[0;32m   1907\u001b[0m         \u001b[1;32melif\u001b[0m \u001b[0mself\u001b[0m\u001b[1;33m.\u001b[0m\u001b[0m_is_level_reference\u001b[0m\u001b[1;33m(\u001b[0m\u001b[0mkey\u001b[0m\u001b[1;33m,\u001b[0m \u001b[0maxis\u001b[0m\u001b[1;33m=\u001b[0m\u001b[0maxis\u001b[0m\u001b[1;33m)\u001b[0m\u001b[1;33m:\u001b[0m\u001b[1;33m\u001b[0m\u001b[1;33m\u001b[0m\u001b[0m\n\u001b[0;32m   1908\u001b[0m             \u001b[0mvalues\u001b[0m \u001b[1;33m=\u001b[0m \u001b[0mself\u001b[0m\u001b[1;33m.\u001b[0m\u001b[0maxes\u001b[0m\u001b[1;33m[\u001b[0m\u001b[0maxis\u001b[0m\u001b[1;33m]\u001b[0m\u001b[1;33m.\u001b[0m\u001b[0mget_level_values\u001b[0m\u001b[1;33m(\u001b[0m\u001b[0mkey\u001b[0m\u001b[1;33m)\u001b[0m\u001b[1;33m.\u001b[0m\u001b[0m_values\u001b[0m\u001b[1;33m\u001b[0m\u001b[1;33m\u001b[0m\u001b[0m\n\u001b[0;32m   1909\u001b[0m         \u001b[1;32melse\u001b[0m\u001b[1;33m:\u001b[0m\u001b[1;33m\u001b[0m\u001b[1;33m\u001b[0m\u001b[0m\n\u001b[1;32m-> 1910\u001b[1;33m             \u001b[1;32mraise\u001b[0m \u001b[0mKeyError\u001b[0m\u001b[1;33m(\u001b[0m\u001b[0mkey\u001b[0m\u001b[1;33m)\u001b[0m\u001b[1;33m\u001b[0m\u001b[1;33m\u001b[0m\u001b[0m\n\u001b[0m\u001b[0;32m   1911\u001b[0m \u001b[1;33m\u001b[0m\u001b[0m\n\u001b[0;32m   1912\u001b[0m         \u001b[1;31m# Check for duplicates\u001b[0m\u001b[1;33m\u001b[0m\u001b[1;33m\u001b[0m\u001b[0m\n\u001b[0;32m   1913\u001b[0m         \u001b[1;32mif\u001b[0m \u001b[0mvalues\u001b[0m\u001b[1;33m.\u001b[0m\u001b[0mndim\u001b[0m \u001b[1;33m>\u001b[0m \u001b[1;36m1\u001b[0m\u001b[1;33m:\u001b[0m\u001b[1;33m\u001b[0m\u001b[1;33m\u001b[0m\u001b[0m\n",
      "\u001b[1;31mKeyError\u001b[0m: 'created_utc'"
     ]
    }
   ],
   "source": [
    "df = df.sort_values(by='created_utc').reset_index(drop=True)\n",
    "\n",
    "display(df)"
   ]
  },
  {
   "cell_type": "markdown",
   "metadata": {},
   "source": [
    "### Save the Cleaned DataFrame as a CSV File for sentiment analysis."
   ]
  },
  {
   "cell_type": "code",
   "execution_count": 45,
   "metadata": {},
   "outputs": [],
   "source": [
    "import os\n",
    "\n",
    "folder_path = '../datasets'\n",
    "\n",
    "file_path = os.path.join(folder_path, 'cleaned_cmts_voo.csv')\n",
    "\n",
    "df.to_csv(file_path, index=False)"
   ]
  },
  {
   "cell_type": "code",
   "execution_count": null,
   "metadata": {},
   "outputs": [],
   "source": []
  }
 ],
 "metadata": {
  "kernelspec": {
   "display_name": "Python 3",
   "language": "python",
   "name": "python3"
  },
  "language_info": {
   "codemirror_mode": {
    "name": "ipython",
    "version": 3
   },
   "file_extension": ".py",
   "mimetype": "text/x-python",
   "name": "python",
   "nbconvert_exporter": "python",
   "pygments_lexer": "ipython3",
   "version": "3.12.undefined"
  }
 },
 "nbformat": 4,
 "nbformat_minor": 2
}
