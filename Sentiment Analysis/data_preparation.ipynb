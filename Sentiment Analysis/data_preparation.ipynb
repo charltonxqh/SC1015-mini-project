{
 "cells": [
  {
   "cell_type": "markdown",
   "metadata": {},
   "source": [
    "# Data Cleaning and Preparation"
   ]
  },
  {
   "cell_type": "markdown",
   "metadata": {},
   "source": [
    "In this part, we will be doing data cleaning to prepare our data for sentiment analysis."
   ]
  },
  {
   "cell_type": "markdown",
   "metadata": {},
   "source": [
    "Import essential libraries."
   ]
  },
  {
   "cell_type": "code",
   "execution_count": 39,
   "metadata": {},
   "outputs": [],
   "source": [
    "import pandas as pd\n",
    "import numpy as np\n",
    "import matplotlib.pyplot as plt\n",
    "import seaborn as sns"
   ]
  },
  {
   "cell_type": "code",
   "execution_count": 40,
   "metadata": {},
   "outputs": [],
   "source": [
    "cmts_voo = pd.read_csv('reddit_comment_voo.csv')"
   ]
  },
  {
   "cell_type": "code",
   "execution_count": 41,
   "metadata": {},
   "outputs": [
    {
     "data": {
      "text/html": [
       "<div>\n",
       "<style scoped>\n",
       "    .dataframe tbody tr th:only-of-type {\n",
       "        vertical-align: middle;\n",
       "    }\n",
       "\n",
       "    .dataframe tbody tr th {\n",
       "        vertical-align: top;\n",
       "    }\n",
       "\n",
       "    .dataframe thead th {\n",
       "        text-align: right;\n",
       "    }\n",
       "</style>\n",
       "<table border=\"1\" class=\"dataframe\">\n",
       "  <thead>\n",
       "    <tr style=\"text-align: right;\">\n",
       "      <th></th>\n",
       "      <th>author</th>\n",
       "      <th>id</th>\n",
       "      <th>created_utc</th>\n",
       "      <th>permalink</th>\n",
       "      <th>body</th>\n",
       "      <th>score</th>\n",
       "      <th>subreddit</th>\n",
       "    </tr>\n",
       "  </thead>\n",
       "  <tbody>\n",
       "    <tr>\n",
       "      <th>0</th>\n",
       "      <td>lotterytix</td>\n",
       "      <td>kwh3sji</td>\n",
       "      <td>2024-03-25 20:10:23</td>\n",
       "      <td>/r/ETFs/comments/1bmqbxg/new_to_investing_is_v...</td>\n",
       "      <td>Maybe consider VOO and a mid/small cap value f...</td>\n",
       "      <td>1</td>\n",
       "      <td>ETFs</td>\n",
       "    </tr>\n",
       "    <tr>\n",
       "      <th>1</th>\n",
       "      <td>AlgoTradingQuant</td>\n",
       "      <td>kwczgum</td>\n",
       "      <td>2024-03-25 00:51:21</td>\n",
       "      <td>/r/ETFs/comments/1bmoom7/diversifying_my_ira_f...</td>\n",
       "      <td>I’m retired and hold a 100% equities portfolio...</td>\n",
       "      <td>8</td>\n",
       "      <td>ETFs</td>\n",
       "    </tr>\n",
       "    <tr>\n",
       "      <th>2</th>\n",
       "      <td>foldinthechhese</td>\n",
       "      <td>kwdbk25</td>\n",
       "      <td>2024-03-25 02:02:08</td>\n",
       "      <td>/r/ETFs/comments/1bmoom7/diversifying_my_ira_f...</td>\n",
       "      <td>The more experienced investors recommend a ble...</td>\n",
       "      <td>5</td>\n",
       "      <td>ETFs</td>\n",
       "    </tr>\n",
       "    <tr>\n",
       "      <th>3</th>\n",
       "      <td>SirChetManly</td>\n",
       "      <td>kwd6nto</td>\n",
       "      <td>2024-03-25 01:33:43</td>\n",
       "      <td>/r/ETFs/comments/1bmoom7/diversifying_my_ira_f...</td>\n",
       "      <td>It isn't *risky* by any stretch. You're exclud...</td>\n",
       "      <td>2</td>\n",
       "      <td>ETFs</td>\n",
       "    </tr>\n",
       "    <tr>\n",
       "      <th>4</th>\n",
       "      <td>ZAROV8862</td>\n",
       "      <td>kwei3zo</td>\n",
       "      <td>2024-03-25 06:17:54</td>\n",
       "      <td>/r/ETFs/comments/1bmoom7/diversifying_my_ira_f...</td>\n",
       "      <td>Enough said :))</td>\n",
       "      <td>2</td>\n",
       "      <td>ETFs</td>\n",
       "    </tr>\n",
       "  </tbody>\n",
       "</table>\n",
       "</div>"
      ],
      "text/plain": [
       "             author       id          created_utc  \\\n",
       "0        lotterytix  kwh3sji  2024-03-25 20:10:23   \n",
       "1  AlgoTradingQuant  kwczgum  2024-03-25 00:51:21   \n",
       "2   foldinthechhese  kwdbk25  2024-03-25 02:02:08   \n",
       "3      SirChetManly  kwd6nto  2024-03-25 01:33:43   \n",
       "4         ZAROV8862  kwei3zo  2024-03-25 06:17:54   \n",
       "\n",
       "                                           permalink  \\\n",
       "0  /r/ETFs/comments/1bmqbxg/new_to_investing_is_v...   \n",
       "1  /r/ETFs/comments/1bmoom7/diversifying_my_ira_f...   \n",
       "2  /r/ETFs/comments/1bmoom7/diversifying_my_ira_f...   \n",
       "3  /r/ETFs/comments/1bmoom7/diversifying_my_ira_f...   \n",
       "4  /r/ETFs/comments/1bmoom7/diversifying_my_ira_f...   \n",
       "\n",
       "                                                body  score subreddit  \n",
       "0  Maybe consider VOO and a mid/small cap value f...      1      ETFs  \n",
       "1  I’m retired and hold a 100% equities portfolio...      8      ETFs  \n",
       "2  The more experienced investors recommend a ble...      5      ETFs  \n",
       "3  It isn't *risky* by any stretch. You're exclud...      2      ETFs  \n",
       "4                                    Enough said :))      2      ETFs  "
      ]
     },
     "execution_count": 41,
     "metadata": {},
     "output_type": "execute_result"
    }
   ],
   "source": [
    "cmts_voo.head()"
   ]
  },
  {
   "cell_type": "markdown",
   "metadata": {},
   "source": [
    "The below is the definition of the attributes from ```PRAW 7.7.1``` documentation."
   ]
  },
  {
   "cell_type": "markdown",
   "metadata": {},
   "source": [
    "| Attribute        | Description                                                                                    |\n",
    "| ---------------- |------------------------------------------------------------------------------------------------|\n",
    "| ```author```     | Provides an instance of Redditor.                                                              |\n",
    "| ```id```         | The ID of the comment.                                                                         | \n",
    "| ```created_utc```| Time the comment was created, represented in Unix Time.                                        |\n",
    "| ```permalink```  | A permalink for the comment. Comment objects from the inbox have a context attribute instead.  |\n",
    "| ```body```       | The body of the comment, as Markdown.                                                          |\n",
    "| ```score```      | The number of upvotes for the comment.                                                         |\n",
    "| ```subreddit```  | Provides an instance of Subreddit. The subreddit that the comment belongs to.                  |"
   ]
  },
  {
   "cell_type": "code",
   "execution_count": 42,
   "metadata": {},
   "outputs": [
    {
     "name": "stdout",
     "output_type": "stream",
     "text": [
      "Data type:  <class 'pandas.core.frame.DataFrame'>\n",
      "Dims:  (932, 7)\n"
     ]
    }
   ],
   "source": [
    "print(\"Data type: \", type(cmts_voo))\n",
    "print(\"Dims: \", cmts_voo.shape)"
   ]
  },
  {
   "cell_type": "markdown",
   "metadata": {},
   "source": [
    "Here, we check for any null values."
   ]
  },
  {
   "cell_type": "code",
   "execution_count": 43,
   "metadata": {},
   "outputs": [
    {
     "name": "stdout",
     "output_type": "stream",
     "text": [
      "<class 'pandas.core.frame.DataFrame'>\n",
      "RangeIndex: 932 entries, 0 to 931\n",
      "Data columns (total 7 columns):\n",
      " #   Column       Non-Null Count  Dtype \n",
      "---  ------       --------------  ----- \n",
      " 0   author       918 non-null    object\n",
      " 1   id           932 non-null    object\n",
      " 2   created_utc  932 non-null    object\n",
      " 3   permalink    932 non-null    object\n",
      " 4   body         932 non-null    object\n",
      " 5   score        932 non-null    int64 \n",
      " 6   subreddit    932 non-null    object\n",
      "dtypes: int64(1), object(6)\n",
      "memory usage: 51.1+ KB\n"
     ]
    }
   ],
   "source": [
    "cmts_voo.info()"
   ]
  },
  {
   "cell_type": "markdown",
   "metadata": {},
   "source": [
    "We can see that there is 14 null values in the ```author``` column. We will now handle these null values by filling them with 'Unknown'."
   ]
  },
  {
   "cell_type": "code",
   "execution_count": 45,
   "metadata": {},
   "outputs": [],
   "source": [
    "cmts_voo.fillna({'author': \"Unknown\"}, inplace=True)"
   ]
  },
  {
   "cell_type": "code",
   "execution_count": 46,
   "metadata": {},
   "outputs": [
    {
     "name": "stdout",
     "output_type": "stream",
     "text": [
      "<class 'pandas.core.frame.DataFrame'>\n",
      "RangeIndex: 932 entries, 0 to 931\n",
      "Data columns (total 7 columns):\n",
      " #   Column       Non-Null Count  Dtype \n",
      "---  ------       --------------  ----- \n",
      " 0   author       932 non-null    object\n",
      " 1   id           932 non-null    object\n",
      " 2   created_utc  932 non-null    object\n",
      " 3   permalink    932 non-null    object\n",
      " 4   body         932 non-null    object\n",
      " 5   score        932 non-null    int64 \n",
      " 6   subreddit    932 non-null    object\n",
      "dtypes: int64(1), object(6)\n",
      "memory usage: 51.1+ KB\n"
     ]
    }
   ],
   "source": [
    "cmts_voo.info()"
   ]
  },
  {
   "cell_type": "code",
   "execution_count": null,
   "metadata": {},
   "outputs": [],
   "source": []
  }
 ],
 "metadata": {
  "kernelspec": {
   "display_name": "Python 3",
   "language": "python",
   "name": "python3"
  },
  "language_info": {
   "codemirror_mode": {
    "name": "ipython",
    "version": 3
   },
   "file_extension": ".py",
   "mimetype": "text/x-python",
   "name": "python",
   "nbconvert_exporter": "python",
   "pygments_lexer": "ipython3",
   "version": "3.12.2"
  }
 },
 "nbformat": 4,
 "nbformat_minor": 2
}
