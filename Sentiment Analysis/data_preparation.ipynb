{
 "cells": [
  {
   "cell_type": "markdown",
   "metadata": {},
   "source": [
    "# Data Cleaning and Preparation"
   ]
  },
  {
   "cell_type": "markdown",
   "metadata": {},
   "source": [
    "In this part, we will be doing data cleaning to prepare our data for sentiment analysis."
   ]
  },
  {
   "cell_type": "markdown",
   "metadata": {},
   "source": [
    "Import essential libraries."
   ]
  },
  {
   "cell_type": "code",
   "execution_count": 1,
   "metadata": {},
   "outputs": [],
   "source": [
    "import pandas as pd\n",
    "import numpy as np\n",
    "import matplotlib.pyplot as plt\n",
    "import seaborn as sns"
   ]
  },
  {
   "cell_type": "code",
   "execution_count": 2,
   "metadata": {},
   "outputs": [],
   "source": [
    "cmts_voo = pd.read_csv('../datasets/reddit_comment_voo.csv')"
   ]
  },
  {
   "cell_type": "code",
   "execution_count": 3,
   "metadata": {},
   "outputs": [
    {
     "data": {
      "text/html": [
       "<div>\n",
       "<style scoped>\n",
       "    .dataframe tbody tr th:only-of-type {\n",
       "        vertical-align: middle;\n",
       "    }\n",
       "\n",
       "    .dataframe tbody tr th {\n",
       "        vertical-align: top;\n",
       "    }\n",
       "\n",
       "    .dataframe thead th {\n",
       "        text-align: right;\n",
       "    }\n",
       "</style>\n",
       "<table border=\"1\" class=\"dataframe\">\n",
       "  <thead>\n",
       "    <tr style=\"text-align: right;\">\n",
       "      <th></th>\n",
       "      <th>author</th>\n",
       "      <th>id</th>\n",
       "      <th>created_utc</th>\n",
       "      <th>permalink</th>\n",
       "      <th>body</th>\n",
       "      <th>score</th>\n",
       "      <th>subreddit</th>\n",
       "    </tr>\n",
       "  </thead>\n",
       "  <tbody>\n",
       "    <tr>\n",
       "      <th>0</th>\n",
       "      <td>coinslinger88</td>\n",
       "      <td>kxwqx9i</td>\n",
       "      <td>2024-04-04 04:28:47</td>\n",
       "      <td>/r/ETFs/comments/1buybes/sso_vs_spyvoo/kxwqx9i/</td>\n",
       "      <td>$VOO is for people who hate money</td>\n",
       "      <td>1</td>\n",
       "      <td>ETFs</td>\n",
       "    </tr>\n",
       "    <tr>\n",
       "      <th>1</th>\n",
       "      <td>coinslinger88</td>\n",
       "      <td>kxwr28w</td>\n",
       "      <td>2024-04-04 04:29:32</td>\n",
       "      <td>/r/ETFs/comments/1buvulh/just_starting_brokera...</td>\n",
       "      <td>$VOO is for homeless people</td>\n",
       "      <td>0</td>\n",
       "      <td>ETFs</td>\n",
       "    </tr>\n",
       "    <tr>\n",
       "      <th>2</th>\n",
       "      <td>Key-Mark4536</td>\n",
       "      <td>kxsmrdk</td>\n",
       "      <td>2024-04-03 10:17:45</td>\n",
       "      <td>/r/ETFs/comments/1buf5zo/voo/kxsmrdk/</td>\n",
       "      <td>It's not a bad idea, but it wouldn’t add anyth...</td>\n",
       "      <td>6</td>\n",
       "      <td>ETFs</td>\n",
       "    </tr>\n",
       "    <tr>\n",
       "      <th>3</th>\n",
       "      <td>thefreewheeler</td>\n",
       "      <td>kxsjef1</td>\n",
       "      <td>2024-04-03 09:55:36</td>\n",
       "      <td>/r/ETFs/comments/1buf5zo/voo/kxsjef1/</td>\n",
       "      <td>No. VOO and VTI are nearly identical. Either a...</td>\n",
       "      <td>3</td>\n",
       "      <td>ETFs</td>\n",
       "    </tr>\n",
       "    <tr>\n",
       "      <th>4</th>\n",
       "      <td>Fun_Grapefruit_3416</td>\n",
       "      <td>kxwl2i1</td>\n",
       "      <td>2024-04-04 03:57:51</td>\n",
       "      <td>/r/ETFs/comments/1buf5zo/voo/kxwl2i1/</td>\n",
       "      <td>No. You already have VOO within VTI and the ta...</td>\n",
       "      <td>3</td>\n",
       "      <td>ETFs</td>\n",
       "    </tr>\n",
       "    <tr>\n",
       "      <th>...</th>\n",
       "      <td>...</td>\n",
       "      <td>...</td>\n",
       "      <td>...</td>\n",
       "      <td>...</td>\n",
       "      <td>...</td>\n",
       "      <td>...</td>\n",
       "      <td>...</td>\n",
       "    </tr>\n",
       "    <tr>\n",
       "      <th>221</th>\n",
       "      <td>Speedbot_3000</td>\n",
       "      <td>kwwcf3u</td>\n",
       "      <td>2024-03-28 10:22:57</td>\n",
       "      <td>/r/ETFs/comments/1bo2cac/voo_or_qqq/kwwcf3u/</td>\n",
       "      <td>I too have that as well except for IBIT and I'...</td>\n",
       "      <td>2</td>\n",
       "      <td>ETFs</td>\n",
       "    </tr>\n",
       "    <tr>\n",
       "      <th>222</th>\n",
       "      <td>iIiiiiIlIillliIilliI</td>\n",
       "      <td>kwmcam7</td>\n",
       "      <td>2024-03-26 18:03:15</td>\n",
       "      <td>/r/ETFs/comments/1bo2cac/voo_or_qqq/kwmcam7/</td>\n",
       "      <td>If I am 34? (What age is the cutoff where VOO ...</td>\n",
       "      <td>2</td>\n",
       "      <td>ETFs</td>\n",
       "    </tr>\n",
       "    <tr>\n",
       "      <th>223</th>\n",
       "      <td>noctilucus</td>\n",
       "      <td>kws1br2</td>\n",
       "      <td>2024-03-27 18:35:10</td>\n",
       "      <td>/r/ETFs/comments/1bo2cac/voo_or_qqq/kws1br2/</td>\n",
       "      <td>I'd also go for a mix of both, it's not like O...</td>\n",
       "      <td>1</td>\n",
       "      <td>ETFs</td>\n",
       "    </tr>\n",
       "    <tr>\n",
       "      <th>224</th>\n",
       "      <td>Decent-Bed9289</td>\n",
       "      <td>kwwq0dh</td>\n",
       "      <td>2024-03-28 12:05:51</td>\n",
       "      <td>/r/ETFs/comments/1bo2cac/voo_or_qqq/kwwq0dh/</td>\n",
       "      <td>Yeah there’s a bit of overlap, but some overla...</td>\n",
       "      <td>1</td>\n",
       "      <td>ETFs</td>\n",
       "    </tr>\n",
       "    <tr>\n",
       "      <th>225</th>\n",
       "      <td>simplehuman77</td>\n",
       "      <td>kwjlzxf</td>\n",
       "      <td>2024-03-26 04:57:13</td>\n",
       "      <td>/r/ETFs/comments/1bnokcc/buy_voo_in_roth_ira_o...</td>\n",
       "      <td>If you’re starting a new position in another a...</td>\n",
       "      <td>6</td>\n",
       "      <td>ETFs</td>\n",
       "    </tr>\n",
       "  </tbody>\n",
       "</table>\n",
       "<p>226 rows × 7 columns</p>\n",
       "</div>"
      ],
      "text/plain": [
       "                   author       id          created_utc  \\\n",
       "0           coinslinger88  kxwqx9i  2024-04-04 04:28:47   \n",
       "1           coinslinger88  kxwr28w  2024-04-04 04:29:32   \n",
       "2            Key-Mark4536  kxsmrdk  2024-04-03 10:17:45   \n",
       "3          thefreewheeler  kxsjef1  2024-04-03 09:55:36   \n",
       "4     Fun_Grapefruit_3416  kxwl2i1  2024-04-04 03:57:51   \n",
       "..                    ...      ...                  ...   \n",
       "221         Speedbot_3000  kwwcf3u  2024-03-28 10:22:57   \n",
       "222  iIiiiiIlIillliIilliI  kwmcam7  2024-03-26 18:03:15   \n",
       "223            noctilucus  kws1br2  2024-03-27 18:35:10   \n",
       "224        Decent-Bed9289  kwwq0dh  2024-03-28 12:05:51   \n",
       "225         simplehuman77  kwjlzxf  2024-03-26 04:57:13   \n",
       "\n",
       "                                             permalink  \\\n",
       "0      /r/ETFs/comments/1buybes/sso_vs_spyvoo/kxwqx9i/   \n",
       "1    /r/ETFs/comments/1buvulh/just_starting_brokera...   \n",
       "2                /r/ETFs/comments/1buf5zo/voo/kxsmrdk/   \n",
       "3                /r/ETFs/comments/1buf5zo/voo/kxsjef1/   \n",
       "4                /r/ETFs/comments/1buf5zo/voo/kxwl2i1/   \n",
       "..                                                 ...   \n",
       "221       /r/ETFs/comments/1bo2cac/voo_or_qqq/kwwcf3u/   \n",
       "222       /r/ETFs/comments/1bo2cac/voo_or_qqq/kwmcam7/   \n",
       "223       /r/ETFs/comments/1bo2cac/voo_or_qqq/kws1br2/   \n",
       "224       /r/ETFs/comments/1bo2cac/voo_or_qqq/kwwq0dh/   \n",
       "225  /r/ETFs/comments/1bnokcc/buy_voo_in_roth_ira_o...   \n",
       "\n",
       "                                                  body  score subreddit  \n",
       "0                    $VOO is for people who hate money      1      ETFs  \n",
       "1                          $VOO is for homeless people      0      ETFs  \n",
       "2    It's not a bad idea, but it wouldn’t add anyth...      6      ETFs  \n",
       "3    No. VOO and VTI are nearly identical. Either a...      3      ETFs  \n",
       "4    No. You already have VOO within VTI and the ta...      3      ETFs  \n",
       "..                                                 ...    ...       ...  \n",
       "221  I too have that as well except for IBIT and I'...      2      ETFs  \n",
       "222  If I am 34? (What age is the cutoff where VOO ...      2      ETFs  \n",
       "223  I'd also go for a mix of both, it's not like O...      1      ETFs  \n",
       "224  Yeah there’s a bit of overlap, but some overla...      1      ETFs  \n",
       "225  If you’re starting a new position in another a...      6      ETFs  \n",
       "\n",
       "[226 rows x 7 columns]"
      ]
     },
     "metadata": {},
     "output_type": "display_data"
    }
   ],
   "source": [
    "display(cmts_voo)"
   ]
  },
  {
   "cell_type": "markdown",
   "metadata": {},
   "source": [
    "The below is the definition of the attributes from ```PRAW 7.7.1``` documentation."
   ]
  },
  {
   "cell_type": "markdown",
   "metadata": {},
   "source": [
    "| Attribute        | Description                                                                                    |\n",
    "| ---------------- |------------------------------------------------------------------------------------------------|\n",
    "| ```author```     | Provides an instance of Redditor.                                                              |\n",
    "| ```id```         | The ID of the comment.                                                                         | \n",
    "| ```created_utc```| Time the comment was created, represented in Unix Time.                                        |\n",
    "| ```permalink```  | A permalink for the comment. Comment objects from the inbox have a context attribute instead.  |\n",
    "| ```body```       | The body of the comment, as Markdown.                                                          |\n",
    "| ```score```      | The number of upvotes for the comment.                                                         |\n",
    "| ```subreddit```  | Provides an instance of Subreddit. The subreddit that the comment belongs to.                  |"
   ]
  },
  {
   "cell_type": "code",
   "execution_count": 4,
   "metadata": {},
   "outputs": [
    {
     "name": "stdout",
     "output_type": "stream",
     "text": [
      "Data type:  <class 'pandas.core.frame.DataFrame'>\n",
      "Dims:  (226, 7)\n"
     ]
    }
   ],
   "source": [
    "print(\"Data type: \", type(cmts_voo))\n",
    "print(\"Dims: \", cmts_voo.shape)"
   ]
  },
  {
   "cell_type": "markdown",
   "metadata": {},
   "source": [
    "Here, we check for any null values."
   ]
  },
  {
   "cell_type": "code",
   "execution_count": 5,
   "metadata": {},
   "outputs": [
    {
     "data": {
      "text/plain": [
       "author         0\n",
       "id             0\n",
       "created_utc    0\n",
       "permalink      0\n",
       "body           0\n",
       "score          0\n",
       "subreddit      0\n",
       "dtype: int64"
      ]
     },
     "execution_count": 5,
     "metadata": {},
     "output_type": "execute_result"
    }
   ],
   "source": [
    "cmts_voo.isnull().sum()"
   ]
  },
  {
   "cell_type": "markdown",
   "metadata": {},
   "source": [
    "We can see that there is 14 null values in the ```author``` column. We will now handle these null values by filling them with 'Unknown'."
   ]
  },
  {
   "cell_type": "code",
   "execution_count": 6,
   "metadata": {},
   "outputs": [],
   "source": [
    "cmts_voo.fillna({'AUTHOR': \"Unknown\"}, inplace=True)"
   ]
  },
  {
   "cell_type": "code",
   "execution_count": 7,
   "metadata": {},
   "outputs": [
    {
     "name": "stdout",
     "output_type": "stream",
     "text": [
      "<class 'pandas.core.frame.DataFrame'>\n",
      "RangeIndex: 226 entries, 0 to 225\n",
      "Data columns (total 7 columns):\n",
      " #   Column       Non-Null Count  Dtype \n",
      "---  ------       --------------  ----- \n",
      " 0   author       226 non-null    object\n",
      " 1   id           226 non-null    object\n",
      " 2   created_utc  226 non-null    object\n",
      " 3   permalink    226 non-null    object\n",
      " 4   body         226 non-null    object\n",
      " 5   score        226 non-null    int64 \n",
      " 6   subreddit    226 non-null    object\n",
      "dtypes: int64(1), object(6)\n",
      "memory usage: 12.5+ KB\n"
     ]
    }
   ],
   "source": [
    "cmts_voo.info()"
   ]
  },
  {
   "cell_type": "markdown",
   "metadata": {},
   "source": [
    "### Save the Cleaned DataFrame as a CSV File for sentiment analysis."
   ]
  },
  {
   "cell_type": "code",
   "execution_count": 8,
   "metadata": {},
   "outputs": [],
   "source": [
    "import os\n",
    "\n",
    "folder_path = '../datasets'\n",
    "\n",
    "file_path = os.path.join(folder_path, 'cleaned_cmts_voo.csv')\n",
    "\n",
    "cmts_voo.to_csv(file_path, index=False)"
   ]
  },
  {
   "cell_type": "code",
   "execution_count": null,
   "metadata": {},
   "outputs": [],
   "source": []
  }
 ],
 "metadata": {
  "kernelspec": {
   "display_name": "Python 3",
   "language": "python",
   "name": "python3"
  },
  "language_info": {
   "codemirror_mode": {
    "name": "ipython",
    "version": 3
   },
   "file_extension": ".py",
   "mimetype": "text/x-python",
   "name": "python",
   "nbconvert_exporter": "python",
   "pygments_lexer": "ipython3",
   "version": "3.12.2"
  }
 },
 "nbformat": 4,
 "nbformat_minor": 2
}
