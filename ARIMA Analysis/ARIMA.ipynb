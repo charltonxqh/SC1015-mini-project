{
 "cells": [
  {
   "cell_type": "markdown",
   "id": "50291b75",
   "metadata": {},
   "source": [
    "## VOO Stock Prices Prediction with ARIMA\n",
    "\n",
    "In this notebook, we will explore the use of the Autoregressive Integrated Moving Average (ARIMA) model to forecast the stock prices of Vanguard S&P 500 ETF (VOO).\n",
    "\n",
    "We will begin by importing the necessary libraries and loading the VOO stock price dataset. Next, we will preprocess the data and perform exploratory data analysis (EDA) to understand the characteristics of the dataset. We will then proceed to train an ARIMA model on the historical stock prices, and evaluate the performance of the model based on the same.\n",
    "\n",
    "<br/>\n",
    "\n",
    "---\n",
    "\n",
    "\n",
    "### Introduction: What is ARIMA?\n",
    "\n",
    "<br/>\n",
    "\n",
    "ARIMA (**A**uto**R**egressive **I**ntegrated **M**oving **A**verage) is a time series forecasting model that combines autoregressive and moving average components with differencing to handle non-stationary data. The general form of an ARIMA model is `ARIMA(p, d, q)`, where `p`, `d`, and `q` are the parameters of the model.\n",
    "\n",
    "`p`: Specifies the number of lagged observations to include in the model. It models the dependence of the current value on its previous values. \n",
    "\n",
    "`d`: Specifies the number of times differencing is performed to achieve stationarity, so that statistical properties of the time series (such as mean, variance) remain constant over time.\n",
    "\n",
    "`q`: Specifies the number of lagged forecast errors to include in the model. It captures the short-term fluctuations in the time series that are not accounted for by the AR component. \n",
    "\n",
    "<br/>\n",
    "\n",
    "---\n",
    "\n",
    "### I. Importing Libraries\n",
    "\n",
    "Let us begin by importing the necessary modules."
   ]
  },
  {
   "cell_type": "code",
   "execution_count": 1,
   "id": "363d52a3",
   "metadata": {},
   "outputs": [],
   "source": [
    "import pandas as pd\n",
    "import numpy as np\n",
    "import matplotlib.pyplot as plt\n",
    "from statsmodels.tsa.arima.model import ARIMA\n",
    "from sklearn.metrics import mean_squared_error"
   ]
  },
  {
   "cell_type": "code",
   "execution_count": null,
   "id": "30d8850b",
   "metadata": {},
   "outputs": [],
   "source": []
  },
  {
   "cell_type": "code",
   "execution_count": null,
   "id": "a91da617",
   "metadata": {},
   "outputs": [],
   "source": []
  },
  {
   "cell_type": "code",
   "execution_count": null,
   "id": "b373fa7d",
   "metadata": {},
   "outputs": [],
   "source": []
  }
 ],
 "metadata": {
  "kernelspec": {
   "display_name": "Python 3 (ipykernel)",
   "language": "python",
   "name": "python3"
  },
  "language_info": {
   "codemirror_mode": {
    "name": "ipython",
    "version": 3
   },
   "file_extension": ".py",
   "mimetype": "text/x-python",
   "name": "python",
   "nbconvert_exporter": "python",
   "pygments_lexer": "ipython3",
   "version": "3.11.5"
  }
 },
 "nbformat": 4,
 "nbformat_minor": 5
}
